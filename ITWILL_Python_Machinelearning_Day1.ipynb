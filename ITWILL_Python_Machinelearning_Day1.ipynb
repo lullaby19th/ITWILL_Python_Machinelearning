{
 "cells": [
  {
   "cell_type": "markdown",
   "metadata": {},
   "source": [
    "## ■ 머신러닝을 이용한 데이터 분석 코드의 큰 흐름\n",
    "\n",
    "1. __데이터 전처리 코드 :__ pandas 를 사용\n",
    "\n",
    "2. __시각화 :__ matplotlib, seaborn 을 사용\n",
    "\n",
    "3. __머신러닝을 이용한 모델 생성 및 분석 :__ sklearn을 사용\n",
    "\n",
    "4. __모델의 성능 검증 :__ Pandas를 사용\n",
    "\n",
    "5. __모델의 성능을 높이는 방법 :__ Pandas를 사용 & 파생변수를 생성"
   ]
  },
  {
   "cell_type": "markdown",
   "metadata": {},
   "source": [
    "## ■ 판다스 자료 구조\n",
    "\n",
    "### 2.1 판다스의 Series에 대한 이해\n",
    "\n",
    "__시리즈(series)__는 데이터가 순차적으로 나열된 __1차원 배열__의 형태를 갖는다. 파이썬 기본 내장 자료구조인 딕셔너리와 비슷한 구조를 갖고 있다.\n",
    "\n",
    "### ※ 파이썬 딕셔너리 자료구조\n",
    "\n",
    "index0 ---> data0  \n",
    "index1 ---> data1  \n",
    "index2 ---> data2  \n",
    "###  :  \n",
    "indexn ---> datan  \n",
    "\n",
    "Index : 데이터의 주소  \n",
    "datan : 데이터의 값  \n",
    "\n",
    "위와 같이 시리즈 또한 인덱스와 데이터의 값으로 구성되어 있다."
   ]
  },
  {
   "cell_type": "markdown",
   "metadata": {},
   "source": [
    "| 오라클 |   판다스   |\n",
    "|:------:|:----------:|\n",
    "| 테이블 | data frame |\n",
    "|  칼럼  |   Series   |"
   ]
  },
  {
   "cell_type": "code",
   "execution_count": 2,
   "metadata": {},
   "outputs": [
    {
     "name": "stdout",
     "output_type": "stream",
     "text": [
      "a    1\n",
      "b    2\n",
      "c    3\n",
      "dtype: int64\n",
      "<class 'pandas.core.series.Series'>\n"
     ]
    },
    {
     "data": {
      "text/plain": [
       "\"\\na    1\\nb    2\\nc    3\\ndtype: int64\\n<class 'pandas.core.series.Series'>\\n\\na,b,c --> 인덱스\\n1,2,3 --> 데이터 값\\n\""
      ]
     },
     "execution_count": 2,
     "metadata": {},
     "output_type": "execute_result"
    }
   ],
   "source": [
    "# 예제\n",
    "\n",
    "import pandas as pd\n",
    "dict_data = {'a':1, 'b':2, 'c':3}\n",
    "sr = pd.Series(dict_data) # 딕셔너리를 시리즈로 변환\n",
    "print(sr) \n",
    "print(type(sr))\n",
    "\n",
    "\"\"\"\n",
    "a    1\n",
    "b    2\n",
    "c    3\n",
    "dtype: int64\n",
    "<class 'pandas.core.series.Series'>\n",
    "\n",
    "a,b,c --> 인덱스\n",
    "1,2,3 --> 데이터 값\n",
    "\n",
    "\"\"\""
   ]
  },
  {
   "cell_type": "markdown",
   "metadata": {},
   "source": [
    "## 문제1. \n",
    "## emp.csv를 pd.read_csv로 불러와서 emp 데이터 프레임으로 생성하고 empno의 타입을 확인하시오!"
   ]
  },
  {
   "cell_type": "code",
   "execution_count": 13,
   "metadata": {},
   "outputs": [
    {
     "name": "stdout",
     "output_type": "stream",
     "text": [
      "    empno   ename        job     mgr    hiredate   sal    comm  deptno\n",
      "0    7839    KING  PRESIDENT     NaN  1981-11-17  5000     NaN      10\n",
      "1    7698   BLAKE    MANAGER  7839.0  1981-05-01  2850     NaN      30\n",
      "2    7782   CLARK    MANAGER  7839.0  1981-05-09  2450     NaN      10\n",
      "3    7566   JONES    MANAGER  7839.0  1981-04-01  2975     NaN      20\n",
      "4    7654  MARTIN   SALESMAN  7698.0  1981-09-10  1250  1400.0      30\n",
      "5    7499   ALLEN   SALESMAN  7698.0  1981-02-11  1600   300.0      30\n",
      "6    7844  TURNER   SALESMAN  7698.0  1981-08-21  1500     0.0      30\n",
      "7    7900   JAMES      CLERK  7698.0  1981-12-11   950     NaN      30\n",
      "8    7521    WARD   SALESMAN  7698.0  1981-02-23  1250   500.0      30\n",
      "9    7902    FORD    ANALYST  7566.0  1981-12-11  3000     NaN      20\n",
      "10   7369   SMITH      CLERK  7902.0  1980-12-09   800     NaN      20\n",
      "11   7788   SCOTT    ANALYST  7566.0  1982-12-22  3000     NaN      20\n",
      "12   7876   ADAMS      CLERK  7788.0  1983-01-15  1100     NaN      20\n",
      "13   7934  MILLER      CLERK  7782.0  1982-01-11  1300     NaN      10\n",
      "<class 'pandas.core.frame.DataFrame'>\n",
      "0     7839\n",
      "1     7698\n",
      "2     7782\n",
      "3     7566\n",
      "4     7654\n",
      "5     7499\n",
      "6     7844\n",
      "7     7900\n",
      "8     7521\n",
      "9     7902\n",
      "10    7369\n",
      "11    7788\n",
      "12    7876\n",
      "13    7934\n",
      "Name: empno, dtype: int64\n",
      "<class 'pandas.core.series.Series'>\n"
     ]
    }
   ],
   "source": [
    "import pandas as pd\n",
    "\n",
    "emp = pd.read_csv(\"d:\\\\data\\\\emp.csv\")\n",
    "\n",
    "print(emp)\n",
    "print(type(emp))\n",
    "print(emp['empno'])\n",
    "print(type(emp['empno']))"
   ]
  },
  {
   "cell_type": "markdown",
   "metadata": {},
   "source": [
    "## ■ 2.2 판다스의 Series의 index와 values\n",
    "\n",
    "시리즈 클래스의 index 속성을 이용하여 인덱스 배열만 따로 선택할 수 있다.\n",
    "\n",
    "__문법 :__ Serise객체.index\n",
    "\n",
    "시리즈 클래스의 values 속성을 이용하여 값 배열만 따로 선택할 수 있다.\n",
    "\n",
    "__문법 :__ Series객체.values"
   ]
  },
  {
   "cell_type": "code",
   "execution_count": 17,
   "metadata": {},
   "outputs": [
    {
     "name": "stdout",
     "output_type": "stream",
     "text": [
      "0    2020-01-28\n",
      "1          3.14\n",
      "2           ABC\n",
      "3           100\n",
      "4          True\n",
      "dtype: object\n",
      "RangeIndex(start=0, stop=5, step=1)\n",
      "['2020-01-28' '3.14' 'ABC' 100 True]\n"
     ]
    }
   ],
   "source": [
    "# 예제1\n",
    "import pandas as pd\n",
    "list_data = ['2020-01-28', '3.14', 'ABC', 100, True] \n",
    "sr = pd.Series(list_data) # 리스트를 시리즈로 변환함\n",
    "print(sr)\n",
    "# sr 시리즈 객체에서 index를 추출\n",
    "idx = sr.index\n",
    "print(idx)\n",
    "# sr 시리즈 객체에서 values를 추출\n",
    "val = sr.values\n",
    "print(val)"
   ]
  },
  {
   "cell_type": "markdown",
   "metadata": {},
   "source": [
    "## 문제2.\n",
    "## ['scott', 'smith', 'allen', 'jones'] 리스트를 시리즈로 변환하고 index와 values를 각각 추출하시오."
   ]
  },
  {
   "cell_type": "code",
   "execution_count": 18,
   "metadata": {},
   "outputs": [
    {
     "name": "stdout",
     "output_type": "stream",
     "text": [
      "RangeIndex(start=0, stop=4, step=1)\n",
      "['scott' 'smith' 'allen' 'jones']\n"
     ]
    }
   ],
   "source": [
    "import pandas as pd\n",
    "\n",
    "list_data = ['scott', 'smith', 'allen', 'jones']\n",
    "sr = pd.Series(list_data)\n",
    "\n",
    "idx = sr.index\n",
    "print(idx)\n",
    "\n",
    "val = sr.values\n",
    "print(val)"
   ]
  },
  {
   "cell_type": "markdown",
   "metadata": {},
   "source": [
    "## ■ 시리즈의 원소 선택\n",
    "\n",
    "원소의 위치를 나타내는 주소 역활을 하는 인덱스를 이용하여 시리즈의 원소를 선택할 수 있다.   \n",
    "하나의 원소를 선택할 수 있고, 여러개의 원소를 선택할 수도 있다."
   ]
  },
  {
   "cell_type": "code",
   "execution_count": 2,
   "metadata": {},
   "outputs": [
    {
     "name": "stdout",
     "output_type": "stream",
     "text": [
      "이름              영인\n",
      "생년월일    2020-01-28\n",
      "성별               여\n",
      "학생여부          True\n",
      "dtype: object\n",
      "\n",
      "영인\n",
      "\n",
      "이름              영인\n",
      "생년월일    2020-01-28\n",
      "dtype: object\n"
     ]
    }
   ],
   "source": [
    "# 예시\n",
    "import pandas as pd\n",
    "\n",
    "tup_data = ('영인', '2020-01-28', '여', True)\n",
    "sr = pd.Series(tup_data, index = ['이름', '생년월일', '성별', '학생여부'])\n",
    "print(sr, end = '\\n\\n')\n",
    "\n",
    "print(sr['이름'], end = '\\n\\n') # 하나의 원소를 가져온다.\n",
    "\n",
    "print(sr[['이름','생년월일']]) #여러개의 원소를 가져온다."
   ]
  },
  {
   "cell_type": "markdown",
   "metadata": {},
   "source": [
    "## 문제3. ['scott', 'smith', 'allen', 'jones'] 리스트에 사원번호 [7788, 7902, 7369, 7566]을 인덱스 번호로 하여 시리즈를 구성하고 사원번호가 7902인 사원의 이름을 출력하시오."
   ]
  },
  {
   "cell_type": "code",
   "execution_count": 172,
   "metadata": {},
   "outputs": [
    {
     "name": "stdout",
     "output_type": "stream",
     "text": [
      "7788    scott\n",
      "7902    smith\n",
      "7369    allen\n",
      "7566    jones\n",
      "dtype: object\n",
      "smith\n"
     ]
    }
   ],
   "source": [
    "import pandas as pd\n",
    "\n",
    "list_data = ['scott', 'smith', 'allen', 'jones']\n",
    "sr = pd.Series(list_data, index = [7788, 7902, 7369, 7566])\n",
    "\n",
    "print(sr)\n",
    "print(sr[7902])"
   ]
  },
  {
   "cell_type": "markdown",
   "metadata": {},
   "source": [
    "## ■ 판다스 데이터 프레임\n",
    "\n",
    "판다스 데이터 프레임은 __2차원 배열__이다. 행과 열로 만들어지는 엑셀과 오라클과 같은 rdbms 등 다양한 분야에서 사용된다.  \n",
    "판다스의 데이터 프레임 자료구조는 R의 데이터의 프레임에서 유래되었다.  \n",
    "__시리즈__를 __열벡터(vector)__라고 하면, __데이터 프레임__은 열 벡터들이 같은 행 인덱스를 기준을 줄지어 결합된 __2차원 벡터 또는 행렬__이다.  "
   ]
  },
  {
   "cell_type": "code",
   "execution_count": 29,
   "metadata": {},
   "outputs": [
    {
     "name": "stdout",
     "output_type": "stream",
     "text": [
      "<class 'pandas.core.frame.DataFrame'>\n",
      "   c0  c1  c2\n",
      "0   1   4   7\n",
      "1   2   5   8\n",
      "2   3   6   9\n"
     ]
    }
   ],
   "source": [
    "import pandas as pd\n",
    "dict_data = {'c0':[1,2,3], 'c1':[4,5,6], 'c2':[7,8,9]}\n",
    "df = pd.DataFrame(dict_data) # <class 'pandas.core.frame.DataFrame'>\n",
    "print(type(df))\n",
    "print(df)"
   ]
  },
  {
   "cell_type": "markdown",
   "metadata": {},
   "source": [
    "## 문제4. 아래의 타이타닉 데이터 딕셔너리를 판다스 데이터 프레임으로 변환하시오!\n",
    "\n",
    "참고 사이트 :  https://www.kaggle.com/c/titanic"
   ]
  },
  {
   "cell_type": "markdown",
   "metadata": {},
   "source": [
    "- PassengerId : 승객 번호\n",
    "\n",
    "- Survived : 생존여부(1: 생존, 0 : 사망) <--- 정답에 대한 (칼럼)\n",
    "\n",
    "- Pclass : 승선권 클래스(1 : 1st, 2 : 2nd ,3 : 3rd)\n",
    "\n",
    "- Name : 승객 이름\n",
    "\n",
    "- Sex : 승객 성별\n",
    "\n",
    "- Age : 승객 나이 \n",
    "\n",
    "- SibSp : 동반한 형제자매, 배우자 수\n",
    "\n",
    "- Patch : 동반한 부모, 자식 수\n",
    "\n",
    "- Ticket : 티켓의 고유 넘버\n",
    "\n",
    "- Fare 티켓의 요금\n",
    "\n",
    "- Cabin : 객실 번호\n",
    "\n",
    "- Embarked : 승선한 항구명(C : Cherbourg, Q : Queenstown, S : Southampton)"
   ]
  },
  {
   "cell_type": "code",
   "execution_count": 30,
   "metadata": {},
   "outputs": [
    {
     "name": "stdout",
     "output_type": "stream",
     "text": [
      "   PassengerId  Survived  Pclass  age\n",
      "0            1         0       3   22\n",
      "1            2         1       1   38\n",
      "2            3         1       3   26\n"
     ]
    }
   ],
   "source": [
    "import pandas as pd\n",
    "dict_data = {'PassengerId':[1,2,3], 'Survived':[0,1,1], 'Pclass':[3,1,3], 'age': [22,38,26]}\n",
    "df = pd.DataFrame(dict_data)\n",
    "print(df)"
   ]
  },
  {
   "cell_type": "markdown",
   "metadata": {},
   "source": [
    "## 문제5. 타이타닉 훈련 데이터(train.csv)를 taitanic 변수에 로드하고 type를 확인하시오!"
   ]
  },
  {
   "cell_type": "code",
   "execution_count": 36,
   "metadata": {},
   "outputs": [
    {
     "name": "stdout",
     "output_type": "stream",
     "text": [
      "     PassengerId  Survived  Pclass  \\\n",
      "0              1         0       3   \n",
      "1              2         1       1   \n",
      "2              3         1       3   \n",
      "3              4         1       1   \n",
      "4              5         0       3   \n",
      "..           ...       ...     ...   \n",
      "886          887         0       2   \n",
      "887          888         1       1   \n",
      "888          889         0       3   \n",
      "889          890         1       1   \n",
      "890          891         0       3   \n",
      "\n",
      "                                                  Name     Sex   Age  SibSp  \\\n",
      "0                              Braund, Mr. Owen Harris    male  22.0      1   \n",
      "1    Cumings, Mrs. John Bradley (Florence Briggs Th...  female  38.0      1   \n",
      "2                               Heikkinen, Miss. Laina  female  26.0      0   \n",
      "3         Futrelle, Mrs. Jacques Heath (Lily May Peel)  female  35.0      1   \n",
      "4                             Allen, Mr. William Henry    male  35.0      0   \n",
      "..                                                 ...     ...   ...    ...   \n",
      "886                              Montvila, Rev. Juozas    male  27.0      0   \n",
      "887                       Graham, Miss. Margaret Edith  female  19.0      0   \n",
      "888           Johnston, Miss. Catherine Helen \"Carrie\"  female   NaN      1   \n",
      "889                              Behr, Mr. Karl Howell    male  26.0      0   \n",
      "890                                Dooley, Mr. Patrick    male  32.0      0   \n",
      "\n",
      "     Parch            Ticket     Fare Cabin Embarked  \n",
      "0        0         A/5 21171   7.2500   NaN        S  \n",
      "1        0          PC 17599  71.2833   C85        C  \n",
      "2        0  STON/O2. 3101282   7.9250   NaN        S  \n",
      "3        0            113803  53.1000  C123        S  \n",
      "4        0            373450   8.0500   NaN        S  \n",
      "..     ...               ...      ...   ...      ...  \n",
      "886      0            211536  13.0000   NaN        S  \n",
      "887      0            112053  30.0000   B42        S  \n",
      "888      2        W./C. 6607  23.4500   NaN        S  \n",
      "889      0            111369  30.0000  C148        C  \n",
      "890      0            370376   7.7500   NaN        Q  \n",
      "\n",
      "[891 rows x 12 columns]\n",
      "<class 'pandas.core.frame.DataFrame'>\n"
     ]
    }
   ],
   "source": [
    "import pandas as pd\n",
    "taitanic = pd.read_csv('d:\\\\data\\\\train.csv')\n",
    "print(taitanic)\n",
    "print(type(taitanic))"
   ]
  },
  {
   "cell_type": "markdown",
   "metadata": {},
   "source": [
    "## 문제6. 타이타닉 데이터 프레임에서 컬럼명만 추출하시오!"
   ]
  },
  {
   "cell_type": "code",
   "execution_count": 37,
   "metadata": {},
   "outputs": [
    {
     "name": "stdout",
     "output_type": "stream",
     "text": [
      "Index(['PassengerId', 'Survived', 'Pclass', 'Name', 'Sex', 'Age', 'SibSp',\n",
      "       'Parch', 'Ticket', 'Fare', 'Cabin', 'Embarked'],\n",
      "      dtype='object')\n"
     ]
    }
   ],
   "source": [
    "import pandas as pd\n",
    "taitanic = pd.read_csv('d:\\\\data\\\\train.csv')\n",
    "\n",
    "print(taitanic.columns)"
   ]
  },
  {
   "cell_type": "markdown",
   "metadata": {},
   "source": [
    "## 문제7. 타이타닉 데이터 프레임에서 행 인덱스 이름을 추출하시오!"
   ]
  },
  {
   "cell_type": "code",
   "execution_count": 40,
   "metadata": {},
   "outputs": [
    {
     "name": "stdout",
     "output_type": "stream",
     "text": [
      "RangeIndex(start=0, stop=891, step=1)\n",
      "     PassengerId  Survived  Pclass  \\\n",
      "0              1         0       3   \n",
      "1              2         1       1   \n",
      "2              3         1       3   \n",
      "3              4         1       1   \n",
      "4              5         0       3   \n",
      "..           ...       ...     ...   \n",
      "886          887         0       2   \n",
      "887          888         1       1   \n",
      "888          889         0       3   \n",
      "889          890         1       1   \n",
      "890          891         0       3   \n",
      "\n",
      "                                                  Name     Sex   Age  SibSp  \\\n",
      "0                              Braund, Mr. Owen Harris    male  22.0      1   \n",
      "1    Cumings, Mrs. John Bradley (Florence Briggs Th...  female  38.0      1   \n",
      "2                               Heikkinen, Miss. Laina  female  26.0      0   \n",
      "3         Futrelle, Mrs. Jacques Heath (Lily May Peel)  female  35.0      1   \n",
      "4                             Allen, Mr. William Henry    male  35.0      0   \n",
      "..                                                 ...     ...   ...    ...   \n",
      "886                              Montvila, Rev. Juozas    male  27.0      0   \n",
      "887                       Graham, Miss. Margaret Edith  female  19.0      0   \n",
      "888           Johnston, Miss. Catherine Helen \"Carrie\"  female   NaN      1   \n",
      "889                              Behr, Mr. Karl Howell    male  26.0      0   \n",
      "890                                Dooley, Mr. Patrick    male  32.0      0   \n",
      "\n",
      "     Parch            Ticket     Fare Cabin Embarked  \n",
      "0        0         A/5 21171   7.2500   NaN        S  \n",
      "1        0          PC 17599  71.2833   C85        C  \n",
      "2        0  STON/O2. 3101282   7.9250   NaN        S  \n",
      "3        0            113803  53.1000  C123        S  \n",
      "4        0            373450   8.0500   NaN        S  \n",
      "..     ...               ...      ...   ...      ...  \n",
      "886      0            211536  13.0000   NaN        S  \n",
      "887      0            112053  30.0000   B42        S  \n",
      "888      2        W./C. 6607  23.4500   NaN        S  \n",
      "889      0            111369  30.0000  C148        C  \n",
      "890      0            370376   7.7500   NaN        Q  \n",
      "\n",
      "[891 rows x 12 columns]\n"
     ]
    }
   ],
   "source": [
    "import pandas as pd\n",
    "taitanic = pd.read_csv('d:\\\\data\\\\train.csv')\n",
    "\n",
    "print(taitanic.index)\n",
    "print(taitanic)"
   ]
  },
  {
   "cell_type": "markdown",
   "metadata": {},
   "source": [
    "## 문제8. emp 데이터 프레임에서 컬럼명만 추출하시오."
   ]
  },
  {
   "cell_type": "code",
   "execution_count": 41,
   "metadata": {},
   "outputs": [
    {
     "name": "stdout",
     "output_type": "stream",
     "text": [
      "Index(['empno', 'ename', 'job', 'mgr', 'hiredate', 'sal', 'comm', 'deptno'], dtype='object')\n"
     ]
    }
   ],
   "source": [
    "import pandas as pd\n",
    "\n",
    "emp = pd.read_csv('d:\\\\data\\\\emp.csv')\n",
    "print(emp.columns)"
   ]
  },
  {
   "cell_type": "markdown",
   "metadata": {},
   "source": [
    "## 2.6 판다스 데이터 프레임의 행 인덱스/열 이름을 지정하는 방법\n",
    "\n",
    "__문법 :__ pandas.DataFrame(2차원 배열, index = 행 인덱스 배열, columns = 열 이름 배열)"
   ]
  },
  {
   "cell_type": "code",
   "execution_count": 42,
   "metadata": {},
   "outputs": [
    {
     "name": "stdout",
     "output_type": "stream",
     "text": [
      "    나이 성별   학교\n",
      "준서  15  남  역삼중\n",
      "예은  17  여  역삼중\n"
     ]
    }
   ],
   "source": [
    "# 예제\n",
    "\n",
    "df = pd.DataFrame([[15,'남','역삼중'], [17,'여','역삼중']], index = ['준서', '예은'], columns = ['나이', '성별', '학교'])\n",
    "print(df)\n",
    "# 준서, 예은 --> 행 인덱스 이름\n",
    "# 나이, 성별, 학교 --> 열 이름 "
   ]
  },
  {
   "cell_type": "markdown",
   "metadata": {},
   "source": [
    "## 문제9. rename() 메소드를 이용하여 df의 열이름과 행이름을 아래와 같이 변경하시오!\n",
    "\n",
    "['나이','성별','학교'] ----> ['연령','남녀','소속']  \n",
    "[준서,예은] ----> [학생1, 학생2]"
   ]
  },
  {
   "cell_type": "code",
   "execution_count": 43,
   "metadata": {},
   "outputs": [
    {
     "name": "stdout",
     "output_type": "stream",
     "text": [
      "    연령 남녀   소속\n",
      "준서  15  남  역삼중\n",
      "예은  17  여  역삼중\n"
     ]
    }
   ],
   "source": [
    "import pandas as pd\n",
    "df = pd.DataFrame([[15,'남','역삼중'], [17,'여','역삼중']], index = ['준서', '예은'], columns = ['나이', '성별', '학교'])\n",
    "df.rename(columns = {'나이' : '연령', '성별' : '남녀', '학교' : '소속'}, inplace = True)  \n",
    "print(df)"
   ]
  },
  {
   "cell_type": "markdown",
   "metadata": {},
   "source": [
    "### ※ inplace = True 는 원본 객체를 직접 변경할 때 사용한다.\n",
    "### ※ inplace = False 로 설정하면 새로운 객체가 생성되고, 원본객체는 변경없이 그대로 유지된다.\n",
    "### ( drop 메소드 메소드 사용할때 유용함)"
   ]
  },
  {
   "cell_type": "markdown",
   "metadata": {},
   "source": [
    "## 문제10. 행 인덱스 이름 변경을 위와 같이하시오."
   ]
  },
  {
   "cell_type": "code",
   "execution_count": 44,
   "metadata": {},
   "outputs": [
    {
     "name": "stdout",
     "output_type": "stream",
     "text": [
      "     나이 성별   학교\n",
      "학생1  15  남  역삼중\n",
      "학생2  17  여  역삼중\n"
     ]
    }
   ],
   "source": [
    "import pandas as pd\n",
    "df = pd.DataFrame([[15,'남','역삼중'], [17,'여','역삼중']], index = ['준서', '예은'], columns = ['나이', '성별', '학교'])\n",
    "df.rename(index = {'준서' : '학생1', '예은' : '학생2'}, inplace = True)  \n",
    "print(df)"
   ]
  },
  {
   "cell_type": "markdown",
   "metadata": {},
   "source": [
    "## ■ 판다스 데이터 프레임에서 행/열 삭제 하는 방법\n",
    "\n",
    "행과 열을 삭제하는 것은 __drop() 메소드__가 있다.\n",
    "\n",
    "axis = 0 ---> 행삭제  \n",
    "axis = 1 ---> 열삭제  \n",
    "\n",
    "### 문법 : \n",
    "DataFrame 객체.drop( 행 인덱스 또는 배열, axis = 0)  <-- 행을삭제  \n",
    "DataFrame 객체.drop( 열 이름 또는 배열, axis = 1) <-- 열을삭제"
   ]
  },
  {
   "cell_type": "code",
   "execution_count": 45,
   "metadata": {},
   "outputs": [
    {
     "name": "stdout",
     "output_type": "stream",
     "text": [
      "    수학  영어   음악   체육\n",
      "서준  90  98   85  100\n",
      "우현  80  89   95   90\n",
      "인아  70  95  100   90\n"
     ]
    }
   ],
   "source": [
    "# 예제\n",
    "import pandas as pd\n",
    "\n",
    "exam_data = {'수학' : [90,80,70], '영어' : [98,89,95], '음악' : [85,95,100], '체육' : [100,90,90]}\n",
    "df = pd.DataFrame(exam_data, index = ['서준', '우현', '인아'])\n",
    "print(df)"
   ]
  },
  {
   "cell_type": "markdown",
   "metadata": {},
   "source": [
    "## 문제10. 위의 df 데이터 프레임을 df2로 복제하시오~"
   ]
  },
  {
   "cell_type": "code",
   "execution_count": 47,
   "metadata": {},
   "outputs": [
    {
     "name": "stdout",
     "output_type": "stream",
     "text": [
      "    수학  영어   음악   체육\n",
      "서준  90  98   85  100\n",
      "우현  80  89   95   90\n",
      "인아  70  95  100   90\n"
     ]
    }
   ],
   "source": [
    "import pandas as pd\n",
    "exam_data = {'수학' : [90,80,70], '영어' : [98,89,95], '음악' : [85,95,100], '체육' : [100,90,90]}\n",
    "df = pd.DataFrame(exam_data, index = ['서준', '우현', '인아'])\n",
    "\n",
    "df2 = df[:]\n",
    "print(df2)"
   ]
  },
  {
   "cell_type": "markdown",
   "metadata": {},
   "source": [
    "## 문제11. 위의  복제한 df2 데이터 프레임에서 우현의 데이터를 삭제하시오~"
   ]
  },
  {
   "cell_type": "code",
   "execution_count": 173,
   "metadata": {},
   "outputs": [
    {
     "name": "stdout",
     "output_type": "stream",
     "text": [
      "    수학  영어   음악   체육\n",
      "서준  90  98   85  100\n",
      "인아  70  95  100   90\n"
     ]
    },
    {
     "name": "stderr",
     "output_type": "stream",
     "text": [
      "C:\\Users\\wdp\\Anaconda3\\lib\\site-packages\\pandas\\core\\frame.py:4102: SettingWithCopyWarning: \n",
      "A value is trying to be set on a copy of a slice from a DataFrame\n",
      "\n",
      "See the caveats in the documentation: http://pandas.pydata.org/pandas-docs/stable/user_guide/indexing.html#returning-a-view-versus-a-copy\n",
      "  errors=errors,\n"
     ]
    }
   ],
   "source": [
    "import pandas as pd\n",
    "exam_data = {'수학' : [90,80,70], '영어' : [98,89,95], '음악' : [85,95,100], '체육' : [100,90,90]}\n",
    "df = pd.DataFrame(exam_data, index = ['서준', '우현', '인아'])\n",
    "\n",
    "df2 = df[:]\n",
    "\n",
    "# DataFrame객체.drop( 행 인덱스 또는 배열, axis = 0)\n",
    "\n",
    "df2.drop('우현', axis=0, inplace = True)\n",
    "print(df2)"
   ]
  },
  {
   "cell_type": "markdown",
   "metadata": {},
   "source": [
    "## 문제12. 데이터 프레임 df를 복제하여 df3에 저장하고 df3에서 우현과 인아 2개의 행을 삭제하시오!"
   ]
  },
  {
   "cell_type": "code",
   "execution_count": 49,
   "metadata": {},
   "outputs": [
    {
     "name": "stdout",
     "output_type": "stream",
     "text": [
      "    수학  영어  음악   체육\n",
      "서준  90  98  85  100\n"
     ]
    }
   ],
   "source": [
    "import pandas as pd\n",
    "exam_data = {'수학' : [90,80,70], '영어' : [98,89,95], '음악' : [85,95,100], '체육' : [100,90,90]}\n",
    "df = pd.DataFrame(exam_data, index = ['서준', '우현', '인아'])\n",
    "\n",
    "df3 = df[:]\n",
    "\n",
    "df3.drop(['우현','인아'], axis =0, inplace = True) # 2개 이상의 행이나 열을 지우려고하면 []를 써주어야 한다.\n",
    "print(df3)"
   ]
  },
  {
   "cell_type": "markdown",
   "metadata": {},
   "source": [
    "## 점심시간 문제 : 직업이 SALESMAN인 사원들을 삭제하시오~"
   ]
  },
  {
   "cell_type": "code",
   "execution_count": 52,
   "metadata": {},
   "outputs": [
    {
     "name": "stdout",
     "output_type": "stream",
     "text": [
      "           empno   ename     mgr    hiredate   sal  comm  deptno\n",
      "job                                                             \n",
      "PRESIDENT   7839    KING     NaN  1981-11-17  5000   NaN      10\n",
      "MANAGER     7698   BLAKE  7839.0  1981-05-01  2850   NaN      30\n",
      "MANAGER     7782   CLARK  7839.0  1981-05-09  2450   NaN      10\n",
      "MANAGER     7566   JONES  7839.0  1981-04-01  2975   NaN      20\n",
      "CLERK       7900   JAMES  7698.0  1981-12-11   950   NaN      30\n",
      "ANALYST     7902    FORD  7566.0  1981-12-11  3000   NaN      20\n",
      "CLERK       7369   SMITH  7902.0  1980-12-09   800   NaN      20\n",
      "ANALYST     7788   SCOTT  7566.0  1982-12-22  3000   NaN      20\n",
      "CLERK       7876   ADAMS  7788.0  1983-01-15  1100   NaN      20\n",
      "CLERK       7934  MILLER  7782.0  1982-01-11  1300   NaN      10\n"
     ]
    }
   ],
   "source": [
    "import pandas as pd\n",
    "emp = pd.read_csv(\"d:\\\\data\\\\emp.csv\", index_col = 'job')\n",
    "# 행 인덱스 이름을 job 으로 지정하면서 데이터 프레임을 생성\n",
    "\n",
    "emp2 = emp[:]\n",
    "emp2.drop('SALESMAN', axis=0, inplace = True)\n",
    "\n",
    "print(emp2)"
   ]
  },
  {
   "cell_type": "markdown",
   "metadata": {},
   "source": [
    "## 문제13. 위의 복제된 df4 데이터 프레임에서 수학 컬럼을 삭제하시오~"
   ]
  },
  {
   "cell_type": "code",
   "execution_count": 3,
   "metadata": {},
   "outputs": [
    {
     "name": "stdout",
     "output_type": "stream",
     "text": [
      "    수학  영어   음악   체육\n",
      "서준  90  98   85  100\n",
      "우현  80  89   95   90\n",
      "인아  70  95  100   90\n",
      "\n",
      "    영어   음악   체육\n",
      "서준  98   85  100\n",
      "우현  89   95   90\n",
      "인아  95  100   90\n"
     ]
    },
    {
     "name": "stderr",
     "output_type": "stream",
     "text": [
      "C:\\Users\\wdp\\Anaconda3\\lib\\site-packages\\pandas\\core\\frame.py:4102: SettingWithCopyWarning: \n",
      "A value is trying to be set on a copy of a slice from a DataFrame\n",
      "\n",
      "See the caveats in the documentation: http://pandas.pydata.org/pandas-docs/stable/user_guide/indexing.html#returning-a-view-versus-a-copy\n",
      "  errors=errors,\n"
     ]
    }
   ],
   "source": [
    "import pandas as pd\n",
    "exam_data = {'수학' : [90,80,70], '영어' : [98,89,95], '음악' : [85,95,100], '체육' : [100,90,90]}\n",
    "df = pd.DataFrame(exam_data, index = ['서준', '우현', '인아'])\n",
    "\n",
    "print(df, end = '\\n\\n')\n",
    "\n",
    "df4 = df[:]\n",
    "df4.drop('수학', axis=1, inplace = True)\n",
    "\n",
    "print(df4)"
   ]
  },
  {
   "cell_type": "markdown",
   "metadata": {},
   "source": [
    "## ■ 2.8 판다스 행 선택\n",
    "\n",
    "데이터 프레임의 __행 데이터를 선택__하기 위해서는 __loc__와 __iloc__ 인덱스를 사용합니다.   \n",
    "__인덱스 이름을 기준__으로 행을 선택할때는 __loc__를 이용하고    \n",
    "__정수형 위치 인덱스__를 사용해서 행을 선택할 때는 __iloc__를 이용합니다.     \n",
    "\n",
    "|    구분   |     loc     |         iloc         |\n",
    "|:---------:|:-----------:|:--------------------:|\n",
    "| 탐색 대상 | 인덱스 이름 |  정수형 위치 인덱스(숫자)  |\n",
    "| 범위 지정 |    Series(범위의 끝도 포함)   | 기능(범위의 끝 제외) |\n",
    "\n",
    "loc 예 : ['a':'c'] ---> 'a','b','c' (범위의 끝도 포함)  \n",
    "iloc 예 : [3:7] ---> 3,4,5,6 (7은 제외)"
   ]
  },
  {
   "cell_type": "markdown",
   "metadata": {},
   "source": [
    "## 문제14. 아래의 df데이터 프레임에서 서준의 데이터를 검색하시오."
   ]
  },
  {
   "cell_type": "code",
   "execution_count": 174,
   "metadata": {},
   "outputs": [
    {
     "name": "stdout",
     "output_type": "stream",
     "text": [
      "    수학  영어   음악   체육\n",
      "서준  90  98   85  100\n",
      "우현  80  89   95   90\n",
      "인아  70  95  100   90\n",
      "수학     90\n",
      "영어     98\n",
      "음악     85\n",
      "체육    100\n",
      "Name: 서준, dtype: int64\n",
      "수학     90\n",
      "영어     98\n",
      "음악     85\n",
      "체육    100\n",
      "Name: 서준, dtype: int64\n"
     ]
    }
   ],
   "source": [
    "import pandas as pd\n",
    "exam_data = {'수학' : [90,80,70], '영어' : [98,89,95], '음악' : [85,95,100], '체육' : [100,90,90]}\n",
    "df = pd.DataFrame(exam_data, index = ['서준', '우현', '인아'])\n",
    "print(df)\n",
    "print(df.loc['서준'])\n",
    "print(df.iloc[0])"
   ]
  },
  {
   "cell_type": "markdown",
   "metadata": {},
   "source": [
    "## 문제15.서준과 우현 학생의 전체 데이터를 가져오시오~"
   ]
  },
  {
   "cell_type": "code",
   "execution_count": 176,
   "metadata": {},
   "outputs": [
    {
     "name": "stdout",
     "output_type": "stream",
     "text": [
      "    수학  영어   음악   체육\n",
      "서준  90  98   85  100\n",
      "우현  80  89   95   90\n",
      "인아  70  95  100   90\n",
      "\n",
      "    수학  영어  음악   체육\n",
      "서준  90  98  85  100\n",
      "우현  80  89  95   90\n",
      "    수학  영어  음악   체육\n",
      "서준  90  98  85  100\n",
      "우현  80  89  95   90\n",
      "    수학  영어  음악   체육\n",
      "서준  90  98  85  100\n",
      "우현  80  89  95   90\n",
      "    수학  영어  음악   체육\n",
      "서준  90  98  85  100\n",
      "우현  80  89  95   90\n"
     ]
    }
   ],
   "source": [
    "import pandas as pd\n",
    "exam_data = {'수학' : [90,80,70], '영어' : [98,89,95], '음악' : [85,95,100], '체육' : [100,90,90]}\n",
    "df = pd.DataFrame(exam_data, index = ['서준', '우현', '인아'])\n",
    "print(df, end = '\\n\\n')\n",
    "print(df.loc[['서준','우현']]) # 하나씩 일일히, 2개이상 지정 ([] 를 양쪽에 씌워주어야 한다.)\n",
    "print(df.loc['서준':'우현']) # 범위로 지정 ([] 씌우면 안됨. 주의!!!)\n",
    "print(df.iloc[[0,1]])\n",
    "print(df.iloc[0:2])"
   ]
  },
  {
   "cell_type": "markdown",
   "metadata": {},
   "source": [
    "## 문제16. 타이타닉 데이터에서 위의 5개의 행만 가져와서 출력하시오!"
   ]
  },
  {
   "cell_type": "code",
   "execution_count": 178,
   "metadata": {},
   "outputs": [
    {
     "name": "stdout",
     "output_type": "stream",
     "text": [
      "   PassengerId  Survived  Pclass  \\\n",
      "0            1         0       3   \n",
      "1            2         1       1   \n",
      "2            3         1       3   \n",
      "3            4         1       1   \n",
      "4            5         0       3   \n",
      "5            6         0       3   \n",
      "\n",
      "                                                Name     Sex   Age  SibSp  \\\n",
      "0                            Braund, Mr. Owen Harris    male  22.0      1   \n",
      "1  Cumings, Mrs. John Bradley (Florence Briggs Th...  female  38.0      1   \n",
      "2                             Heikkinen, Miss. Laina  female  26.0      0   \n",
      "3       Futrelle, Mrs. Jacques Heath (Lily May Peel)  female  35.0      1   \n",
      "4                           Allen, Mr. William Henry    male  35.0      0   \n",
      "5                                   Moran, Mr. James    male   NaN      0   \n",
      "\n",
      "   Parch            Ticket     Fare Cabin Embarked  \n",
      "0      0         A/5 21171   7.2500   NaN        S  \n",
      "1      0          PC 17599  71.2833   C85        C  \n",
      "2      0  STON/O2. 3101282   7.9250   NaN        S  \n",
      "3      0            113803  53.1000  C123        S  \n",
      "4      0            373450   8.0500   NaN        S  \n",
      "5      0            330877   8.4583   NaN        Q  \n",
      "   PassengerId  Survived  Pclass  \\\n",
      "0            1         0       3   \n",
      "1            2         1       1   \n",
      "2            3         1       3   \n",
      "3            4         1       1   \n",
      "4            5         0       3   \n",
      "\n",
      "                                                Name     Sex   Age  SibSp  \\\n",
      "0                            Braund, Mr. Owen Harris    male  22.0      1   \n",
      "1  Cumings, Mrs. John Bradley (Florence Briggs Th...  female  38.0      1   \n",
      "2                             Heikkinen, Miss. Laina  female  26.0      0   \n",
      "3       Futrelle, Mrs. Jacques Heath (Lily May Peel)  female  35.0      1   \n",
      "4                           Allen, Mr. William Henry    male  35.0      0   \n",
      "\n",
      "   Parch            Ticket     Fare Cabin Embarked  \n",
      "0      0         A/5 21171   7.2500   NaN        S  \n",
      "1      0          PC 17599  71.2833   C85        C  \n",
      "2      0  STON/O2. 3101282   7.9250   NaN        S  \n",
      "3      0            113803  53.1000  C123        S  \n",
      "4      0            373450   8.0500   NaN        S  \n",
      "\n",
      "   PassengerId  Survived  Pclass  \\\n",
      "0            1         0       3   \n",
      "1            2         1       1   \n",
      "2            3         1       3   \n",
      "3            4         1       1   \n",
      "4            5         0       3   \n",
      "5            6         0       3   \n",
      "6            7         0       1   \n",
      "7            8         0       3   \n",
      "8            9         1       3   \n",
      "9           10         1       2   \n",
      "\n",
      "                                                Name     Sex   Age  SibSp  \\\n",
      "0                            Braund, Mr. Owen Harris    male  22.0      1   \n",
      "1  Cumings, Mrs. John Bradley (Florence Briggs Th...  female  38.0      1   \n",
      "2                             Heikkinen, Miss. Laina  female  26.0      0   \n",
      "3       Futrelle, Mrs. Jacques Heath (Lily May Peel)  female  35.0      1   \n",
      "4                           Allen, Mr. William Henry    male  35.0      0   \n",
      "5                                   Moran, Mr. James    male   NaN      0   \n",
      "6                            McCarthy, Mr. Timothy J    male  54.0      0   \n",
      "7                     Palsson, Master. Gosta Leonard    male   2.0      3   \n",
      "8  Johnson, Mrs. Oscar W (Elisabeth Vilhelmina Berg)  female  27.0      0   \n",
      "9                Nasser, Mrs. Nicholas (Adele Achem)  female  14.0      1   \n",
      "\n",
      "   Parch            Ticket     Fare Cabin Embarked  \n",
      "0      0         A/5 21171   7.2500   NaN        S  \n",
      "1      0          PC 17599  71.2833   C85        C  \n",
      "2      0  STON/O2. 3101282   7.9250   NaN        S  \n",
      "3      0            113803  53.1000  C123        S  \n",
      "4      0            373450   8.0500   NaN        S  \n",
      "5      0            330877   8.4583   NaN        Q  \n",
      "6      0             17463  51.8625   E46        S  \n",
      "7      1            349909  21.0750   NaN        S  \n",
      "8      2            347742  11.1333   NaN        S  \n",
      "9      0            237736  30.0708   NaN        C  \n",
      "\n"
     ]
    }
   ],
   "source": [
    "import pandas as pd\n",
    "taitanic = pd.read_csv(\"d:\\\\data\\\\train.csv\")\n",
    "print(taitanic.iloc[0:6]) # iloc 이므로 끝부분 6은 포함안한다.\n",
    "print(taitanic.head(), end = '\\n\\n') # head도 위에서 5개만 보도록 해준다.\n",
    "print(taitanic.head(10)) # head(10)을 씀으로써 위에서 10개만 보도록 해준다."
   ]
  },
  {
   "cell_type": "markdown",
   "metadata": {},
   "source": [
    "## 문제17. 타이타닉 데이터의 맨 아래 5줄을 출력하시오!"
   ]
  },
  {
   "cell_type": "code",
   "execution_count": 71,
   "metadata": {},
   "outputs": [
    {
     "name": "stdout",
     "output_type": "stream",
     "text": [
      "     PassengerId  Survived  Pclass                                      Name  \\\n",
      "886          887         0       2                     Montvila, Rev. Juozas   \n",
      "887          888         1       1              Graham, Miss. Margaret Edith   \n",
      "888          889         0       3  Johnston, Miss. Catherine Helen \"Carrie\"   \n",
      "889          890         1       1                     Behr, Mr. Karl Howell   \n",
      "890          891         0       3                       Dooley, Mr. Patrick   \n",
      "\n",
      "        Sex   Age  SibSp  Parch      Ticket   Fare Cabin Embarked  \n",
      "886    male  27.0      0      0      211536  13.00   NaN        S  \n",
      "887  female  19.0      0      0      112053  30.00   B42        S  \n",
      "888  female   NaN      1      2  W./C. 6607  23.45   NaN        S  \n",
      "889    male  26.0      0      0      111369  30.00  C148        C  \n",
      "890    male  32.0      0      0      370376   7.75   NaN        Q  \n",
      "     PassengerId  Survived  Pclass                                      Name  \\\n",
      "886          887         0       2                     Montvila, Rev. Juozas   \n",
      "887          888         1       1              Graham, Miss. Margaret Edith   \n",
      "888          889         0       3  Johnston, Miss. Catherine Helen \"Carrie\"   \n",
      "889          890         1       1                     Behr, Mr. Karl Howell   \n",
      "890          891         0       3                       Dooley, Mr. Patrick   \n",
      "\n",
      "        Sex   Age  SibSp  Parch      Ticket   Fare Cabin Embarked  \n",
      "886    male  27.0      0      0      211536  13.00   NaN        S  \n",
      "887  female  19.0      0      0      112053  30.00   B42        S  \n",
      "888  female   NaN      1      2  W./C. 6607  23.45   NaN        S  \n",
      "889    male  26.0      0      0      111369  30.00  C148        C  \n",
      "890    male  32.0      0      0      370376   7.75   NaN        Q  \n"
     ]
    }
   ],
   "source": [
    "# pandas 행 선택 : loc , iloc\n",
    "import pandas as pd\n",
    "tat = pd.read_csv(\"d:\\\\data\\\\train.csv\")\n",
    "\n",
    "print(tat.iloc[-5:])\n",
    "print(tat.tail()) # tail 로도 표현이 가능함."
   ]
  },
  {
   "cell_type": "markdown",
   "metadata": {},
   "source": [
    "## ■ 판다스 열 선택\n",
    "\n",
    "### 판다스에서 열이름을 선택하려면 ?\n",
    "\n",
    "__1. 열 1개를 선택(시리즈 생성) :__ DataFrame 객체[\"열이름\"] 또는 DataFrame 객체.열이름  \n",
    "__2. 열 여러개를 선택(데이터 프레임 생성) :__ DataFrame 객체[[열1, 열2, 열3 ... , 열n]]  "
   ]
  },
  {
   "cell_type": "markdown",
   "metadata": {},
   "source": [
    "## 문제18. 아래의 데이터 프레임에서 수학 점수만 출력하시오!"
   ]
  },
  {
   "cell_type": "code",
   "execution_count": 4,
   "metadata": {
    "scrolled": true
   },
   "outputs": [
    {
     "name": "stdout",
     "output_type": "stream",
     "text": [
      "    수학  영어   음악   체육\n",
      "서준  90  98   85  100\n",
      "우현  80  89   95   90\n",
      "인아  70  95  100   90\n",
      "\n",
      "서준    90\n",
      "우현    80\n",
      "인아    70\n",
      "Name: 수학, dtype: int64\n",
      "서준    90\n",
      "우현    80\n",
      "인아    70\n",
      "Name: 수학, dtype: int64\n",
      "    수학  영어\n",
      "서준  90  98\n",
      "우현  80  89\n",
      "인아  70  95\n"
     ]
    }
   ],
   "source": [
    "import pandas as pd\n",
    "exam_data = {'수학' : [90,80,70], '영어' : [98,89,95], '음악' : [85,95,100], '체육' : [100,90,90]}\n",
    "df = pd.DataFrame(exam_data, index = ['서준', '우현', '인아'])\n",
    "print(df, end = '\\n\\n')\n",
    "print(df[\"수학\"]) # DataFrame 객체[\"열이름\"]   \n",
    "print(df.수학) # DataFrame 객체.열이름\n",
    "\n",
    "print(df[[\"수학\", \"영어\"]]) # 열 여러개를 선택"
   ]
  },
  {
   "cell_type": "markdown",
   "metadata": {},
   "source": [
    "## 문제19. 타이타닉 데이터에서 라벨이 되는 컬럼인 survived 컬럼만 조회해서 train_label 이라는 변수에 담고 출력하시오!"
   ]
  },
  {
   "cell_type": "code",
   "execution_count": 81,
   "metadata": {},
   "outputs": [
    {
     "name": "stdout",
     "output_type": "stream",
     "text": [
      "Index(['PassengerId', 'Survived', 'Pclass', 'Name', 'Sex', 'Age', 'SibSp',\n",
      "       'Parch', 'Ticket', 'Fare', 'Cabin', 'Embarked'],\n",
      "      dtype='object')\n",
      "0      0\n",
      "1      1\n",
      "2      1\n",
      "3      1\n",
      "4      0\n",
      "      ..\n",
      "886    0\n",
      "887    1\n",
      "888    0\n",
      "889    1\n",
      "890    0\n",
      "Name: Survived, Length: 891, dtype: int64\n"
     ]
    }
   ],
   "source": [
    "import pandas as pd\n",
    "tat = pd.read_csv(\"d:\\\\data\\\\train.csv\")\n",
    "print(tat.columns) # 일단은 컬럼명부터 확인!\n",
    "\n",
    "train_label = tat[\"Survived\"]\n",
    "print(train_label)"
   ]
  },
  {
   "cell_type": "markdown",
   "metadata": {},
   "source": [
    "## 문제20. 타이타닉 데이터에서 승객번호와 라벨(Survived) 두개를 한번에 조회하시오!"
   ]
  },
  {
   "cell_type": "code",
   "execution_count": 84,
   "metadata": {},
   "outputs": [
    {
     "name": "stdout",
     "output_type": "stream",
     "text": [
      "Index(['PassengerId', 'Survived', 'Pclass', 'Name', 'Sex', 'Age', 'SibSp',\n",
      "       'Parch', 'Ticket', 'Fare', 'Cabin', 'Embarked'],\n",
      "      dtype='object')\n",
      "     PassengerId  Survived\n",
      "0              1         0\n",
      "1              2         1\n",
      "2              3         1\n",
      "3              4         1\n",
      "4              5         0\n",
      "..           ...       ...\n",
      "886          887         0\n",
      "887          888         1\n",
      "888          889         0\n",
      "889          890         1\n",
      "890          891         0\n",
      "\n",
      "[891 rows x 2 columns]\n"
     ]
    }
   ],
   "source": [
    "import pandas as pd\n",
    "tat = pd.read_csv(\"d:\\\\data\\\\train.csv\")\n",
    "print(tat.columns) # 일단은 컬럼명부터 확인!\n",
    "\n",
    "result = tat[[\"PassengerId\", \"Survived\"]]\n",
    "print(result)"
   ]
  },
  {
   "cell_type": "markdown",
   "metadata": {},
   "source": [
    "## ■ 2.10 범위 슬라이싱의 고급활용\n",
    "\n",
    "### DataFrame 객체.iloc[ 시작 인덱스 : 끝 인덱스 : 슬라이싱 간격 ]\n",
    "\n",
    "슬라이싱 범위는 '시작 인덱스'를 포함하고 '끝 인덱스' 보다 1작은 인덱스까지 포함한다.  \n",
    "'슬라이싱 간격'을 지정하지 않으면 1씩 증가한다."
   ]
  },
  {
   "cell_type": "markdown",
   "metadata": {},
   "source": [
    "## 문제21. 타이타닉 데이터를 출력하는데 2행 간격을 출력하시오!"
   ]
  },
  {
   "cell_type": "code",
   "execution_count": 179,
   "metadata": {},
   "outputs": [
    {
     "name": "stdout",
     "output_type": "stream",
     "text": [
      "     PassengerId  Survived  Pclass  \\\n",
      "0              1         0       3   \n",
      "2              3         1       3   \n",
      "4              5         0       3   \n",
      "6              7         0       1   \n",
      "8              9         1       3   \n",
      "..           ...       ...     ...   \n",
      "882          883         0       3   \n",
      "884          885         0       3   \n",
      "886          887         0       2   \n",
      "888          889         0       3   \n",
      "890          891         0       3   \n",
      "\n",
      "                                                  Name     Sex   Age  SibSp  \\\n",
      "0                              Braund, Mr. Owen Harris    male  22.0      1   \n",
      "2                               Heikkinen, Miss. Laina  female  26.0      0   \n",
      "4                             Allen, Mr. William Henry    male  35.0      0   \n",
      "6                              McCarthy, Mr. Timothy J    male  54.0      0   \n",
      "8    Johnson, Mrs. Oscar W (Elisabeth Vilhelmina Berg)  female  27.0      0   \n",
      "..                                                 ...     ...   ...    ...   \n",
      "882                       Dahlberg, Miss. Gerda Ulrika  female  22.0      0   \n",
      "884                             Sutehall, Mr. Henry Jr    male  25.0      0   \n",
      "886                              Montvila, Rev. Juozas    male  27.0      0   \n",
      "888           Johnston, Miss. Catherine Helen \"Carrie\"  female   NaN      1   \n",
      "890                                Dooley, Mr. Patrick    male  32.0      0   \n",
      "\n",
      "     Parch            Ticket     Fare Cabin Embarked  \n",
      "0        0         A/5 21171   7.2500   NaN        S  \n",
      "2        0  STON/O2. 3101282   7.9250   NaN        S  \n",
      "4        0            373450   8.0500   NaN        S  \n",
      "6        0             17463  51.8625   E46        S  \n",
      "8        2            347742  11.1333   NaN        S  \n",
      "..     ...               ...      ...   ...      ...  \n",
      "882      0              7552  10.5167   NaN        S  \n",
      "884      0   SOTON/OQ 392076   7.0500   NaN        S  \n",
      "886      0            211536  13.0000   NaN        S  \n",
      "888      2        W./C. 6607  23.4500   NaN        S  \n",
      "890      0            370376   7.7500   NaN        Q  \n",
      "\n",
      "[446 rows x 12 columns]\n"
     ]
    }
   ],
   "source": [
    "# 행의 범위를 슬라이싱\n",
    "import pandas as pd\n",
    "tat = pd.read_csv(\"d:\\\\data\\\\train.csv\")\n",
    "\n",
    "print(tat.iloc[::2])"
   ]
  },
  {
   "cell_type": "markdown",
   "metadata": {},
   "source": [
    "## 문제22. 타이타닉 데이터를 역순으로 출력하시오!"
   ]
  },
  {
   "cell_type": "code",
   "execution_count": 88,
   "metadata": {},
   "outputs": [
    {
     "name": "stdout",
     "output_type": "stream",
     "text": [
      "     PassengerId  Survived  Pclass  \\\n",
      "890          891         0       3   \n",
      "889          890         1       1   \n",
      "888          889         0       3   \n",
      "887          888         1       1   \n",
      "886          887         0       2   \n",
      "..           ...       ...     ...   \n",
      "4              5         0       3   \n",
      "3              4         1       1   \n",
      "2              3         1       3   \n",
      "1              2         1       1   \n",
      "0              1         0       3   \n",
      "\n",
      "                                                  Name     Sex   Age  SibSp  \\\n",
      "890                                Dooley, Mr. Patrick    male  32.0      0   \n",
      "889                              Behr, Mr. Karl Howell    male  26.0      0   \n",
      "888           Johnston, Miss. Catherine Helen \"Carrie\"  female   NaN      1   \n",
      "887                       Graham, Miss. Margaret Edith  female  19.0      0   \n",
      "886                              Montvila, Rev. Juozas    male  27.0      0   \n",
      "..                                                 ...     ...   ...    ...   \n",
      "4                             Allen, Mr. William Henry    male  35.0      0   \n",
      "3         Futrelle, Mrs. Jacques Heath (Lily May Peel)  female  35.0      1   \n",
      "2                               Heikkinen, Miss. Laina  female  26.0      0   \n",
      "1    Cumings, Mrs. John Bradley (Florence Briggs Th...  female  38.0      1   \n",
      "0                              Braund, Mr. Owen Harris    male  22.0      1   \n",
      "\n",
      "     Parch            Ticket     Fare Cabin Embarked  \n",
      "890      0            370376   7.7500   NaN        Q  \n",
      "889      0            111369  30.0000  C148        C  \n",
      "888      2        W./C. 6607  23.4500   NaN        S  \n",
      "887      0            112053  30.0000   B42        S  \n",
      "886      0            211536  13.0000   NaN        S  \n",
      "..     ...               ...      ...   ...      ...  \n",
      "4        0            373450   8.0500   NaN        S  \n",
      "3        0            113803  53.1000  C123        S  \n",
      "2        0  STON/O2. 3101282   7.9250   NaN        S  \n",
      "1        0          PC 17599  71.2833   C85        C  \n",
      "0        0         A/5 21171   7.2500   NaN        S  \n",
      "\n",
      "[891 rows x 12 columns]\n"
     ]
    }
   ],
   "source": [
    "import pandas as pd\n",
    "tat = pd.read_csv(\"d:\\\\data\\\\train.csv\")\n",
    "print(tat.iloc[::-1]) # 역순으로 나타내려면 간격만 -1로 바꾸어 주면 된다."
   ]
  },
  {
   "cell_type": "markdown",
   "metadata": {},
   "source": [
    "## ■ 2.11 데이터 프레임에서 특정 원소를 선택하는 방법\n",
    "\n",
    "데이터프레임의 행 인덱스와 열 이름을 [행,열] 형식의 2차원 좌표로 입력하여 원소 위치를 지정하는 방법\n",
    "\n",
    "### 문법\n",
    "\n",
    "__인덱스 이름 :__ DataFrame 객체.loc[행 인덱스, 열 이름]  \n",
    "__정수 위치 인덱스 :__ DataFrame 객체.iloc[행 번호, 열 번호]"
   ]
  },
  {
   "cell_type": "markdown",
   "metadata": {},
   "source": [
    "## 문제23. 아래의 데이터에서 서준의 음악점수를 출력하시오"
   ]
  },
  {
   "cell_type": "code",
   "execution_count": 180,
   "metadata": {},
   "outputs": [
    {
     "name": "stdout",
     "output_type": "stream",
     "text": [
      "    수학  영어   음악   체육\n",
      "서준  90  98   85  100\n",
      "우현  80  89   95   90\n",
      "인아  70  95  100   90\n",
      "\n",
      "85\n",
      "85\n"
     ]
    }
   ],
   "source": [
    "import pandas as pd\n",
    "exam_data = {'수학' : [90,80,70], '영어' : [98,89,95], '음악' : [85,95,100], '체육' : [100,90,90]}\n",
    "df = pd.DataFrame(exam_data, index = ['서준', '우현', '인아'])\n",
    "\n",
    "print(df, end = '\\n\\n')\n",
    "\n",
    "print(df.loc[\"서준\", \"음악\"]) \n",
    "# 행을 먼저 선택을 해야되기 때문에 loc나 iloc를 써야한다.\n",
    "# \"서준\" --> 행 인덱스, \"음악\" --> 열 인덱스\n",
    "\n",
    "print(df.iloc[0,2]) # 0 --> 행 번호, 2 --> 열 번호"
   ]
  },
  {
   "cell_type": "markdown",
   "metadata": {},
   "source": [
    "## 문제24. 아래의 데이터에서 서준의 음악점수와 체육점수를 출력하시오!"
   ]
  },
  {
   "cell_type": "code",
   "execution_count": 182,
   "metadata": {},
   "outputs": [
    {
     "name": "stdout",
     "output_type": "stream",
     "text": [
      "    수학  영어   음악   체육\n",
      "서준  90  98   85  100\n",
      "우현  80  89   95   90\n",
      "인아  70  95  100   90\n",
      "\n",
      "음악     85\n",
      "체육    100\n",
      "Name: 서준, dtype: int64\n",
      "\n",
      "음악     85\n",
      "체육    100\n",
      "Name: 서준, dtype: int64\n"
     ]
    }
   ],
   "source": [
    "import pandas as pd\n",
    "exam_data = {'수학' : [90,80,70], '영어' : [98,89,95], '음악' : [85,95,100], '체육' : [100,90,90]}\n",
    "df = pd.DataFrame(exam_data, index = ['서준', '우현', '인아'])\n",
    "\n",
    "print(df, end = '\\n\\n')\n",
    "print(df.loc[\"서준\", [\"음악\", \"체육\"]], end = '\\n\\n')\n",
    "print(df.loc[\"서준\", \"음악\":\"체육\"])"
   ]
  },
  {
   "cell_type": "markdown",
   "metadata": {},
   "source": [
    "## 문제25. 서준과 우현의 음악 점수와 체육점수를 출력하시오~~"
   ]
  },
  {
   "cell_type": "code",
   "execution_count": 103,
   "metadata": {},
   "outputs": [
    {
     "name": "stdout",
     "output_type": "stream",
     "text": [
      "    음악   체육\n",
      "서준  85  100\n",
      "우현  95   90\n"
     ]
    }
   ],
   "source": [
    "import pandas as pd\n",
    "exam_data = {'수학' : [90,80,70], '영어' : [98,89,95], '음악' : [85,95,100], '체육' : [100,90,90]}\n",
    "df = pd.DataFrame(exam_data, index = ['서준', '우현', '인아'])\n",
    "\n",
    "print(df.loc[[\"서준\",\"우현\"],[\"음악\",\"체육\"]])"
   ]
  },
  {
   "cell_type": "markdown",
   "metadata": {},
   "source": [
    "## ■ 2.12 컬럼 추가 (파생변수를 생성하기 위해 꼭 알아야할 내용)\n",
    "\n",
    "__파생변수 :__ feature engineering\n",
    "\n",
    "__타이타닉 -->__ \" 여자와 아이 먼저 !! \" (영화를 봐야 좋은 파생변수를 생성할 수 있다.\n",
    "\n",
    "__문법 :__ DataFrame 객체['추가하려는 열 이름'] = 데이터 값"
   ]
  },
  {
   "cell_type": "markdown",
   "metadata": {},
   "source": [
    "## 문제26. 아래의 데이터 프레임에 국어점수를 전부 80점으로 해서 컬럼을 추가하시오!"
   ]
  },
  {
   "cell_type": "code",
   "execution_count": 104,
   "metadata": {},
   "outputs": [
    {
     "name": "stdout",
     "output_type": "stream",
     "text": [
      "    수학  영어   음악   체육  국어\n",
      "서준  90  98   85  100  80\n",
      "우현  80  89   95   90  80\n",
      "인아  70  95  100   90  80\n"
     ]
    }
   ],
   "source": [
    "import pandas as pd\n",
    "exam_data = {'수학' : [90,80,70], '영어' : [98,89,95], '음악' : [85,95,100], '체육' : [100,90,90]}\n",
    "df = pd.DataFrame(exam_data, index = ['서준', '우현', '인아'])\n",
    "df['국어'] = 80\n",
    "\n",
    "print(df)"
   ]
  },
  {
   "cell_type": "markdown",
   "metadata": {},
   "source": [
    "## 문제27. \n",
    "## 타이타닉호 생존자와 사망자를 분류하는 모델에 좋은 학습 데이터를 제공하기 위해서 파생변수를 추가하시오~~\n",
    "## tat 타이타닉 데이터 프레임에 age2 컬럼을 추가하고 age2를 기존나이의 제곱의 값으로 생성되게 하시오"
   ]
  },
  {
   "cell_type": "code",
   "execution_count": 109,
   "metadata": {},
   "outputs": [
    {
     "name": "stdout",
     "output_type": "stream",
     "text": [
      "      Age    Age2\n",
      "0    22.0   484.0\n",
      "1    38.0  1444.0\n",
      "2    26.0   676.0\n",
      "3    35.0  1225.0\n",
      "4    35.0  1225.0\n",
      "..    ...     ...\n",
      "886  27.0   729.0\n",
      "887  19.0   361.0\n",
      "888   NaN     NaN\n",
      "889  26.0   676.0\n",
      "890  32.0  1024.0\n",
      "\n",
      "[891 rows x 2 columns]\n"
     ]
    }
   ],
   "source": [
    "import pandas as pd\n",
    "tat = pd.read_csv(\"d:\\\\data\\\\train.csv\")\n",
    "tat['Age2'] = tat['Age'] ** 2\n",
    "\n",
    "print(tat[['Age', 'Age2']])"
   ]
  },
  {
   "cell_type": "markdown",
   "metadata": {},
   "source": [
    "## 문제28. 타이타닉 데이터 프레임이 몇행 몇열로 되어있는지 확인하시오!"
   ]
  },
  {
   "cell_type": "code",
   "execution_count": 183,
   "metadata": {},
   "outputs": [
    {
     "name": "stdout",
     "output_type": "stream",
     "text": [
      "(891, 12)\n"
     ]
    }
   ],
   "source": [
    "import pandas as pd\n",
    "tat = pd.read_csv(\"d:\\\\data\\\\train.csv\")\n",
    "\n",
    "print(tat.shape) # shape를 이용하여 몇행 몇열인지를 알 수 있다."
   ]
  },
  {
   "cell_type": "markdown",
   "metadata": {},
   "source": [
    "## ■ 2.13 행 추가\n",
    "\n",
    "__\" 데이터 프레임에 행을 추가하는 방법 \"__\n",
    "\n",
    "__문법 :__ DataFrame.loc['새로운 행 이름'] = 데이터값 (또는 배열)"
   ]
  },
  {
   "cell_type": "code",
   "execution_count": 111,
   "metadata": {},
   "outputs": [
    {
     "name": "stdout",
     "output_type": "stream",
     "text": [
      "    수학  영어   음악   체육\n",
      "서준  90  98   85  100\n",
      "우현  80  89   95   90\n",
      "인아  70  95  100   90\n",
      "3    0   0    0    0\n"
     ]
    }
   ],
   "source": [
    "# 행을 추가하여야 되기 때문에 loc가 붙는다.\n",
    "import pandas as pd\n",
    "exam_data = {'수학' : [90,80,70], '영어' : [98,89,95], '음악' : [85,95,100], '체육' : [100,90,90]}\n",
    "df = pd.DataFrame(exam_data, index = ['서준', '우현', '인아'])\n",
    "\n",
    "df.loc[3] = 0\n",
    "print(df)"
   ]
  },
  {
   "cell_type": "markdown",
   "metadata": {},
   "source": [
    "## 문제29. df 데이터 프레임을 아래와 같이 행을 추가하시오!"
   ]
  },
  {
   "cell_type": "code",
   "execution_count": 112,
   "metadata": {},
   "outputs": [
    {
     "name": "stdout",
     "output_type": "stream",
     "text": [
      "    수학  영어   음악   체육\n",
      "서준  90  98   85  100\n",
      "우현  80  89   95   90\n",
      "인아  70  95  100   90\n",
      "동규  90  80   70   60\n"
     ]
    }
   ],
   "source": [
    "import pandas as pd\n",
    "exam_data = {'수학' : [90,80,70], '영어' : [98,89,95], '음악' : [85,95,100], '체육' : [100,90,90]}\n",
    "df = pd.DataFrame(exam_data, index = ['서준', '우현', '인아'])\n",
    "\n",
    "df.loc['동규'] = [90,80,70,60]\n",
    "print(df)"
   ]
  },
  {
   "cell_type": "markdown",
   "metadata": {},
   "source": [
    "## 문제30. 아래와 같이 인아의 행을 복사해서 맨 아래에 붙여 넣으시오."
   ]
  },
  {
   "cell_type": "code",
   "execution_count": 185,
   "metadata": {},
   "outputs": [
    {
     "name": "stdout",
     "output_type": "stream",
     "text": [
      "    수학  영어   음악   체육\n",
      "서준  90  98   85  100\n",
      "우현  80  89   95   90\n",
      "인아  70  95  100   90\n",
      "\n",
      "      수학  영어   음악   체육\n",
      "서준    90  98   85  100\n",
      "우현    80  89   95   90\n",
      "인아    70  95  100   90\n",
      "name  70  95  100   90\n",
      "\n",
      "    수학  영어   음악   체육\n",
      "서준  90  98   85  100\n",
      "우현  80  89   95   90\n",
      "인아  70  95  100   90\n",
      "인아  70  95  100   90\n"
     ]
    }
   ],
   "source": [
    "import  pandas  as  pd \n",
    "\n",
    "exam_data = { '수학' : [ 90, 80, 70 ], '영어' : [98, 89, 95],\n",
    "                '음악' :  [ 85, 95, 100], '체육' : [100, 90, 90] } \n",
    "\n",
    "df = pd.DataFrame( exam_data, index =['서준', '우현', '인아'] ) \n",
    "print (df, end = '\\n\\n')\n",
    "\n",
    "df.loc['name'] = df.iloc[2]\n",
    "print(df, end = '\\n\\n')\n",
    "\n",
    "df.rename(index ={'name':'인아'} ,inplace=True)\n",
    "print(df)"
   ]
  },
  {
   "cell_type": "markdown",
   "metadata": {},
   "source": [
    "## ■ 2.14 원소값 변경\n",
    "\n",
    "데이터 프레임의 특정 원소를 선택하고 새로운 데이터 값을 지정해 주면 원소값이 변경된다.\n",
    "\n",
    "__문법 :__ DataFrame 객체의 일부분 또는 원소를 선택 = 새로운 값"
   ]
  },
  {
   "cell_type": "markdown",
   "metadata": {},
   "source": [
    "## 문제31. 아래의 서준의 체육점수를 100점에서 80점으로 변경하시오!"
   ]
  },
  {
   "cell_type": "code",
   "execution_count": 115,
   "metadata": {},
   "outputs": [
    {
     "name": "stdout",
     "output_type": "stream",
     "text": [
      "    수학  영어   음악  체육\n",
      "서준  90  98   85  80\n",
      "우현  80  89   95  90\n",
      "인아  70  95  100  90\n"
     ]
    }
   ],
   "source": [
    "import pandas as pd\n",
    "exam_data = {'수학' : [90,80,70], '영어' : [98,89,95], '음악' : [85,95,100], '체육' : [100,90,90]}\n",
    "df = pd.DataFrame(exam_data, index = ['서준', '우현', '인아'])\n",
    "\n",
    "df.loc['서준']['체육'] = 80 # '서준' = 행 , '체육' = 열\n",
    "print(df)"
   ]
  },
  {
   "cell_type": "code",
   "execution_count": 187,
   "metadata": {},
   "outputs": [
    {
     "name": "stdout",
     "output_type": "stream",
     "text": [
      "   이름  수학  영어   음악   체육\n",
      "0  서준  90  98   85  100\n",
      "1  우현  80  89   95   90\n",
      "2  인아  70  95  100   90\n"
     ]
    }
   ],
   "source": [
    "import pandas as pd\n",
    "\n",
    "exam_data = {'이름' : ['서준', '우현', '인아'], '수학' : [90,80,70], '영어' : [98,89,95], '음악' : [85,95,100], '체육' : [100,90,90]}\n",
    "df = pd.DataFrame(exam_data) # index를 ['서준', '우현', '인아'] 로 설정안함!\n",
    "print(df)"
   ]
  },
  {
   "cell_type": "markdown",
   "metadata": {},
   "source": [
    "### * '이름' 열을 새로운 인덱스로 지정하고 df 객체에 변경사항을 반영\n",
    "\n",
    "DataFrame 객체.set_index('열이름', inplace = True)"
   ]
  },
  {
   "cell_type": "code",
   "execution_count": 186,
   "metadata": {},
   "outputs": [
    {
     "name": "stdout",
     "output_type": "stream",
     "text": [
      "    수학  영어   음악   체육\n",
      "이름                  \n",
      "서준  90  98   85  100\n",
      "우현  80  89   95   90\n",
      "인아  70  95  100   90\n",
      "\n",
      "    수학  영어   음악  체육\n",
      "이름                 \n",
      "서준  90  98   85  80\n",
      "우현  80  89   95  90\n",
      "인아  70  95  100  90\n"
     ]
    }
   ],
   "source": [
    "import pandas as pd\n",
    "\n",
    "exam_data = {'이름' : ['서준', '우현', '인아'], '수학' : [90,80,70], '영어' : [98,89,95], '음악' : [85,95,100], '체육' : [100,90,90]}\n",
    "df = pd.DataFrame(exam_data)\n",
    "df.set_index('이름', inplace = True)\n",
    "print(df, end = '\\n\\n')\n",
    "\n",
    "df.loc['서준']['체육'] = 80\n",
    "print(df)"
   ]
  },
  {
   "cell_type": "markdown",
   "metadata": {},
   "source": [
    "## ■ 2.15 데이터 프레임의 행과 열의 위치를 변경하기"
   ]
  },
  {
   "cell_type": "code",
   "execution_count": 120,
   "metadata": {},
   "outputs": [
    {
     "name": "stdout",
     "output_type": "stream",
     "text": [
      "   이름  수학  영어   음악   체육\n",
      "0  서준  90  98   85  100\n",
      "1  우현  80  89   95   90\n",
      "2  인아  70  95  100   90\n"
     ]
    }
   ],
   "source": [
    "import pandas as pd\n",
    "\n",
    "exam_data = {'이름' : ['서준', '우현', '인아'], '수학' : [90,80,70], '영어' : [98,89,95], '음악' : [85,95,100], '체육' : [100,90,90]}\n",
    "df = pd.DataFrame(exam_data)\n",
    "print(df)"
   ]
  },
  {
   "cell_type": "markdown",
   "metadata": {},
   "source": [
    "## 문제32. 위의 행을 열로 변경하고 열을 행으로 변경하시오!"
   ]
  },
  {
   "cell_type": "code",
   "execution_count": 188,
   "metadata": {},
   "outputs": [
    {
     "name": "stdout",
     "output_type": "stream",
     "text": [
      "   이름  수학  영어   음악   체육\n",
      "0  서준  90  98   85  100\n",
      "1  우현  80  89   95   90\n",
      "2  인아  70  95  100   90\n",
      "\n",
      "      0   1    2\n",
      "이름   서준  우현   인아\n",
      "수학   90  80   70\n",
      "영어   98  89   95\n",
      "음악   85  95  100\n",
      "체육  100  90   90\n"
     ]
    }
   ],
   "source": [
    "import pandas as pd\n",
    "\n",
    "exam_data = {'이름' : ['서준', '우현', '인아'], '수학' : [90,80,70], '영어' : [98,89,95], '음악' : [85,95,100], '체육' : [100,90,90]}\n",
    "print(df, end = '\\n\\n')\n",
    "\n",
    "df = pd.DataFrame(exam_data)\n",
    "df = df.transpose() # 또는 df.T\n",
    "print(df)"
   ]
  },
  {
   "cell_type": "code",
   "execution_count": 123,
   "metadata": {},
   "outputs": [
    {
     "name": "stdout",
     "output_type": "stream",
     "text": [
      "      0   1    2\n",
      "이름   서준  우현   인아\n",
      "수학   90  80   70\n",
      "영어   98  89   95\n",
      "음악   85  95  100\n",
      "체육  100  90   90\n"
     ]
    }
   ],
   "source": [
    "import pandas as pd\n",
    "\n",
    "exam_data = {'이름' : ['서준', '우현', '인아'], '수학' : [90,80,70], '영어' : [98,89,95], '음악' : [85,95,100], '체육' : [100,90,90]}\n",
    "df = pd.DataFrame(exam_data)\n",
    "df = df.T\n",
    "print(df)"
   ]
  },
  {
   "cell_type": "markdown",
   "metadata": {},
   "source": [
    "## ■ 2.16 결측치 (NaN) 확인하기\n",
    "\n",
    "__\" emp 데이터 프레임에 결측치가 있는지 확인하는 방법 \"__"
   ]
  },
  {
   "cell_type": "code",
   "execution_count": 127,
   "metadata": {},
   "outputs": [
    {
     "name": "stdout",
     "output_type": "stream",
     "text": [
      "    empno  ename    job    mgr  hiredate    sal   comm  deptno\n",
      "0   False  False  False   True     False  False   True   False\n",
      "1   False  False  False  False     False  False   True   False\n",
      "2   False  False  False  False     False  False   True   False\n",
      "3   False  False  False  False     False  False   True   False\n",
      "4   False  False  False  False     False  False  False   False\n",
      "5   False  False  False  False     False  False  False   False\n",
      "6   False  False  False  False     False  False  False   False\n",
      "7   False  False  False  False     False  False   True   False\n",
      "8   False  False  False  False     False  False  False   False\n",
      "9   False  False  False  False     False  False   True   False\n",
      "10  False  False  False  False     False  False   True   False\n",
      "11  False  False  False  False     False  False   True   False\n",
      "12  False  False  False  False     False  False   True   False\n",
      "13  False  False  False  False     False  False   True   False\n"
     ]
    }
   ],
   "source": [
    "import pandas as pd\n",
    "\n",
    "emp = pd.read_csv(\"d:\\\\data\\\\emp.csv\")\n",
    "print(emp.isnull()) \n",
    "# True --> Nan값\n",
    "# False --> Nan값이 아님."
   ]
  },
  {
   "cell_type": "markdown",
   "metadata": {},
   "source": [
    "## 문제33. emp 테이블에 comm에 결측치의 토탈값을 구하시오!"
   ]
  },
  {
   "cell_type": "code",
   "execution_count": 6,
   "metadata": {},
   "outputs": [
    {
     "name": "stdout",
     "output_type": "stream",
     "text": [
      "    empno  ename    job    mgr  hiredate    sal   comm  deptno\n",
      "0   False  False  False   True     False  False   True   False\n",
      "1   False  False  False  False     False  False   True   False\n",
      "2   False  False  False  False     False  False   True   False\n",
      "3   False  False  False  False     False  False   True   False\n",
      "4   False  False  False  False     False  False  False   False\n",
      "5   False  False  False  False     False  False  False   False\n",
      "6   False  False  False  False     False  False  False   False\n",
      "7   False  False  False  False     False  False   True   False\n",
      "8   False  False  False  False     False  False  False   False\n",
      "9   False  False  False  False     False  False   True   False\n",
      "10  False  False  False  False     False  False   True   False\n",
      "11  False  False  False  False     False  False   True   False\n",
      "12  False  False  False  False     False  False   True   False\n",
      "13  False  False  False  False     False  False   True   False\n",
      "\n",
      "10\n",
      "10\n",
      "\n",
      "empno        0\n",
      "ename        0\n",
      "job          0\n",
      "mgr          1\n",
      "hiredate     0\n",
      "sal          0\n",
      "comm        10\n",
      "deptno       0\n",
      "dtype: int64\n",
      "\n",
      "empno    0\n",
      "dtype: int64\n"
     ]
    }
   ],
   "source": [
    "import pandas as pd\n",
    "\n",
    "emp = pd.read_csv(\"d:\\\\data\\\\emp.csv\")\n",
    "print(emp.isnull(), end = '\\n\\n') \n",
    "\n",
    "print(sum(emp['comm'].isnull())) #10\n",
    "print(emp['comm'].isnull().sum(), end = '\\n\\n') #10\n",
    "\n",
    "print(emp.isnull().sum(), end = '\\n\\n')\n",
    "\n",
    "print(emp.isnull().sum()[:1])\n",
    "# True = 1\n",
    "# False = 0 으로 인식"
   ]
  },
  {
   "cell_type": "markdown",
   "metadata": {},
   "source": [
    "## 문제34. emp 데이터 프레임에 커미션이 null인 사원들의 데이터를 0으로 변경하시오!"
   ]
  },
  {
   "cell_type": "code",
   "execution_count": 142,
   "metadata": {},
   "outputs": [
    {
     "name": "stdout",
     "output_type": "stream",
     "text": [
      "    empno   ename        job     mgr    hiredate   sal    comm  deptno\n",
      "0    7839    KING  PRESIDENT     NaN  1981-11-17  5000     0.0      10\n",
      "1    7698   BLAKE    MANAGER  7839.0  1981-05-01  2850     0.0      30\n",
      "2    7782   CLARK    MANAGER  7839.0  1981-05-09  2450     0.0      10\n",
      "3    7566   JONES    MANAGER  7839.0  1981-04-01  2975     0.0      20\n",
      "4    7654  MARTIN   SALESMAN  7698.0  1981-09-10  1250  1400.0      30\n",
      "5    7499   ALLEN   SALESMAN  7698.0  1981-02-11  1600   300.0      30\n",
      "6    7844  TURNER   SALESMAN  7698.0  1981-08-21  1500     0.0      30\n",
      "7    7900   JAMES      CLERK  7698.0  1981-12-11   950     0.0      30\n",
      "8    7521    WARD   SALESMAN  7698.0  1981-02-23  1250   500.0      30\n",
      "9    7902    FORD    ANALYST  7566.0  1981-12-11  3000     0.0      20\n",
      "10   7369   SMITH      CLERK  7902.0  1980-12-09   800     0.0      20\n",
      "11   7788   SCOTT    ANALYST  7566.0  1982-12-22  3000     0.0      20\n",
      "12   7876   ADAMS      CLERK  7788.0  1983-01-15  1100     0.0      20\n",
      "13   7934  MILLER      CLERK  7782.0  1982-01-11  1300     0.0      10\n"
     ]
    }
   ],
   "source": [
    "import pandas as pd\n",
    "emp = pd.read_csv(\"d:\\\\data\\\\emp.csv\")\n",
    "emp['comm'] = emp['comm'].fillna(0)\n",
    "print(emp)"
   ]
  },
  {
   "cell_type": "markdown",
   "metadata": {},
   "source": [
    "## ■ 2.17 특정 칼럼을 기준으로 데이터를 정렬하는 방법\n",
    "\n",
    "__문법 :__ df_sort = df.sort_values(by = '특정 컬럼명', ascending = False)"
   ]
  },
  {
   "cell_type": "markdown",
   "metadata": {},
   "source": [
    "## 문제34. 사원 데이터 프레임을 출력하는데 월급이 높은 사원부터 출력되게 하시오!"
   ]
  },
  {
   "cell_type": "code",
   "execution_count": 190,
   "metadata": {},
   "outputs": [
    {
     "name": "stdout",
     "output_type": "stream",
     "text": [
      "    empno   ename        job     mgr    hiredate   sal    comm  deptno\n",
      "0    7839    KING  PRESIDENT     NaN  1981-11-17  5000     NaN      10\n",
      "1    7698   BLAKE    MANAGER  7839.0  1981-05-01  2850     NaN      30\n",
      "2    7782   CLARK    MANAGER  7839.0  1981-05-09  2450     NaN      10\n",
      "3    7566   JONES    MANAGER  7839.0  1981-04-01  2975     NaN      20\n",
      "4    7654  MARTIN   SALESMAN  7698.0  1981-09-10  1250  1400.0      30\n",
      "5    7499   ALLEN   SALESMAN  7698.0  1981-02-11  1600   300.0      30\n",
      "6    7844  TURNER   SALESMAN  7698.0  1981-08-21  1500     0.0      30\n",
      "7    7900   JAMES      CLERK  7698.0  1981-12-11   950     NaN      30\n",
      "8    7521    WARD   SALESMAN  7698.0  1981-02-23  1250   500.0      30\n",
      "9    7902    FORD    ANALYST  7566.0  1981-12-11  3000     NaN      20\n",
      "10   7369   SMITH      CLERK  7902.0  1980-12-09   800     NaN      20\n",
      "11   7788   SCOTT    ANALYST  7566.0  1982-12-22  3000     NaN      20\n",
      "12   7876   ADAMS      CLERK  7788.0  1983-01-15  1100     NaN      20\n",
      "13   7934  MILLER      CLERK  7782.0  1982-01-11  1300     NaN      10\n",
      "\n",
      "    empno   ename        job     mgr    hiredate   sal    comm  deptno\n",
      "0    7839    KING  PRESIDENT     NaN  1981-11-17  5000     NaN      10\n",
      "9    7902    FORD    ANALYST  7566.0  1981-12-11  3000     NaN      20\n",
      "11   7788   SCOTT    ANALYST  7566.0  1982-12-22  3000     NaN      20\n",
      "3    7566   JONES    MANAGER  7839.0  1981-04-01  2975     NaN      20\n",
      "1    7698   BLAKE    MANAGER  7839.0  1981-05-01  2850     NaN      30\n",
      "2    7782   CLARK    MANAGER  7839.0  1981-05-09  2450     NaN      10\n",
      "5    7499   ALLEN   SALESMAN  7698.0  1981-02-11  1600   300.0      30\n",
      "6    7844  TURNER   SALESMAN  7698.0  1981-08-21  1500     0.0      30\n",
      "13   7934  MILLER      CLERK  7782.0  1982-01-11  1300     NaN      10\n",
      "4    7654  MARTIN   SALESMAN  7698.0  1981-09-10  1250  1400.0      30\n",
      "8    7521    WARD   SALESMAN  7698.0  1981-02-23  1250   500.0      30\n",
      "12   7876   ADAMS      CLERK  7788.0  1983-01-15  1100     NaN      20\n",
      "7    7900   JAMES      CLERK  7698.0  1981-12-11   950     NaN      30\n",
      "10   7369   SMITH      CLERK  7902.0  1980-12-09   800     NaN      20\n"
     ]
    }
   ],
   "source": [
    "import pandas as pd\n",
    "\n",
    "emp = pd.read_csv(\"d:\\\\data\\\\emp.csv\")\n",
    "print(emp, end = '\\n\\n') # 정렬전\n",
    "\n",
    "emp_sort = emp.sort_values(by = 'sal', ascending = False) # 내림차순 정렬\n",
    "print(emp_sort) #정렬후"
   ]
  },
  {
   "cell_type": "markdown",
   "metadata": {},
   "source": [
    "## 문제35. 위의 결과를 다시 출력하는데 이름과 월급만 출력하시오! (loc를 사용하세요)"
   ]
  },
  {
   "cell_type": "code",
   "execution_count": 195,
   "metadata": {},
   "outputs": [
    {
     "name": "stdout",
     "output_type": "stream",
     "text": [
      "    empno   ename        job     mgr    hiredate   sal    comm  deptno\n",
      "0    7839    KING  PRESIDENT     NaN  1981-11-17  5000     NaN      10\n",
      "1    7698   BLAKE    MANAGER  7839.0  1981-05-01  2850     NaN      30\n",
      "2    7782   CLARK    MANAGER  7839.0  1981-05-09  2450     NaN      10\n",
      "3    7566   JONES    MANAGER  7839.0  1981-04-01  2975     NaN      20\n",
      "4    7654  MARTIN   SALESMAN  7698.0  1981-09-10  1250  1400.0      30\n",
      "5    7499   ALLEN   SALESMAN  7698.0  1981-02-11  1600   300.0      30\n",
      "6    7844  TURNER   SALESMAN  7698.0  1981-08-21  1500     0.0      30\n",
      "7    7900   JAMES      CLERK  7698.0  1981-12-11   950     NaN      30\n",
      "8    7521    WARD   SALESMAN  7698.0  1981-02-23  1250   500.0      30\n",
      "9    7902    FORD    ANALYST  7566.0  1981-12-11  3000     NaN      20\n",
      "10   7369   SMITH      CLERK  7902.0  1980-12-09   800     NaN      20\n",
      "11   7788   SCOTT    ANALYST  7566.0  1982-12-22  3000     NaN      20\n",
      "12   7876   ADAMS      CLERK  7788.0  1983-01-15  1100     NaN      20\n",
      "13   7934  MILLER      CLERK  7782.0  1982-01-11  1300     NaN      10\n",
      "\n",
      "     ename   sal\n",
      "0     KING  5000\n",
      "9     FORD  3000\n",
      "11   SCOTT  3000\n",
      "3    JONES  2975\n",
      "1    BLAKE  2850\n",
      "2    CLARK  2450\n",
      "5    ALLEN  1600\n",
      "6   TURNER  1500\n",
      "13  MILLER  1300\n",
      "4   MARTIN  1250\n",
      "8     WARD  1250\n",
      "12   ADAMS  1100\n",
      "7    JAMES   950\n",
      "10   SMITH   800\n"
     ]
    }
   ],
   "source": [
    "import pandas as pd\n",
    "\n",
    "emp = pd.read_csv(\"d:\\\\data\\\\emp.csv\")\n",
    "print(emp, end = '\\n\\n') # 정렬전\n",
    "\n",
    "emp = emp.loc[:, ['ename','sal']].sort_values(by = 'sal', ascending = False)\n",
    "print(emp)"
   ]
  },
  {
   "cell_type": "markdown",
   "metadata": {},
   "source": [
    "## 문제36. 타이타닉 데이터에서 나이가 가장 많은 사람순으로 데이터를 정렬해서 이름과 나이와 생존여부를 출력하는데 위에 10명만 출력하시오!"
   ]
  },
  {
   "cell_type": "code",
   "execution_count": 10,
   "metadata": {},
   "outputs": [
    {
     "name": "stdout",
     "output_type": "stream",
     "text": [
      "                                     Name   Age  Survived\n",
      "630  Barkworth, Mr. Algernon Henry Wilson  80.0         1\n",
      "851                   Svensson, Mr. Johan  74.0         0\n",
      "493               Artagaveytia, Mr. Ramon  71.0         0\n",
      "96              Goldschmidt, Mr. George B  71.0         0\n",
      "116                  Connors, Mr. Patrick  70.5         0\n",
      "672           Mitchell, Mr. Henry Michael  70.0         0\n",
      "745          Crosby, Capt. Edward Gifford  70.0         0\n",
      "33                  Wheadon, Mr. Edward H  66.0         0\n",
      "54         Ostby, Mr. Engelhart Cornelius  65.0         0\n",
      "280                      Duane, Mr. Frank  65.0         0\n",
      "\n",
      "                                     Name    Age  Survived\n",
      "630  Barkworth, Mr. Algernon Henry Wilson  80.00         1\n",
      "851                   Svensson, Mr. Johan  74.00         0\n",
      "493               Artagaveytia, Mr. Ramon  71.00         0\n",
      "96              Goldschmidt, Mr. George B  71.00         0\n",
      "116                  Connors, Mr. Patrick  70.50         0\n",
      "..                                    ...    ...       ...\n",
      "644                Baclini, Miss. Eugenie   0.75         1\n",
      "469         Baclini, Miss. Helene Barbara   0.75         1\n",
      "755             Hamalainen, Master. Viljo   0.67         1\n",
      "803       Thomas, Master. Assad Alexander   0.42         1\n",
      "5                        Moran, Mr. James    NaN         0\n",
      "\n",
      "[715 rows x 3 columns]\n"
     ]
    }
   ],
   "source": [
    "import pandas as pd\n",
    "tat = pd.read_csv(\"d:\\\\data\\\\train.csv\")\n",
    "tat_sort = tat.sort_values(by = 'Age', ascending=False)\n",
    "print(tat_sort[['Name','Age','Survived']][:10], end = '\\n\\n')"
   ]
  },
  {
   "cell_type": "code",
   "execution_count": 164,
   "metadata": {},
   "outputs": [
    {
     "name": "stdout",
     "output_type": "stream",
     "text": [
      "                                     Name   Age  Survived\n",
      "630  Barkworth, Mr. Algernon Henry Wilson  80.0         1\n",
      "851                   Svensson, Mr. Johan  74.0         0\n",
      "493               Artagaveytia, Mr. Ramon  71.0         0\n",
      "96              Goldschmidt, Mr. George B  71.0         0\n",
      "116                  Connors, Mr. Patrick  70.5         0\n",
      "672           Mitchell, Mr. Henry Michael  70.0         0\n",
      "745          Crosby, Capt. Edward Gifford  70.0         0\n",
      "33                  Wheadon, Mr. Edward H  66.0         0\n",
      "54         Ostby, Mr. Engelhart Cornelius  65.0         0\n",
      "280                      Duane, Mr. Frank  65.0         0\n"
     ]
    }
   ],
   "source": [
    "import pandas as pd\n",
    "tat = pd.read_csv(\"d:\\\\data\\\\train.csv\")\n",
    "\n",
    "tat_sort = tat.sort_values(by = 'Age', ascending = False)\n",
    "\n",
    "print(tat_sort[['Name', 'Age', 'Survived']].head(10))"
   ]
  },
  {
   "cell_type": "markdown",
   "metadata": {},
   "source": [
    "## 문제37. 타이타닉 데이터에서 각 컬럼들의 결측치가 가장 많은 컬럼이 무엇인지 출력하시오!\n",
    "## (오늘의 마지막 문제)"
   ]
  },
  {
   "cell_type": "code",
   "execution_count": 206,
   "metadata": {},
   "outputs": [
    {
     "name": "stdout",
     "output_type": "stream",
     "text": [
      "Cabin    687\n",
      "dtype: int64\n",
      "\n",
      "Cabin    687\n",
      "dtype: int64\n"
     ]
    }
   ],
   "source": [
    "import pandas as pd\n",
    "\n",
    "tat = pd.read_csv(\"d:\\\\data\\\\train.csv\")\n",
    "tat1 = tat.isnull().sum().sort_values(ascending=False)\n",
    "\n",
    "print(tat.isnull().sum().sort_values(ascending=False).head(1), end = '\\n\\n')\n",
    "print(tat1[:1])"
   ]
  }
 ],
 "metadata": {
  "kernelspec": {
   "display_name": "Python 3",
   "language": "python",
   "name": "python3"
  },
  "language_info": {
   "codemirror_mode": {
    "name": "ipython",
    "version": 3
   },
   "file_extension": ".py",
   "mimetype": "text/x-python",
   "name": "python",
   "nbconvert_exporter": "python",
   "pygments_lexer": "ipython3",
   "version": "3.7.4"
  }
 },
 "nbformat": 4,
 "nbformat_minor": 2
}
