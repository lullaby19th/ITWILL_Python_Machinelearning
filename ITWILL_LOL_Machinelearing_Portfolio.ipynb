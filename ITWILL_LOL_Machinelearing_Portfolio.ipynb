{
 "cells": [
  {
   "cell_type": "markdown",
   "metadata": {},
   "source": [
    "## ■ PART1. 스크롤링으로 데이터 가져오기"
   ]
  },
  {
   "cell_type": "code",
   "execution_count": 356,
   "metadata": {},
   "outputs": [],
   "source": [
    "# 1. 필요한 모듈 import 하기\n",
    "import requests\n",
    "from  bs4 import BeautifulSoup\n",
    "import pandas as pd\n",
    "import numpy as np"
   ]
  },
  {
   "cell_type": "markdown",
   "metadata": {},
   "source": [
    "### ■ 2019년 서머 플레이오프 데이터 가져오기"
   ]
  },
  {
   "cell_type": "code",
   "execution_count": 357,
   "metadata": {},
   "outputs": [
    {
     "name": "stdout",
     "output_type": "stream",
     "text": [
      "      아이디               팀      포지션 출전횟수   승률   K   D   A  KDA   킬관여울  ...  \\\n",
      "0  Aiming  Afreeca Freecs      ADC    3  33%  12   5   8  4.0  76.9%  ...   \n",
      "1   BeryL   Damwon Gaming  Support    3   0%   1  12  14  1.3  65.2%  ...   \n",
      "2  Canyon   Damwon Gaming   Jungle    3   0%   5  11  10  1.4  65.2%  ...   \n",
      "3   Chovy         Griffin   Middle    4  25%   6   8   5  1.4  61.1%  ...   \n",
      "4    Clid   SK Telecom T1   Jungle   13  85%  43  21  96  6.6  64.7%  ...   \n",
      "\n",
      "  XPD10   CS10  분당CS 15CS비율  DPM    DMG   분당골드   골드비율  분당와드 분당와드클리어  \n",
      "0   -49   -6.7  10.1  32.3%  510  32.8%  365.6  31.9%  0.42    0.39  \n",
      "1  -264   -5.0   1.8   7.0%  134   8.2%  104.8  10.6%  2.21    0.57  \n",
      "2  -416  -13.7   4.3  12.1%  250  15.8%  150.1  15.2%  0.94    0.40  \n",
      "3     9   -0.3   9.9  25.8%  335  25.3%  260.4  23.9%  0.44    0.29  \n",
      "4    83    0.0   5.4  14.1%  312  15.8%  231.0  17.8%  0.86    0.54  \n",
      "\n",
      "[5 rows x 23 columns]\n"
     ]
    }
   ],
   "source": [
    "dd = []\n",
    "\n",
    "response = requests.get('https://oracleselixir.com/statistics/lck/lck-2019-summer-playoffs-player-statistics/')\n",
    "soup = BeautifulSoup(response.text, 'html.parser')\n",
    "result = soup.select('tbody.row-hover > tr')\n",
    "for row in result:\n",
    "    record = [col.text for col in row.select('td')]\n",
    "    dd.append(record)\n",
    "        \n",
    "df1 = pd.DataFrame(dd, columns = ['아이디', '팀', '포지션', '출전횟수', '승률', 'K', 'D', 'A', 'KDA', '킬관여울', '데스관여율',\n",
    "       '퍼스트블러드', 'GD10', 'XPD10', 'CS10', '분당CS', '15CS비율', 'DPM', 'DMG', '분당골드',\n",
    "       '골드비율', '분당와드', '분당와드클리어'])\n",
    "print(df1.head())\n",
    "df1.drop(['XPD10'], axis=1, inplace=True)\n",
    "df1['경기년도'] = 2019\n",
    "df1['시즌'] = 1\n",
    "# df1.to_excel(\"d:\\\\data\\\\lol\\\\2019_summer_playoff.xlsx\")"
   ]
  },
  {
   "cell_type": "markdown",
   "metadata": {},
   "source": [
    "### ■ 2019년 서머 정규시즌 데이터 가져오기"
   ]
  },
  {
   "cell_type": "code",
   "execution_count": 358,
   "metadata": {},
   "outputs": [
    {
     "name": "stdout",
     "output_type": "stream",
     "text": [
      "      아이디                    팀      포지션 출전횟수   승률    K    D    A  KDA   킬관여울  \\\n",
      "0  Aiming       Afreeca Freecs      ADC   46  57%  176   77  223  5.2  70.7%   \n",
      "1     Bdd           KT Rolster   Middle   44  36%  137   90  167  3.4  71.2%   \n",
      "2   BeryL        Damwon Gaming  Support   43  65%   28  115  376  3.5  69.5%   \n",
      "3    bonO  Hanwha Life Esports   Jungle   37  41%   55   92  217  3.0  72.7%   \n",
      "4  Canyon        Damwon Gaming   Jungle   43  65%   88  108  342  4.0  74.0%   \n",
      "\n",
      "   ... XPD10  CS10 분당CS 15CS비율  DPM    DMG   분당골드   골드비율  분당와드 분당와드클리어  \n",
      "0  ...   107   1.4  9.7  32.1%  566  32.2%  316.8  27.7%  0.46    0.43  \n",
      "1  ...     2   1.6  8.5  24.5%  438  28.1%  256.0  23.6%  0.53    0.25  \n",
      "2  ...   -20   1.8  1.9   5.9%  154   8.0%  128.0  10.2%  1.67    0.48  \n",
      "3  ...   -82  -5.2  4.4  11.1%  185  11.9%  165.3  15.3%  0.85    0.50  \n",
      "4  ...   -60   1.0  4.9  11.7%  274  14.1%  195.1  15.6%  0.71    0.46  \n",
      "\n",
      "[5 rows x 23 columns]\n"
     ]
    }
   ],
   "source": [
    "dd = []\n",
    "\n",
    "response = requests.get('https://oracleselixir.com/statistics/lck/lck-2019-summer-regular-season-player-statistics/') \n",
    "soup = BeautifulSoup(response.text, 'html.parser')\n",
    "result = soup.select('tbody.row-hover > tr')\n",
    "for row in result:\n",
    "    record = [col.text for col in row.select('td')]\n",
    "    dd.append(record)\n",
    "        \n",
    "df2 = pd.DataFrame(dd, columns = ['아이디', '팀', '포지션', '출전횟수', '승률', 'K', 'D', 'A', 'KDA', '킬관여울', '데스관여율',\n",
    "       '퍼스트블러드', 'GD10', 'XPD10', 'CS10', '분당CS', '15CS비율', 'DPM', 'DMG', '분당골드',\n",
    "       '골드비율', '분당와드', '분당와드클리어'])\n",
    "print(df2.head())\n",
    "df2.drop(['XPD10'], axis=1, inplace=True)\n",
    "df2['경기년도'] = 2019\n",
    "df2['시즌'] = 2\n",
    "# df2.to_excel(\"d:\\\\data\\\\lol\\\\2019_summer_reg.xlsx\")"
   ]
  },
  {
   "cell_type": "markdown",
   "metadata": {},
   "source": [
    "### ■ 2019년 스프링 플레이오프 데이터 가져오기"
   ]
  },
  {
   "cell_type": "code",
   "execution_count": 359,
   "metadata": {},
   "outputs": [
    {
     "name": "stdout",
     "output_type": "stream",
     "text": [
      "      아이디                 팀      포지션 출전횟수    승률   K   D   A  KDA   킬관여울  ...  \\\n",
      "0   BeryL     Damwon Gaming  Support    5   40%   1  17  31  1.9  69.6%  ...   \n",
      "1  Canyon     Damwon Gaming   Jungle    6   33%   7  23  31  1.7  67.9%  ...   \n",
      "2   Chovy           Griffin   Middle    3    0%   6  10   4  1.0  55.6%  ...   \n",
      "3    Clid     SK Telecom T1   Jungle    6  100%  18  13  55  5.6  74.5%  ...   \n",
      "4    Cuzz  Kingzone DragonX   Jungle    6   50%  13  16  47  3.8  58.3%  ...   \n",
      "\n",
      "  XPD10  CS10 분당CS 15CS비율  DPM    DMG   분당골드   골드비율  분당와드 분당와드클리어  \n",
      "0  -197   4.4  1.9   7.0%  111   6.5%   97.5   8.8%  1.73    0.44  \n",
      "1   -87  -2.3  4.6  12.3%  241  13.0%  162.5  15.1%  0.53    0.44  \n",
      "2   191   3.7  9.0  25.8%  251  19.0%  238.7  23.6%  0.37    0.26  \n",
      "3    70   4.0  5.0  12.2%  216  11.5%  206.6  16.2%  1.04    0.66  \n",
      "4   -33  -2.0  5.1  13.7%  279  13.6%  200.2  16.1%  0.85    0.58  \n",
      "\n",
      "[5 rows x 23 columns]\n"
     ]
    }
   ],
   "source": [
    "dd = []\n",
    "\n",
    "response = requests.get('https://oracleselixir.com/statistics/lck/lck-2019-spring-playoffs-player-statistics/') \n",
    "soup = BeautifulSoup(response.text, 'html.parser')\n",
    "result = soup.select('tbody.row-hover > tr')\n",
    "for row in result:\n",
    "    record = [col.text for col in row.select('td')]\n",
    "    dd.append(record)\n",
    "        \n",
    "df3 = pd.DataFrame(dd, columns = ['아이디', '팀', '포지션', '출전횟수', '승률', 'K', 'D', 'A', 'KDA', '킬관여울', '데스관여율',\n",
    "       '퍼스트블러드', 'GD10', 'XPD10', 'CS10', '분당CS', '15CS비율', 'DPM', 'DMG', '분당골드',\n",
    "       '골드비율', '분당와드', '분당와드클리어'])\n",
    "print(df3.head())\n",
    "df3.drop(['XPD10'], axis=1, inplace=True)\n",
    "df3['경기년도'] = 2019\n",
    "df3['시즌'] = 3\n",
    "# df3.to_excel(\"d:\\\\data\\\\lol\\\\2019_spring_playoff.xlsx\")"
   ]
  },
  {
   "cell_type": "markdown",
   "metadata": {},
   "source": [
    "### ■ 2019년 스프링 정규시즌 데이터 가져오기"
   ]
  },
  {
   "cell_type": "code",
   "execution_count": 360,
   "metadata": {},
   "outputs": [
    {
     "name": "stdout",
     "output_type": "stream",
     "text": [
      "      아이디                    팀      포지션 출전횟수    승률    K    D    A  KDA   킬관여울  \\\n",
      "0  Aiming       Afreeca Freecs      ADC   28   36%   91   51   97  3.7  69.9%   \n",
      "1   Aries        Damwon Gaming      ADC    1  100%    2    2    2  2.0  50.0%   \n",
      "2     Bdd           KT Rolster   Middle   42   31%  115  101  193  3.0  72.0%   \n",
      "3   BeryL        Damwon Gaming  Support   13   69%    8   38   91  2.6  66.9%   \n",
      "4    bonO  Hanwha Life Esports   Jungle   38   47%   51  102  196  2.4  69.8%   \n",
      "\n",
      "   ... XPD10  CS10 분당CS 15CS비율  DPM    DMG   분당골드   골드비율  분당와드 분당와드클리어  \n",
      "0  ...   -47  -4.3  9.8  32.5%  506  32.8%  301.3  28.4%  0.48    0.47  \n",
      "1  ...     5  -7.0  9.8  28.7%  609  33.7%  298.6  24.9%  0.54    0.49  \n",
      "2  ...    58   3.2  8.6  24.2%  398  24.9%  246.4  23.3%  0.50    0.21  \n",
      "3  ...   -14  -1.8  2.2   6.8%  103   6.2%  127.2  10.4%  1.75    0.28  \n",
      "4  ...    -2  -1.3  4.4  10.7%  188  12.5%  163.7  14.9%  1.10    0.49  \n",
      "\n",
      "[5 rows x 23 columns]\n"
     ]
    }
   ],
   "source": [
    "dd = []\n",
    "\n",
    "response = requests.get('https://oracleselixir.com/statistics/lck/lck-2019-spring-regular-season-player-statistics/')    \n",
    "soup = BeautifulSoup(response.text, 'html.parser')\n",
    "result = soup.select('tbody.row-hover > tr')\n",
    "for row in result:\n",
    "    record = [col.text for col in row.select('td')]\n",
    "    dd.append(record)\n",
    "        \n",
    "df4 = pd.DataFrame(dd, columns = ['아이디', '팀', '포지션', '출전횟수', '승률', 'K', 'D', 'A', 'KDA', '킬관여울', '데스관여율',\n",
    "       '퍼스트블러드', 'GD10', 'XPD10', 'CS10', '분당CS', '15CS비율', 'DPM', 'DMG', '분당골드',\n",
    "       '골드비율', '분당와드', '분당와드클리어'])\n",
    "print(df4.head())\n",
    "df4.drop(['XPD10'], axis=1, inplace=True)\n",
    "df4['경기년도'] = 2019\n",
    "df4['시즌'] = 4\n",
    "# df4.to_excel(\"d:\\\\data\\\\lol\\\\2019_spring_reg.xlsx\")"
   ]
  },
  {
   "cell_type": "markdown",
   "metadata": {},
   "source": [
    "### ■ 2018년 서머 플레이오프 데이터 가져오기"
   ]
  },
  {
   "cell_type": "code",
   "execution_count": 361,
   "metadata": {},
   "outputs": [
    {
     "name": "stdout",
     "output_type": "stream",
     "text": [
      "        아이디                 팀      포지션 출전횟수   승률   K   D   A  KDA   킬관여울  ...  \\\n",
      "0  Ambition             Gen.G   Jungle    2   0%   6  10   5  1.1  84.6%  ...   \n",
      "1       Bdd  Kingzone DragonX   Middle    4  25%   8   8   6  1.8  58.3%  ...   \n",
      "2     Chovy           Griffin   Middle   10  50%  31  10  47  7.8  67.2%  ...   \n",
      "3    CoreJJ             Gen.G  Support    2   0%   1   7  11  1.7  92.3%  ...   \n",
      "4     CuVee             Gen.G      Top    2   0%   1   6  11  2.0  92.3%  ...   \n",
      "\n",
      "  XPD10  CS10 분당CS 15CS비율  DPM    DMG   분당골드   골드비율  분당와드 분당와드클리어  \n",
      "0   411   5.0  5.6  14.8%  227  12.7%  181.7  18.9%  0.34    0.61  \n",
      "1  -165  12.5  9.5  25.3%  326  24.4%  231.5  24.3%  0.55    0.16  \n",
      "2   129   4.5  9.9  27.5%  521  27.8%  277.8  24.7%  0.57    0.33  \n",
      "3   -33  -8.5  1.3   5.0%  189  10.3%   81.9   8.7%  1.72    0.60  \n",
      "4   -82  -5.5  8.1  23.3%  309  16.7%  200.7  21.7%  0.58    0.38  \n",
      "\n",
      "[5 rows x 23 columns]\n"
     ]
    }
   ],
   "source": [
    "dd = []\n",
    "\n",
    "response = requests.get('https://oracleselixir.com/statistics/lck/lck-2018-summer-playoffs-player-statistics/')\n",
    "soup = BeautifulSoup(response.text, 'html.parser')\n",
    "result = soup.select('tbody.row-hover > tr')\n",
    "for row in result:\n",
    "    record = [col.text for col in row.select('td')]\n",
    "    dd.append(record)\n",
    "        \n",
    "df5 = pd.DataFrame(dd, columns = ['아이디', '팀', '포지션', '출전횟수', '승률', 'K', 'D', 'A', 'KDA', '킬관여울', '데스관여율',\n",
    "       '퍼스트블러드', 'GD10', 'XPD10', 'CS10', '분당CS', '15CS비율', 'DPM', 'DMG', '분당골드',\n",
    "       '골드비율', '분당와드', '분당와드클리어'])\n",
    "print(df5.head())\n",
    "df5.drop(['XPD10'], axis=1, inplace=True)\n",
    "df5['경기년도'] = 2018\n",
    "df5['시즌'] = 5\n",
    "# df5.to_excel(\"d:\\\\data\\\\lol\\\\2018_summer_playoff.xlsx\")"
   ]
  },
  {
   "cell_type": "markdown",
   "metadata": {},
   "source": [
    "### ■ 2018년 서머 정규시즌 데이터 가져오기"
   ]
  },
  {
   "cell_type": "code",
   "execution_count": 362,
   "metadata": {},
   "outputs": [
    {
     "name": "stdout",
     "output_type": "stream",
     "text": [
      "        아이디               팀     포지션 출전횟수    승률   K   D    A  KDA    킬관여울  ...  \\\n",
      "0       ADD             MVP     Top   36   28%  45  83  128  2.1   66.3%  ...   \n",
      "1    Aiming  Afreeca Freecs  Middle    1  100%   5   0    4  9.0  100.0%  ...   \n",
      "2    Aiming  Afreeca Freecs     ADC   34   59%  92  51  161  5.0   70.7%  ...   \n",
      "3  Ambition           Gen.G  Jungle   26   62%  23  49  124  3.0   74.2%  ...   \n",
      "4     Aries     BBQ Olivers     ADC    4    0%   4  14   12  1.1   55.2%  ...   \n",
      "\n",
      "  XPD10  CS10  분당CS 15CS비율  DPM    DMG   분당골드   골드비율  분당와드 분당와드클리어  \n",
      "0  -149  -2.1   8.9  26.9%  412  25.1%  237.4  23.7%  0.51    0.20  \n",
      "1   236  14.0  13.3  41.6%  450  41.1%  393.5  34.4%  0.51    0.61  \n",
      "2  -106  -4.7   9.6  28.0%  418  24.7%  290.7  25.2%  0.60    0.30  \n",
      "3    -2   1.5   5.1  12.5%  148   9.1%  177.1  16.0%  0.48    0.45  \n",
      "4    66   8.0   8.7  29.3%  343  24.2%  232.3  26.0%  0.55    0.19  \n",
      "\n",
      "[5 rows x 23 columns]\n"
     ]
    }
   ],
   "source": [
    "dd = []\n",
    "\n",
    "response = requests.get('https://oracleselixir.com/statistics/lck/lck-2018-summer-regular-season-player-statistics/') \n",
    "soup = BeautifulSoup(response.text, 'html.parser')\n",
    "result = soup.select('tbody.row-hover > tr')\n",
    "for row in result:\n",
    "    record = [col.text for col in row.select('td')]\n",
    "    dd.append(record)\n",
    "        \n",
    "df6 = pd.DataFrame(dd, columns = ['아이디', '팀', '포지션', '출전횟수', '승률', 'K', 'D', 'A', 'KDA', '킬관여울', '데스관여율',\n",
    "       '퍼스트블러드', 'GD10', 'XPD10', 'CS10', '분당CS', '15CS비율', 'DPM', 'DMG', '분당골드',\n",
    "       '골드비율', '분당와드', '분당와드클리어'])\n",
    "print(df6.head())\n",
    "df6.drop(['XPD10'], axis=1, inplace=True)\n",
    "df6['경기년도'] = 2018\n",
    "df6['시즌'] = 6\n",
    "# df6.to_excel(\"d:\\\\data\\\\lol\\\\2018_summer_reg.xlsx\")"
   ]
  },
  {
   "cell_type": "markdown",
   "metadata": {},
   "source": [
    "### ■ 2018년 스프링 플레이오프 데이터 가져오기"
   ]
  },
  {
   "cell_type": "code",
   "execution_count": 363,
   "metadata": {},
   "outputs": [
    {
     "name": "stdout",
     "output_type": "stream",
     "text": [
      "        아이디                 팀      포지션 출전횟수   승률   K   D   A   KDA   킬관여울  \\\n",
      "0  Ambition       KSV Esports   Jungle    3  33%   5  10   8   1.3  56.5%   \n",
      "1      Bang     SK Telecom T1      ADC    7  43%  24   5  32  11.2  78.9%   \n",
      "2       Bdd  Kingzone DragonX   Middle    4  75%   5   2  23  14.0  62.2%   \n",
      "3     Blank     SK Telecom T1   Jungle    7  43%   8  25  47   2.2  77.5%   \n",
      "4    CoreJJ       KSV Esports  Support    3  33%   0   8  14   1.8  60.9%   \n",
      "\n",
      "   ... XPD10  CS10  분당CS 15CS비율  DPM    DMG   분당골드   골드비율  분당와드 분당와드클리어  \n",
      "0  ...   -16   1.7   4.6  10.9%  154   7.1%  152.8  15.5%  1.17    0.53  \n",
      "1  ...    22  -1.6  10.8  32.6%  720  34.8%  322.5  28.4%  0.58    0.31  \n",
      "2  ...    -9   7.8   9.9  25.1%  345  19.3%  275.8  21.7%  0.67    0.15  \n",
      "3  ...  -491  -9.6   4.4  10.6%  142   7.1%  160.6  13.9%  1.15    0.60  \n",
      "4  ...    34   2.7   1.5   4.6%  127   5.8%   88.1   8.8%  1.52    0.28  \n",
      "\n",
      "[5 rows x 23 columns]\n"
     ]
    }
   ],
   "source": [
    "dd = []\n",
    "\n",
    "response = requests.get('https://oracleselixir.com/statistics/lck/lck-2018-spring-playoffs-player-statistics/') \n",
    "soup = BeautifulSoup(response.text, 'html.parser')\n",
    "result = soup.select('tbody.row-hover > tr')\n",
    "for row in result:\n",
    "    record = [col.text for col in row.select('td')]\n",
    "    dd.append(record)\n",
    "        \n",
    "df7 = pd.DataFrame(dd, columns = ['아이디', '팀', '포지션', '출전횟수', '승률', 'K', 'D', 'A', 'KDA', '킬관여울', '데스관여율',\n",
    "       '퍼스트블러드', 'GD10', 'XPD10', 'CS10', '분당CS', '15CS비율', 'DPM', 'DMG', '분당골드',\n",
    "       '골드비율', '분당와드', '분당와드클리어'])\n",
    "print(df7.head())\n",
    "df7.drop(['XPD10'], axis=1, inplace=True)\n",
    "df7['경기년도'] = 2018\n",
    "df7['시즌'] = 7\n",
    "# df7.to_excel(\"d:\\\\data\\\\lol\\\\2018_spring_playoff.xlsx\")"
   ]
  },
  {
   "cell_type": "markdown",
   "metadata": {},
   "source": [
    "### ■ 2018년 스프링 정규시즌 데이터 가져오기"
   ]
  },
  {
   "cell_type": "code",
   "execution_count": 364,
   "metadata": {},
   "outputs": [
    {
     "name": "stdout",
     "output_type": "stream",
     "text": [
      "        아이디                 팀     포지션 출전횟수   승률    K    D    A  KDA   킬관여울  \\\n",
      "0       ADD               MVP     Top   40  33%   48  102  150  1.9  64.7%   \n",
      "1    Aiming    Afreeca Freecs     ADC    7  71%   33   10   28  6.1  79.2%   \n",
      "2  Ambition       KSV Esports  Jungle   27  52%   30   65  114  2.2  65.2%   \n",
      "3      Bang     SK Telecom T1     ADC   46  50%  139   35  197  9.6  77.4%   \n",
      "4       Bdd  Kingzone DragonX  Middle   40  83%  132   48  234  7.6  73.3%   \n",
      "\n",
      "   ... XPD10  CS10  분당CS 15CS비율  DPM    DMG   분당골드   골드비율  분당와드 분당와드클리어  \n",
      "0  ...  -123  -2.2   8.8  24.6%  503  26.9%  252.8  22.6%  0.80    0.25  \n",
      "1  ...   -29  -4.9  11.2  32.4%  530  29.4%  342.3  27.4%  0.56    0.68  \n",
      "2  ...   -59   0.5   5.7  13.3%  171   9.6%  189.7  16.2%  1.21    0.65  \n",
      "3  ...    75   1.2  11.0  30.8%  650  34.2%  319.2  26.7%  0.55    0.35  \n",
      "4  ...   132   3.7  10.1  25.2%  484  23.6%  310.0  22.8%  0.67    0.24  \n",
      "\n",
      "[5 rows x 23 columns]\n"
     ]
    }
   ],
   "source": [
    "dd = []\n",
    "\n",
    "response = requests.get('https://oracleselixir.com/statistics/lck/lck-2018-spring-player-statistics/')\n",
    "soup = BeautifulSoup(response.text, 'html.parser')\n",
    "result = soup.select('tbody.row-hover > tr')\n",
    "for row in result:\n",
    "    record = [col.text for col in row.select('td')]\n",
    "    dd.append(record)\n",
    "        \n",
    "df8 = pd.DataFrame(dd, columns = ['아이디', '팀', '포지션', '출전횟수', '승률', 'K', 'D', 'A', 'KDA', '킬관여울', '데스관여율',\n",
    "       '퍼스트블러드', 'GD10', 'XPD10', 'CS10', '분당CS', '15CS비율', 'DPM', 'DMG', '분당골드',\n",
    "       '골드비율', '분당와드', '분당와드클리어'])\n",
    "print(df8.head())\n",
    "df8.drop(['XPD10'], axis=1, inplace=True)\n",
    "df8['경기년도'] = 2018\n",
    "df8['시즌'] = 8\n",
    "# df8.to_excel(\"d:\\\\data\\\\lol\\\\2018_spring_reg.xlsx\")"
   ]
  },
  {
   "cell_type": "markdown",
   "metadata": {},
   "source": [
    "### ■ 2017년 서머 플레이오프 데이터 가져오기"
   ]
  },
  {
   "cell_type": "code",
   "execution_count": 365,
   "metadata": {},
   "outputs": [
    {
     "name": "stdout",
     "output_type": "stream",
     "text": [
      "        아이디               팀      포지션 출전횟수   승률   K   D   A   KDA    킬관여울  ...  \\\n",
      "0  Ambition  Samsung Galaxy   Jungle    1   0%   0   1   2   2.0  100.0%  ...   \n",
      "1      Bang   SK Telecom T1      ADC   14  64%  51  17  44   5.6   68.3%  ...   \n",
      "2       Bdd  Longzhu Gaming   Middle    4  75%  10   3  22  10.7   71.1%  ...   \n",
      "3     Blank   SK Telecom T1   Jungle    6  67%  12  13  45   4.4   82.6%  ...   \n",
      "4    CoreJJ  Samsung Galaxy  Support    2   0%   1   5   5   1.2   66.7%  ...   \n",
      "\n",
      "  XPD10  CS10  분당CS 15CS비율  DPM    DMG   분당골드   골드비율  분당와드 분당와드클리어  \n",
      "0   -46   1.0   5.2  14.1%  323  19.4%  161.9  18.6%  1.03    0.40  \n",
      "1   -33   0.5  10.1  32.3%  565  31.3%  302.5  25.7%  0.43    0.27  \n",
      "2  -252  -2.8   8.7  26.7%  512  26.8%  267.0  22.9%  0.54    0.11  \n",
      "3   392  -3.8   3.7  10.0%  232  13.8%  202.5  16.6%  1.11    0.32  \n",
      "4   -81   0.0   0.9   3.5%   63   4.5%  128.0  12.4%  1.33    0.29  \n",
      "\n",
      "[5 rows x 23 columns]\n"
     ]
    }
   ],
   "source": [
    "dd = []\n",
    "\n",
    "response = requests.get('https://oracleselixir.com/statistics/lck/lck-2017-summer-playoffs-player-statistics/')\n",
    "soup = BeautifulSoup(response.text, 'html.parser')\n",
    "result = soup.select('tbody.row-hover > tr')\n",
    "for row in result:\n",
    "    record = [col.text for col in row.select('td')]\n",
    "    dd.append(record)\n",
    "        \n",
    "df9 = pd.DataFrame(dd, columns = ['아이디', '팀', '포지션', '출전횟수', '승률', 'K', 'D', 'A', 'KDA', '킬관여울', '데스관여율',\n",
    "       '퍼스트블러드', 'GD10', 'XPD10', 'CS10', '분당CS', '15CS비율', 'DPM', 'DMG', '분당골드',\n",
    "       '골드비율', '분당와드', '분당와드클리어'])\n",
    "print(df9.head())\n",
    "df9.drop(['XPD10'], axis=1, inplace=True)\n",
    "df9['경기년도'] = 2017\n",
    "df9['시즌'] = 9\n",
    "# df9.to_excel(\"d:\\\\data\\\\lol\\\\2017_summer_playoff.xlsx\")"
   ]
  },
  {
   "cell_type": "markdown",
   "metadata": {},
   "source": [
    "### ■ 2017년 서머 정규시즌 데이터 가져오기"
   ]
  },
  {
   "cell_type": "code",
   "execution_count": 366,
   "metadata": {},
   "outputs": [
    {
     "name": "stdout",
     "output_type": "stream",
     "text": [
      "        아이디               팀     포지션 출전횟수   승률    K    D    A   KDA   킬관여울  \\\n",
      "0       ADD             MVP     Top   42  31%   69  144  163   1.6  59.8%   \n",
      "1  Ambition  Samsung Galaxy  Jungle   37  68%   64   65  185   3.8  65.0%   \n",
      "2      Bang   SK Telecom T1     ADC   41  63%  125   63  181   4.9  68.0%   \n",
      "3       Bdd  Longzhu Gaming  Middle   44  70%  188   42  287  11.3  78.0%   \n",
      "4    Beyond             MVP  Jungle   42  31%   75  116  216   2.5  75.0%   \n",
      "\n",
      "   ... XPD10  CS10 분당CS 15CS비율  DPM    DMG   분당골드   골드비율  분당와드 분당와드클리어  \n",
      "0  ...  -252  -8.2  7.9  25.1%  409  22.9%  223.6  21.0%  0.61    0.18  \n",
      "1  ...   121   5.0  5.2  14.5%  255  12.9%  220.9  18.2%  0.87    0.36  \n",
      "2  ...    90   3.1  9.7  29.6%  550  28.6%  295.5  24.8%  0.43    0.21  \n",
      "3  ...   128   2.7  9.1  26.2%  511  24.8%  293.6  23.7%  0.50    0.14  \n",
      "4  ...    91   6.6  4.7  13.2%  237  13.6%  190.4  17.8%  0.91    0.39  \n",
      "\n",
      "[5 rows x 23 columns]\n"
     ]
    }
   ],
   "source": [
    "dd = []\n",
    "\n",
    "response = requests.get('https://oracleselixir.com/statistics/lck/lck-2017-summer-regular-season-player-statistics/') \n",
    "soup = BeautifulSoup(response.text, 'html.parser')\n",
    "result = soup.select('tbody.row-hover > tr')\n",
    "for row in result:\n",
    "    record = [col.text for col in row.select('td')]\n",
    "    dd.append(record)\n",
    "        \n",
    "df10 = pd.DataFrame(dd, columns = ['아이디', '팀', '포지션', '출전횟수', '승률', 'K', 'D', 'A', 'KDA', '킬관여울', '데스관여율',\n",
    "       '퍼스트블러드', 'GD10', 'XPD10', 'CS10', '분당CS', '15CS비율', 'DPM', 'DMG', '분당골드',\n",
    "       '골드비율', '분당와드', '분당와드클리어'])\n",
    "print(df10.head())\n",
    "df10.drop(['XPD10'], axis=1, inplace=True)\n",
    "df10['경기년도'] = 2017\n",
    "df10['시즌'] = 10\n",
    "# df10.to_excel(\"d:\\\\data\\\\lol\\\\2017_summer_reg.xlsx\")"
   ]
  },
  {
   "cell_type": "markdown",
   "metadata": {},
   "source": [
    "### ■ 2017년 스프링 플레이오프 데이터 가져오기"
   ]
  },
  {
   "cell_type": "code",
   "execution_count": 367,
   "metadata": {},
   "outputs": [
    {
     "name": "stdout",
     "output_type": "stream",
     "text": [
      "        아이디               팀      포지션 출전횟수    승률   K   D   A   KDA   킬관여울  ...  \\\n",
      "0       ADD             MVP      Top    5   40%   7  12  38   3.8  63.4%  ...   \n",
      "1  Ambition  Samsung Galaxy   Jungle    1    0%   2   3   5   2.3  63.6%  ...   \n",
      "2      Bang   SK Telecom T1      ADC    3  100%  16   2  21  18.5  60.7%  ...   \n",
      "3    Beyond             MVP   Jungle    5   40%  19  11  41   5.5  84.5%  ...   \n",
      "4    CoreJJ  Samsung Galaxy  Support    2    0%   0   5   6   1.2  46.2%  ...   \n",
      "\n",
      "  XPD10  CS10 분당CS 15CS비율  DPM    DMG   분당골드   골드비율  분당와드 분당와드클리어  \n",
      "0  -160  -8.4  7.7  24.3%  377  19.8%  230.8  20.0%  0.63    0.16  \n",
      "1   187   3.0  6.7  21.3%  332  22.8%  236.4  21.3%  0.84    0.49  \n",
      "2    32   6.3  8.5  25.3%  609  31.3%  306.3  23.0%  0.47    0.18  \n",
      "3    40  -2.4  5.3  16.3%  321  17.1%  233.7  20.2%  0.84    0.41  \n",
      "4   185   2.5  0.7   3.2%  104   7.1%   76.2   8.7%  1.18    0.35  \n",
      "\n",
      "[5 rows x 23 columns]\n"
     ]
    }
   ],
   "source": [
    "dd = []\n",
    "\n",
    "response = requests.get('https://oracleselixir.com/statistics/lck/lck-2017-spring-playoffs-player-statistics/') \n",
    "soup = BeautifulSoup(response.text, 'html.parser')\n",
    "result = soup.select('tbody.row-hover > tr')\n",
    "for row in result:\n",
    "    record = [col.text for col in row.select('td')]\n",
    "    dd.append(record)\n",
    "        \n",
    "df11 = pd.DataFrame(dd, columns = ['아이디', '팀', '포지션', '출전횟수', '승률', 'K', 'D', 'A', 'KDA', '킬관여울', '데스관여율',\n",
    "       '퍼스트블러드', 'GD10', 'XPD10', 'CS10', '분당CS', '15CS비율', 'DPM', 'DMG', '분당골드',\n",
    "       '골드비율', '분당와드', '분당와드클리어'])\n",
    "print(df11.head())\n",
    "df11.drop(['XPD10'], axis=1, inplace=True)\n",
    "df11['경기년도'] = 2017\n",
    "df11['시즌'] = 11\n",
    "# df11.to_excel(\"d:\\\\data\\\\lol\\\\2017_spring_playoff.xlsx\")"
   ]
  },
  {
   "cell_type": "markdown",
   "metadata": {},
   "source": [
    "### ■ 2017년 스프링 정규시즌 데이터 가져오기"
   ]
  },
  {
   "cell_type": "code",
   "execution_count": 368,
   "metadata": {},
   "outputs": [
    {
     "name": "stdout",
     "output_type": "stream",
     "text": [
      "        아이디               팀     포지션 출전횟수    승률    K    D    A  KDA   킬관여울  \\\n",
      "0       ADD             MVP     Top   45   51%   79  135  244  2.4  61.2%   \n",
      "1  Ambition  Samsung Galaxy  Jungle   12   58%   34   34   69  3.0  66.0%   \n",
      "2      Bang   SK Telecom T1     ADC   42   76%  145   62  260  6.5  63.3%   \n",
      "3    Beyond             MVP  Jungle   45   51%  136  140  233  2.6  69.9%   \n",
      "4     Blank   SK Telecom T1  Jungle    6  100%   26   10   66  9.2  71.3%   \n",
      "\n",
      "   ...  GD10 XPD10  CS10 분당CS 15CS비율  DPM    DMG   분당골드   골드비율  분당와드  \n",
      "0  ...   -17   -55  -0.3  7.7  24.2%  450  23.6%  233.3  21.1%  0.59  \n",
      "1  ...   -18   117   7.2  5.6  16.1%  323  15.7%  234.6  19.6%  0.84  \n",
      "2  ...   207    90   8.2  9.1  26.7%  601  27.3%  298.2  23.2%  0.44  \n",
      "3  ...   -17    96   3.7  5.6  18.2%  331  16.9%  228.1  20.5%  0.78  \n",
      "4  ...  -135  -213  -4.5  4.7  15.0%  367  14.2%  258.2  18.8%  0.92  \n",
      "\n",
      "[5 rows x 22 columns]\n"
     ]
    }
   ],
   "source": [
    "dd = []\n",
    "\n",
    "response = requests.get('https://oracleselixir.com/statistics/lck/lck-2017-spring-regular-season-player-statistics/')\n",
    "soup = BeautifulSoup(response.text, 'html.parser')\n",
    "result = soup.select('tbody.row-hover > tr')\n",
    "for row in result:\n",
    "    record = [col.text for col in row.select('td')]\n",
    "    dd.append(record)\n",
    "        \n",
    "df12 = pd.DataFrame(dd, columns = ['아이디', '팀', '포지션', '출전횟수', '승률', 'K', 'D', 'A', 'KDA', '킬관여울', '데스관여율',\n",
    "       '퍼스트블러드', 'GD10', 'XPD10', 'CS10', '분당CS', '15CS비율', 'DPM', 'DMG', '분당골드',\n",
    "       '골드비율', '분당와드'])\n",
    "print(df12.head())\n",
    "df12.drop(['XPD10'], axis=1, inplace=True)\n",
    "\n",
    "df12['분당와드클리어'] = np.nan\n",
    "df12['경기년도'] = 2017\n",
    "df12['시즌'] = 12\n",
    "# df12.to_excel(\"d:\\\\data\\\\lol\\\\2017_spring_reg.xlsx\")"
   ]
  },
  {
   "cell_type": "markdown",
   "metadata": {},
   "source": [
    "#### 2017년의 경우 분당와드클리어 컬럼이 없기때문에 null값으로 새로 컬럼을 추가하였다."
   ]
  },
  {
   "cell_type": "markdown",
   "metadata": {},
   "source": [
    "### ■ 2016년 서머 플레이오프 데이터 가져오기"
   ]
  },
  {
   "cell_type": "code",
   "execution_count": 369,
   "metadata": {},
   "outputs": [
    {
     "name": "stdout",
     "output_type": "stream",
     "text": [
      "        아이디               팀     포지션 출전횟수   승률   K   D   A   KDA   킬관여울  ...  \\\n",
      "0  Ambition  Samsung Galaxy  Jungle    5  40%  19  16  30   3.1  71.0%  ...   \n",
      "1     Arrow      KT Rolster     ADC   13  62%  62  14  84  10.4  73.0%  ...   \n",
      "2      Bang   SK Telecom T1     ADC    5  40%  13  16  20   2.1  84.6%  ...   \n",
      "3     Blank   SK Telecom T1  Jungle    5  40%   7  16  23   1.9  76.9%  ...   \n",
      "4     Crown  Samsung Galaxy  Middle    5  40%  20  18  23   2.4  62.3%  ...   \n",
      "\n",
      "   CS10  GD10  분당CS 15CS비율  DPM    DMG   분당골드   골드비율  분당와드 분당와드클리어  \n",
      "0  -0.8   -55   5.0  15.3%  470  19.0%  243.2  21.1%  0.70    0.42  \n",
      "1  -4.8   -25   8.8  27.3%  746  30.5%  286.4  23.6%  0.45    0.21  \n",
      "2   6.2    40  10.2  34.1%  710  30.9%  294.4  26.6%  0.47    0.25  \n",
      "3   5.0  -282   4.5  12.4%  365  16.3%  207.7  18.4%  0.87    0.61  \n",
      "4   0.8   112   9.0  27.5%  682  26.1%  266.7  23.3%  0.53    0.12  \n",
      "\n",
      "[5 rows x 22 columns]\n"
     ]
    }
   ],
   "source": [
    "dd = []\n",
    "\n",
    "response = requests.get('https://oracleselixir.com/statistics/lck/lck-2016-summer-playoffs-player-statistics/')\n",
    "soup = BeautifulSoup(response.text, 'html.parser')\n",
    "result = soup.select('tbody.row-hover > tr')\n",
    "for row in result:\n",
    "    record = [col.text for col in row.select('td')]\n",
    "    dd.append(record)\n",
    "        \n",
    "df13 = pd.DataFrame(dd, columns = ['아이디', '팀', '포지션', '출전횟수', '승률', 'K', 'D', 'A', 'KDA', '킬관여울', '데스관여율',\n",
    "       '퍼스트블러드', 'CS10', 'GD10', '분당CS', '15CS비율', 'DPM', 'DMG', '분당골드',\n",
    "       '골드비율', '분당와드', '분당와드클리어'])\n",
    "print(df13.head())\n",
    "\n",
    "# df13.drop(['XPD10'], axis=1, inplace=True)\n",
    "\n",
    "df13 = df13[['아이디', '팀', '포지션', '출전횟수', '승률', 'K', 'D', 'A', 'KDA', '킬관여울', '데스관여율',\n",
    "       '퍼스트블러드', 'GD10', 'CS10', '분당CS', '15CS비율', 'DPM', 'DMG', '분당골드',\n",
    "       '골드비율', '분당와드', '분당와드클리어']]\n",
    "\n",
    "df13['경기년도'] = 2016\n",
    "df13['시즌'] = 13\n",
    "# df13.to_excel(\"d:\\\\data\\\\lol\\\\2016_summer_playoff.xlsx\")"
   ]
  },
  {
   "cell_type": "markdown",
   "metadata": {},
   "source": [
    "###  ■ 2016년 서머 정규시즌 데이터 가져오기!"
   ]
  },
  {
   "cell_type": "code",
   "execution_count": 370,
   "metadata": {},
   "outputs": [
    {
     "name": "stdout",
     "output_type": "stream",
     "text": [
      "        아이디               팀     포지션 출전횟수   승률    K    D    A  KDA   킬관여울  ...  \\\n",
      "0       ADD             MVP     Top   41  44%   89  126  216  2.4  69.6%  ...   \n",
      "1  Ambition  Samsung Galaxy  Jungle   40  60%   63   95  232  3.1  70.4%  ...   \n",
      "2     Arrow      KT Rolster     ADC   44  66%  171   77  262  5.6  71.1%  ...   \n",
      "3      Bang   SK Telecom T1     ADC   41  68%  151   61  233  6.3  73.7%  ...   \n",
      "4       Bdd        CJ Entus  Middle   27  26%   90   63  116  3.3  79.2%  ...   \n",
      "\n",
      "   CS10  GD10 분당CS 15CS비율  DPM    DMG   분당골드   골드비율  분당와드 분당와드클리어  \n",
      "0  -8.5  -160  6.7  24.1%  443  21.6%  230.5  20.9%  0.56    0.16  \n",
      "1   0.4    38  4.8  14.8%  341  16.6%  230.5  19.9%  0.81    0.54  \n",
      "2  -1.9    33  8.4  27.3%  523  25.2%  276.4  23.4%  0.48    0.24  \n",
      "3   4.2    37  9.3  29.6%  712  30.4%  298.0  24.6%  0.44    0.19  \n",
      "4  -0.5    16  8.2  25.9%  539  29.5%  244.7  23.1%  0.46    0.12  \n",
      "\n",
      "[5 rows x 22 columns]\n"
     ]
    }
   ],
   "source": [
    "dd = []\n",
    "\n",
    "response = requests.get('https://oracleselixir.com/statistics/lck/lck-2016-summer-regular-season-player-stats/')\n",
    "soup = BeautifulSoup(response.text, 'html.parser')\n",
    "result = soup.select('tbody.row-hover > tr')\n",
    "for row in result:\n",
    "    record = [col.text for col in row.select('td')]\n",
    "    dd.append(record)\n",
    "        \n",
    "df14 = pd.DataFrame(dd, columns = ['아이디', '팀', '포지션', '출전횟수', '승률', 'K', 'D', 'A', 'KDA', '킬관여울', '데스관여율',\n",
    "       '퍼스트블러드', 'CS10', 'GD10', '분당CS', '15CS비율', 'DPM', 'DMG', '분당골드',\n",
    "       '골드비율', '분당와드', '분당와드클리어'])\n",
    "print(df14.head())\n",
    "\n",
    "# df13.drop(['XPD10'], axis=1, inplace=True)\n",
    "\n",
    "df14 = df14[['아이디', '팀', '포지션', '출전횟수', '승률', 'K', 'D', 'A', 'KDA', '킬관여울', '데스관여율',\n",
    "       '퍼스트블러드', 'GD10', 'CS10', '분당CS', '15CS비율', 'DPM', 'DMG', '분당골드',\n",
    "       '골드비율', '분당와드', '분당와드클리어']]\n",
    "\n",
    "df14['경기년도'] = 2016\n",
    "df14['시즌'] = 14\n",
    "# df14.to_excel(\"d:\\\\data\\\\lol\\\\2016_summer_reg.xlsx\")"
   ]
  },
  {
   "cell_type": "markdown",
   "metadata": {},
   "source": [
    "### ■ 2016년 스프링 플레이오프 데이터 가져오기!"
   ]
  },
  {
   "cell_type": "code",
   "execution_count": 371,
   "metadata": {},
   "outputs": [
    {
     "name": "stdout",
     "output_type": "stream",
     "text": [
      "     아이디                    팀      포지션 출전횟수   승률   K   D   A  KDA   킬관여울  ...  \\\n",
      "0  Arrow           KT Rolster      ADC    3   0%   7  10  11  1.8  75.0%  ...   \n",
      "1   Bang        SK Telecom T1      ADC   11  82%  47  14  70  8.4  73.1%  ...   \n",
      "2  Blank        SK Telecom T1   Jungle   11  82%  40  20  78  5.9  73.8%  ...   \n",
      "3   Chei  Jin Air Green Wings  Support    6  50%   3  10  44  4.7  81.0%  ...   \n",
      "4   Duke        SK Telecom T1      Top   11  82%  29  16  89  7.4  73.8%  ...   \n",
      "\n",
      "   CS10 GD10  분당CS 15CS비율  DPM    DMG   분당골드   골드비율  분당와드 분당와드클리어  \n",
      "0  -8.3  -60   8.7  26.8%  545  25.5%  252.0  23.9%  0.56    0.32  \n",
      "1   6.1   52  10.1  32.3%  756  33.3%  333.2  25.7%  0.58    0.22  \n",
      "2  -3.8   56   4.5  13.8%  376  16.4%  254.3  19.6%  0.96    0.64  \n",
      "3   0.3   -2   1.2   4.1%  109   5.7%  126.2  11.2%  1.67    0.41  \n",
      "4   4.5  116   8.3  25.5%  422  18.2%  278.1  21.4%  0.48    0.08  \n",
      "\n",
      "[5 rows x 22 columns]\n"
     ]
    }
   ],
   "source": [
    "dd = []\n",
    "\n",
    "response = requests.get('https://oracleselixir.com/statistics/lck/lck-2016-spring-playoffs-player-statistics/')\n",
    "soup = BeautifulSoup(response.text, 'html.parser')\n",
    "result = soup.select('tbody.row-hover > tr')\n",
    "for row in result:\n",
    "    record = [col.text for col in row.select('td')]\n",
    "    dd.append(record)\n",
    "        \n",
    "df15 = pd.DataFrame(dd, columns = ['아이디', '팀', '포지션', '출전횟수', '승률', 'K', 'D', 'A', 'KDA', '킬관여울', '데스관여율',\n",
    "       '퍼스트블러드', 'CS10', 'GD10', '분당CS', '15CS비율', 'DPM', 'DMG', '분당골드',\n",
    "       '골드비율', '분당와드', '분당와드클리어'])\n",
    "print(df15.head())\n",
    "\n",
    "# df13.drop(['XPD10'], axis=1, inplace=True)\n",
    "\n",
    "df15 = df15[['아이디', '팀', '포지션', '출전횟수', '승률', 'K', 'D', 'A', 'KDA', '킬관여울', '데스관여율',\n",
    "       '퍼스트블러드', 'GD10', 'CS10', '분당CS', '15CS비율', 'DPM', 'DMG', '분당골드',\n",
    "       '골드비율', '분당와드', '분당와드클리어']]\n",
    "\n",
    "df15['경기년도'] = 2016\n",
    "df15['시즌'] = 15\n",
    "# df15.to_excel(\"d:\\\\data\\\\lol\\\\2016_spring_playoff.xlsx\")"
   ]
  },
  {
   "cell_type": "markdown",
   "metadata": {},
   "source": [
    "### ■ 2016년 스프링 정규시즌 데이터 가져오기!"
   ]
  },
  {
   "cell_type": "code",
   "execution_count": 372,
   "metadata": {},
   "outputs": [
    {
     "name": "stdout",
     "output_type": "stream",
     "text": [
      "        아이디               팀     포지션 출전횟수   승률    K   D    A  KDA   킬관여울  ...  \\\n",
      "0  Ambition  Samsung Galaxy  Jungle   44  50%   94  90  203  3.3  74.1%  ...   \n",
      "1     Arrow      KT Rolster     ADC   43  67%  151  69  236  5.6  69.7%  ...   \n",
      "2      Bang   SK Telecom T1     ADC   41  63%  149  54  191  6.3  69.5%  ...   \n",
      "3       Bdd        CJ Entus  Middle   22  41%   60  57  120  3.2  83.3%  ...   \n",
      "4     Bengi   SK Telecom T1  Jungle   17  65%   22  40  112  3.4  67.3%  ...   \n",
      "\n",
      "   CS10  GD10 분당CS 15CS비율  DPM    DMG   분당골드   골드비율  분당와드 분당와드클리어  \n",
      "0   4.0   170  4.9  15.1%  386  20.9%  236.0  20.7%  0.77    0.64  \n",
      "1   1.9    10  8.8  28.2%  497  25.0%  276.4  23.7%  0.57    0.37  \n",
      "2   2.7    80  9.3  28.8%  590  29.1%  296.7  24.3%  0.53    0.25  \n",
      "3  -0.6   -76  8.0  26.4%  500  28.0%  235.5  22.9%  0.60    0.18  \n",
      "4  -3.9  -278  3.8  11.5%  268  12.6%  197.3  16.5%  0.85    0.58  \n",
      "\n",
      "[5 rows x 22 columns]\n"
     ]
    }
   ],
   "source": [
    "dd = []\n",
    "\n",
    "response = requests.get('https://oracleselixir.com/statistics/lck/lck-2016-spring-regular-season-player-statistics/')\n",
    "soup = BeautifulSoup(response.text, 'html.parser')\n",
    "result = soup.select('tbody.row-hover > tr')\n",
    "for row in result:\n",
    "    record = [col.text for col in row.select('td')]\n",
    "    dd.append(record)\n",
    "        \n",
    "df16 = pd.DataFrame(dd, columns = ['아이디', '팀', '포지션', '출전횟수', '승률', 'K', 'D', 'A', 'KDA', '킬관여울', '데스관여율',\n",
    "       '퍼스트블러드', 'CS10', 'GD10', '분당CS', '15CS비율', 'DPM', 'DMG', '분당골드',\n",
    "       '골드비율', '분당와드', '분당와드클리어'])\n",
    "print(df16.head())\n",
    "\n",
    "# df13.drop(['XPD10'], axis=1, inplace=True)\n",
    "\n",
    "df16 = df16[['아이디', '팀', '포지션', '출전횟수', '승률', 'K', 'D', 'A', 'KDA', '킬관여울', '데스관여율',\n",
    "       '퍼스트블러드', 'GD10', 'CS10', '분당CS', '15CS비율', 'DPM', 'DMG', '분당골드',\n",
    "       '골드비율', '분당와드', '분당와드클리어']]\n",
    "\n",
    "df16['경기년도'] = 2016\n",
    "df16['시즌'] = 16\n",
    "# df16.to_excel(\"d:\\\\data\\\\lol\\\\2016_spring_reg.xlsx\")"
   ]
  },
  {
   "cell_type": "markdown",
   "metadata": {},
   "source": [
    "#### ※ 2016년 데이터의 경우 cs10과 gd10의 위치가 서로 반대이기 때문에 순서를 다시 조정하였다."
   ]
  },
  {
   "cell_type": "markdown",
   "metadata": {},
   "source": [
    "### ■ 2015년 서머 플레이오프 데이터 가져오기!"
   ]
  },
  {
   "cell_type": "code",
   "execution_count": 373,
   "metadata": {},
   "outputs": [
    {
     "name": "stdout",
     "output_type": "stream",
     "text": [
      "        아이디              팀     포지션 출전횟수    승률   K   D   A   KDA   킬관여울  ...  \\\n",
      "0  Ambition       CJ Entus  Jungle    3    0%   6   7  13   2.7  79.2%  ...   \n",
      "1     Arrow     KT Rolster     ADC    8   38%  19  23  26   2.0  59.2%  ...   \n",
      "2      Bang  SK Telecom T1     ADC    3  100%  16   4  24  10.0  66.7%  ...   \n",
      "3     Bengi  SK Telecom T1  Jungle    3  100%  13   7  21   4.9  56.7%  ...   \n",
      "4      Coco       CJ Entus  Middle    3    0%   6  11   7   1.2  54.2%  ...   \n",
      "\n",
      "  퍼스트블러드  CS10    GD10 분당CS  DPM    DMG   분당골드   골드비율  분당와드 분당와드클리어  \n",
      "0  33.3%  -3.3    99.0  3.1  293  18.1%  149.7  17.5%  0.73    0.32  \n",
      "1  37.5%   4.0   220.3  7.9  418  29.3%  224.9  24.2%  0.17    0.19  \n",
      "2   0.0%  -3.3  -153.3  8.3  503  25.0%  307.5  24.2%  0.24    0.27  \n",
      "3  33.3%  -6.0   170.3  3.4  327  15.9%  222.3  17.5%  0.83    0.39  \n",
      "4   0.0%   0.3    -8.0  8.9  431  25.4%  233.8  27.3%  0.54    0.12  \n",
      "\n",
      "[5 rows x 21 columns]\n"
     ]
    }
   ],
   "source": [
    "dd = []\n",
    "\n",
    "response = requests.get('https://oracleselixir.com/statistics/lck/lck-2015-summer-playoffs-player-statistics/')\n",
    "soup = BeautifulSoup(response.text, 'html.parser')\n",
    "result = soup.select('tbody.row-hover > tr')\n",
    "for row in result:\n",
    "    record = [col.text for col in row.select('td')]\n",
    "    dd.append(record)\n",
    "        \n",
    "df17 = pd.DataFrame(dd, columns = ['아이디', '팀', '포지션', '출전횟수', '승률', 'K', 'D', 'A', 'KDA', '킬관여울', '데스관여율',\n",
    "       '퍼스트블러드', 'CS10', 'GD10', '분당CS', 'DPM', 'DMG', '분당골드',\n",
    "       '골드비율', '분당와드', '분당와드클리어'])\n",
    "print(df17.head())\n",
    "\n",
    "# df13.drop(['XPD10'], axis=1, inplace=True)\n",
    "df17['15CS비율'] = np.nan\n",
    "df17 = df17[['아이디', '팀', '포지션', '출전횟수', '승률', 'K', 'D', 'A', 'KDA', '킬관여울', '데스관여율',\n",
    "       '퍼스트블러드', 'GD10', 'CS10', '분당CS', '15CS비율', 'DPM', 'DMG', '분당골드',\n",
    "       '골드비율', '분당와드', '분당와드클리어']]\n",
    "\n",
    "df17['경기년도'] = 2015\n",
    "df17['시즌'] = 17\n",
    "# df17.to_excel(\"d:\\\\data\\\\lol\\\\2015_summer_playoff.xlsx\")"
   ]
  },
  {
   "cell_type": "markdown",
   "metadata": {},
   "source": [
    "### ■ 2015년 서머 정규시즌 데이터 가져오기"
   ]
  },
  {
   "cell_type": "code",
   "execution_count": 374,
   "metadata": {},
   "outputs": [
    {
     "name": "stdout",
     "output_type": "stream",
     "text": [
      "        아이디                   팀     포지션 출전횟수   승률    K    D    A  KDA   킬관여울  \\\n",
      "0  Ambition            CJ Entus  Jungle   39  62%   80  101  346  4.2  76.2%   \n",
      "1     Apple  Incredible Miracle     Top   25  24%   65   79  118  2.3  65.8%   \n",
      "2     Arrow          KT Rolster     ADC   44  64%  173   62  270  7.1  73.5%   \n",
      "3      Bang       SK Telecom T1     ADC   41  85%  168   68  237  6.0  60.2%   \n",
      "4     Bengi       SK Telecom T1  Jungle   35  83%   86   69  292  5.5  64.4%   \n",
      "\n",
      "   ... 퍼스트블러드  CS10   GD10 분당CS  DPM    DMG   분당골드   골드비율  분당와드 분당와드클리어  \n",
      "0  ...  46.2%   3.3    7.4  3.4  249  12.5%  185.3  17.7%  0.87    0.40  \n",
      "1  ...  28.0%  -3.8  -77.4  6.4  371  20.8%  191.3  20.7%  0.56    0.09  \n",
      "2  ...  22.7%  -0.4    0.2  8.1  549  30.6%  256.7  24.7%  0.21    0.25  \n",
      "3  ...  14.6%   2.3   93.5  8.4  567  27.2%  277.5  23.9%  0.20    0.16  \n",
      "4  ...  57.1%  -2.0   78.8  3.0  264  13.0%  193.8  16.4%  0.94    0.28  \n",
      "\n",
      "[5 rows x 21 columns]\n"
     ]
    }
   ],
   "source": [
    "dd = []\n",
    "\n",
    "response = requests.get('https://oracleselixir.com/statistics/lck/lck-2015-summer-regular-season-player-statistics/')\n",
    "soup = BeautifulSoup(response.text, 'html.parser')\n",
    "result = soup.select('tbody.row-hover > tr')\n",
    "for row in result:\n",
    "    record = [col.text for col in row.select('td')]\n",
    "    dd.append(record)\n",
    "        \n",
    "df18 = pd.DataFrame(dd, columns = ['아이디', '팀', '포지션', '출전횟수', '승률', 'K', 'D', 'A', 'KDA', '킬관여울', '데스관여율',\n",
    "       '퍼스트블러드', 'CS10', 'GD10', '분당CS', 'DPM', 'DMG', '분당골드',\n",
    "       '골드비율', '분당와드', '분당와드클리어'])\n",
    "print(df18.head())\n",
    "\n",
    "# df13.drop(['XPD10'], axis=1, inplace=True)\n",
    "df18['15CS비율'] = np.nan\n",
    "df18 = df18[['아이디', '팀', '포지션', '출전횟수', '승률', 'K', 'D', 'A', 'KDA', '킬관여울', '데스관여율',\n",
    "       '퍼스트블러드', 'GD10', 'CS10', '분당CS', '15CS비율', 'DPM', 'DMG', '분당골드',\n",
    "       '골드비율', '분당와드', '분당와드클리어']]\n",
    "\n",
    "df18['경기년도'] = 2015\n",
    "df18['시즌'] = 18\n",
    "# df18.to_excel(\"d:\\\\data\\\\lol\\\\2015_summer_reg.xlsx\")"
   ]
  },
  {
   "cell_type": "markdown",
   "metadata": {},
   "source": [
    "### ■ 2015년 스프링 플레이오프 데이터 가져오기"
   ]
  },
  {
   "cell_type": "code",
   "execution_count": 375,
   "metadata": {},
   "outputs": [
    {
     "name": "stdout",
     "output_type": "stream",
     "text": [
      "        아이디                    팀      포지션 출전횟수    승률   K   D   A  KDA    킬관여울  \\\n",
      "0  Ambition             CJ Entus   Jungle    8   63%   7  18  57  3.6   71.9%   \n",
      "1      Bang        SK Telecom T1      ADC    8   75%  40  15  65  7.0   78.4%   \n",
      "2     Bengi        SK Telecom T1   Jungle    3  100%   6   7  53  8.4   84.3%   \n",
      "3    Chaser  Jin Air Green Wings   Jungle    3    0%   1   1   4  5.0  100.0%   \n",
      "4      Chei  Jin Air Green Wings  Support    3    0%   0   9   4  0.4   80.0%   \n",
      "\n",
      "   ... 퍼스트블러드  CS10  GD10 분당CS  DPM    DMG   분당골드   골드비율  분당와드 분당와드클리어  \n",
      "0  ...    50%   2.6    69  3.4  228  10.6%  172.5  17.0%  0.60    0.28  \n",
      "1  ...    25%   1.9    42  8.6  652  30.6%  285.2  25.5%  0.30    0.15  \n",
      "2  ...    67%  -3.3    44  3.3  316  12.3%  213.4  17.0%  1.06    0.27  \n",
      "3  ...     0%  -3.7  -272  2.9  132   9.7%  114.2  15.6%  0.92    0.20  \n",
      "4  ...     0%  -1.3   -67  0.7  132  10.1%   55.2   7.5%  1.13    0.34  \n",
      "\n",
      "[5 rows x 21 columns]\n"
     ]
    }
   ],
   "source": [
    "dd = []\n",
    "\n",
    "response = requests.get('https://oracleselixir.com/statistics/lck/lck-2015-spring-playoffs-player-statistics/')\n",
    "soup = BeautifulSoup(response.text, 'html.parser')\n",
    "result = soup.select('tbody.row-hover > tr')\n",
    "for row in result:\n",
    "    record = [col.text for col in row.select('td')]\n",
    "    dd.append(record)\n",
    "        \n",
    "df19 = pd.DataFrame(dd, columns = ['아이디', '팀', '포지션', '출전횟수', '승률', 'K', 'D', 'A', 'KDA', '킬관여울', '데스관여율',\n",
    "       '퍼스트블러드', 'CS10', 'GD10', '분당CS', 'DPM', 'DMG', '분당골드',\n",
    "       '골드비율', '분당와드', '분당와드클리어'])\n",
    "print(df19.head())\n",
    "\n",
    "# df13.drop(['XPD10'], axis=1, inplace=True)\n",
    "df19['15CS비율'] = np.nan\n",
    "df19 = df19[['아이디', '팀', '포지션', '출전횟수', '승률', 'K', 'D', 'A', 'KDA', '킬관여울', '데스관여율',\n",
    "       '퍼스트블러드', 'GD10', 'CS10', '분당CS', '15CS비율', 'DPM', 'DMG', '분당골드',\n",
    "       '골드비율', '분당와드', '분당와드클리어']]\n",
    "\n",
    "df19['경기년도'] = 2015\n",
    "df19['시즌'] = 19\n",
    "# df19.to_excel(\"d:\\\\data\\\\lol\\\\2015_spring_playoff.xlsx\")"
   ]
  },
  {
   "cell_type": "markdown",
   "metadata": {},
   "source": [
    "### ■ 2015년 스프링 정규시즌 데이터 가져오기"
   ]
  },
  {
   "cell_type": "code",
   "execution_count": 376,
   "metadata": {},
   "outputs": [
    {
     "name": "stdout",
     "output_type": "stream",
     "text": [
      "        아이디                   팀     포지션 출전횟수   승률    K   D    A  KDA   킬관여울  \\\n",
      "0       Ace      Samsung Galaxy  Middle   10  40%   29  34   43  2.1  67.3%   \n",
      "1  Ambition            CJ Entus  Jungle   32  63%   76  87  268  4.0  72.1%   \n",
      "2      Ares  Incredible Miracle  Jungle   15   7%   20  51   67  1.7  79.1%   \n",
      "3     Arrow          KT Rolster     ADC   33  45%  116  68  145  3.8  73.7%   \n",
      "4      Bang       SK Telecom T1     ADC   32  72%  152  53  188  6.4  69.7%   \n",
      "\n",
      "   ... 퍼스트블러드  CS10  GD10 분당CS  DPM    DMG   분당골드   골드비율  분당와드 분당와드클리어  \n",
      "0  ...    20%   1.4   -72  8.0  478  28.6%  225.3  24.6%  0.76    0.11  \n",
      "1  ...    38%   3.3   125  3.4  229  12.1%  185.8  17.3%  0.75    0.36  \n",
      "2  ...    20%  -0.3  -101  2.9  157  10.1%  131.0  15.6%  1.11    0.37  \n",
      "3  ...    12%  -1.4   -88  8.0  438  28.7%  242.4  24.9%  0.31    0.24  \n",
      "4  ...     6%   1.7    18  8.8  546  29.1%  291.7  26.0%  0.17    0.19  \n",
      "\n",
      "[5 rows x 21 columns]\n"
     ]
    }
   ],
   "source": [
    "dd = []\n",
    "\n",
    "response = requests.get('https://oracleselixir.com/statistics/lck/lck-2015-spring-regular-season-player-statistics/')\n",
    "soup = BeautifulSoup(response.text, 'html.parser')\n",
    "result = soup.select('tbody.row-hover > tr')\n",
    "for row in result:\n",
    "    record = [col.text for col in row.select('td')]\n",
    "    dd.append(record)\n",
    "        \n",
    "df20 = pd.DataFrame(dd, columns = ['아이디', '팀', '포지션', '출전횟수', '승률', 'K', 'D', 'A', 'KDA', '킬관여울', '데스관여율',\n",
    "       '퍼스트블러드', 'CS10', 'GD10', '분당CS', 'DPM', 'DMG', '분당골드',\n",
    "       '골드비율', '분당와드', '분당와드클리어'])\n",
    "print(df20.head())\n",
    "\n",
    "# df13.drop(['XPD10'], axis=1, inplace=True)\n",
    "df20['15CS비율'] = np.nan\n",
    "df20 = df20[['아이디', '팀', '포지션', '출전횟수', '승률', 'K', 'D', 'A', 'KDA', '킬관여울', '데스관여율',\n",
    "       '퍼스트블러드', 'GD10', 'CS10', '분당CS', '15CS비율', 'DPM', 'DMG', '분당골드',\n",
    "       '골드비율', '분당와드', '분당와드클리어']]\n",
    "\n",
    "df20['경기년도'] = 2015\n",
    "df20['시즌'] = 20\n",
    "# df20.to_excel(\"d:\\\\data\\\\lol\\\\2015_spring_reg.xlsx\")"
   ]
  },
  {
   "cell_type": "markdown",
   "metadata": {},
   "source": [
    "#### ※ 2015년 데이터의 경우 15CS비율이 없기때문에 null값으로 새로 컬럼을 만들어 주었으며,  \n",
    "#### cs10과 gd10의 순서가 바뀌어 있기 때문에 다시 순서를 조절하였다."
   ]
  },
  {
   "cell_type": "markdown",
   "metadata": {},
   "source": [
    "### ■ PART 1-1. 스크롤링한 데이터를 합쳐서 2015년부터 2019년까지 나타내기"
   ]
  },
  {
   "cell_type": "code",
   "execution_count": 377,
   "metadata": {},
   "outputs": [],
   "source": [
    "total = pd.concat([df1,df2,df3,df4,df5,df6,df7,df8,df9,df10,df11,df12,df13,df14,df15,df16,df17,df18,df19,df20]) \n",
    "total.to_excel(\"d:\\\\data\\\\lol\\\\total_sb.xlsx\") # 파일저장"
   ]
  },
  {
   "cell_type": "code",
   "execution_count": 378,
   "metadata": {},
   "outputs": [
    {
     "name": "stdout",
     "output_type": "stream",
     "text": [
      "Index(['아이디', '팀', '포지션', '출전횟수', '승률', 'K', 'D', 'A', 'KDA', '킬관여울', '데스관여율',\n",
      "       '퍼스트블러드', 'GD10', 'CS10', '분당CS', '15CS비율', 'DPM', 'DMG', '분당골드',\n",
      "       '골드비율', '분당와드', '분당와드클리어', '경기년도', '시즌'],\n",
      "      dtype='object')\n"
     ]
    }
   ],
   "source": [
    "print(total.columns)"
   ]
  },
  {
   "cell_type": "code",
   "execution_count": 379,
   "metadata": {},
   "outputs": [
    {
     "name": "stdout",
     "output_type": "stream",
     "text": [
      "<class 'pandas.core.frame.DataFrame'>\n",
      "Int64Index: 964 entries, 0 to 53\n",
      "Data columns (total 24 columns):\n",
      "아이디        964 non-null object\n",
      "팀          964 non-null object\n",
      "포지션        964 non-null object\n",
      "출전횟수       964 non-null object\n",
      "승률         964 non-null object\n",
      "K          964 non-null object\n",
      "D          964 non-null object\n",
      "A          964 non-null object\n",
      "KDA        964 non-null object\n",
      "킬관여울       964 non-null object\n",
      "데스관여율      964 non-null object\n",
      "퍼스트블러드     964 non-null object\n",
      "GD10       964 non-null object\n",
      "CS10       964 non-null object\n",
      "분당CS       964 non-null object\n",
      "15CS비율     785 non-null object\n",
      "DPM        964 non-null object\n",
      "DMG        964 non-null object\n",
      "분당골드       964 non-null object\n",
      "골드비율       964 non-null object\n",
      "분당와드       964 non-null object\n",
      "분당와드클리어    902 non-null object\n",
      "경기년도       964 non-null int64\n",
      "시즌         964 non-null int64\n",
      "dtypes: int64(2), object(22)\n",
      "memory usage: 188.3+ KB\n",
      "None\n"
     ]
    }
   ],
   "source": [
    "print(total.info())"
   ]
  },
  {
   "cell_type": "markdown",
   "metadata": {},
   "source": [
    "### ■ PART 1-2. 아이디와  시즌으로 정렬하기 "
   ]
  },
  {
   "cell_type": "code",
   "execution_count": 380,
   "metadata": {},
   "outputs": [],
   "source": [
    "lol = total\n",
    "lol = lol.sort_values(by = ['아이디', '시즌'], ascending = True)"
   ]
  },
  {
   "cell_type": "code",
   "execution_count": 381,
   "metadata": {},
   "outputs": [
    {
     "data": {
      "text/plain": [
       "Index(['아이디', '팀', '포지션', '출전횟수', '승률', 'K', 'D', 'A', 'KDA', '킬관여울', '데스관여율',\n",
       "       '퍼스트블러드', 'GD10', 'CS10', '분당CS', '15CS비율', 'DPM', 'DMG', '분당골드',\n",
       "       '골드비율', '분당와드', '분당와드클리어', '경기년도', '시즌'],\n",
       "      dtype='object')"
      ]
     },
     "execution_count": 381,
     "metadata": {},
     "output_type": "execute_result"
    }
   ],
   "source": [
    "lol.columns"
   ]
  },
  {
   "cell_type": "markdown",
   "metadata": {},
   "source": [
    "### ■ PART 1-3. 생년월일, mvp 컬럼 추가하기"
   ]
  },
  {
   "cell_type": "code",
   "execution_count": 382,
   "metadata": {},
   "outputs": [],
   "source": [
    "lol['생년월일'] = np.nan\n",
    "lol['MVP'] = 0"
   ]
  },
  {
   "cell_type": "markdown",
   "metadata": {},
   "source": [
    "### ■ PART 1-4. 숫자가 아닌 데이터값들을 숫자로 바꾸어주기"
   ]
  },
  {
   "cell_type": "code",
   "execution_count": null,
   "metadata": {},
   "outputs": [],
   "source": [
    "lol[['출전횟수', '승률', 'K', 'D', 'A', 'KDA', '킬관여울', '데스관여율',\n",
    "       '퍼스트블러드', 'GD10', 'CS10', '분당CS', '15CS비율', 'DPM', 'DMG', '분당골드',\n",
    "       '골드비율', '분당와드', '분당와드클리어']] = \\\n",
    "\\\n",
    "lol[['출전횟수', '승률', 'K', 'D', 'A', 'KDA', '킬관여울', '데스관여율',\n",
    "       '퍼스트블러드', 'GD10', 'CS10', '분당CS', '15CS비율', 'DPM', 'DMG', '분당골드',\n",
    "       '골드비율', '분당와드', '분당와드클리어']].astype(float)\n",
    "\n",
    "# lol.to_excel(\"d:\\\\data\\\\lol\\\\lol_final_dataset_sub.xlsx\")"
   ]
  },
  {
   "cell_type": "markdown",
   "metadata": {},
   "source": [
    "#### ※ MVP및 생년월일은 직접 구글링을 통하여 값을 대입하였다."
   ]
  },
  {
   "cell_type": "markdown",
   "metadata": {},
   "source": [
    "## ■ PART2. 데이터 로드 및 정보확인"
   ]
  },
  {
   "cell_type": "markdown",
   "metadata": {},
   "source": [
    "### ■ PART 2-1. 필요한 모듈 가져오기"
   ]
  },
  {
   "cell_type": "code",
   "execution_count": 1,
   "metadata": {},
   "outputs": [],
   "source": [
    "import pandas as pd\n",
    "import numpy as np\n",
    "import warnings\n",
    "warnings.filterwarnings('ignore')"
   ]
  },
  {
   "cell_type": "markdown",
   "metadata": {},
   "source": [
    "### ■ PART 2-2. 데이터 불러오기"
   ]
  },
  {
   "cell_type": "code",
   "execution_count": 2,
   "metadata": {},
   "outputs": [],
   "source": [
    "regular = pd.read_excel(\"d:\\\\data\\\\lol\\\\lol_final_dataset.xlsx\")"
   ]
  },
  {
   "cell_type": "code",
   "execution_count": 3,
   "metadata": {},
   "outputs": [
    {
     "data": {
      "text/plain": [
       "Index(['Unnamed: 0', '아이디', '팀', '포지션', '출전횟수', '승률', 'K', 'D', 'A', 'KDA',\n",
       "       '킬관여울', '데스관여율', '퍼스트블러드', 'GD10', 'CS10', '분당CS', '15CS비율', 'DPM',\n",
       "       'DMG', '분당골드', '골드비율', '분당와드', '분당와드클리어', '경기년도', '시즌', '생년월일', 'MVP'],\n",
       "      dtype='object')"
      ]
     },
     "execution_count": 3,
     "metadata": {},
     "output_type": "execute_result"
    }
   ],
   "source": [
    "regular.columns"
   ]
  },
  {
   "cell_type": "code",
   "execution_count": 4,
   "metadata": {},
   "outputs": [
    {
     "name": "stdout",
     "output_type": "stream",
     "text": [
      "<class 'pandas.core.frame.DataFrame'>\n",
      "RangeIndex: 964 entries, 0 to 963\n",
      "Data columns (total 27 columns):\n",
      "Unnamed: 0    964 non-null int64\n",
      "아이디           964 non-null object\n",
      "팀             964 non-null object\n",
      "포지션           964 non-null object\n",
      "출전횟수          964 non-null int64\n",
      "승률            964 non-null float64\n",
      "K             964 non-null int64\n",
      "D             964 non-null int64\n",
      "A             964 non-null int64\n",
      "KDA           964 non-null float64\n",
      "킬관여울          964 non-null float64\n",
      "데스관여율         964 non-null float64\n",
      "퍼스트블러드        964 non-null float64\n",
      "GD10          964 non-null float64\n",
      "CS10          964 non-null float64\n",
      "분당CS          964 non-null float64\n",
      "15CS비율        785 non-null float64\n",
      "DPM           964 non-null int64\n",
      "DMG           964 non-null float64\n",
      "분당골드          964 non-null float64\n",
      "골드비율          964 non-null float64\n",
      "분당와드          964 non-null float64\n",
      "분당와드클리어       902 non-null float64\n",
      "경기년도          964 non-null int64\n",
      "시즌            964 non-null int64\n",
      "생년월일          205 non-null float64\n",
      "MVP           961 non-null float64\n",
      "dtypes: float64(16), int64(8), object(3)\n",
      "memory usage: 203.5+ KB\n"
     ]
    }
   ],
   "source": [
    "regular.info()"
   ]
  },
  {
   "cell_type": "markdown",
   "metadata": {},
   "source": [
    "### ■ PART 2-2. MVP 포인트를 MVP를 받은 횟수로 데이터를 변경하기."
   ]
  },
  {
   "cell_type": "code",
   "execution_count": 5,
   "metadata": {},
   "outputs": [],
   "source": [
    "regular['MVP'] = regular['MVP'] / 100\n",
    "regular['MVP'].fillna(0, inplace = True) # 결측치 처리"
   ]
  },
  {
   "cell_type": "markdown",
   "metadata": {},
   "source": [
    "### ■ PART 2-3. 데이터를 시즌, 아이디 순으로 정렬하기"
   ]
  },
  {
   "cell_type": "code",
   "execution_count": 6,
   "metadata": {},
   "outputs": [],
   "source": [
    "lol = regular.sort_values(by = ['시즌','아이디'], ascending = True)\n",
    "lol.drop(['Unnamed: 0'], axis =1 , inplace = True) # 불필요한 컬럼 제거"
   ]
  },
  {
   "cell_type": "markdown",
   "metadata": {},
   "source": [
    "### ■ PART 2-4. 데이터 엿보기"
   ]
  },
  {
   "cell_type": "code",
   "execution_count": 7,
   "metadata": {},
   "outputs": [
    {
     "name": "stdout",
     "output_type": "stream",
     "text": [
      "<class 'pandas.core.frame.DataFrame'>\n",
      "Int64Index: 964 entries, 7 to 945\n",
      "Data columns (total 26 columns):\n",
      "아이디        964 non-null object\n",
      "팀          964 non-null object\n",
      "포지션        964 non-null object\n",
      "출전횟수       964 non-null int64\n",
      "승률         964 non-null float64\n",
      "K          964 non-null int64\n",
      "D          964 non-null int64\n",
      "A          964 non-null int64\n",
      "KDA        964 non-null float64\n",
      "킬관여울       964 non-null float64\n",
      "데스관여율      964 non-null float64\n",
      "퍼스트블러드     964 non-null float64\n",
      "GD10       964 non-null float64\n",
      "CS10       964 non-null float64\n",
      "분당CS       964 non-null float64\n",
      "15CS비율     785 non-null float64\n",
      "DPM        964 non-null int64\n",
      "DMG        964 non-null float64\n",
      "분당골드       964 non-null float64\n",
      "골드비율       964 non-null float64\n",
      "분당와드       964 non-null float64\n",
      "분당와드클리어    902 non-null float64\n",
      "경기년도       964 non-null int64\n",
      "시즌         964 non-null int64\n",
      "생년월일       205 non-null float64\n",
      "MVP        964 non-null float64\n",
      "dtypes: float64(16), int64(7), object(3)\n",
      "memory usage: 203.3+ KB\n"
     ]
    }
   ],
   "source": [
    "lol.info()"
   ]
  },
  {
   "cell_type": "code",
   "execution_count": 8,
   "metadata": {},
   "outputs": [
    {
     "data": {
      "text/html": [
       "<div>\n",
       "<style scoped>\n",
       "    .dataframe tbody tr th:only-of-type {\n",
       "        vertical-align: middle;\n",
       "    }\n",
       "\n",
       "    .dataframe tbody tr th {\n",
       "        vertical-align: top;\n",
       "    }\n",
       "\n",
       "    .dataframe thead th {\n",
       "        text-align: right;\n",
       "    }\n",
       "</style>\n",
       "<table border=\"1\" class=\"dataframe\">\n",
       "  <thead>\n",
       "    <tr style=\"text-align: right;\">\n",
       "      <th></th>\n",
       "      <th>아이디</th>\n",
       "      <th>팀</th>\n",
       "      <th>포지션</th>\n",
       "      <th>출전횟수</th>\n",
       "      <th>승률</th>\n",
       "      <th>K</th>\n",
       "      <th>D</th>\n",
       "      <th>A</th>\n",
       "      <th>KDA</th>\n",
       "      <th>킬관여울</th>\n",
       "      <th>...</th>\n",
       "      <th>DPM</th>\n",
       "      <th>DMG</th>\n",
       "      <th>분당골드</th>\n",
       "      <th>골드비율</th>\n",
       "      <th>분당와드</th>\n",
       "      <th>분당와드클리어</th>\n",
       "      <th>경기년도</th>\n",
       "      <th>시즌</th>\n",
       "      <th>생년월일</th>\n",
       "      <th>MVP</th>\n",
       "    </tr>\n",
       "  </thead>\n",
       "  <tbody>\n",
       "    <tr>\n",
       "      <td>7</td>\n",
       "      <td>Aiming</td>\n",
       "      <td>Afreeca Freecs</td>\n",
       "      <td>ADC</td>\n",
       "      <td>3</td>\n",
       "      <td>0.33</td>\n",
       "      <td>12</td>\n",
       "      <td>5</td>\n",
       "      <td>8</td>\n",
       "      <td>4.0</td>\n",
       "      <td>0.769</td>\n",
       "      <td>...</td>\n",
       "      <td>510</td>\n",
       "      <td>0.328</td>\n",
       "      <td>365.6</td>\n",
       "      <td>0.319</td>\n",
       "      <td>0.42</td>\n",
       "      <td>0.39</td>\n",
       "      <td>2019</td>\n",
       "      <td>1</td>\n",
       "      <td>2000.0</td>\n",
       "      <td>1.0</td>\n",
       "    </tr>\n",
       "    <tr>\n",
       "      <td>73</td>\n",
       "      <td>BeryL</td>\n",
       "      <td>Damwon Gaming</td>\n",
       "      <td>Support</td>\n",
       "      <td>3</td>\n",
       "      <td>0.00</td>\n",
       "      <td>1</td>\n",
       "      <td>12</td>\n",
       "      <td>14</td>\n",
       "      <td>1.3</td>\n",
       "      <td>0.652</td>\n",
       "      <td>...</td>\n",
       "      <td>134</td>\n",
       "      <td>0.082</td>\n",
       "      <td>104.8</td>\n",
       "      <td>0.106</td>\n",
       "      <td>2.21</td>\n",
       "      <td>0.57</td>\n",
       "      <td>2019</td>\n",
       "      <td>1</td>\n",
       "      <td>1997.0</td>\n",
       "      <td>0.0</td>\n",
       "    </tr>\n",
       "    <tr>\n",
       "      <td>109</td>\n",
       "      <td>Canyon</td>\n",
       "      <td>Damwon Gaming</td>\n",
       "      <td>Jungle</td>\n",
       "      <td>3</td>\n",
       "      <td>0.00</td>\n",
       "      <td>5</td>\n",
       "      <td>11</td>\n",
       "      <td>10</td>\n",
       "      <td>1.4</td>\n",
       "      <td>0.652</td>\n",
       "      <td>...</td>\n",
       "      <td>250</td>\n",
       "      <td>0.158</td>\n",
       "      <td>150.1</td>\n",
       "      <td>0.152</td>\n",
       "      <td>0.94</td>\n",
       "      <td>0.40</td>\n",
       "      <td>2019</td>\n",
       "      <td>1</td>\n",
       "      <td>2001.0</td>\n",
       "      <td>0.0</td>\n",
       "    </tr>\n",
       "    <tr>\n",
       "      <td>129</td>\n",
       "      <td>Chovy</td>\n",
       "      <td>Griffin</td>\n",
       "      <td>Middle</td>\n",
       "      <td>4</td>\n",
       "      <td>0.25</td>\n",
       "      <td>6</td>\n",
       "      <td>8</td>\n",
       "      <td>5</td>\n",
       "      <td>1.4</td>\n",
       "      <td>0.611</td>\n",
       "      <td>...</td>\n",
       "      <td>335</td>\n",
       "      <td>0.253</td>\n",
       "      <td>260.4</td>\n",
       "      <td>0.239</td>\n",
       "      <td>0.44</td>\n",
       "      <td>0.29</td>\n",
       "      <td>2019</td>\n",
       "      <td>1</td>\n",
       "      <td>2001.0</td>\n",
       "      <td>0.0</td>\n",
       "    </tr>\n",
       "    <tr>\n",
       "      <td>137</td>\n",
       "      <td>Clid</td>\n",
       "      <td>SK Telecom T1</td>\n",
       "      <td>Jungle</td>\n",
       "      <td>13</td>\n",
       "      <td>0.85</td>\n",
       "      <td>43</td>\n",
       "      <td>21</td>\n",
       "      <td>96</td>\n",
       "      <td>6.6</td>\n",
       "      <td>0.647</td>\n",
       "      <td>...</td>\n",
       "      <td>312</td>\n",
       "      <td>0.158</td>\n",
       "      <td>231.0</td>\n",
       "      <td>0.178</td>\n",
       "      <td>0.86</td>\n",
       "      <td>0.54</td>\n",
       "      <td>2019</td>\n",
       "      <td>1</td>\n",
       "      <td>1999.0</td>\n",
       "      <td>9.0</td>\n",
       "    </tr>\n",
       "  </tbody>\n",
       "</table>\n",
       "<p>5 rows × 26 columns</p>\n",
       "</div>"
      ],
      "text/plain": [
       "        아이디               팀      포지션  출전횟수    승률   K   D   A  KDA   킬관여울  ...  \\\n",
       "7    Aiming  Afreeca Freecs      ADC     3  0.33  12   5   8  4.0  0.769  ...   \n",
       "73    BeryL   Damwon Gaming  Support     3  0.00   1  12  14  1.3  0.652  ...   \n",
       "109  Canyon   Damwon Gaming   Jungle     3  0.00   5  11  10  1.4  0.652  ...   \n",
       "129   Chovy         Griffin   Middle     4  0.25   6   8   5  1.4  0.611  ...   \n",
       "137    Clid   SK Telecom T1   Jungle    13  0.85  43  21  96  6.6  0.647  ...   \n",
       "\n",
       "     DPM    DMG   분당골드   골드비율  분당와드  분당와드클리어  경기년도  시즌    생년월일  MVP  \n",
       "7    510  0.328  365.6  0.319  0.42     0.39  2019   1  2000.0  1.0  \n",
       "73   134  0.082  104.8  0.106  2.21     0.57  2019   1  1997.0  0.0  \n",
       "109  250  0.158  150.1  0.152  0.94     0.40  2019   1  2001.0  0.0  \n",
       "129  335  0.253  260.4  0.239  0.44     0.29  2019   1  2001.0  0.0  \n",
       "137  312  0.158  231.0  0.178  0.86     0.54  2019   1  1999.0  9.0  \n",
       "\n",
       "[5 rows x 26 columns]"
      ]
     },
     "execution_count": 8,
     "metadata": {},
     "output_type": "execute_result"
    }
   ],
   "source": [
    "lol.head()"
   ]
  },
  {
   "cell_type": "code",
   "execution_count": 9,
   "metadata": {},
   "outputs": [
    {
     "data": {
      "text/plain": [
       "Index(['아이디', '팀', '포지션', '출전횟수', '승률', 'K', 'D', 'A', 'KDA', '킬관여울', '데스관여율',\n",
       "       '퍼스트블러드', 'GD10', 'CS10', '분당CS', '15CS비율', 'DPM', 'DMG', '분당골드',\n",
       "       '골드비율', '분당와드', '분당와드클리어', '경기년도', '시즌', '생년월일', 'MVP'],\n",
       "      dtype='object')"
      ]
     },
     "execution_count": 9,
     "metadata": {},
     "output_type": "execute_result"
    }
   ],
   "source": [
    "lol.columns"
   ]
  },
  {
   "cell_type": "markdown",
   "metadata": {},
   "source": [
    "## ■ PART3. 데이터 결측치 제거하기!"
   ]
  },
  {
   "cell_type": "markdown",
   "metadata": {},
   "source": [
    "### ■ PART 3-1. 생년월일 컬럼 결측치 제거하기!"
   ]
  },
  {
   "cell_type": "code",
   "execution_count": 10,
   "metadata": {},
   "outputs": [
    {
     "data": {
      "text/plain": [
       "아이디          0\n",
       "팀            0\n",
       "포지션          0\n",
       "출전횟수         0\n",
       "승률           0\n",
       "K            0\n",
       "D            0\n",
       "A            0\n",
       "KDA          0\n",
       "킬관여울         0\n",
       "데스관여율        0\n",
       "퍼스트블러드       0\n",
       "GD10         0\n",
       "CS10         0\n",
       "분당CS         0\n",
       "15CS비율     179\n",
       "DPM          0\n",
       "DMG          0\n",
       "분당골드         0\n",
       "골드비율         0\n",
       "분당와드         0\n",
       "분당와드클리어     62\n",
       "경기년도         0\n",
       "시즌           0\n",
       "생년월일       759\n",
       "MVP          0\n",
       "dtype: int64"
      ]
     },
     "execution_count": 10,
     "metadata": {},
     "output_type": "execute_result"
    }
   ],
   "source": [
    "lol.isnull().sum()"
   ]
  },
  {
   "cell_type": "code",
   "execution_count": 11,
   "metadata": {},
   "outputs": [
    {
     "name": "stdout",
     "output_type": "stream",
     "text": [
      "['Aiming', 'BeryL', 'Canyon', 'Chovy', 'Clid', 'Doran', 'Dove', 'Dread', 'Effort', 'Faker', 'Ghost', 'Joker', 'Khan', 'Kiin', 'Lehends', 'Nuclear', 'Nuguri', 'OnFleek', 'Senan', 'ShowMaker', 'Summit', 'Tarzan', 'Teddy', 'Ucal', 'Viper', 'Bdd', 'Bono', 'CheonGo', 'CuVee', 'Cuzz', 'Deft', 'Flame', 'Fly', 'Gori', 'Grace', 'Haru', 'Hoit', 'Kellin', 'Key', 'Kingen', 'Kuzan', 'Lava', 'Life', 'Lindarang', 'Malrang', 'Mata', 'Moojin', 'Naehyun', 'Nova', 'Peanut', 'PraY', 'Punch', 'Rascal', 'Rich', 'Roach', 'Route', 'Ruler', 'Sangyoon', 'Score', 'Seize', 'SeongHwan', 'Smeb', 'SnowFlower', 'SoHwan', 'Sword', 'TaNa', 'Tempt', 'Thal', 'TusiN', 'UmTi', 'PawN', 'Aries', 'Brook', 'Crush', 'Gango', 'Jelly', 'Proud', 'SSUN', 'SSol', 'Spirit', 'Stitch', 'Wizer', 'Zenit', 'Ambition', 'CoreJJ', 'GorillA', 'Kramer', 'Kuro', 'ADD', 'Asper', 'Bang', 'Blank', 'Blossom', 'Clever', 'Crazy', 'Crown', 'Ian', 'IgNar', 'Justice', 'KaKAO', 'Leo', 'MaHa', 'Max', 'Mightybear', 'Mong', 'Motive', 'Mowgli', 'Pilot', 'Pirean', 'Rather', 'Rush', 'Trick', 'Wolf', 'Yondu', 'Beyond', 'Edge', 'Raise', 'Secret', 'U Jun', 'Untara', 'Wraith', 'Huni', 'MaRin', 'Bless', 'Cepted', 'Comeback', 'Crow', 'Deul', 'Ella', 'Helper', 'Mickey', 'Shy', 'Totoro', 'ikssu', 'Crash', 'Expession', 'GuGer', 'Part', 'Profit', 'Arrow', 'Duke', 'Hachani', 'LirA', 'Ssumday', 'Bengi', 'Blanc', 'Bubbling', 'Chaser', 'Chei', 'Coco', 'Cry', 'Emperor', 'Firetrap', 'Frozen', 'Fury', 'LokeN', 'MadLife', 'Pure', 'Sky', 'Sweet', 'TrAce', 'Winged', 'Cpt Jack', 'Flawless', 'Hipo', 'SaSin', 'Scout', 'SoaR', 'Soul', 'Zzus', 'Ggoong', 'Hojin', 'Nagne', 'Ohq', 'Piccaboo', 'Space', 'Watch', 'Apple', 'BlisS', 'Catch', 'Easyhoon', 'Eve', 'Fixer', 'GBM', 'Lilac', 'Luna', 'Paragon', 'Roar', 'Sonstar', 'Spooky', 'TANK', 'Tom', 'Wisdom', 'cvMax', 'dan', 'do it', 'viviD', 'LEE', 'Ace', 'Ares', 'Cain', 'Rain', 'XD', 'Zefa']\n"
     ]
    }
   ],
   "source": [
    "list1 = list(lol['아이디'].unique())\n",
    "print(list1)"
   ]
  },
  {
   "cell_type": "markdown",
   "metadata": {},
   "source": [
    "### ※ 생년월일을 출생년도로 컬럼 바꾸기!"
   ]
  },
  {
   "cell_type": "code",
   "execution_count": 12,
   "metadata": {},
   "outputs": [],
   "source": [
    "lol['생년월일'] = lol['생년월일'].astype(str)\n",
    "lol['출생년도'] = lol['생년월일'].str.extract('([0-9]+)', expand = False)"
   ]
  },
  {
   "cell_type": "code",
   "execution_count": 13,
   "metadata": {},
   "outputs": [
    {
     "data": {
      "text/plain": [
       "759"
      ]
     },
     "execution_count": 13,
     "metadata": {},
     "output_type": "execute_result"
    }
   ],
   "source": [
    "lol['출생년도'].isnull().sum()"
   ]
  },
  {
   "cell_type": "markdown",
   "metadata": {},
   "source": [
    "### ※ 생년월일 컬럼 삭제"
   ]
  },
  {
   "cell_type": "code",
   "execution_count": 14,
   "metadata": {},
   "outputs": [],
   "source": [
    "lol.drop(['생년월일'], axis =1 , inplace = True)"
   ]
  },
  {
   "cell_type": "markdown",
   "metadata": {},
   "source": [
    "### ※ 반복문을 통하여 결측치 채우기!"
   ]
  },
  {
   "cell_type": "code",
   "execution_count": 15,
   "metadata": {},
   "outputs": [],
   "source": [
    "for i in list1:\n",
    "    \n",
    "    most_freq = lol[:][lol['아이디'] == i]['출생년도'].value_counts(dropna=True).idxmax()\n",
    "    # print(type(most_freq))\n",
    "    freq1 = int(most_freq)\n",
    "    \n",
    "    \n",
    "    lol.loc[lol['아이디'] == i, '출생년도'] = freq1\n",
    "    \n",
    "    #print(lol[:][lol['아이디'] == i])"
   ]
  },
  {
   "cell_type": "code",
   "execution_count": 16,
   "metadata": {},
   "outputs": [
    {
     "data": {
      "text/plain": [
       "0"
      ]
     },
     "execution_count": 16,
     "metadata": {},
     "output_type": "execute_result"
    }
   ],
   "source": [
    "lol['출생년도'].isnull().sum()"
   ]
  },
  {
   "cell_type": "code",
   "execution_count": 17,
   "metadata": {},
   "outputs": [
    {
     "data": {
      "text/plain": [
       "1996    187\n",
       "1995    138\n",
       "1998    123\n",
       "1997    119\n",
       "1994    117\n",
       "1999     84\n",
       "1992     68\n",
       "2000     50\n",
       "2001     26\n",
       "1993     25\n",
       "1991     20\n",
       "1989      6\n",
       "1987      1\n",
       "Name: 출생년도, dtype: int64"
      ]
     },
     "execution_count": 17,
     "metadata": {},
     "output_type": "execute_result"
    }
   ],
   "source": [
    "lol['출생년도'].value_counts()"
   ]
  },
  {
   "cell_type": "markdown",
   "metadata": {},
   "source": [
    "### ※ 출생년도를 나이 컬럼으로 바꾸기"
   ]
  },
  {
   "cell_type": "code",
   "execution_count": 18,
   "metadata": {},
   "outputs": [],
   "source": [
    "lol['나이'] = 2020 - lol['출생년도']"
   ]
  },
  {
   "cell_type": "markdown",
   "metadata": {},
   "source": [
    "### ※ 출생년도 컬럼을 제거"
   ]
  },
  {
   "cell_type": "code",
   "execution_count": 19,
   "metadata": {},
   "outputs": [],
   "source": [
    "lol.drop(['출생년도'], axis=1, inplace=True)"
   ]
  },
  {
   "cell_type": "markdown",
   "metadata": {},
   "source": [
    "### ■ PART 3-2. 분당와드클리어 결측치 처리하기."
   ]
  },
  {
   "cell_type": "code",
   "execution_count": 20,
   "metadata": {},
   "outputs": [
    {
     "data": {
      "text/plain": [
       "62"
      ]
     },
     "execution_count": 20,
     "metadata": {},
     "output_type": "execute_result"
    }
   ],
   "source": [
    "lol['분당와드클리어'].isnull().sum()"
   ]
  },
  {
   "cell_type": "markdown",
   "metadata": {},
   "source": [
    "####  분당와드 클리어 결측치의 경우 각 선수마다 분당와드클리어의 평균값으로 대체하였으며, 평균값이 없는경우(NaN) 행자체를 제거하였다."
   ]
  },
  {
   "cell_type": "code",
   "execution_count": 21,
   "metadata": {},
   "outputs": [
    {
     "name": "stdout",
     "output_type": "stream",
     "text": [
      "Aiming 0.48\n",
      "BeryL 0.44249999999999995\n",
      "Canyon 0.4325\n",
      "Chovy 0.2871428571428572\n",
      "Clid 0.5750000000000001\n",
      "Doran 0.24\n",
      "Dove 0.2425\n",
      "Dread 0.5366666666666667\n",
      "Effort 0.41200000000000003\n",
      "Faker 0.24578947368421053\n",
      "Ghost 0.33875\n",
      "Joker 0.41\n",
      "Khan 0.209\n",
      "Kiin 0.19899999999999995\n",
      "Lehends 0.3766666666666667\n",
      "Nuclear 0.38000000000000006\n",
      "Nuguri 0.28750000000000003\n",
      "OnFleek 0.6425000000000001\n",
      "Senan 0.27666666666666667\n",
      "ShowMaker 0.3025\n",
      "Summit 0.23249999999999998\n",
      "Tarzan 0.5183333333333332\n",
      "Teddy 0.39142857142857146\n",
      "Ucal 0.20888888888888885\n",
      "Viper 0.42\n",
      "Bdd 0.16181818181818183\n",
      "Bono 0.5225\n",
      "CheonGo 0.2833333333333334\n",
      "CuVee 0.1842857142857143\n",
      "Cuzz 0.5728571428571428\n",
      "Deft 0.366\n",
      "Flame 0.17333333333333334\n",
      "Fly 0.21\n",
      "Gori 0.39\n",
      "Grace 0.188\n",
      "Haru 0.41571428571428576\n",
      "Hoit 0.34\n",
      "Kellin 0.28500000000000003\n",
      "Key 0.44333333333333336\n",
      "Kingen 0.21333333333333335\n",
      "Kuzan 0.255\n",
      "Lava 0.26333333333333336\n",
      "Life 0.26\n",
      "Lindarang 0.12714285714285714\n",
      "Malrang 0.48\n",
      "Mata 0.417\n",
      "Moojin 0.44\n",
      "Naehyun 0.21500000000000002\n",
      "Nova 0.48\n",
      "Peanut 0.5113333333333333\n",
      "PraY 0.29\n",
      "Punch 0.43000000000000005\n",
      "Rascal 0.18333333333333332\n",
      "Rich 0.34\n",
      "Roach 0.23333333333333336\n",
      "Route 0.43\n",
      "Ruler 0.45\n",
      "Sangyoon 0.26818181818181813\n",
      "Score 0.48374999999999996\n",
      "Seize 0.395\n",
      "SeongHwan 0.512\n",
      "Smeb 0.13882352941176473\n",
      "SnowFlower 0.36125\n",
      "SoHwan 0.14714285714285716\n",
      "Sword 0.21600000000000003\n",
      "TaNa 0.16\n",
      "Tempt 0.21666666666666665\n",
      "Thal 0.188\n",
      "TusiN 0.36833333333333335\n",
      "UmTi 0.5660000000000001\n",
      "PawN 0.26857142857142857\n",
      "Aries 0.33999999999999997\n",
      "Brook 0.295\n",
      "Crush 0.45499999999999996\n",
      "Gango 0.3\n",
      "Jelly 0.32\n",
      "Proud 0.46\n",
      "SSUN 0.25\n",
      "SSol 0.43999999999999995\n",
      "Spirit 0.496\n",
      "Stitch 0.272\n",
      "Wizer 0.36\n",
      "Zenit 0.3\n",
      "Ambition 0.4607142857142858\n",
      "CoreJJ 0.39888888888888885\n",
      "GorillA 0.3257142857142857\n",
      "Kramer 0.3933333333333333\n",
      "Kuro 0.28375000000000006\n",
      "ADD 0.19\n",
      "Asper 0.6\n",
      "Bang 0.2386666666666667\n",
      "Blank 0.5533333333333333\n",
      "Blossom 0.5599999999999999\n",
      "Clever 0.1\n",
      "Crazy 0.17\n",
      "Crown 0.21600000000000003\n",
      "Ian 0.286\n",
      "IgNar 0.4325\n",
      "Justice 0.31\n",
      "KaKAO 0.36\n",
      "Leo 0.22\n",
      "MaHa 0.245\n",
      "Max 0.33\n",
      "Mightybear 0.49666666666666665\n",
      "Mong 0.0\n",
      "Motive 0.25\n",
      "Mowgli 0.525\n",
      "Pilot 0.225\n",
      "Pirean 0.25\n",
      "Rather 0.255\n",
      "Rush 0.5266666666666667\n",
      "Trick 0.39333333333333337\n",
      "Wolf 0.49733333333333335\n",
      "Yondu 0.36\n",
      "Beyond 0.4625\n",
      "Edge 0.21\n",
      "Raise 0.46\n",
      "Secret 0.3233333333333333\n",
      "U Jun 0.56\n",
      "Untara 0.162\n",
      "Wraith 0.36750000000000005\n",
      "Huni 0.1466666666666667\n",
      "MaRin 0.07285714285714286\n",
      "Bless 0.44\n",
      "Cepted 0.21\n",
      "Comeback 0.435\n",
      "Crow 0.37\n",
      "Deul 0.28\n",
      "Ella 0.33\n",
      "Helper 0.09250000000000001\n",
      "Mickey 0.19333333333333333\n",
      "Shy 0.08833333333333333\n",
      "Totoro 0.375\n",
      "ikssu 0.10833333333333334\n",
      "Crash 0.52\n",
      "Expession 0.12000000000000001\n",
      "GuGer 0.36\n",
      "Part nan\n",
      "Profit nan\n",
      "Arrow 0.26\n",
      "Duke 0.08571428571428572\n",
      "Hachani 0.394\n",
      "LirA 0.458\n",
      "Ssumday 0.15857142857142856\n",
      "Bengi 0.3983333333333334\n",
      "Blanc 0.16\n",
      "Bubbling 0.5\n",
      "Chaser 0.376\n",
      "Chei 0.3666666666666667\n",
      "Coco 0.21333333333333335\n",
      "Cry 0.21\n",
      "Emperor 0.25\n",
      "Firetrap 0.06\n",
      "Frozen 0.17\n",
      "Fury 0.26\n",
      "LokeN 0.21\n",
      "MadLife 0.38333333333333336\n",
      "Pure 0.40199999999999997\n",
      "Sky 0.16999999999999998\n",
      "Sweet 0.305\n",
      "TrAce 0.12333333333333334\n",
      "Winged 0.588\n",
      "Cpt Jack 0.16\n",
      "Flawless 0.62\n",
      "Hipo 0.14\n",
      "SaSin 0.24000000000000002\n",
      "Scout 0.3\n",
      "SoaR 0.10500000000000001\n",
      "Soul 0.125\n",
      "Zzus 0.37\n",
      "Ggoong 0.18000000000000002\n",
      "Hojin 0.275\n",
      "Nagne 0.19000000000000003\n",
      "Ohq 0.11666666666666665\n",
      "Piccaboo 0.3433333333333333\n",
      "Space 0.1575\n",
      "Watch 0.38999999999999996\n",
      "Apple 0.09\n",
      "BlisS 0.15000000000000002\n",
      "Catch 0.35\n",
      "Easyhoon 0.22999999999999998\n",
      "Eve 0.32499999999999996\n",
      "Fixer 0.29\n",
      "GBM 0.13333333333333333\n",
      "Lilac 0.24666666666666667\n",
      "Luna 0.33\n",
      "Paragon 0.22\n",
      "Roar 0.23\n",
      "Sonstar 0.13\n",
      "Spooky 0.23\n",
      "TANK 0.135\n",
      "Tom 0.39999999999999997\n",
      "Wisdom 0.28\n",
      "cvMax 0.1\n",
      "dan 0.31\n",
      "do it 0.08\n",
      "viviD 0.23\n",
      "LEE 0.28\n",
      "Ace 0.11\n",
      "Ares 0.37\n",
      "Cain 0.34\n",
      "Rain 0.17\n",
      "XD 0.48\n",
      "Zefa 0.23\n"
     ]
    }
   ],
   "source": [
    "for i in list1:\n",
    "    mask1 = lol['아이디'] == i\n",
    "    mean_ward = lol[:][lol['아이디'] == i]['분당와드클리어'].mean(axis=0)\n",
    "    print(i, mean_ward)\n",
    "    \n",
    "    lol.loc[mask1,'분당와드클리어'] = lol.loc[mask1,'분당와드클리어'].fillna(mean_ward)\n",
    "\n",
    "lol.dropna(subset = ['분당와드클리어'], axis = 0, inplace = True) # NaN =누락데이터를 제거함."
   ]
  },
  {
   "cell_type": "code",
   "execution_count": 22,
   "metadata": {},
   "outputs": [
    {
     "data": {
      "text/plain": [
       "0"
      ]
     },
     "execution_count": 22,
     "metadata": {},
     "output_type": "execute_result"
    }
   ],
   "source": [
    "lol['분당와드클리어'].isnull().sum()"
   ]
  },
  {
   "cell_type": "code",
   "execution_count": 23,
   "metadata": {},
   "outputs": [
    {
     "data": {
      "text/plain": [
       "0.360000    33\n",
       "0.170000    31\n",
       "0.200000    30\n",
       "0.160000    28\n",
       "0.250000    27\n",
       "            ..\n",
       "0.496000     1\n",
       "0.216667     1\n",
       "0.670000     1\n",
       "0.497333     1\n",
       "0.417000     1\n",
       "Name: 분당와드클리어, Length: 123, dtype: int64"
      ]
     },
     "execution_count": 23,
     "metadata": {},
     "output_type": "execute_result"
    }
   ],
   "source": [
    "lol['분당와드클리어'].value_counts()"
   ]
  },
  {
   "cell_type": "markdown",
   "metadata": {},
   "source": [
    "### ■ PART 3-3. 15CS비율 결측치 처리하기."
   ]
  },
  {
   "cell_type": "code",
   "execution_count": 24,
   "metadata": {},
   "outputs": [
    {
     "data": {
      "text/plain": [
       "179"
      ]
     },
     "execution_count": 24,
     "metadata": {},
     "output_type": "execute_result"
    }
   ],
   "source": [
    "lol['15CS비율'].isnull().sum()"
   ]
  },
  {
   "cell_type": "markdown",
   "metadata": {},
   "source": [
    "#### 15CS비율의 결측치의 경우 각 선수마다 15CS비율의 평균값으로 대체하였으며, 평균값이 없는경우(NaN) 행자체를 제거하였다."
   ]
  },
  {
   "cell_type": "code",
   "execution_count": 25,
   "metadata": {},
   "outputs": [
    {
     "name": "stdout",
     "output_type": "stream",
     "text": [
      "Aiming 0.33149999999999996\n",
      "BeryL 0.06675\n",
      "Canyon 0.1225\n",
      "Chovy 0.2502857142857143\n",
      "Clid 0.13075\n",
      "Doran 0.243\n",
      "Dove 0.23575\n",
      "Dread 0.143\n",
      "Effort 0.053200000000000004\n",
      "Faker 0.26099999999999995\n",
      "Ghost 0.301\n",
      "Joker 0.05475000000000001\n",
      "Khan 0.2612\n",
      "Kiin 0.2667\n",
      "Lehends 0.058499999999999996\n",
      "Nuclear 0.303\n",
      "Nuguri 0.27399999999999997\n",
      "OnFleek 0.13525\n",
      "Senan 0.04066666666666667\n",
      "ShowMaker 0.24025\n",
      "Summit 0.26649999999999996\n",
      "Tarzan 0.13016666666666668\n",
      "Teddy 0.32675000000000004\n",
      "Ucal 0.2595555555555556\n",
      "Viper 0.3261428571428571\n",
      "Bdd 0.25145454545454543\n",
      "Bono 0.11574999999999999\n",
      "CheonGo 0.24166666666666667\n",
      "CuVee 0.24753846153846157\n",
      "Cuzz 0.1382857142857143\n",
      "Deft 0.3028181818181818\n",
      "Flame 0.24733333333333332\n",
      "Fly 0.22510000000000002\n",
      "Gori 0.21\n",
      "Grace 0.25639999999999996\n",
      "Haru 0.14950000000000002\n",
      "Hoit 0.069\n",
      "Kellin 0.0455\n",
      "Key 0.051285714285714275\n",
      "Kingen 0.26233333333333336\n",
      "Kuzan 0.25275\n",
      "Lava 0.24450000000000002\n",
      "Life 0.047\n",
      "Lindarang 0.244\n",
      "Malrang 0.12666666666666668\n",
      "Mata 0.04300000000000001\n",
      "Moojin 0.088\n",
      "Naehyun 0.24\n",
      "Nova 0.05733333333333334\n",
      "Peanut 0.14892857142857144\n",
      "PraY 0.2992307692307692\n",
      "Punch 0.12766666666666668\n",
      "Rascal 0.25833333333333336\n",
      "Rich 0.217\n",
      "Roach 0.2604285714285714\n",
      "Route 0.3325\n",
      "Ruler 0.3302307692307692\n",
      "Sangyoon 0.32063636363636366\n",
      "Score 0.135\n",
      "Seize 0.11349999999999999\n",
      "SeongHwan 0.1245\n",
      "Smeb 0.2636428571428571\n",
      "SnowFlower 0.04025\n",
      "SoHwan 0.260125\n",
      "Sword 0.2412\n",
      "TaNa 0.266\n",
      "Tempt 0.2692857142857143\n",
      "Thal 0.25920000000000004\n",
      "TusiN 0.04527272727272727\n",
      "UmTi 0.13066666666666668\n",
      "PawN 0.259125\n",
      "Aries 0.29\n",
      "Brook 0.253\n",
      "Crush 0.124\n",
      "Gango 0.314\n",
      "Jelly 0.05500000000000001\n",
      "Proud 0.040999999999999995\n",
      "SSUN 0.221\n",
      "SSol 0.3155\n",
      "Spirit 0.12736363636363637\n",
      "Stitch 0.299\n",
      "Wizer 0.326\n",
      "Zenit 0.305\n",
      "Ambition 0.1479090909090909\n",
      "CoreJJ 0.06460000000000002\n",
      "GorillA 0.03736363636363637\n",
      "Kramer 0.3036\n",
      "Kuro 0.2593076923076923\n",
      "ADD 0.24866666666666667\n",
      "Asper 0.068\n",
      "Bang 0.30266666666666664\n",
      "Blank 0.1232\n",
      "Blossom 0.159\n",
      "Clever 0.255\n",
      "Crazy 0.25220000000000004\n",
      "Crown 0.2624\n",
      "Ian 0.25166666666666665\n",
      "IgNar 0.055333333333333325\n",
      "Justice 0.2385\n",
      "KaKAO 0.09699999999999999\n",
      "Leo 0.264\n",
      "MaHa 0.27999999999999997\n",
      "Max 0.07542857142857143\n",
      "Mightybear 0.13925\n",
      "Mong 0.28300000000000003\n",
      "Motive 0.05900000000000001\n",
      "Mowgli 0.1216\n",
      "Pilot 0.3088\n",
      "Pirean 0.262\n",
      "Rather 0.23099999999999998\n",
      "Rush 0.12233333333333335\n",
      "Trick 0.131\n",
      "Wolf 0.04625000000000001\n",
      "Yondu 0.12\n",
      "Beyond 0.15320000000000003\n",
      "Edge 0.27366666666666667\n",
      "Raise 0.111\n",
      "Secret 0.03966666666666666\n",
      "U Jun 0.10800000000000001\n",
      "Untara 0.24700000000000003\n",
      "Wraith 0.03642857142857143\n",
      "Huni 0.28625\n",
      "MaRin 0.27849999999999997\n",
      "Bless 0.14033333333333334\n",
      "Cepted 0.29100000000000004\n",
      "Comeback 0.074\n",
      "Crow 0.251\n",
      "Deul 0.292\n",
      "Ella 0.044000000000000004\n",
      "Helper 0.225\n",
      "Mickey 0.27166666666666667\n",
      "Shy 0.263\n",
      "Totoro 0.035\n",
      "ikssu 0.23416666666666666\n",
      "Crash 0.15766666666666665\n",
      "Expession 0.26166666666666666\n",
      "GuGer 0.037000000000000005\n",
      "Part nan\n",
      "Profit nan\n",
      "Arrow 0.274\n",
      "Duke 0.26375000000000004\n",
      "Hachani 0.0425\n",
      "LirA 0.165\n",
      "Ssumday 0.28049999999999997\n",
      "Bengi 0.1205\n",
      "Blanc 0.287\n",
      "Bubbling 0.127\n",
      "Chaser 0.1385\n",
      "Chei 0.03766666666666666\n",
      "Coco 0.267\n",
      "Cry 0.258\n",
      "Emperor 0.278\n",
      "Firetrap 0.204\n",
      "Frozen 0.249\n",
      "Fury 0.28500000000000003\n",
      "LokeN 0.28800000000000003\n",
      "MadLife 0.036000000000000004\n",
      "Pure 0.040499999999999994\n",
      "Sky 0.2765\n",
      "Sweet 0.026000000000000002\n",
      "TrAce 0.2316666666666667\n",
      "Winged 0.168\n",
      "Cpt Jack 0.287\n",
      "Flawless 0.133\n",
      "Hipo 0.23399999999999999\n",
      "SaSin 0.26899999999999996\n",
      "Scout 0.23399999999999999\n",
      "SoaR 0.254\n",
      "Soul 0.25\n",
      "Zzus 0.039\n",
      "Ggoong nan\n",
      "Hojin nan\n",
      "Nagne nan\n",
      "Ohq nan\n",
      "Piccaboo nan\n",
      "Space nan\n",
      "Watch nan\n",
      "Apple nan\n",
      "BlisS nan\n",
      "Catch nan\n",
      "Easyhoon nan\n",
      "Eve nan\n",
      "Fixer nan\n",
      "GBM nan\n",
      "Lilac nan\n",
      "Luna nan\n",
      "Paragon nan\n",
      "Roar nan\n",
      "Sonstar nan\n",
      "Spooky nan\n",
      "TANK nan\n",
      "Tom nan\n",
      "Wisdom nan\n",
      "cvMax nan\n",
      "dan nan\n",
      "do it nan\n",
      "viviD nan\n",
      "LEE nan\n",
      "Ace nan\n",
      "Ares nan\n",
      "Cain nan\n",
      "Rain nan\n",
      "XD nan\n",
      "Zefa nan\n"
     ]
    }
   ],
   "source": [
    "for i in list1:\n",
    "    mask1 = lol['아이디'] == i\n",
    "    mean_ward = lol[:][lol['아이디'] == i]['15CS비율'].mean(axis=0)\n",
    "    print(i, mean_ward)\n",
    "    \n",
    "    lol.loc[mask1,'15CS비율'] = lol.loc[mask1,'15CS비율'].fillna(mean_ward)\n",
    "\n",
    "lol.dropna(subset = ['15CS비율'], axis = 0, inplace = True) # NaN =누락데이터를 제거함."
   ]
  },
  {
   "cell_type": "code",
   "execution_count": 26,
   "metadata": {},
   "outputs": [
    {
     "data": {
      "text/plain": [
       "0"
      ]
     },
     "execution_count": 26,
     "metadata": {},
     "output_type": "execute_result"
    }
   ],
   "source": [
    "lol['15CS비율'].isnull().sum()"
   ]
  },
  {
   "cell_type": "code",
   "execution_count": 27,
   "metadata": {},
   "outputs": [
    {
     "data": {
      "text/plain": [
       "0.267    13\n",
       "0.135    12\n",
       "0.251    11\n",
       "0.262    10\n",
       "0.273    10\n",
       "         ..\n",
       "0.339     1\n",
       "0.311     1\n",
       "0.170     1\n",
       "0.159     1\n",
       "0.031     1\n",
       "Name: 15CS비율, Length: 300, dtype: int64"
      ]
     },
     "execution_count": 27,
     "metadata": {},
     "output_type": "execute_result"
    }
   ],
   "source": [
    "lol['15CS비율'].value_counts()"
   ]
  },
  {
   "cell_type": "markdown",
   "metadata": {},
   "source": [
    "## ■ PART4. 시각화를 통하여 데이터 특성 엿보기"
   ]
  },
  {
   "cell_type": "code",
   "execution_count": 28,
   "metadata": {},
   "outputs": [],
   "source": [
    "import matplotlib.pyplot as plt\n",
    "import seaborn as sns\n",
    "\n",
    "# matplotlib 한글 폰트 오류 문제 해결\n",
    "from matplotlib import font_manager, rc\n",
    "font_path = \"d:\\\\data\\\\pandas\\\\malgun.ttf\"   # 폰트파일의 위치 실습 파일 안에 있음.\n",
    "font_name = font_manager.FontProperties(fname=font_path).get_name()\n",
    "rc('font', family=font_name)"
   ]
  },
  {
   "cell_type": "code",
   "execution_count": 29,
   "metadata": {},
   "outputs": [
    {
     "name": "stdout",
     "output_type": "stream",
     "text": [
      "<class 'pandas.core.frame.DataFrame'>\n",
      "Int64Index: 899 entries, 7 to 942\n",
      "Data columns (total 26 columns):\n",
      "아이디        899 non-null object\n",
      "팀          899 non-null object\n",
      "포지션        899 non-null object\n",
      "출전횟수       899 non-null int64\n",
      "승률         899 non-null float64\n",
      "K          899 non-null int64\n",
      "D          899 non-null int64\n",
      "A          899 non-null int64\n",
      "KDA        899 non-null float64\n",
      "킬관여울       899 non-null float64\n",
      "데스관여율      899 non-null float64\n",
      "퍼스트블러드     899 non-null float64\n",
      "GD10       899 non-null float64\n",
      "CS10       899 non-null float64\n",
      "분당CS       899 non-null float64\n",
      "15CS비율     899 non-null float64\n",
      "DPM        899 non-null int64\n",
      "DMG        899 non-null float64\n",
      "분당골드       899 non-null float64\n",
      "골드비율       899 non-null float64\n",
      "분당와드       899 non-null float64\n",
      "분당와드클리어    899 non-null float64\n",
      "경기년도       899 non-null int64\n",
      "시즌         899 non-null int64\n",
      "MVP        899 non-null float64\n",
      "나이         899 non-null int64\n",
      "dtypes: float64(15), int64(8), object(3)\n",
      "memory usage: 189.6+ KB\n"
     ]
    }
   ],
   "source": [
    "lol.info()"
   ]
  },
  {
   "cell_type": "code",
   "execution_count": 30,
   "metadata": {},
   "outputs": [
    {
     "data": {
      "text/plain": [
       "Index(['아이디', '팀', '포지션', '출전횟수', '승률', 'K', 'D', 'A', 'KDA', '킬관여울', '데스관여율',\n",
       "       '퍼스트블러드', 'GD10', 'CS10', '분당CS', '15CS비율', 'DPM', 'DMG', '분당골드',\n",
       "       '골드비율', '분당와드', '분당와드클리어', '경기년도', '시즌', 'MVP', '나이'],\n",
       "      dtype='object')"
      ]
     },
     "execution_count": 30,
     "metadata": {},
     "output_type": "execute_result"
    }
   ],
   "source": [
    "lol.columns"
   ]
  },
  {
   "cell_type": "markdown",
   "metadata": {},
   "source": [
    "### ■ PART 4-1. MVP 포인트를 선수들의 Tier로 컬럼 바꾸기!"
   ]
  },
  {
   "cell_type": "code",
   "execution_count": 31,
   "metadata": {},
   "outputs": [
    {
     "data": {
      "text/plain": [
       "count    899.000000\n",
       "mean       2.394883\n",
       "std        2.843900\n",
       "min        0.000000\n",
       "25%        0.000000\n",
       "50%        1.000000\n",
       "75%        4.000000\n",
       "max       14.000000\n",
       "Name: MVP, dtype: float64"
      ]
     },
     "execution_count": 31,
     "metadata": {},
     "output_type": "execute_result"
    }
   ],
   "source": [
    "lol.MVP.describe()"
   ]
  },
  {
   "cell_type": "code",
   "execution_count": 32,
   "metadata": {},
   "outputs": [],
   "source": [
    "count, bin_dividers = np.histogram(lol['MVP'], bins = 4)"
   ]
  },
  {
   "cell_type": "code",
   "execution_count": 33,
   "metadata": {},
   "outputs": [
    {
     "name": "stdout",
     "output_type": "stream",
     "text": [
      "[657 156  69  17]\n",
      "\n",
      "\n",
      "\n",
      "[ 0.   3.5  7.  10.5 14. ]\n"
     ]
    }
   ],
   "source": [
    "print(count) \n",
    "print('\\n\\n')\n",
    "print(bin_dividers)   "
   ]
  },
  {
   "cell_type": "markdown",
   "metadata": {},
   "source": [
    "### ※ mapping을 통하여 4가지 종류로 Tier를 나누기."
   ]
  },
  {
   "cell_type": "code",
   "execution_count": 34,
   "metadata": {},
   "outputs": [],
   "source": [
    "mvp_mapping = {0:4, 1:4, 2:4,\n",
    "                3:4, 4:3, 5:3, 6:3, 7: 3, 8: 2, 9: 2, 10: 2, 11: 1,\n",
    "                 12: 1, 13: 1, 14:1} # 이름 성 마다 숫자지정\n",
    "\n",
    "\n",
    "lol['Tier'] = lol['MVP'].map(mvp_mapping) "
   ]
  },
  {
   "cell_type": "markdown",
   "metadata": {},
   "source": [
    "### ※ MVP 컬럼 제거하기"
   ]
  },
  {
   "cell_type": "code",
   "execution_count": 35,
   "metadata": {},
   "outputs": [],
   "source": [
    "lol.drop(['MVP'], axis=1, inplace=True)"
   ]
  },
  {
   "cell_type": "code",
   "execution_count": 36,
   "metadata": {},
   "outputs": [
    {
     "data": {
      "text/plain": [
       "Index(['아이디', '팀', '포지션', '출전횟수', '승률', 'K', 'D', 'A', 'KDA', '킬관여울', '데스관여율',\n",
       "       '퍼스트블러드', 'GD10', 'CS10', '분당CS', '15CS비율', 'DPM', 'DMG', '분당골드',\n",
       "       '골드비율', '분당와드', '분당와드클리어', '경기년도', '시즌', '나이', 'Tier'],\n",
       "      dtype='object')"
      ]
     },
     "execution_count": 36,
     "metadata": {},
     "output_type": "execute_result"
    }
   ],
   "source": [
    "lol.columns"
   ]
  },
  {
   "cell_type": "markdown",
   "metadata": {},
   "source": [
    "### ■ PART 4-2. 간단한 EDA 보기"
   ]
  },
  {
   "cell_type": "code",
   "execution_count": 37,
   "metadata": {
    "scrolled": true
   },
   "outputs": [
    {
     "data": {
      "image/png": "[encoded data removed]",
      "text/plain": [
       "<Figure size 1440x720 with 2 Axes>"
      ]
     },
     "metadata": {
      "needs_background": "light"
     },
     "output_type": "display_data"
    }
   ],
   "source": [
    "lol1 = lol.loc[:, ['출전횟수', '승률', 'K', 'D', 'A', 'KDA', '킬관여울', '데스관여율',\n",
    "       '퍼스트블러드',  'Tier']]\n",
    "\n",
    "sns.heatmap(lol1.corr(), xticklabels = lol1.columns, yticklabels = lol1.columns, annot = True, cmap=sns.diverging_palette(40, 10, as_cmap=True),  linewidths = 1)\n",
    "fig = plt.gcf()\n",
    "fig.set_size_inches(20,10)\n",
    "plt.show()"
   ]
  },
  {
   "cell_type": "code",
   "execution_count": 38,
   "metadata": {},
   "outputs": [
    {
     "data": {
      "image/png": "[encoded data removed]",
      "text/plain": [
       "<Figure size 1440x1440 with 2 Axes>"
      ]
     },
     "metadata": {
      "needs_background": "light"
     },
     "output_type": "display_data"
    }
   ],
   "source": [
    "lol2 = lol.loc[:, ['GD10', 'CS10', '분당CS', '15CS비율', 'DPM', 'DMG', '분당골드',\n",
    "       '골드비율', '분당와드', '분당와드클리어', '경기년도', '시즌', 'Tier', '나이']]\n",
    "\n",
    "plt.figure(figsize = (20,20))\n",
    "sns.heatmap(lol2.corr(), xticklabels = lol2.columns, yticklabels = lol2.columns, annot = True, cmap=sns.diverging_palette(40, 10, as_cmap=True),  linewidths = 1)\n",
    "\n",
    "plt.show()"
   ]
  },
  {
   "cell_type": "code",
   "execution_count": 40,
   "metadata": {},
   "outputs": [
    {
     "data": {
      "image/png": "[encoded data removed]",
      "text/plain": [
       "<Figure size 1440x1440 with 2 Axes>"
      ]
     },
     "metadata": {
      "needs_background": "light"
     },
     "output_type": "display_data"
    }
   ],
   "source": [
    "lol3 = lol.loc[:, ['출전횟수', '승률', 'K', 'D', 'A', 'KDA', '킬관여울', '데스관여율',\n",
    "       '퍼스트블러드', 'GD10', 'CS10', '분당CS', '15CS비율', 'DPM', 'DMG', '분당골드',\n",
    "       '골드비율', '분당와드', '분당와드클리어', '경기년도', '시즌', '나이', 'Tier']]\n",
    "\n",
    "plt.figure(figsize = (20,20))\n",
    "sns.heatmap(lol3.corr(), xticklabels = lol3.columns, yticklabels = lol3.columns, annot = True, cmap=sns.diverging_palette(40, 10, as_cmap=True),  linewidths = 1)\n",
    "\n",
    "plt.show()"
   ]
  },
  {
   "cell_type": "code",
   "execution_count": 42,
   "metadata": {},
   "outputs": [
    {
     "data": {
      "text/plain": [
       "<matplotlib.axes._subplots.AxesSubplot at 0x19a63f8c488>"
      ]
     },
     "execution_count": 42,
     "metadata": {},
     "output_type": "execute_result"
    },
    {
     "data": {
      "image/png": "[encoded data removed]",
      "text/plain": [
       "<Figure size 432x288 with 1 Axes>"
      ]
     },
     "metadata": {
      "needs_background": "light"
     },
     "output_type": "display_data"
    }
   ],
   "source": [
    "sns.barplot(lol['경기년도'], lol['Tier'])"
   ]
  },
  {
   "cell_type": "code",
   "execution_count": 424,
   "metadata": {},
   "outputs": [
    {
     "data": {
      "text/plain": [
       "count     899.000000\n",
       "mean     2017.233593\n",
       "std         1.350140\n",
       "min      2015.000000\n",
       "25%      2016.000000\n",
       "50%      2017.000000\n",
       "75%      2018.000000\n",
       "max      2019.000000\n",
       "Name: 경기년도, dtype: float64"
      ]
     },
     "execution_count": 424,
     "metadata": {},
     "output_type": "execute_result"
    }
   ],
   "source": [
    "lol['경기년도'].describe()"
   ]
  },
  {
   "cell_type": "code",
   "execution_count": 425,
   "metadata": {},
   "outputs": [
    {
     "data": {
      "text/plain": [
       "<matplotlib.axes._subplots.AxesSubplot at 0x1e895ead048>"
      ]
     },
     "execution_count": 425,
     "metadata": {},
     "output_type": "execute_result"
    },
    {
     "data": {
      "image/png": "[encoded data removed]",
      "text/plain": [
       "<Figure size 432x288 with 1 Axes>"
      ]
     },
     "metadata": {
      "needs_background": "light"
     },
     "output_type": "display_data"
    }
   ],
   "source": [
    "sns.distplot(lol['출전횟수'])"
   ]
  },
  {
   "cell_type": "code",
   "execution_count": 426,
   "metadata": {},
   "outputs": [
    {
     "data": {
      "text/plain": [
       "<matplotlib.axes._subplots.AxesSubplot at 0x1e895f36b08>"
      ]
     },
     "execution_count": 426,
     "metadata": {},
     "output_type": "execute_result"
    },
    {
     "data": {
      "image/png": "[encoded data removed]",
      "text/plain": [
       "<Figure size 432x288 with 1 Axes>"
      ]
     },
     "metadata": {
      "needs_background": "light"
     },
     "output_type": "display_data"
    }
   ],
   "source": [
    "sns.distplot(lol['Tier'])"
   ]
  },
  {
   "cell_type": "code",
   "execution_count": 427,
   "metadata": {},
   "outputs": [
    {
     "data": {
      "text/plain": [
       "count    899.000000\n",
       "mean       3.642937\n",
       "std        0.666058\n",
       "min        1.000000\n",
       "25%        3.000000\n",
       "50%        4.000000\n",
       "75%        4.000000\n",
       "max        4.000000\n",
       "Name: Tier, dtype: float64"
      ]
     },
     "execution_count": 427,
     "metadata": {},
     "output_type": "execute_result"
    }
   ],
   "source": [
    "lol['Tier'].describe()"
   ]
  },
  {
   "cell_type": "code",
   "execution_count": 428,
   "metadata": {},
   "outputs": [
    {
     "data": {
      "text/plain": [
       "Text(0, 0.5, 'Tier')"
      ]
     },
     "execution_count": 428,
     "metadata": {},
     "output_type": "execute_result"
    },
    {
     "data": {
      "image/png": "[encoded data removed]",
      "text/plain": [
       "<Figure size 432x288 with 1 Axes>"
      ]
     },
     "metadata": {
      "needs_background": "light"
     },
     "output_type": "display_data"
    }
   ],
   "source": [
    "plt.scatter(lol['출전횟수'],lol['Tier'])\n",
    "plt.xlabel('출전횟수')\n",
    "plt.ylabel('Tier')"
   ]
  },
  {
   "cell_type": "code",
   "execution_count": 429,
   "metadata": {},
   "outputs": [
    {
     "data": {
      "text/plain": [
       "포지션\n",
       "ADC        3.726190\n",
       "Jungle     3.619792\n",
       "Middle     3.432584\n",
       "Support    3.836257\n",
       "Top        3.615789\n",
       "Name: Tier, dtype: float64"
      ]
     },
     "execution_count": 429,
     "metadata": {},
     "output_type": "execute_result"
    }
   ],
   "source": [
    "lol.groupby('포지션')['Tier'].mean()"
   ]
  },
  {
   "cell_type": "code",
   "execution_count": 430,
   "metadata": {},
   "outputs": [
    {
     "data": {
      "text/plain": [
       "<seaborn.axisgrid.FacetGrid at 0x1e895e8ba08>"
      ]
     },
     "execution_count": 430,
     "metadata": {},
     "output_type": "execute_result"
    },
    {
     "data": {
      "image/png": "[encoded data removed]",
      "text/plain": [
       "<Figure size 576x288 with 1 Axes>"
      ]
     },
     "metadata": {
      "needs_background": "light"
     },
     "output_type": "display_data"
    }
   ],
   "source": [
    "plt.rc('font',family='Malgun Gothic')\n",
    "a=sns.factorplot('포지션','Tier',data=lol,size=4,aspect=2)\n",
    "a.set_xticklabels(rotation=90)"
   ]
  },
  {
   "cell_type": "code",
   "execution_count": 431,
   "metadata": {},
   "outputs": [
    {
     "data": {
      "text/plain": [
       "<matplotlib.axes._subplots.AxesSubplot at 0x1e89635f5c8>"
      ]
     },
     "execution_count": 431,
     "metadata": {},
     "output_type": "execute_result"
    },
    {
     "data": {
      "image/png": "[encoded data removed]",
      "text/plain": [
       "<Figure size 432x288 with 1 Axes>"
      ]
     },
     "metadata": {
      "needs_background": "light"
     },
     "output_type": "display_data"
    }
   ],
   "source": [
    "sns.distplot(lol['K'])"
   ]
  },
  {
   "cell_type": "code",
   "execution_count": 432,
   "metadata": {},
   "outputs": [
    {
     "data": {
      "text/plain": [
       "<matplotlib.axes._subplots.AxesSubplot at 0x1e89637e908>"
      ]
     },
     "execution_count": 432,
     "metadata": {},
     "output_type": "execute_result"
    },
    {
     "data": {
      "image/png": "[encoded data removed]",
      "text/plain": [
       "<Figure size 432x288 with 1 Axes>"
      ]
     },
     "metadata": {
      "needs_background": "light"
     },
     "output_type": "display_data"
    }
   ],
   "source": [
    "sns.distplot(lol['D'])"
   ]
  },
  {
   "cell_type": "code",
   "execution_count": 433,
   "metadata": {},
   "outputs": [
    {
     "data": {
      "text/plain": [
       "<matplotlib.axes._subplots.AxesSubplot at 0x1e896342a88>"
      ]
     },
     "execution_count": 433,
     "metadata": {},
     "output_type": "execute_result"
    },
    {
     "data": {
      "image/png": "[encoded data removed]",
      "text/plain": [
       "<Figure size 432x288 with 1 Axes>"
      ]
     },
     "metadata": {
      "needs_background": "light"
     },
     "output_type": "display_data"
    }
   ],
   "source": [
    "sns.distplot(lol['A'])"
   ]
  },
  {
   "cell_type": "code",
   "execution_count": 434,
   "metadata": {},
   "outputs": [
    {
     "data": {
      "text/plain": [
       "<matplotlib.axes._subplots.AxesSubplot at 0x1e896371ec8>"
      ]
     },
     "execution_count": 434,
     "metadata": {},
     "output_type": "execute_result"
    },
    {
     "data": {
      "image/png": "[encoded data removed]",
      "text/plain": [
       "<Figure size 432x288 with 1 Axes>"
      ]
     },
     "metadata": {
      "needs_background": "light"
     },
     "output_type": "display_data"
    }
   ],
   "source": [
    "sns.distplot(lol['KDA'])"
   ]
  },
  {
   "cell_type": "markdown",
   "metadata": {},
   "source": [
    "## ■ PART5. 파생변수 만들기"
   ]
  },
  {
   "cell_type": "markdown",
   "metadata": {},
   "source": [
    "### ■ PART 5-1. K승률 \n",
    "\n",
    "\" 킬이 높을수록 승률이 높다.\""
   ]
  },
  {
   "cell_type": "code",
   "execution_count": 435,
   "metadata": {},
   "outputs": [
    {
     "data": {
      "text/plain": [
       "count    899.000000\n",
       "mean      49.548387\n",
       "std       49.083342\n",
       "min        0.000000\n",
       "25%        8.000000\n",
       "50%       29.000000\n",
       "75%       89.000000\n",
       "max      207.000000\n",
       "Name: K, dtype: float64"
      ]
     },
     "execution_count": 435,
     "metadata": {},
     "output_type": "execute_result"
    }
   ],
   "source": [
    "lol.K.describe()"
   ]
  },
  {
   "cell_type": "code",
   "execution_count": 436,
   "metadata": {},
   "outputs": [
    {
     "data": {
      "text/plain": [
       "count    899.000000\n",
       "mean       0.445539\n",
       "std        0.259447\n",
       "min        0.000000\n",
       "25%        0.280000\n",
       "50%        0.490000\n",
       "75%        0.640000\n",
       "max        1.000000\n",
       "Name: 승률, dtype: float64"
      ]
     },
     "execution_count": 436,
     "metadata": {},
     "output_type": "execute_result"
    }
   ],
   "source": [
    "lol.승률.describe()"
   ]
  },
  {
   "cell_type": "code",
   "execution_count": 437,
   "metadata": {},
   "outputs": [],
   "source": [
    "# 파생변수 추가(매핑추가)\n",
    "lol.loc[(lol['K'] <= 19) & (lol['승률'] <= 0.31)  & (lol['출전횟수'] > 5), 'K승률'] = 1,\n",
    "lol.loc[(lol['K'] > 19 ) & (lol['K']  <= 52) & (lol['승률'] > 0.31) & (lol['승률'] <= 0.50) & (lol['출전횟수'] > 5), 'K승률'] = 2,\n",
    "lol.loc[(lol['K'] > 52 ) & (lol['K']  <= 101) & (lol['승률'] > 0.50) & (lol['승률'] <= 0.65) & (lol['출전횟수'] > 5) , 'K승률'] = 3,\n",
    "lol.loc[(lol['K'] > 101 ) & (lol['K']  <= 208) & (lol['승률'] > 0.65) & (lol['승률'] <= 1) & (lol['출전횟수'] > 5), 'K승률'] = 4\n",
    "lol['K승률'].fillna (0, inplace=True) # 결측치는 0으로 채우기"
   ]
  },
  {
   "cell_type": "markdown",
   "metadata": {},
   "source": [
    "### ■ PART 5-2. 은퇴\n",
    "\n",
    "\" 나이가 많을수록 은퇴한다.\""
   ]
  },
  {
   "cell_type": "code",
   "execution_count": 438,
   "metadata": {},
   "outputs": [
    {
     "data": {
      "text/plain": [
       "count    899.000000\n",
       "mean      23.774194\n",
       "std        2.363221\n",
       "min       19.000000\n",
       "25%       22.000000\n",
       "50%       24.000000\n",
       "75%       25.000000\n",
       "max       31.000000\n",
       "Name: 나이, dtype: float64"
      ]
     },
     "execution_count": 438,
     "metadata": {},
     "output_type": "execute_result"
    }
   ],
   "source": [
    "lol.나이.describe()"
   ]
  },
  {
   "cell_type": "code",
   "execution_count": 439,
   "metadata": {},
   "outputs": [],
   "source": [
    "lol.loc[(lol['나이'] <= 20) & (lol['출전횟수'] > 5), '은퇴'] = 4,\n",
    "lol.loc[(lol['나이'] > 20) & (lol['나이'] <= 23)  & (lol['출전횟수'] > 5), '은퇴'] = 3,\n",
    "lol.loc[(lol['나이'] > 23) & (lol['나이'] <= 25)  & (lol['출전횟수'] > 5), '은퇴'] = 2,\n",
    "lol.loc[(lol['나이'] > 25) & (lol['나이'] <= 40)  & (lol['출전횟수'] > 5), '은퇴'] = 1,\n",
    "lol['은퇴'].fillna(0, inplace=True) # 결측치는 0으로 채우기."
   ]
  },
  {
   "cell_type": "markdown",
   "metadata": {},
   "source": [
    "###  ■ PART 5-3. KA\n",
    "\n",
    "\" 킬이 높을수록 KDA 수치가 높다.\""
   ]
  },
  {
   "cell_type": "code",
   "execution_count": 440,
   "metadata": {},
   "outputs": [],
   "source": [
    "lol.loc[(lol['K'] <= 8) & (lol['KDA'] <= 2.2 ) & (lol['출전횟수'] > 5), 'KA'] = 4,\n",
    "lol.loc[(lol['K'] > 8) & (lol['K'] <= 31) & (lol['KDA'] > 2.2) & (lol['KDA'] <= 3.3) & (lol['출전횟수'] > 5), 'KA'] = 3,\n",
    "lol.loc[(lol['K'] > 31) & (lol['K'] <= 89) & (lol['KDA'] > 3.3) & (lol['KDA'] <= 4.4)  & (lol['출전횟수'] > 5), 'KA'] = 2,\n",
    "lol.loc[(lol['K'] > 89) & (lol['K'] <= 207) & (lol['KDA'] > 4.4) & (lol['KDA'] <= 18.5)  & (lol['출전횟수'] > 5), 'KA'] = 1,\n",
    "lol['KA'].fillna(method='ffill', inplace=True)\n",
    "lol['KA'].fillna(0, inplace=True)"
   ]
  },
  {
   "cell_type": "markdown",
   "metadata": {},
   "source": [
    "## ■ PART6. 모델링"
   ]
  },
  {
   "cell_type": "markdown",
   "metadata": {},
   "source": [
    "### ■ PART 6-1. train data 와 test data 나누기"
   ]
  },
  {
   "cell_type": "code",
   "execution_count": 441,
   "metadata": {},
   "outputs": [],
   "source": [
    "train = lol.loc[lol['경기년도'] <= 2018]\n",
    "test = lol.loc[lol['경기년도'] == 2019]"
   ]
  },
  {
   "cell_type": "code",
   "execution_count": 442,
   "metadata": {},
   "outputs": [
    {
     "data": {
      "text/plain": [
       "아이디        0\n",
       "팀          0\n",
       "포지션        0\n",
       "출전횟수       0\n",
       "승률         0\n",
       "K          0\n",
       "D          0\n",
       "A          0\n",
       "KDA        0\n",
       "킬관여울       0\n",
       "데스관여율      0\n",
       "퍼스트블러드     0\n",
       "GD10       0\n",
       "CS10       0\n",
       "분당CS       0\n",
       "15CS비율     0\n",
       "DPM        0\n",
       "DMG        0\n",
       "분당골드       0\n",
       "골드비율       0\n",
       "분당와드       0\n",
       "분당와드클리어    0\n",
       "경기년도       0\n",
       "시즌         0\n",
       "나이         0\n",
       "Tier       0\n",
       "K승률        0\n",
       "은퇴         0\n",
       "KA         0\n",
       "dtype: int64"
      ]
     },
     "execution_count": 442,
     "metadata": {},
     "output_type": "execute_result"
    }
   ],
   "source": [
    "test.isnull().sum()"
   ]
  },
  {
   "cell_type": "markdown",
   "metadata": {},
   "source": [
    "### ■ PART 6-2. 독립변수 및 종속변수 지정하기"
   ]
  },
  {
   "cell_type": "code",
   "execution_count": 443,
   "metadata": {},
   "outputs": [],
   "source": [
    "X1 = train[[ '출전횟수', '승률', 'K',  'KDA', '킬관여울', '데스관여율',\n",
    "       '퍼스트블러드',  '분당CS', '15CS비율', 'DPM', '골드비율', 'DMG',\n",
    "        '경기년도', '나이', 'K승률', '은퇴', 'CS10',  '시즌', '분당와드', 'GD10', 'KA']]\n",
    "\n",
    "X2 = test[[ '출전횟수', '승률', 'K', 'KDA', '킬관여울', '데스관여율',\n",
    "       '퍼스트블러드',  '분당CS', '15CS비율', 'DPM', '골드비율', 'DMG',\n",
    "         '경기년도', '나이', 'K승률', '은퇴', 'CS10',  '시즌', '분당와드', 'GD10', 'KA']]\n",
    "\n",
    "y = train['Tier']\n",
    "y_test = test['Tier']"
   ]
  },
  {
   "cell_type": "code",
   "execution_count": 444,
   "metadata": {},
   "outputs": [
    {
     "name": "stdout",
     "output_type": "stream",
     "text": [
      "train data 개수:  (692, 21)\n",
      "test data 개수:  (207, 21)\n"
     ]
    }
   ],
   "source": [
    "print('train data 개수: ', X1.shape)\n",
    "print('test data 개수: ', X2.shape)"
   ]
  },
  {
   "cell_type": "markdown",
   "metadata": {},
   "source": [
    "### ■ PART 6-3. 정규화 하기"
   ]
  },
  {
   "cell_type": "code",
   "execution_count": 445,
   "metadata": {},
   "outputs": [],
   "source": [
    "from sklearn import preprocessing\n",
    "X1 = preprocessing.StandardScaler().fit(X1).transform(X1) # train 데이터 정규화\n",
    "X2 = preprocessing.StandardScaler().fit(X2).transform(X2) # test 데이터 정규화"
   ]
  },
  {
   "cell_type": "code",
   "execution_count": 446,
   "metadata": {},
   "outputs": [
    {
     "data": {
      "text/plain": [
       "array([[-1.23817909, -1.78489414, -0.90232117, ..., -1.00196278,\n",
       "        -1.07040903, -1.21596698],\n",
       "       [-1.12453496, -0.79904813, -0.86185414, ..., -0.49303153,\n",
       "         0.67416849, -1.21596698],\n",
       "       [-0.78360256,  0.18679787, -0.39648331, ..., -0.44456188,\n",
       "         0.44356341, -1.21596698],\n",
       "       ...,\n",
       "       [-1.29500116, -1.78489414, -1.02372225, ...,  1.03376223,\n",
       "         0.65411587, -0.06644628],\n",
       "       [-0.21538191,  1.17264388, -0.78092008, ...,  1.17917116,\n",
       "         0.62403695, -0.06644628],\n",
       "       [ 0.46648288, -1.03565118, -0.76068657, ...,  1.10646669,\n",
       "        -0.82977765,  1.08307441]])"
      ]
     },
     "execution_count": 446,
     "metadata": {},
     "output_type": "execute_result"
    }
   ],
   "source": [
    "X1"
   ]
  },
  {
   "cell_type": "code",
   "execution_count": 447,
   "metadata": {},
   "outputs": [
    {
     "data": {
      "text/plain": [
       "array([[-1.09253008, -0.33245929, -0.7146661 , ..., -0.78535608,\n",
       "        -0.15960608, -1.51336696],\n",
       "       [-1.09253008, -1.52710916, -0.94555354, ...,  3.03051053,\n",
       "        -1.8716484 , -1.51336696],\n",
       "       [-1.09253008, -1.52710916, -0.86159447, ...,  0.32316383,\n",
       "        -2.5198494 , -1.51336696],\n",
       "       ...,\n",
       "       [ 1.00634441,  1.33281022,  2.03499345, ..., -0.78535608,\n",
       "         1.10215922, -0.74177346],\n",
       "       [-1.20913422, -1.52710916, -0.96654331, ..., -0.70008531,\n",
       "        -0.12991748, -0.74177346],\n",
       "       [ 0.24841751, -0.26005627,  0.54471996, ..., -0.91326222,\n",
       "         0.15212417, -0.74177346]])"
      ]
     },
     "execution_count": 447,
     "metadata": {},
     "output_type": "execute_result"
    }
   ],
   "source": [
    "X2"
   ]
  },
  {
   "cell_type": "markdown",
   "metadata": {},
   "source": [
    "## ■ PART7. 여러가지 모델로 정확도 도출하기"
   ]
  },
  {
   "cell_type": "markdown",
   "metadata": {},
   "source": [
    "### ■ PART 7-1. XGBoost"
   ]
  },
  {
   "cell_type": "code",
   "execution_count": 448,
   "metadata": {},
   "outputs": [
    {
     "name": "stdout",
     "output_type": "stream",
     "text": [
      "[4 4 4 4 4 4 4 4 4 4 4 4 4 4 4 4 4 4 4 4]\n",
      "[4 4 4 4 2 4 4 4 4 4 4 4 3 4 4 4 4 4 4 4]\n",
      "              precision    recall  f1-score   support\n",
      "\n",
      "           1       0.00      0.00      0.00         2\n",
      "           2       0.75      0.27      0.40        11\n",
      "           3       0.62      0.66      0.64        38\n",
      "           4       0.91      0.95      0.93       156\n",
      "\n",
      "    accuracy                           0.85       207\n",
      "   macro avg       0.57      0.47      0.49       207\n",
      "weighted avg       0.84      0.85      0.84       207\n",
      " \n",
      "\n",
      "정확도 =  0.8502\n",
      "mse =  0.4396\n"
     ]
    }
   ],
   "source": [
    "# 머신러닝 기법 코드\n",
    "from xgboost import XGBClassifier\n",
    "\n",
    "\n",
    "xgb_model = XGBClassifier()\n",
    "xgb_model.fit(X1,y)\n",
    "\n",
    "\n",
    "y_pred = xgb_model.predict(X2)\n",
    "\n",
    "print(y_pred[0:20]) # 예측데이터 10개\n",
    "print(y_test.values[0:20]) # 실제 데이터 10개\n",
    "\n",
    "\n",
    "# F1-report 확인코드\n",
    "from sklearn import metrics\n",
    "\n",
    "f1_report = metrics.classification_report(y_test, y_pred)\n",
    "print(f1_report,'\\n')\n",
    "\n",
    "\n",
    "from sklearn.metrics import accuracy_score\n",
    "accuracy = round(accuracy_score(y_test, y_pred),4)\n",
    "\n",
    "print('정확도 = ' , accuracy) # 1.0\n",
    "\n",
    "\n",
    "# MSE 구하기 (mean square error)\n",
    "real = test['Tier']\n",
    "pred = y_pred\n",
    "# ab = test['출전횟수']\n",
    "\n",
    "\n",
    "from sklearn.metrics import mean_squared_error\n",
    "mse = round(mean_squared_error(real,pred) ** 0.5,4)\n",
    "print('mse = ', mse)"
   ]
  },
  {
   "cell_type": "markdown",
   "metadata": {},
   "source": [
    "### ■ PART 7-2. lightGBM"
   ]
  },
  {
   "cell_type": "code",
   "execution_count": 449,
   "metadata": {},
   "outputs": [
    {
     "name": "stdout",
     "output_type": "stream",
     "text": [
      "[4 4 4 4 4 4 4 4 4 4 4 4 4 4 4 4 4 4 4 4]\n",
      "[4 4 4 4 2 4 4 4 4 4 4 4 3 4 4 4 4 4 4 4]\n",
      "              precision    recall  f1-score   support\n",
      "\n",
      "           1       0.00      0.00      0.00         2\n",
      "           2       0.80      0.36      0.50        11\n",
      "           3       0.62      0.68      0.65        38\n",
      "           4       0.91      0.93      0.92       156\n",
      "\n",
      "    accuracy                           0.85       207\n",
      "   macro avg       0.58      0.49      0.52       207\n",
      "weighted avg       0.84      0.85      0.84       207\n",
      " \n",
      "\n",
      "정확도 =  0.8454\n",
      "mse =  0.4865\n"
     ]
    }
   ],
   "source": [
    "from lightgbm import LGBMClassifier\n",
    "\n",
    "lgb_model= LGBMClassifier() \n",
    "lgb_model.fit(X1, y)   \n",
    "\n",
    "y_pred = lgb_model.predict(X2)\n",
    "\n",
    "print(y_pred[0:20]) # 예측데이터 10개\n",
    "print(y_test.values[0:20]) # 실제 데이터 10개\n",
    "\n",
    "\n",
    "# F1-report 확인코드\n",
    "from sklearn import metrics\n",
    "\n",
    "f1_report = metrics.classification_report(y_test, y_pred)\n",
    "print(f1_report,'\\n')\n",
    "\n",
    "\n",
    "from sklearn.metrics import accuracy_score\n",
    "accuracy = round(accuracy_score(y_test, y_pred),4)\n",
    "\n",
    "print('정확도 = ' , accuracy) # 1.0\n",
    "\n",
    "\n",
    "# MSE 구하기 (mean square error)\n",
    "real = test['Tier']\n",
    "pred = y_pred\n",
    "# ab = test['출전횟수']\n",
    "\n",
    "\n",
    "from sklearn.metrics import mean_squared_error\n",
    "mse = round(mean_squared_error(real,pred) ** 0.5,4)\n",
    "print('mse = ', mse)"
   ]
  },
  {
   "cell_type": "markdown",
   "metadata": {},
   "source": [
    "### ■ PART 7-3. SVM"
   ]
  },
  {
   "cell_type": "code",
   "execution_count": 450,
   "metadata": {},
   "outputs": [
    {
     "name": "stdout",
     "output_type": "stream",
     "text": [
      "[4 4 4 4 4 4 4 4 4 4 4 4 4 4 4 4 4 4 4 4]\n",
      "[4 4 4 4 2 4 4 4 4 4 4 4 3 4 4 4 4 4 4 4]\n",
      "              precision    recall  f1-score   support\n",
      "\n",
      "           1       0.00      0.00      0.00         2\n",
      "           2       0.00      0.00      0.00        11\n",
      "           3       0.50      0.16      0.24        38\n",
      "           4       0.78      0.98      0.87       156\n",
      "\n",
      "    accuracy                           0.77       207\n",
      "   macro avg       0.32      0.28      0.28       207\n",
      "weighted avg       0.68      0.77      0.70       207\n",
      " \n",
      "\n",
      "정확도 =  0.7681\n",
      "mse =  0.652\n"
     ]
    }
   ],
   "source": [
    "# sklearn 라이브러리에서 SVM 분류 모형 가져오기\n",
    "from sklearn import svm\n",
    "\n",
    "# 모형 객체 생성 (kernel='rbf' 적용)\n",
    "svm_model = svm.SVC(kernel='rbf', C = 10, gamma = 0.5)\n",
    "\n",
    "# train data를 가지고 모형 학습\n",
    "svm_model.fit(X1, y)   \n",
    "\n",
    "# test data를 가지고 y_hat을 예측 (분류) \n",
    "y_pred = svm_model.predict(X2)\n",
    "\n",
    "print(y_pred[0:20]) # 예측데이터 10개\n",
    "print(y_test.values[0:20]) # 실제 데이터 10개\n",
    "\n",
    "\n",
    "# F1-report 확인코드\n",
    "from sklearn import metrics\n",
    "\n",
    "f1_report = metrics.classification_report(y_test, y_pred)\n",
    "print(f1_report,'\\n')\n",
    "\n",
    "\n",
    "from sklearn.metrics import accuracy_score\n",
    "accuracy = round(accuracy_score(y_test, y_pred),4)\n",
    "\n",
    "print('정확도 = ' , accuracy) # 1.0\n",
    "\n",
    "\n",
    "# MSE 구하기 (mean square error)\n",
    "real = test['Tier']\n",
    "pred = y_pred\n",
    "# ab = test['출전횟수']\n",
    "\n",
    "\n",
    "from sklearn.metrics import mean_squared_error\n",
    "mse = round(mean_squared_error(real,pred) ** 0.5,4)\n",
    "print('mse = ', mse)"
   ]
  },
  {
   "cell_type": "markdown",
   "metadata": {},
   "source": [
    "### ■ PART 7-4. RandomForest"
   ]
  },
  {
   "cell_type": "code",
   "execution_count": 451,
   "metadata": {},
   "outputs": [
    {
     "name": "stdout",
     "output_type": "stream",
     "text": [
      "[4 4 4 4 3 4 4 4 4 4 4 4 4 4 4 4 4 4 4 4]\n",
      "[4 4 4 4 2 4 4 4 4 4 4 4 3 4 4 4 4 4 4 4]\n",
      "              precision    recall  f1-score   support\n",
      "\n",
      "           1       0.00      0.00      0.00         2\n",
      "           2       0.50      0.09      0.15        11\n",
      "           3       0.46      0.55      0.50        38\n",
      "           4       0.89      0.90      0.89       156\n",
      "\n",
      "    accuracy                           0.78       207\n",
      "   macro avg       0.46      0.39      0.39       207\n",
      "weighted avg       0.78      0.78      0.77       207\n",
      " \n",
      "\n",
      "정확도 =  0.7826\n",
      "mse =  0.5473\n"
     ]
    }
   ],
   "source": [
    "from  sklearn.ensemble import  RandomForestClassifier \n",
    "\n",
    "tree_model = RandomForestClassifier()  \n",
    "\n",
    "tree_model.fit( X1, y)\n",
    "\n",
    "# 7단계 테스트 데이터로 예측을 한다.\n",
    "\n",
    "y_pred = tree_model.predict(X2)\n",
    "\n",
    "print(y_pred[0:20]) # 예측데이터 10개\n",
    "print(y_test.values[0:20]) # 실제 데이터 10개\n",
    "\n",
    "\n",
    "# F1-report 확인코드\n",
    "from sklearn import metrics\n",
    "\n",
    "f1_report = metrics.classification_report(y_test, y_pred)\n",
    "print(f1_report,'\\n')\n",
    "\n",
    "\n",
    "from sklearn.metrics import accuracy_score\n",
    "accuracy = round(accuracy_score(y_test, y_pred),4)\n",
    "\n",
    "print('정확도 = ' , accuracy) # 1.0\n",
    "\n",
    "\n",
    "# MSE 구하기 (mean square error)\n",
    "real = test['Tier']\n",
    "pred = y_pred\n",
    "# ab = test['출전횟수']\n",
    "\n",
    "\n",
    "from sklearn.metrics import mean_squared_error\n",
    "mse = round(mean_squared_error(real,pred) ** 0.5,4)\n",
    "print('mse = ', mse)"
   ]
  },
  {
   "cell_type": "markdown",
   "metadata": {},
   "source": [
    "### ※ 4가지 머신러닝 기법중에서 XGBoost가 가장 정확도가 높은것을 확인할 수 있었다."
   ]
  },
  {
   "cell_type": "markdown",
   "metadata": {},
   "source": [
    "### ■ PART 7-5. XGBoost parameter 최적화"
   ]
  },
  {
   "cell_type": "code",
   "execution_count": 452,
   "metadata": {},
   "outputs": [
    {
     "name": "stdout",
     "output_type": "stream",
     "text": [
      "tree depth        7.000000\n",
      "subsample rate    0.200000\n",
      "accuracy          0.855072\n",
      "Name: 15, dtype: float64\n",
      "max_depth 7\n",
      "max_subsample_rate 0.2\n"
     ]
    }
   ],
   "source": [
    "from xgboost import XGBClassifier\n",
    "from sklearn import metrics\n",
    "hr2_accuracy_list = []\n",
    "\n",
    "max_depth_list = [1,3,5,7,9,11,13]\n",
    "subsample_list = [0.2, 0.4, 0.6, 0.8, 1.0]\n",
    "\n",
    "def hr2_grid_search(max_depth, subsample): \n",
    "    xgb_model = xgb.XGBClassifier(max_depth=max_depth,\n",
    "                              subsample=subsample)\n",
    "    xgb_pred = xgb_model.fit(X1, y).predict(X2)\n",
    "    \n",
    "    return([max_depth, subsample, accuracy_score(y_test, xgb_pred)])\n",
    "      \n",
    "\n",
    "for max_depth in max_depth_list:\n",
    "    for subsample in subsample_list:\n",
    "        hr2_accuracy_list.append(hr2_grid_search(max_depth, subsample))\n",
    "    \n",
    "hr2_xgb_df = pd.DataFrame(hr2_accuracy_list, columns=['tree depth', 'subsample rate', 'accuracy'])\n",
    "\n",
    "result = hr2_xgb_df.sort_values(by = 'accuracy', ascending = False)\n",
    "print(result.iloc[0])\n",
    "print('max_depth', result.iloc[0,0])\n",
    "print('max_subsample_rate', result.iloc[0,1])"
   ]
  },
  {
   "cell_type": "markdown",
   "metadata": {},
   "source": [
    "### ■ PART 7-6. 최적화한 파라미터를 적용하여 정확도 출력하기!"
   ]
  },
  {
   "cell_type": "code",
   "execution_count": 453,
   "metadata": {},
   "outputs": [
    {
     "name": "stdout",
     "output_type": "stream",
     "text": [
      "[4 4 4 4 4 4 4 4 4 4 4 4 4 4 4 4 4 4 4 4]\n",
      "[4 4 4 4 2 4 4 4 4 4 4 4 3 4 4 4 4 4 4 4]\n",
      "              precision    recall  f1-score   support\n",
      "\n",
      "           1       0.00      0.00      0.00         2\n",
      "           2       0.60      0.27      0.37        11\n",
      "           3       0.64      0.66      0.65        38\n",
      "           4       0.91      0.96      0.93       156\n",
      "\n",
      "    accuracy                           0.86       207\n",
      "   macro avg       0.54      0.47      0.49       207\n",
      "weighted avg       0.84      0.86      0.84       207\n",
      " \n",
      "\n",
      "정확도 =  0.8551\n",
      "mse =  0.4341\n"
     ]
    }
   ],
   "source": [
    "xgb_model = XGBClassifier(max_depth= result.iloc[0,0],\n",
    "                              subsample = result.iloc[0,1])\n",
    "xgb_model.fit(X1,y)\n",
    "\n",
    "\n",
    "# 7단계. 테스트 데이터로 예측하기\n",
    "y_pred = xgb_model.predict(X2)\n",
    "\n",
    "print(y_pred[0:20]) # 예측데이터 10개\n",
    "print(y_test.values[0:20]) # 실제 데이터 10개\n",
    "\n",
    "\n",
    "# F1-report 확인코드\n",
    "from sklearn import metrics\n",
    "\n",
    "f1_report = metrics.classification_report(y_test, y_pred)\n",
    "print(f1_report,'\\n')\n",
    "\n",
    "# 9단계 정확도 확인\n",
    "from sklearn.metrics import accuracy_score\n",
    "accuracy = round(accuracy_score(y_test, y_pred),4)\n",
    "\n",
    "print('정확도 = ' , accuracy) # 1.0\n",
    "\n",
    "\n",
    "# MSE 구하기 (mean square error)\n",
    "real = test['Tier']\n",
    "pred = y_pred\n",
    "# ab = test['출전횟수']\n",
    "\n",
    "\n",
    "from sklearn.metrics import mean_squared_error\n",
    "mse = round(mean_squared_error(real,pred) ** 0.5,4)\n",
    "print('mse = ', mse)"
   ]
  },
  {
   "cell_type": "markdown",
   "metadata": {},
   "source": [
    "## ■ PART8. 결과파일 출력하기!"
   ]
  },
  {
   "cell_type": "code",
   "execution_count": 454,
   "metadata": {},
   "outputs": [],
   "source": [
    "test = lol.loc[lol['경기년도'] == 2019]\n",
    "pred = y_pred\n",
    "df = pd.DataFrame({'아이디':test['아이디'], '포지션' : test['포지션'], '출전횟수' : test['출전횟수'] , '출전횟수' : test['출전횟수'], 'Tier':pred})\n",
    "df = df.sort_values(by = '출전횟수', ascending = True)"
   ]
  },
  {
   "cell_type": "markdown",
   "metadata": {},
   "source": [
    "### ■ PART 8-1. 3회이상 출전한 데이터만 출력하기!"
   ]
  },
  {
   "cell_type": "code",
   "execution_count": 455,
   "metadata": {},
   "outputs": [],
   "source": [
    "df = df[:][df['출전횟수']>3] "
   ]
  },
  {
   "cell_type": "code",
   "execution_count": 456,
   "metadata": {},
   "outputs": [
    {
     "name": "stdout",
     "output_type": "stream",
     "text": [
      "['Jungle', 'Top', 'ADC', 'Middle', 'Support']\n"
     ]
    }
   ],
   "source": [
    "list1 = list(df['포지션'].unique())\n",
    "print(list1)"
   ]
  },
  {
   "cell_type": "markdown",
   "metadata": {},
   "source": [
    "### ■ PART 8-2. 반복문과 조건문을 이용하여 포지션별 결과파일 출력하기(총5개)"
   ]
  },
  {
   "cell_type": "code",
   "execution_count": 457,
   "metadata": {},
   "outputs": [
    {
     "name": "stdout",
     "output_type": "stream",
     "text": [
      "[ 2  1  2  1  0  0 10]\n",
      "[3.         3.14285714 3.28571429 3.42857143 3.57142857 3.71428571\n",
      " 3.85714286 4.        ]\n",
      "[ 2  0  1  2  0  0 12]\n",
      "[3.         3.14285714 3.28571429 3.42857143 3.57142857 3.71428571\n",
      " 3.85714286 4.        ]\n",
      "[2 0 0 2 1 1 8]\n",
      "[3.         3.14285714 3.28571429 3.42857143 3.57142857 3.71428571\n",
      " 3.85714286 4.        ]\n",
      "[ 2  0  1  4  0  0 11]\n",
      "[3.         3.14285714 3.28571429 3.42857143 3.57142857 3.71428571\n",
      " 3.85714286 4.        ]\n",
      "[ 2  2  0  0  0  0 12]\n",
      "[3.33333333 3.42857143 3.52380952 3.61904762 3.71428571 3.80952381\n",
      " 3.9047619  4.        ]\n"
     ]
    }
   ],
   "source": [
    "for i in list1:\n",
    "    \n",
    "    df1 = df[:][df['포지션']== i]\n",
    "    \n",
    "    grouped = df1.groupby(['아이디'])\n",
    "    g_mean = grouped.mean()\n",
    "    \n",
    "    \n",
    "    result = g_mean.sort_values(by = 'Tier', ascending = True)\n",
    "    count, bin_dividers = np.histogram(result['Tier'], bins = 7)\n",
    "    \n",
    "    print(count) \n",
    "    print(bin_dividers)   \n",
    "    \n",
    "    bin_names = ['S', 'A+', 'A-', 'B+', 'B-', 'C', 'D']\n",
    "    result['Tier'] = pd.cut(x = result['Tier'], bins = bin_dividers, labels = bin_names, include_lowest = True) # 첫 경계값 포함 \n",
    "    result = result.sort_values(by = 'Tier' , ascending = True)\n",
    "    result.drop(['출전횟수'], axis=1, inplace=True)\n",
    "# =============================================================================\n",
    "#     print(i)\n",
    "#     print(result['Tier'].describe())\n",
    "#     print('\\n')\n",
    "# =============================================================================\n",
    "    \n",
    "    data_name = \"d:\\\\data\\\\lol\\\\lol_submission_sub_\" + i + \".xlsx\"\n",
    "    result.to_excel(data_name,index=True)"
   ]
  }
 ],
 "metadata": {
  "kernelspec": {
   "display_name": "Python 3",
   "language": "python",
   "name": "python3"
  },
  "language_info": {
   "codemirror_mode": {
    "name": "ipython",
    "version": 3
   },
   "file_extension": ".py",
   "mimetype": "text/x-python",
   "name": "python",
   "nbconvert_exporter": "python",
   "pygments_lexer": "ipython3",
   "version": "3.7.4"
  }
 },
 "nbformat": 4,
 "nbformat_minor": 2
}
