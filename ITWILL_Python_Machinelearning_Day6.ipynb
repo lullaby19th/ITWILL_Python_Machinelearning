{
 "cells": [
  {
   "cell_type": "markdown",
   "metadata": {},
   "source": [
    "## ■ 데이터 프레임 원소에 함수 매핑\n",
    "\n",
    "데이터프레임에 apply(axis=0) 메소드를 적용하면 모든 열을 하나씩 분리하여 매핑 함수의 인자로 각 열(시리즈)이 전달된다.\n",
    "\n",
    "__문법 :__ DataFrame객체.apply(매핑함수,axis=0)"
   ]
  },
  {
   "cell_type": "code",
   "execution_count": 6,
   "metadata": {},
   "outputs": [
    {
     "name": "stdout",
     "output_type": "stream",
     "text": [
      "    age     fare\n",
      "0  22.0   7.2500\n",
      "1  38.0  71.2833\n",
      "2  26.0   7.9250\n",
      "3  35.0  53.1000\n",
      "4  35.0   8.0500\n",
      "    age     fare\n",
      "0  32.0  17.2500\n",
      "1  48.0  81.2833\n",
      "2  36.0  17.9250\n",
      "3  45.0  63.1000\n",
      "4  45.0  18.0500\n"
     ]
    }
   ],
   "source": [
    "# 예제1\n",
    "import seaborn as sns\n",
    "\n",
    "titanic = sns.load_dataset('titanic')\n",
    "df = titanic.loc[:,['age','fare']]\n",
    "print(df.head())\n",
    "\n",
    "def add_10(n):\n",
    "    return n + 10\n",
    "\n",
    "# applymap 을 이용해서 df 데이터프레임의 모든열에 함수를 매핑함.\n",
    "# 어제 배운 시리즈에 매핑하는 문법 : Series객체.apply('매핑함수')\n",
    "\n",
    "df_map = df.applymap(add_10)\n",
    "print(df_map.head())"
   ]
  },
  {
   "cell_type": "markdown",
   "metadata": {},
   "source": [
    "## 문제154. 케글의 타이타닉 데이터에서 이름과 이름의 길이를 출력하시오!\n",
    "### (어제배운 series객체.apply(함수)"
   ]
  },
  {
   "cell_type": "code",
   "execution_count": 11,
   "metadata": {},
   "outputs": [
    {
     "name": "stdout",
     "output_type": "stream",
     "text": [
      "                                                  Name  Name_length\n",
      "0                              Braund, Mr. Owen Harris           23\n",
      "1    Cumings, Mrs. John Bradley (Florence Briggs Th...           51\n",
      "2                               Heikkinen, Miss. Laina           22\n",
      "3         Futrelle, Mrs. Jacques Heath (Lily May Peel)           44\n",
      "4                             Allen, Mr. William Henry           24\n",
      "..                                                 ...          ...\n",
      "886                              Montvila, Rev. Juozas           21\n",
      "887                       Graham, Miss. Margaret Edith           28\n",
      "888           Johnston, Miss. Catherine Helen \"Carrie\"           40\n",
      "889                              Behr, Mr. Karl Howell           21\n",
      "890                                Dooley, Mr. Patrick           19\n",
      "\n",
      "[891 rows x 2 columns]\n"
     ]
    }
   ],
   "source": [
    "import pandas as pd\n",
    "\n",
    "tat = pd.read_csv(\"d:\\\\data\\\\train.csv\")\n",
    "\n",
    "tat['Name_length'] = tat['Name'].apply(len)\n",
    "print(tat[['Name','Name_length']])"
   ]
  },
  {
   "cell_type": "markdown",
   "metadata": {},
   "source": [
    "## 문제155. 위의 결과를 다시 출력하는데 이름의 길이가 가장 긴 승객부터 출력하시오!"
   ]
  },
  {
   "cell_type": "code",
   "execution_count": 19,
   "metadata": {},
   "outputs": [
    {
     "name": "stdout",
     "output_type": "stream",
     "text": [
      "                                                  Name  Name_length\n",
      "307  Penasco y Castellana, Mrs. Victor de Satode (M...           82\n",
      "427  Phillips, Miss. Kate Florence (\"Mrs Kate Louis...           67\n",
      "556  Duff Gordon, Lady. (Lucille Christiana Sutherl...           65\n",
      "670  Brown, Mrs. Thomas William Solomon (Elizabeth ...           61\n",
      "25   Asplund, Mrs. Carl Oscar (Selma Augusta Emilia...           57\n",
      "..                                                 ...          ...\n",
      "509                                     Lang, Mr. Fang           14\n",
      "169                                      Ling, Mr. Lee           13\n",
      "74                                       Bing, Mr. Lee           13\n",
      "692                                       Lam, Mr. Ali           12\n",
      "826                                       Lam, Mr. Len           12\n",
      "\n",
      "[891 rows x 2 columns]\n"
     ]
    }
   ],
   "source": [
    "import pandas as pd\n",
    "\n",
    "tat = pd.read_csv(\"d:\\\\data\\\\train.csv\")\n",
    "\n",
    "tat['Name_length'] = tat['Name'].apply(len)\n",
    "\n",
    "# 출력할때(Print), sort_values를 써준다.\n",
    "print(tat[['Name','Name_length']].sort_values(by = \"Name_length\", ascending = False))"
   ]
  },
  {
   "cell_type": "markdown",
   "metadata": {},
   "source": [
    "## ■ 데이터프레임의 함수 매핑 문법을 이용해서 결측치를 확인하는 방법"
   ]
  },
  {
   "cell_type": "code",
   "execution_count": 24,
   "metadata": {},
   "outputs": [
    {
     "name": "stdout",
     "output_type": "stream",
     "text": [
      "       age   fare\n",
      "0    False  False\n",
      "1    False  False\n",
      "2    False  False\n",
      "3    False  False\n",
      "4    False  False\n",
      "..     ...    ...\n",
      "886  False  False\n",
      "887  False  False\n",
      "888   True  False\n",
      "889  False  False\n",
      "890  False  False\n",
      "\n",
      "[891 rows x 2 columns]\n"
     ]
    }
   ],
   "source": [
    "# 예제1\n",
    "import seaborn as sns\n",
    "\n",
    "titanic = sns.load_dataset('titanic')\n",
    "df = titanic.loc[:,['age','fare']]\n",
    "\n",
    "def missing_value(series): # 시리즈를 인수로 전달\n",
    "    return series.isnull() # 불린(boolen) 시리즈를 반환함.\n",
    "\n",
    "result = df.apply(missing_value, axis = 0)b\n",
    "print(result) # NaN값이 True로 나온다."
   ]
  },
  {
   "cell_type": "markdown",
   "metadata": {},
   "source": [
    "## 문제156. 케글의 타이타닉 데이터에서 각 열의 누락데이터(NaN)값이 어떻게 있는지 확인하시오!\n",
    "## 몇건이 있는지 출력하시오!"
   ]
  },
  {
   "cell_type": "code",
   "execution_count": 31,
   "metadata": {},
   "outputs": [
    {
     "name": "stdout",
     "output_type": "stream",
     "text": [
      "PassengerId      0\n",
      "Survived         0\n",
      "Pclass           0\n",
      "Name             0\n",
      "Sex              0\n",
      "Age            177\n",
      "SibSp            0\n",
      "Parch            0\n",
      "Ticket           0\n",
      "Fare             0\n",
      "Cabin          687\n",
      "Embarked         2\n",
      "dtype: int64\n"
     ]
    }
   ],
   "source": [
    "import pandas as pd\n",
    "import seaborn as sns\n",
    "\n",
    "df = pd.read_csv(\"d:\\\\data\\\\train.csv\")\n",
    "\n",
    "def missing_value(series): # 시리즈를 인수로 전달\n",
    "    return series.isnull() # 불린(boolen) 시리즈를 반환함.\n",
    "\n",
    "def missing_count(x): \n",
    "    return missing_value(x).sum() \n",
    "\n",
    "print(df.apply(missing_count))"
   ]
  },
  {
   "cell_type": "markdown",
   "metadata": {},
   "source": [
    "## 문제157. 케글의 타이타닉의 나이 데이터의 결측칙 177개를 나이 데이터의 중앙값으로 치환하시오!"
   ]
  },
  {
   "cell_type": "code",
   "execution_count": 58,
   "metadata": {},
   "outputs": [
    {
     "name": "stdout",
     "output_type": "stream",
     "text": [
      "PassengerId      0\n",
      "Survived         0\n",
      "Pclass           0\n",
      "Name             0\n",
      "Sex              0\n",
      "Age            177\n",
      "SibSp            0\n",
      "Parch            0\n",
      "Ticket           0\n",
      "Fare             0\n",
      "Cabin          687\n",
      "Embarked         2\n",
      "dtype: int64\n",
      "\n",
      "28.0\n",
      "\n",
      "0      22.0\n",
      "1      38.0\n",
      "2      26.0\n",
      "3      35.0\n",
      "4      35.0\n",
      "       ... \n",
      "886    27.0\n",
      "887    19.0\n",
      "888    28.0\n",
      "889    26.0\n",
      "890    32.0\n",
      "Name: Age, Length: 891, dtype: float64\n"
     ]
    }
   ],
   "source": [
    "import pandas as pd\n",
    "import seaborn as sns\n",
    "\n",
    "df = pd.read_csv(\"d:\\\\data\\\\train.csv\")\n",
    "\n",
    "def missing_value(series): # 시리즈를 인수로 전달\n",
    "    return series.isnull() # 불린(boolen) 시리즈를 반환함.\n",
    "\n",
    "def missing_count(x): \n",
    "    return missing_value(x).sum() \n",
    "\n",
    "print(df.apply(missing_count), end = '\\n\\n') # 결측치 확인\n",
    "\n",
    "age_median = df['Age'].median()\n",
    "age_mean = df['Age'].mean()\n",
    "\n",
    "print(age_median, end = '\\n\\n') # Age 컬럼의 중앙값 확인\n",
    "\n",
    "\n",
    "df['Age'] = df['Age'].fillna(age_median)\n",
    "\n",
    "\n",
    "print(df['Age'])"
   ]
  },
  {
   "cell_type": "markdown",
   "metadata": {},
   "source": [
    "## 문제158. 케글의 타이타닉의 컬럼중 누락데이터가 제일 많은 cabin컬럼의 결측치를 다른 값으로 치환해보시오!"
   ]
  },
  {
   "cell_type": "code",
   "execution_count": 53,
   "metadata": {},
   "outputs": [
    {
     "name": "stdout",
     "output_type": "stream",
     "text": [
      "     PassengerId  Survived  Pclass   Name    Sex    Age  SibSp  Parch  Ticket  \\\n",
      "0          False     False   False  False  False  False  False  False   False   \n",
      "1          False     False   False  False  False  False  False  False   False   \n",
      "2          False     False   False  False  False  False  False  False   False   \n",
      "3          False     False   False  False  False  False  False  False   False   \n",
      "4          False     False   False  False  False  False  False  False   False   \n",
      "..           ...       ...     ...    ...    ...    ...    ...    ...     ...   \n",
      "886        False     False   False  False  False  False  False  False   False   \n",
      "887        False     False   False  False  False  False  False  False   False   \n",
      "888        False     False   False  False  False   True  False  False   False   \n",
      "889        False     False   False  False  False  False  False  False   False   \n",
      "890        False     False   False  False  False  False  False  False   False   \n",
      "\n",
      "      Fare  Cabin  Embarked  \n",
      "0    False   True     False  \n",
      "1    False  False     False  \n",
      "2    False   True     False  \n",
      "3    False  False     False  \n",
      "4    False   True     False  \n",
      "..     ...    ...       ...  \n",
      "886  False   True     False  \n",
      "887  False  False     False  \n",
      "888  False   True     False  \n",
      "889  False  False     False  \n",
      "890  False   True     False  \n",
      "\n",
      "[891 rows x 12 columns]\n",
      "\n",
      "PassengerId      0\n",
      "Survived         0\n",
      "Pclass           0\n",
      "Name             0\n",
      "Sex              0\n",
      "Age            177\n",
      "SibSp            0\n",
      "Parch            0\n",
      "Ticket           0\n",
      "Fare             0\n",
      "Cabin          687\n",
      "Embarked         2\n",
      "dtype: int64\n",
      "\n",
      "0       NaN\n",
      "1       C85\n",
      "2       C85\n",
      "3      C123\n",
      "4      C123\n",
      "       ... \n",
      "886     C50\n",
      "887     B42\n",
      "888     B42\n",
      "889    C148\n",
      "890    C148\n",
      "Name: Cabin, Length: 891, dtype: object\n"
     ]
    }
   ],
   "source": [
    "import pandas as pd\n",
    "import seaborn as sns\n",
    "\n",
    "df = pd.read_csv(\"d:\\\\data\\\\train.csv\")\n",
    "\n",
    "def missing_value(series): # 시리즈를 인수로 전달\n",
    "    return series.isnull() # 불린(boolen) --> True or False 시리즈를 반환함.\n",
    "\n",
    "def missing_count(x): \n",
    "    return missing_value(x).sum() \n",
    "\n",
    "print(df.apply(missing_value), end = '\\n\\n')\n",
    "print(df.apply(missing_count), end = '\\n\\n') # 결측치 확인\n",
    "\n",
    "df['Cabin'] = df['Cabin'].fillna(method = 'ffill')\n",
    "print(df['Cabin'])"
   ]
  },
  {
   "cell_type": "markdown",
   "metadata": {},
   "source": [
    "## * 데이터 프레임에 함수를 매핑하는 문법 2가지\n",
    "\n",
    "1. 데이터프레임객체.apply(매핑함수명)\n",
    "2. 데이터프레임객체.pipe(매핑함수명)"
   ]
  },
  {
   "cell_type": "markdown",
   "metadata": {},
   "source": [
    "## 문제159. 타이타닉 데이터 전체에 결측치값이 모두 몇개인지 출력하시오!"
   ]
  },
  {
   "cell_type": "code",
   "execution_count": 54,
   "metadata": {},
   "outputs": [
    {
     "name": "stdout",
     "output_type": "stream",
     "text": [
      "866\n"
     ]
    }
   ],
   "source": [
    "import pandas as pd\n",
    "import seaborn as sns\n",
    "\n",
    "df = pd.read_csv(\"d:\\\\data\\\\train.csv\")\n",
    "\n",
    "def missing_value(x): # 시리즈를 인수로 전달\n",
    "    return x.isnull() # 불린(boolen) 시리즈를 반환함.\n",
    "\n",
    "def missing_count(x): \n",
    "    return missing_value(x).sum() \n",
    "\n",
    "def total_number_missing(x):\n",
    "    return missing_count(x).sum()\n",
    "\n",
    "print(df.pipe(total_number_missing))"
   ]
  },
  {
   "cell_type": "markdown",
   "metadata": {},
   "source": [
    "## ■ 열의 재구성 (열 순서 변경)\n",
    "\n",
    "__문법 :__ DataFrame 객체[재구성할 열 이름의 리스트]\n",
    "\n",
    "필요한 컬럼만 뽑아서 분석할 때 유용하다."
   ]
  },
  {
   "cell_type": "markdown",
   "metadata": {},
   "source": [
    "## 문제160. seaborn의 타이타닉 데이터에서 컬럼을 survived와 pclass와 sex,age 컬럼만 선택하고 행은 0행부터 4행까지만 출력하시오.\n",
    "\n",
    "__힌트 :__  \n",
    "데이터프레임 객체.loc[행 인덱스, 열이름]  \n",
    "데이터프레임 객체.iloc[행번호, 열번호]  "
   ]
  },
  {
   "cell_type": "code",
   "execution_count": 72,
   "metadata": {},
   "outputs": [
    {
     "name": "stdout",
     "output_type": "stream",
     "text": [
      "   survived  pclass     sex   age\n",
      "0         0       3    male  22.0\n",
      "1         1       1  female  38.0\n",
      "2         1       3  female  26.0\n",
      "3         1       1  female  35.0\n",
      "4         0       3    male  35.0\n",
      "\n",
      "   survived  pclass     sex   age\n",
      "0         0       3    male  22.0\n",
      "1         1       1  female  38.0\n",
      "2         1       3  female  26.0\n",
      "3         1       1  female  35.0\n",
      "4         0       3    male  35.0\n",
      "\n",
      "   survived  pclass     sex   age\n",
      "0         0       3    male  22.0\n",
      "1         1       1  female  38.0\n",
      "2         1       3  female  26.0\n",
      "3         1       1  female  35.0\n",
      "4         0       3    male  35.0\n",
      "\n",
      "   survived  pclass     sex   age\n",
      "0         0       3    male  22.0\n",
      "1         1       1  female  38.0\n",
      "2         1       3  female  26.0\n",
      "3         1       1  female  35.0\n",
      "4         0       3    male  35.0\n"
     ]
    }
   ],
   "source": [
    "import seaborn as sns\n",
    "\n",
    "titanic = sns.load_dataset('titanic')\n",
    "\n",
    "print(titanic[['survived', 'pclass', 'sex', 'age']].head(), end = '\\n\\n')\n",
    "\n",
    "print(titanic[['survived', 'pclass', 'sex', 'age']].iloc[0:5], end = '\\n\\n')\n",
    "\n",
    "df1 = titanic.loc[0:4, ['survived', 'pclass', 'sex', 'age']]\n",
    "df2 = titanic.loc[0:4, 'survived':'age']\n",
    "\n",
    "print(df1, end = '\\n\\n')\n",
    "print(df2)"
   ]
  },
  {
   "cell_type": "markdown",
   "metadata": {},
   "source": [
    "## 문제161. 위의 출력된 컬럼명을 abcd순서대로 출력되게 하시오!\n",
    "\n",
    "age pclass sex survived"
   ]
  },
  {
   "cell_type": "code",
   "execution_count": 86,
   "metadata": {},
   "outputs": [
    {
     "name": "stdout",
     "output_type": "stream",
     "text": [
      "['survived', 'pclass', 'sex', 'age']\n",
      "\n",
      "    age  pclass     sex  survived\n",
      "0  22.0       3    male         0\n",
      "1  38.0       1  female         1\n",
      "2  26.0       3  female         1\n",
      "3  35.0       1  female         1\n",
      "4  35.0       3    male         0\n"
     ]
    }
   ],
   "source": [
    "import seaborn as sns\n",
    "\n",
    "titanic = sns.load_dataset('titanic')\n",
    "\n",
    "df = titanic.loc[0:4, 'survived':'age']\n",
    "\n",
    "columns = list(df.columns.values)\n",
    "print(columns, end = '\\n\\n')\n",
    "\n",
    "columns_sorted = sorted(columns)\n",
    "\n",
    "print(df[columns_sorted])"
   ]
  },
  {
   "cell_type": "markdown",
   "metadata": {},
   "source": [
    "## ■ 열(컬럼) 분리\n",
    "\n",
    "하나의 열이 여러가지 정보를 담고 있을때 각 정보를 서로 분리해서 사용하는 경우가 있다.  \n",
    "\n",
    "__예 :__ '연월일' 정보가 있을때 '연', '월', '일' 을 구분해서 3개의 열을 만든다.\n",
    "\n",
    "사람의 이름이 들어있는 열을 '성'과 '이름'으로 구분해서 만든다."
   ]
  },
  {
   "cell_type": "markdown",
   "metadata": {},
   "source": [
    "### 예제1. 머신러닝 139번글. 데이터 전처리 수업자료"
   ]
  },
  {
   "cell_type": "code",
   "execution_count": 89,
   "metadata": {},
   "outputs": [
    {
     "name": "stdout",
     "output_type": "stream",
     "text": [
      "Index(['연월일', '당일종가', '전일종가', '시가', '고가', '저가', '거래량'], dtype='object')\n"
     ]
    }
   ],
   "source": [
    "import pandas as pd\n",
    "\n",
    "df = pd.read_excel(\"d:\\\\data\\\\주가데이터.xlsx\")\n",
    "print(df.columns)"
   ]
  },
  {
   "cell_type": "code",
   "execution_count": 102,
   "metadata": {},
   "outputs": [
    {
     "name": "stdout",
     "output_type": "stream",
     "text": [
      "Index(['연월일', '당일종가', '전일종가', '시가', '고가', '저가', '거래량'], dtype='object')\n",
      "0    [2018, 07, 02]\n",
      "1    [2018, 06, 29]\n",
      "2    [2018, 06, 28]\n",
      "3    [2018, 06, 27]\n",
      "4    [2018, 06, 26]\n",
      "Name: 연월일, dtype: object\n",
      "\n",
      "          연월일   당일종가  전일종가     시가     고가     저가     거래량     연   월   일\n",
      "0  2018-07-02  10100   600  10850  10900  10000  137977  2018  07  02\n",
      "1  2018-06-29  10700   300  10550  10900   9990  170253  2018  06  29\n",
      "2  2018-06-28  10400   500  10900  10950  10150  155769  2018  06  28\n",
      "3  2018-06-27  10900   100  10800  11050  10500  133548  2018  06  27\n",
      "4  2018-06-26  10800   350  10900  11000  10700   63039  2018  06  26\n"
     ]
    }
   ],
   "source": [
    "import pandas as pd\n",
    "\n",
    "df = pd.read_excel(\"d:\\\\data\\\\주가데이터.xlsx\")\n",
    "print(df.columns)\n",
    "\n",
    "df['연월일'] = df['연월일'].astype('str') # datetime ---> 문자열로 변경\n",
    "dates = df['연월일'].str.split('-') # Series는 split기능이 없기 때문에 str을 추가해준다.\n",
    "print(dates.head(), end = '\\n\\n') # 문자열 리스트가 출력됨.\n",
    "\n",
    "# 문자열 리스트의 인덱싱?\n",
    "# 시리즈 객체.str.get(인덱스)\n",
    "# [2018, 06, 26] =>  2018 -> 0번, 06 -> 1번, 26 -> 2번\n",
    "\n",
    "df['연'] = dates.str.get(0)\n",
    "df['월'] = dates.str.get(1)\n",
    "df['일'] = dates.str.get(2)\n",
    "\n",
    "print(df.head())"
   ]
  },
  {
   "cell_type": "markdown",
   "metadata": {},
   "source": [
    "### 문제162. emp데이터 프레임의 hiredate를 위와같이 연,월,일로 분리해서 컬럼을 각각 생성하시오."
   ]
  },
  {
   "cell_type": "code",
   "execution_count": 109,
   "metadata": {
    "scrolled": true
   },
   "outputs": [
    {
     "name": "stdout",
     "output_type": "stream",
     "text": [
      "Index(['empno', 'ename', 'job', 'mgr', 'hiredate', 'sal', 'comm', 'deptno'], dtype='object')\n",
      "\n",
      "0    [1981, 11, 17]\n",
      "1    [1981, 05, 01]\n",
      "2    [1981, 05, 09]\n",
      "3    [1981, 04, 01]\n",
      "4    [1981, 09, 10]\n",
      "Name: hiredate, dtype: object\n",
      "\n",
      "   empno   ename        job     mgr    hiredate   sal    comm  deptno     연  \\\n",
      "0   7839    KING  PRESIDENT     NaN  1981-11-17  5000     NaN      10  1981   \n",
      "1   7698   BLAKE    MANAGER  7839.0  1981-05-01  2850     NaN      30  1981   \n",
      "2   7782   CLARK    MANAGER  7839.0  1981-05-09  2450     NaN      10  1981   \n",
      "3   7566   JONES    MANAGER  7839.0  1981-04-01  2975     NaN      20  1981   \n",
      "4   7654  MARTIN   SALESMAN  7698.0  1981-09-10  1250  1400.0      30  1981   \n",
      "\n",
      "    월   일  \n",
      "0  11  17  \n",
      "1  05  01  \n",
      "2  05  09  \n",
      "3  04  01  \n",
      "4  09  10  \n"
     ]
    }
   ],
   "source": [
    "import pandas as pd\n",
    "\n",
    "emp = pd.read_csv(\"d:\\\\data\\\\emp.csv\", header = 0)\n",
    "\n",
    "print(emp.columns, end = '\\n\\n')\n",
    "\n",
    "emp['hiredate'] = emp['hiredate'].astype('str')\n",
    "dates = emp['hiredate'].str.split('-')\n",
    "print(dates.head(), end = '\\n\\n')\n",
    "\n",
    "emp['연'] = dates.str.get(0)\n",
    "emp['월'] = dates.str.get(1)\n",
    "emp['일'] = dates.str.get(2)\n",
    "\n",
    "print(emp.head())"
   ]
  },
  {
   "cell_type": "markdown",
   "metadata": {},
   "source": [
    "## 문제163. 카페에서 코스피 주가 데이터를 내려받아서 K_index.csv와 S_stock.csv를 각각 판다스 데이터 프레임으로 생성하시오~"
   ]
  },
  {
   "cell_type": "code",
   "execution_count": 112,
   "metadata": {},
   "outputs": [
    {
     "name": "stdout",
     "output_type": "stream",
     "text": [
      "         date    kospi  k_rate\n",
      "0  2015-03-25  2042.81     NaN\n",
      "1  2015-03-26  2022.56  -0.991\n",
      "2  2015-03-27  2019.80  -0.136\n",
      "3  2015-03-30  2030.04   0.507\n",
      "4  2015-03-31  2041.03   0.541\n"
     ]
    }
   ],
   "source": [
    "import pandas as pd\n",
    "\n",
    "k_index = pd.read_csv(\"d:\\\\data\\\\K_index.csv\")\n",
    "s_stock = pd.read_csv(\"d:\\\\data\\\\S_stock.csv\")\n",
    "\n",
    "print(k_index.head())"
   ]
  },
  {
   "cell_type": "markdown",
   "metadata": {},
   "source": [
    "## 문제164. k_index 데이터 프레임의 파생변수를 연, 월, 일을 각각 생성하시오!"
   ]
  },
  {
   "cell_type": "code",
   "execution_count": 114,
   "metadata": {},
   "outputs": [
    {
     "name": "stdout",
     "output_type": "stream",
     "text": [
      "0      [2015, 03, 25]\n",
      "1      [2015, 03, 26]\n",
      "2      [2015, 03, 27]\n",
      "3      [2015, 03, 30]\n",
      "4      [2015, 03, 31]\n",
      "            ...      \n",
      "244    [2016, 03, 21]\n",
      "245    [2016, 03, 22]\n",
      "246    [2016, 03, 23]\n",
      "247    [2016, 03, 24]\n",
      "248    [2016, 03, 25]\n",
      "Name: date, Length: 249, dtype: object\n",
      "           date    kospi  k_rate     연   월   일\n",
      "0    2015-03-25  2042.81     NaN  2015  03  25\n",
      "1    2015-03-26  2022.56  -0.991  2015  03  26\n",
      "2    2015-03-27  2019.80  -0.136  2015  03  27\n",
      "3    2015-03-30  2030.04   0.507  2015  03  30\n",
      "4    2015-03-31  2041.03   0.541  2015  03  31\n",
      "..          ...      ...     ...   ...  ..  ..\n",
      "244  2016-03-21  1989.76  -0.118  2016  03  21\n",
      "245  2016-03-22  1996.81   0.354  2016  03  22\n",
      "246  2016-03-23  1995.12  -0.085  2016  03  23\n",
      "247  2016-03-24  1985.97  -0.459  2016  03  24\n",
      "248  2016-03-25  1983.81  -0.109  2016  03  25\n",
      "\n",
      "[249 rows x 6 columns]\n"
     ]
    }
   ],
   "source": [
    "import pandas as pd\n",
    "\n",
    "k_index = pd.read_csv(\"d:\\\\data\\\\K_index.csv\")\n",
    "\n",
    "k_index['date'] = k_index['date'].astype(str)\n",
    "dates = k_index['date'].str.split('-')\n",
    "\n",
    "print(dates)\n",
    "\n",
    "k_index['연'] = dates.str.get(0)\n",
    "k_index['월'] = dates.str.get(1)\n",
    "k_index['일'] = dates.str.get(2)\n",
    "\n",
    "print(k_index)"
   ]
  },
  {
   "cell_type": "markdown",
   "metadata": {},
   "source": [
    "## 문제165. 위의 결과에서 3월달 데이터만 검색하시오~"
   ]
  },
  {
   "cell_type": "code",
   "execution_count": 128,
   "metadata": {},
   "outputs": [
    {
     "name": "stdout",
     "output_type": "stream",
     "text": [
      "0      [2015, 03, 25]\n",
      "1      [2015, 03, 26]\n",
      "2      [2015, 03, 27]\n",
      "3      [2015, 03, 30]\n",
      "4      [2015, 03, 31]\n",
      "            ...      \n",
      "244    [2016, 03, 21]\n",
      "245    [2016, 03, 22]\n",
      "246    [2016, 03, 23]\n",
      "247    [2016, 03, 24]\n",
      "248    [2016, 03, 25]\n",
      "Name: date, Length: 249, dtype: object\n",
      "\n",
      "           date    kospi  k_rate     연   월   일\n",
      "0    2015-03-25  2042.81     NaN  2015  03  25\n",
      "1    2015-03-26  2022.56  -0.991  2015  03  26\n",
      "2    2015-03-27  2019.80  -0.136  2015  03  27\n",
      "3    2015-03-30  2030.04   0.507  2015  03  30\n",
      "4    2015-03-31  2041.03   0.541  2015  03  31\n",
      "231  2016-03-02  1947.42   1.605  2016  03  02\n",
      "232  2016-03-03  1958.17   0.552  2016  03  03\n",
      "233  2016-03-04  1955.63  -0.130  2016  03  04\n",
      "234  2016-03-07  1957.87   0.115  2016  03  07\n",
      "235  2016-03-08  1946.12  -0.600  2016  03  08\n",
      "236  2016-03-09  1952.95   0.351  2016  03  09\n",
      "237  2016-03-10  1969.33   0.839  2016  03  10\n",
      "238  2016-03-11  1971.41   0.106  2016  03  11\n",
      "239  2016-03-14  1972.27   0.044  2016  03  14\n",
      "240  2016-03-15  1969.97  -0.117  2016  03  15\n",
      "241  2016-03-16  1974.90   0.250  2016  03  16\n",
      "242  2016-03-17  1987.99   0.663  2016  03  17\n",
      "243  2016-03-18  1992.12   0.208  2016  03  18\n",
      "244  2016-03-21  1989.76  -0.118  2016  03  21\n",
      "245  2016-03-22  1996.81   0.354  2016  03  22\n",
      "246  2016-03-23  1995.12  -0.085  2016  03  23\n",
      "247  2016-03-24  1985.97  -0.459  2016  03  24\n",
      "248  2016-03-25  1983.81  -0.109  2016  03  25\n"
     ]
    }
   ],
   "source": [
    "import pandas as pd\n",
    "\n",
    "k_index = pd.read_csv(\"d:\\\\data\\\\K_index.csv\")\n",
    "\n",
    "k_index['date'] = k_index['date'].astype(str)\n",
    "dates = k_index['date'].str.split('-')\n",
    "\n",
    "print(dates, end = '\\n\\n')\n",
    "\n",
    "k_index['연'] = dates.str.get(0)\n",
    "k_index['월'] = dates.str.get(1)\n",
    "k_index['일'] = dates.str.get(2)\n",
    "\n",
    "print(k_index[:][k_index['월']=='03'])"
   ]
  },
  {
   "cell_type": "markdown",
   "metadata": {},
   "source": [
    "### 문제166.(점심시간문제) 케글의 타이타닉 데이터에서 나이가 10세미만 (0~9세) 인 승객들의 모든 데이터를 검색하시오! \n",
    "\n",
    "__타이타닉의 중요한 파생변수 :__ \" 여자와 아이먼저 \""
   ]
  },
  {
   "cell_type": "code",
   "execution_count": 134,
   "metadata": {},
   "outputs": [
    {
     "name": "stdout",
     "output_type": "stream",
     "text": [
      "     PassengerId  Survived  Pclass                                   Name  \\\n",
      "419          420         0       3              Van Impe, Miss. Catharina   \n",
      "819          820         0       3           Skoog, Master. Karl Thorsten   \n",
      "147          148         0       3       Ford, Miss. Robina Maggie \"Ruby\"   \n",
      "480          481         0       3         Goodwin, Master. Harold Victor   \n",
      "489          490         1       3  Coutts, Master. Eden Leslie \"Neville\"   \n",
      "..           ...       ...     ...                                    ...   \n",
      "831          832         1       2        Richards, Master. George Sibley   \n",
      "644          645         1       3                 Baclini, Miss. Eugenie   \n",
      "469          470         1       3          Baclini, Miss. Helene Barbara   \n",
      "755          756         1       2              Hamalainen, Master. Viljo   \n",
      "803          804         1       3        Thomas, Master. Assad Alexander   \n",
      "\n",
      "        Sex    Age  SibSp  Parch      Ticket     Fare Cabin Embarked  \n",
      "419  female  10.00      0      2      345773  24.1500   NaN        S  \n",
      "819    male  10.00      3      2      347088  27.9000   NaN        S  \n",
      "147  female   9.00      2      2  W./C. 6608  34.3750   NaN        S  \n",
      "480    male   9.00      5      2     CA 2144  46.9000   NaN        S  \n",
      "489    male   9.00      1      1  C.A. 37671  15.9000   NaN        S  \n",
      "..      ...    ...    ...    ...         ...      ...   ...      ...  \n",
      "831    male   0.83      1      1       29106  18.7500   NaN        S  \n",
      "644  female   0.75      2      1        2666  19.2583   NaN        C  \n",
      "469  female   0.75      2      1        2666  19.2583   NaN        C  \n",
      "755    male   0.67      1      1      250649  14.5000   NaN        S  \n",
      "803    male   0.42      0      1        2625   8.5167   NaN        C  \n",
      "\n",
      "[64 rows x 12 columns]\n"
     ]
    }
   ],
   "source": [
    "import pandas as pd\n",
    "\n",
    "tat = pd.read_csv(\"d:\\\\data\\\\train.csv\")\n",
    "\n",
    "# print(tat.columns)\n",
    "\n",
    "# print(tat, end = '\\n\\n')\n",
    "\n",
    "print(tat[:][tat['Age'] <= 10].sort_values(by = 'Age', ascending = False))"
   ]
  },
  {
   "cell_type": "markdown",
   "metadata": {},
   "source": [
    "## ■ 필터링 (filtering)\n",
    "\n",
    "시리즈 또는 데이터 프레임의 데이터 중에서 특정 조건식을 만족하는 원소만 따로 추출하는 개념입니다.\n",
    "\n",
    "1. 불린 인덱싱\n",
    "2. isin() 메소드 활용"
   ]
  },
  {
   "cell_type": "markdown",
   "metadata": {},
   "source": [
    "## ■ 불린 인덱싱\n",
    "\n",
    "시리즈 객체에 어떤 조건식을 적용하면 각 원소에 대해 참/거짓을 판별하여 불린(참,거짓) 값으로 구성된 시리즈를 반환한다.\n",
    "\n",
    "__문법 :__ DataFrame객체[불린 시리즈]"
   ]
  },
  {
   "cell_type": "markdown",
   "metadata": {},
   "source": [
    "### 예제1. 타이타닉 데이터에서 나이가 10세 미만이고 여성인 승객만 검색하시오!"
   ]
  },
  {
   "cell_type": "code",
   "execution_count": 137,
   "metadata": {},
   "outputs": [
    {
     "name": "stdout",
     "output_type": "stream",
     "text": [
      "0      False\n",
      "1      False\n",
      "2      False\n",
      "3      False\n",
      "4      False\n",
      "       ...  \n",
      "886    False\n",
      "887    False\n",
      "888    False\n",
      "889    False\n",
      "890    False\n",
      "Length: 891, dtype: bool\n",
      "\n",
      "\n",
      "     PassengerId  Survived  Pclass                                      Name  \\\n",
      "10            11         1       3           Sandstrom, Miss. Marguerite Rut   \n",
      "24            25         0       3             Palsson, Miss. Torborg Danira   \n",
      "43            44         1       2  Laroche, Miss. Simonne Marie Anne Andree   \n",
      "58            59         1       2              West, Miss. Constance Mirium   \n",
      "119          120         0       3         Andersson, Miss. Ellis Anna Maria   \n",
      "147          148         0       3          Ford, Miss. Robina Maggie \"Ruby\"   \n",
      "172          173         1       3              Johnson, Miss. Eleanor Ileen   \n",
      "184          185         1       3       Kink-Heilmann, Miss. Luise Gretchen   \n",
      "205          206         0       3                Strom, Miss. Telma Matilda   \n",
      "233          234         1       3            Asplund, Miss. Lillian Gertrud   \n",
      "237          238         1       2          Collyer, Miss. Marjorie \"Lottie\"   \n",
      "297          298         0       1              Allison, Miss. Helen Loraine   \n",
      "374          375         0       3                Palsson, Miss. Stina Viola   \n",
      "381          382         1       3               Nakid, Miss. Maria (\"Mary\")   \n",
      "448          449         1       3            Baclini, Miss. Marie Catherine   \n",
      "469          470         1       3             Baclini, Miss. Helene Barbara   \n",
      "479          480         1       3                  Hirvonen, Miss. Hildur E   \n",
      "530          531         1       2                  Quick, Miss. Phyllis May   \n",
      "535          536         1       2                    Hart, Miss. Eva Miriam   \n",
      "541          542         0       3      Andersson, Miss. Ingeborg Constanzia   \n",
      "618          619         1       2               Becker, Miss. Marion Louise   \n",
      "634          635         0       3                        Skoog, Miss. Mabel   \n",
      "642          643         0       3             Skoog, Miss. Margit Elizabeth   \n",
      "644          645         1       3                    Baclini, Miss. Eugenie   \n",
      "691          692         1       3                        Karun, Miss. Manca   \n",
      "720          721         1       2         Harper, Miss. Annie Jessie \"Nina\"   \n",
      "750          751         1       2                         Wells, Miss. Joan   \n",
      "777          778         1       3             Emanuel, Miss. Virginia Ethel   \n",
      "813          814         0       3        Andersson, Miss. Ebba Iris Alfrida   \n",
      "852          853         0       3                   Boulos, Miss. Nourelain   \n",
      "\n",
      "        Sex   Age  SibSp  Parch         Ticket      Fare    Cabin Embarked  \n",
      "10   female  4.00      1      1        PP 9549   16.7000       G6        S  \n",
      "24   female  8.00      3      1         349909   21.0750      NaN        S  \n",
      "43   female  3.00      1      2  SC/Paris 2123   41.5792      NaN        C  \n",
      "58   female  5.00      1      2     C.A. 34651   27.7500      NaN        S  \n",
      "119  female  2.00      4      2         347082   31.2750      NaN        S  \n",
      "147  female  9.00      2      2     W./C. 6608   34.3750      NaN        S  \n",
      "172  female  1.00      1      1         347742   11.1333      NaN        S  \n",
      "184  female  4.00      0      2         315153   22.0250      NaN        S  \n",
      "205  female  2.00      0      1         347054   10.4625       G6        S  \n",
      "233  female  5.00      4      2         347077   31.3875      NaN        S  \n",
      "237  female  8.00      0      2     C.A. 31921   26.2500      NaN        S  \n",
      "297  female  2.00      1      2         113781  151.5500  C22 C26        S  \n",
      "374  female  3.00      3      1         349909   21.0750      NaN        S  \n",
      "381  female  1.00      0      2           2653   15.7417      NaN        C  \n",
      "448  female  5.00      2      1           2666   19.2583      NaN        C  \n",
      "469  female  0.75      2      1           2666   19.2583      NaN        C  \n",
      "479  female  2.00      0      1        3101298   12.2875      NaN        S  \n",
      "530  female  2.00      1      1          26360   26.0000      NaN        S  \n",
      "535  female  7.00      0      2   F.C.C. 13529   26.2500      NaN        S  \n",
      "541  female  9.00      4      2         347082   31.2750      NaN        S  \n",
      "618  female  4.00      2      1         230136   39.0000       F4        S  \n",
      "634  female  9.00      3      2         347088   27.9000      NaN        S  \n",
      "642  female  2.00      3      2         347088   27.9000      NaN        S  \n",
      "644  female  0.75      2      1           2666   19.2583      NaN        C  \n",
      "691  female  4.00      0      1         349256   13.4167      NaN        C  \n",
      "720  female  6.00      0      1         248727   33.0000      NaN        S  \n",
      "750  female  4.00      1      1          29103   23.0000      NaN        S  \n",
      "777  female  5.00      0      0         364516   12.4750      NaN        S  \n",
      "813  female  6.00      4      2         347082   31.2750      NaN        S  \n",
      "852  female  9.00      1      1           2678   15.2458      NaN        C  \n"
     ]
    }
   ],
   "source": [
    "import pandas as pd\n",
    "\n",
    "tat = pd.read_csv(\"d:\\\\data\\\\train.csv\")\n",
    "\n",
    "mask = (tat['Age'] < 10) & (tat['Sex'] == 'female')\n",
    "\n",
    "\n",
    "print(mask, end = '\\n\\n\\n')\n",
    "\n",
    "print(tat[:][mask])"
   ]
  },
  {
   "cell_type": "code",
   "execution_count": 138,
   "metadata": {},
   "outputs": [
    {
     "name": "stdout",
     "output_type": "stream",
     "text": [
      "     survived  pclass     sex   age  sibsp  parch      fare embarked   class  \\\n",
      "10          1       3  female  4.00      1      1   16.7000        S   Third   \n",
      "24          0       3  female  8.00      3      1   21.0750        S   Third   \n",
      "43          1       2  female  3.00      1      2   41.5792        C  Second   \n",
      "58          1       2  female  5.00      1      2   27.7500        S  Second   \n",
      "119         0       3  female  2.00      4      2   31.2750        S   Third   \n",
      "147         0       3  female  9.00      2      2   34.3750        S   Third   \n",
      "172         1       3  female  1.00      1      1   11.1333        S   Third   \n",
      "184         1       3  female  4.00      0      2   22.0250        S   Third   \n",
      "205         0       3  female  2.00      0      1   10.4625        S   Third   \n",
      "233         1       3  female  5.00      4      2   31.3875        S   Third   \n",
      "237         1       2  female  8.00      0      2   26.2500        S  Second   \n",
      "297         0       1  female  2.00      1      2  151.5500        S   First   \n",
      "374         0       3  female  3.00      3      1   21.0750        S   Third   \n",
      "381         1       3  female  1.00      0      2   15.7417        C   Third   \n",
      "448         1       3  female  5.00      2      1   19.2583        C   Third   \n",
      "469         1       3  female  0.75      2      1   19.2583        C   Third   \n",
      "479         1       3  female  2.00      0      1   12.2875        S   Third   \n",
      "530         1       2  female  2.00      1      1   26.0000        S  Second   \n",
      "535         1       2  female  7.00      0      2   26.2500        S  Second   \n",
      "541         0       3  female  9.00      4      2   31.2750        S   Third   \n",
      "618         1       2  female  4.00      2      1   39.0000        S  Second   \n",
      "634         0       3  female  9.00      3      2   27.9000        S   Third   \n",
      "642         0       3  female  2.00      3      2   27.9000        S   Third   \n",
      "644         1       3  female  0.75      2      1   19.2583        C   Third   \n",
      "691         1       3  female  4.00      0      1   13.4167        C   Third   \n",
      "720         1       2  female  6.00      0      1   33.0000        S  Second   \n",
      "750         1       2  female  4.00      1      1   23.0000        S  Second   \n",
      "777         1       3  female  5.00      0      0   12.4750        S   Third   \n",
      "813         0       3  female  6.00      4      2   31.2750        S   Third   \n",
      "852         0       3  female  9.00      1      1   15.2458        C   Third   \n",
      "\n",
      "       who  adult_male deck  embark_town alive  alone  \n",
      "10   child       False    G  Southampton   yes  False  \n",
      "24   child       False  NaN  Southampton    no  False  \n",
      "43   child       False  NaN    Cherbourg   yes  False  \n",
      "58   child       False  NaN  Southampton   yes  False  \n",
      "119  child       False  NaN  Southampton    no  False  \n",
      "147  child       False  NaN  Southampton    no  False  \n",
      "172  child       False  NaN  Southampton   yes  False  \n",
      "184  child       False  NaN  Southampton   yes  False  \n",
      "205  child       False    G  Southampton    no  False  \n",
      "233  child       False  NaN  Southampton   yes  False  \n",
      "237  child       False  NaN  Southampton   yes  False  \n",
      "297  child       False    C  Southampton    no  False  \n",
      "374  child       False  NaN  Southampton    no  False  \n",
      "381  child       False  NaN    Cherbourg   yes  False  \n",
      "448  child       False  NaN    Cherbourg   yes  False  \n",
      "469  child       False  NaN    Cherbourg   yes  False  \n",
      "479  child       False  NaN  Southampton   yes  False  \n",
      "530  child       False  NaN  Southampton   yes  False  \n",
      "535  child       False  NaN  Southampton   yes  False  \n",
      "541  child       False  NaN  Southampton    no  False  \n",
      "618  child       False    F  Southampton   yes  False  \n",
      "634  child       False  NaN  Southampton    no  False  \n",
      "642  child       False  NaN  Southampton    no  False  \n",
      "644  child       False  NaN    Cherbourg   yes  False  \n",
      "691  child       False  NaN    Cherbourg   yes  False  \n",
      "720  child       False  NaN  Southampton   yes  False  \n",
      "750  child       False  NaN  Southampton   yes  False  \n",
      "777  child       False  NaN  Southampton   yes   True  \n",
      "813  child       False  NaN  Southampton    no  False  \n",
      "852  child       False  NaN    Cherbourg    no  False  \n"
     ]
    }
   ],
   "source": [
    "import seaborn as sns\n",
    "titanic = sns.load_dataset('titanic')\n",
    "mask1 = (titanic.age < 10) & (titanic.sex == 'female')\n",
    "df_teenage = titanic.loc[mask1, :]\n",
    "print(df_teenage)"
   ]
  },
  {
   "cell_type": "markdown",
   "metadata": {},
   "source": [
    "## 문제167. 위의 승객들의 생존율이 어떻게 되는지 출력하시오!"
   ]
  },
  {
   "cell_type": "code",
   "execution_count": 147,
   "metadata": {},
   "outputs": [
    {
     "name": "stdout",
     "output_type": "stream",
     "text": [
      "10      True\n",
      "24     False\n",
      "43      True\n",
      "58      True\n",
      "119    False\n",
      "147    False\n",
      "172     True\n",
      "184     True\n",
      "205    False\n",
      "233     True\n",
      "237     True\n",
      "297    False\n",
      "374    False\n",
      "381     True\n",
      "448     True\n",
      "469     True\n",
      "479     True\n",
      "530     True\n",
      "535     True\n",
      "541    False\n",
      "618     True\n",
      "634    False\n",
      "642    False\n",
      "644     True\n",
      "691     True\n",
      "720     True\n",
      "750     True\n",
      "777     True\n",
      "813    False\n",
      "852    False\n",
      "Name: survived, dtype: bool\n",
      "\n",
      "0.6333333333333333\n",
      "\n",
      "1    19\n",
      "0    11\n",
      "Name: survived, dtype: int64\n",
      "\n",
      "0.6333333333333333\n"
     ]
    }
   ],
   "source": [
    "import seaborn as sns\n",
    "titanic = sns.load_dataset('titanic')\n",
    "mask1 = (titanic.age < 10) & (titanic.sex == 'female')\n",
    "df_teenage = titanic.loc[mask1, :]\n",
    "result = df_teenage['survived'] == 1\n",
    "\n",
    "print(result, end = '\\n\\n')\n",
    "print(result.mean(), end = '\\n\\n')\n",
    "print(df_teenage['survived'].value_counts(), end = '\\n\\n') # 1이 '생존' // 0이 '사망'\n",
    "print(df_teenage['survived'].mean()) # 생존율"
   ]
  },
  {
   "cell_type": "markdown",
   "metadata": {},
   "source": [
    "## 문제168. 성별이 남자이고 20세 이상인 승객들의 생존율을 확인하시오!"
   ]
  },
  {
   "cell_type": "code",
   "execution_count": 151,
   "metadata": {},
   "outputs": [
    {
     "name": "stdout",
     "output_type": "stream",
     "text": [
      "     survived  pclass   sex   age  sibsp  parch     fare embarked   class  \\\n",
      "0           0       3  male  22.0      1      0   7.2500        S   Third   \n",
      "4           0       3  male  35.0      0      0   8.0500        S   Third   \n",
      "6           0       1  male  54.0      0      0  51.8625        S   First   \n",
      "12          0       3  male  20.0      0      0   8.0500        S   Third   \n",
      "13          0       3  male  39.0      1      5  31.2750        S   Third   \n",
      "..        ...     ...   ...   ...    ...    ...      ...      ...     ...   \n",
      "883         0       2  male  28.0      0      0  10.5000        S  Second   \n",
      "884         0       3  male  25.0      0      0   7.0500        S   Third   \n",
      "886         0       2  male  27.0      0      0  13.0000        S  Second   \n",
      "889         1       1  male  26.0      0      0  30.0000        C   First   \n",
      "890         0       3  male  32.0      0      0   7.7500        Q   Third   \n",
      "\n",
      "     who  adult_male deck  embark_town alive  alone  \n",
      "0    man        True  NaN  Southampton    no  False  \n",
      "4    man        True  NaN  Southampton    no   True  \n",
      "6    man        True    E  Southampton    no   True  \n",
      "12   man        True  NaN  Southampton    no   True  \n",
      "13   man        True  NaN  Southampton    no  False  \n",
      "..   ...         ...  ...          ...   ...    ...  \n",
      "883  man        True  NaN  Southampton    no   True  \n",
      "884  man        True  NaN  Southampton    no   True  \n",
      "886  man        True  NaN  Southampton    no   True  \n",
      "889  man        True    C    Cherbourg   yes   True  \n",
      "890  man        True  NaN   Queenstown    no   True  \n",
      "\n",
      "[364 rows x 15 columns]\n",
      "\n",
      "0      False\n",
      "4      False\n",
      "6      False\n",
      "12     False\n",
      "13     False\n",
      "       ...  \n",
      "883    False\n",
      "884    False\n",
      "886    False\n",
      "889     True\n",
      "890    False\n",
      "Name: survived, Length: 364, dtype: bool\n",
      "\n",
      "0.18406593406593408\n"
     ]
    }
   ],
   "source": [
    "import seaborn as sns\n",
    "\n",
    "titanic = sns.load_dataset('titanic')\n",
    "mask1 = (titanic['sex']=='male') & (titanic['age'] >= 20)\n",
    "\n",
    "df_1 = titanic.loc[:][mask1]\n",
    "result = df_1['survived'] == 1\n",
    "\n",
    "print(df_1, end = '\\n\\n')\n",
    "print(result, end = '\\n\\n')\n",
    "print(result.mean())"
   ]
  },
  {
   "cell_type": "markdown",
   "metadata": {},
   "source": [
    "## 문제169. 나이가 10세 미만 또는 60세 이상인 승객의 age, sex, alone 열만 출력하시오!"
   ]
  },
  {
   "cell_type": "code",
   "execution_count": 153,
   "metadata": {},
   "outputs": [
    {
     "name": "stdout",
     "output_type": "stream",
     "text": [
      "       age     sex  alone\n",
      "7     2.00    male  False\n",
      "10    4.00  female  False\n",
      "16    2.00    male  False\n",
      "24    8.00  female  False\n",
      "33   66.00    male   True\n",
      "..     ...     ...    ...\n",
      "831   0.83    male  False\n",
      "850   4.00    male  False\n",
      "851  74.00    male   True\n",
      "852   9.00  female  False\n",
      "869   4.00    male  False\n",
      "\n",
      "[88 rows x 3 columns]\n"
     ]
    }
   ],
   "source": [
    "import seaborn as sns\n",
    "\n",
    "titanic = sns.load_dataset('titanic')\n",
    "\n",
    "mask3 = (titanic['age'] < 10) | (titanic['age'] >= 60)\n",
    "result3 = titanic.loc[mask3, ['age','sex','alone']]\n",
    "\n",
    "print(result3)"
   ]
  },
  {
   "cell_type": "markdown",
   "metadata": {},
   "source": [
    "## 문제170. 위에 승객들의 생존율을 확인하시오!"
   ]
  },
  {
   "cell_type": "code",
   "execution_count": 160,
   "metadata": {},
   "outputs": [
    {
     "name": "stdout",
     "output_type": "stream",
     "text": [
      "0.2692307692307692\n"
     ]
    }
   ],
   "source": [
    "import seaborn as sns\n",
    "\n",
    "titanic = sns.load_dataset('titanic')\n",
    "\n",
    "mask3 = (titanic['age'] < 10) | (titanic['age'] >= 60) # |는 or을 뜻함.\n",
    "mask4 = titanic['age'] >= 60\n",
    "\n",
    "result3 = titanic.loc[mask3, ['age','sex','alone']]\n",
    "result4 = titanic.loc[mask4, :]\n",
    "\n",
    "print(result4['survived'].mean()) # 현재 ['survived'] 컬럼이 0또는 1로 나와서 이렇게 해도 결과는 나온다.(추천은 안함!)"
   ]
  },
  {
   "cell_type": "markdown",
   "metadata": {},
   "source": [
    "## 문제171. 나이가 10세 미만이거나 성별이 여자인 승객들의 생존율을 확인하시오!"
   ]
  },
  {
   "cell_type": "code",
   "execution_count": 159,
   "metadata": {},
   "outputs": [
    {
     "name": "stdout",
     "output_type": "stream",
     "text": [
      "0.7283236994219653\n"
     ]
    }
   ],
   "source": [
    "import seaborn as sns\n",
    "\n",
    "titanic = sns.load_dataset('titanic')\n",
    "\n",
    "mask1 = (titanic['age'] < 10) & (titanic['sex'] == 'female')\n",
    "\n",
    "df_1 = titanic.loc[mask1, :]\n",
    "\n",
    "result1 = df_1['survived'] == 1\n",
    "\n",
    "print(result1.mean())"
   ]
  },
  {
   "cell_type": "markdown",
   "metadata": {},
   "source": [
    "## 문제172. 위의 정보를 담는 파생변수를 child_women 이라는 변수로 생성하시오!\n",
    "### 데이터는 위의 조건에 해당되면 1이고 아니면 0으로 하시오!"
   ]
  },
  {
   "cell_type": "code",
   "execution_count": 170,
   "metadata": {},
   "outputs": [
    {
     "name": "stdout",
     "output_type": "stream",
     "text": [
      "     survived  pclass     sex   age  sibsp  parch     fare embarked   class  \\\n",
      "0           0       3    male  22.0      1      0   7.2500        S   Third   \n",
      "1           1       1  female  38.0      1      0  71.2833        C   First   \n",
      "2           1       3  female  26.0      0      0   7.9250        S   Third   \n",
      "3           1       1  female  35.0      1      0  53.1000        S   First   \n",
      "4           0       3    male  35.0      0      0   8.0500        S   Third   \n",
      "..        ...     ...     ...   ...    ...    ...      ...      ...     ...   \n",
      "886         0       2    male  27.0      0      0  13.0000        S  Second   \n",
      "887         1       1  female  19.0      0      0  30.0000        S   First   \n",
      "888         0       3  female   NaN      1      2  23.4500        S   Third   \n",
      "889         1       1    male  26.0      0      0  30.0000        C   First   \n",
      "890         0       3    male  32.0      0      0   7.7500        Q   Third   \n",
      "\n",
      "       who  adult_male deck  embark_town alive  alone  child_women  \n",
      "0      man        True  NaN  Southampton    no  False            0  \n",
      "1    woman       False    C    Cherbourg   yes  False            1  \n",
      "2    woman       False  NaN  Southampton   yes   True            1  \n",
      "3    woman       False    C  Southampton   yes  False            1  \n",
      "4      man        True  NaN  Southampton    no   True            0  \n",
      "..     ...         ...  ...          ...   ...    ...          ...  \n",
      "886    man        True  NaN  Southampton    no   True            0  \n",
      "887  woman       False    B  Southampton   yes   True            1  \n",
      "888  woman       False  NaN  Southampton    no  False            1  \n",
      "889    man        True    C    Cherbourg   yes   True            0  \n",
      "890    man        True  NaN   Queenstown    no   True            0  \n",
      "\n",
      "[891 rows x 16 columns]\n"
     ]
    }
   ],
   "source": [
    "import seaborn as sns\n",
    "\n",
    "titanic = sns.load_dataset('titanic')\n",
    "mask1 = (titanic['age'] < 10) | (titanic['sex'] == 'female')\n",
    "\n",
    "titanic['child_women'] = mask1.astype(int)\n",
    "print(titanic)"
   ]
  },
  {
   "cell_type": "markdown",
   "metadata": {},
   "source": [
    "### 면접문제2. 분석한 데이터에서 Feature engineering을 하셨나요? 타이타닉 생존자를 예측하는 머신러닝 모델을 생성할 때 생성한 파생변수는 무엇이 있었나요 ?\n",
    "\n",
    "__답 :__ 위의 문제를 기준으로 child_women이라는 파생변수를 생성하였습니다.\n",
    "\n",
    "__feature selection :__ 기존의 컬럼중에 원하는 컬럼만 선택!  \n",
    "__feature engineering :__ 기존의 데이터를 가지고 새로운 feature를 생성"
   ]
  },
  {
   "cell_type": "markdown",
   "metadata": {},
   "source": [
    "## ■ isin 메소드를 사용하여 조건 추출\n",
    "\n",
    "__문법 :__ DataFrame의 열.isin(추출 값의 리스트)"
   ]
  },
  {
   "cell_type": "markdown",
   "metadata": {},
   "source": [
    "### 예제1. 직업이 SALESMAN, ANALYST 인 사원들의 이르과 직업을 출력하시오!"
   ]
  },
  {
   "cell_type": "code",
   "execution_count": 176,
   "metadata": {},
   "outputs": [
    {
     "name": "stdout",
     "output_type": "stream",
     "text": [
      "     ename       job\n",
      "4   MARTIN  SALESMAN\n",
      "5    ALLEN  SALESMAN\n",
      "6   TURNER  SALESMAN\n",
      "8     WARD  SALESMAN\n",
      "9     FORD   ANALYST\n",
      "11   SCOTT   ANALYST\n"
     ]
    }
   ],
   "source": [
    "import pandas as pd\n",
    "\n",
    "emp = pd.read_csv(\"d:\\\\data\\\\emp.csv\")\n",
    "print(emp[['ename','job']][emp['job'].isin(['SALESMAN', 'ANALYST'])])\n",
    "\n",
    "# isin을 쓴다면, 앞의 문제처럼 mask를 변수로 지정해서 처리할 필요가 없다."
   ]
  },
  {
   "cell_type": "markdown",
   "metadata": {},
   "source": [
    "### 예제2. 함께 탑승한 형제 또는 배우자의 수가 3,4,5명인 승객만 검색하시오!\n",
    "\n",
    "- sibsp : 동반한 형제자매, 배우자 수"
   ]
  },
  {
   "cell_type": "code",
   "execution_count": 187,
   "metadata": {},
   "outputs": [
    {
     "name": "stdout",
     "output_type": "stream",
     "text": [
      "     PassengerId  Survived  Pclass  \\\n",
      "7              8         0       3   \n",
      "16            17         0       3   \n",
      "24            25         0       3   \n",
      "27            28         0       1   \n",
      "50            51         0       3   \n",
      "59            60         0       3   \n",
      "63            64         0       3   \n",
      "68            69         1       3   \n",
      "71            72         0       3   \n",
      "85            86         1       3   \n",
      "88            89         1       1   \n",
      "119          120         0       3   \n",
      "164          165         0       3   \n",
      "171          172         0       3   \n",
      "176          177         0       3   \n",
      "182          183         0       3   \n",
      "229          230         0       3   \n",
      "233          234         1       3   \n",
      "261          262         1       3   \n",
      "266          267         0       3   \n",
      "278          279         0       3   \n",
      "341          342         1       1   \n",
      "374          375         0       3   \n",
      "386          387         0       3   \n",
      "409          410         0       3   \n",
      "480          481         0       3   \n",
      "485          486         0       3   \n",
      "541          542         0       3   \n",
      "542          543         0       3   \n",
      "634          635         0       3   \n",
      "642          643         0       3   \n",
      "683          684         0       3   \n",
      "686          687         0       3   \n",
      "726          727         1       2   \n",
      "787          788         0       3   \n",
      "813          814         0       3   \n",
      "819          820         0       3   \n",
      "824          825         0       3   \n",
      "850          851         0       3   \n",
      "\n",
      "                                                  Name     Sex   Age  SibSp  \\\n",
      "7                       Palsson, Master. Gosta Leonard    male   2.0      3   \n",
      "16                                Rice, Master. Eugene    male   2.0      4   \n",
      "24                       Palsson, Miss. Torborg Danira  female   8.0      3   \n",
      "27                      Fortune, Mr. Charles Alexander    male  19.0      3   \n",
      "50                          Panula, Master. Juha Niilo    male   7.0      4   \n",
      "59                  Goodwin, Master. William Frederick    male  11.0      5   \n",
      "63                               Skoog, Master. Harald    male   4.0      3   \n",
      "68                     Andersson, Miss. Erna Alexandra  female  17.0      4   \n",
      "71                          Goodwin, Miss. Lillian Amy  female  16.0      5   \n",
      "85   Backstrom, Mrs. Karl Alfred (Maria Mathilda Gu...  female  33.0      3   \n",
      "88                          Fortune, Miss. Mabel Helen  female  23.0      3   \n",
      "119                  Andersson, Miss. Ellis Anna Maria  female   2.0      4   \n",
      "164                       Panula, Master. Eino Viljami    male   1.0      4   \n",
      "171                               Rice, Master. Arthur    male   4.0      4   \n",
      "176                      Lefebre, Master. Henry Forbes    male   NaN      3   \n",
      "182              Asplund, Master. Clarence Gustaf Hugo    male   9.0      4   \n",
      "229                            Lefebre, Miss. Mathilde  female   NaN      3   \n",
      "233                     Asplund, Miss. Lillian Gertrud  female   5.0      4   \n",
      "261                  Asplund, Master. Edvin Rojj Felix    male   3.0      4   \n",
      "266                          Panula, Mr. Ernesti Arvid    male  16.0      4   \n",
      "278                                 Rice, Master. Eric    male   7.0      4   \n",
      "341                     Fortune, Miss. Alice Elizabeth  female  24.0      3   \n",
      "374                         Palsson, Miss. Stina Viola  female   3.0      3   \n",
      "386                    Goodwin, Master. Sidney Leonard    male   1.0      5   \n",
      "409                                 Lefebre, Miss. Ida  female   NaN      3   \n",
      "480                     Goodwin, Master. Harold Victor    male   9.0      5   \n",
      "485                             Lefebre, Miss. Jeannie  female   NaN      3   \n",
      "541               Andersson, Miss. Ingeborg Constanzia  female   9.0      4   \n",
      "542                  Andersson, Miss. Sigrid Elisabeth  female  11.0      4   \n",
      "634                                 Skoog, Miss. Mabel  female   9.0      3   \n",
      "642                      Skoog, Miss. Margit Elizabeth  female   2.0      3   \n",
      "683                        Goodwin, Mr. Charles Edward    male  14.0      5   \n",
      "686                           Panula, Mr. Jaako Arnold    male  14.0      4   \n",
      "726        Renouf, Mrs. Peter Henry (Lillian Jefferys)  female  30.0      3   \n",
      "787                          Rice, Master. George Hugh    male   8.0      4   \n",
      "813                 Andersson, Miss. Ebba Iris Alfrida  female   6.0      4   \n",
      "819                       Skoog, Master. Karl Thorsten    male  10.0      3   \n",
      "824                       Panula, Master. Urho Abraham    male   2.0      4   \n",
      "850            Andersson, Master. Sigvard Harald Elias    male   4.0      4   \n",
      "\n",
      "     Parch   Ticket      Fare        Cabin Embarked  \n",
      "7        1   349909   21.0750          NaN        S  \n",
      "16       1   382652   29.1250          NaN        Q  \n",
      "24       1   349909   21.0750          NaN        S  \n",
      "27       2    19950  263.0000  C23 C25 C27        S  \n",
      "50       1  3101295   39.6875          NaN        S  \n",
      "59       2  CA 2144   46.9000          NaN        S  \n",
      "63       2   347088   27.9000          NaN        S  \n",
      "68       2  3101281    7.9250          NaN        S  \n",
      "71       2  CA 2144   46.9000          NaN        S  \n",
      "85       0  3101278   15.8500          NaN        S  \n",
      "88       2    19950  263.0000  C23 C25 C27        S  \n",
      "119      2   347082   31.2750          NaN        S  \n",
      "164      1  3101295   39.6875          NaN        S  \n",
      "171      1   382652   29.1250          NaN        Q  \n",
      "176      1     4133   25.4667          NaN        S  \n",
      "182      2   347077   31.3875          NaN        S  \n",
      "229      1     4133   25.4667          NaN        S  \n",
      "233      2   347077   31.3875          NaN        S  \n",
      "261      2   347077   31.3875          NaN        S  \n",
      "266      1  3101295   39.6875          NaN        S  \n",
      "278      1   382652   29.1250          NaN        Q  \n",
      "341      2    19950  263.0000  C23 C25 C27        S  \n",
      "374      1   349909   21.0750          NaN        S  \n",
      "386      2  CA 2144   46.9000          NaN        S  \n",
      "409      1     4133   25.4667          NaN        S  \n",
      "480      2  CA 2144   46.9000          NaN        S  \n",
      "485      1     4133   25.4667          NaN        S  \n",
      "541      2   347082   31.2750          NaN        S  \n",
      "542      2   347082   31.2750          NaN        S  \n",
      "634      2   347088   27.9000          NaN        S  \n",
      "642      2   347088   27.9000          NaN        S  \n",
      "683      2  CA 2144   46.9000          NaN        S  \n",
      "686      1  3101295   39.6875          NaN        S  \n",
      "726      0    31027   21.0000          NaN        S  \n",
      "787      1   382652   29.1250          NaN        Q  \n",
      "813      2   347082   31.2750          NaN        S  \n",
      "819      2   347088   27.9000          NaN        S  \n",
      "824      1  3101295   39.6875          NaN        S  \n",
      "850      2   347082   31.2750          NaN        S  \n",
      "\n",
      "39\n",
      "\n",
      "     PassengerId  Survived  Pclass  \\\n",
      "7              8         0       3   \n",
      "16            17         0       3   \n",
      "24            25         0       3   \n",
      "27            28         0       1   \n",
      "50            51         0       3   \n",
      "59            60         0       3   \n",
      "63            64         0       3   \n",
      "68            69         1       3   \n",
      "71            72         0       3   \n",
      "85            86         1       3   \n",
      "88            89         1       1   \n",
      "119          120         0       3   \n",
      "164          165         0       3   \n",
      "171          172         0       3   \n",
      "176          177         0       3   \n",
      "182          183         0       3   \n",
      "229          230         0       3   \n",
      "233          234         1       3   \n",
      "261          262         1       3   \n",
      "266          267         0       3   \n",
      "278          279         0       3   \n",
      "341          342         1       1   \n",
      "374          375         0       3   \n",
      "386          387         0       3   \n",
      "409          410         0       3   \n",
      "480          481         0       3   \n",
      "485          486         0       3   \n",
      "541          542         0       3   \n",
      "542          543         0       3   \n",
      "634          635         0       3   \n",
      "642          643         0       3   \n",
      "683          684         0       3   \n",
      "686          687         0       3   \n",
      "726          727         1       2   \n",
      "787          788         0       3   \n",
      "813          814         0       3   \n",
      "819          820         0       3   \n",
      "824          825         0       3   \n",
      "850          851         0       3   \n",
      "\n",
      "                                                  Name     Sex   Age  SibSp  \\\n",
      "7                       Palsson, Master. Gosta Leonard    male   2.0      3   \n",
      "16                                Rice, Master. Eugene    male   2.0      4   \n",
      "24                       Palsson, Miss. Torborg Danira  female   8.0      3   \n",
      "27                      Fortune, Mr. Charles Alexander    male  19.0      3   \n",
      "50                          Panula, Master. Juha Niilo    male   7.0      4   \n",
      "59                  Goodwin, Master. William Frederick    male  11.0      5   \n",
      "63                               Skoog, Master. Harald    male   4.0      3   \n",
      "68                     Andersson, Miss. Erna Alexandra  female  17.0      4   \n",
      "71                          Goodwin, Miss. Lillian Amy  female  16.0      5   \n",
      "85   Backstrom, Mrs. Karl Alfred (Maria Mathilda Gu...  female  33.0      3   \n",
      "88                          Fortune, Miss. Mabel Helen  female  23.0      3   \n",
      "119                  Andersson, Miss. Ellis Anna Maria  female   2.0      4   \n",
      "164                       Panula, Master. Eino Viljami    male   1.0      4   \n",
      "171                               Rice, Master. Arthur    male   4.0      4   \n",
      "176                      Lefebre, Master. Henry Forbes    male   NaN      3   \n",
      "182              Asplund, Master. Clarence Gustaf Hugo    male   9.0      4   \n",
      "229                            Lefebre, Miss. Mathilde  female   NaN      3   \n",
      "233                     Asplund, Miss. Lillian Gertrud  female   5.0      4   \n",
      "261                  Asplund, Master. Edvin Rojj Felix    male   3.0      4   \n",
      "266                          Panula, Mr. Ernesti Arvid    male  16.0      4   \n",
      "278                                 Rice, Master. Eric    male   7.0      4   \n",
      "341                     Fortune, Miss. Alice Elizabeth  female  24.0      3   \n",
      "374                         Palsson, Miss. Stina Viola  female   3.0      3   \n",
      "386                    Goodwin, Master. Sidney Leonard    male   1.0      5   \n",
      "409                                 Lefebre, Miss. Ida  female   NaN      3   \n",
      "480                     Goodwin, Master. Harold Victor    male   9.0      5   \n",
      "485                             Lefebre, Miss. Jeannie  female   NaN      3   \n",
      "541               Andersson, Miss. Ingeborg Constanzia  female   9.0      4   \n",
      "542                  Andersson, Miss. Sigrid Elisabeth  female  11.0      4   \n",
      "634                                 Skoog, Miss. Mabel  female   9.0      3   \n",
      "642                      Skoog, Miss. Margit Elizabeth  female   2.0      3   \n",
      "683                        Goodwin, Mr. Charles Edward    male  14.0      5   \n",
      "686                           Panula, Mr. Jaako Arnold    male  14.0      4   \n",
      "726        Renouf, Mrs. Peter Henry (Lillian Jefferys)  female  30.0      3   \n",
      "787                          Rice, Master. George Hugh    male   8.0      4   \n",
      "813                 Andersson, Miss. Ebba Iris Alfrida  female   6.0      4   \n",
      "819                       Skoog, Master. Karl Thorsten    male  10.0      3   \n",
      "824                       Panula, Master. Urho Abraham    male   2.0      4   \n",
      "850            Andersson, Master. Sigvard Harald Elias    male   4.0      4   \n",
      "\n",
      "     Parch   Ticket      Fare        Cabin Embarked  \n",
      "7        1   349909   21.0750          NaN        S  \n",
      "16       1   382652   29.1250          NaN        Q  \n",
      "24       1   349909   21.0750          NaN        S  \n",
      "27       2    19950  263.0000  C23 C25 C27        S  \n",
      "50       1  3101295   39.6875          NaN        S  \n",
      "59       2  CA 2144   46.9000          NaN        S  \n",
      "63       2   347088   27.9000          NaN        S  \n",
      "68       2  3101281    7.9250          NaN        S  \n",
      "71       2  CA 2144   46.9000          NaN        S  \n",
      "85       0  3101278   15.8500          NaN        S  \n",
      "88       2    19950  263.0000  C23 C25 C27        S  \n",
      "119      2   347082   31.2750          NaN        S  \n",
      "164      1  3101295   39.6875          NaN        S  \n",
      "171      1   382652   29.1250          NaN        Q  \n",
      "176      1     4133   25.4667          NaN        S  \n",
      "182      2   347077   31.3875          NaN        S  \n",
      "229      1     4133   25.4667          NaN        S  \n",
      "233      2   347077   31.3875          NaN        S  \n",
      "261      2   347077   31.3875          NaN        S  \n",
      "266      1  3101295   39.6875          NaN        S  \n",
      "278      1   382652   29.1250          NaN        Q  \n",
      "341      2    19950  263.0000  C23 C25 C27        S  \n",
      "374      1   349909   21.0750          NaN        S  \n",
      "386      2  CA 2144   46.9000          NaN        S  \n",
      "409      1     4133   25.4667          NaN        S  \n",
      "480      2  CA 2144   46.9000          NaN        S  \n",
      "485      1     4133   25.4667          NaN        S  \n",
      "541      2   347082   31.2750          NaN        S  \n",
      "542      2   347082   31.2750          NaN        S  \n",
      "634      2   347088   27.9000          NaN        S  \n",
      "642      2   347088   27.9000          NaN        S  \n",
      "683      2  CA 2144   46.9000          NaN        S  \n",
      "686      1  3101295   39.6875          NaN        S  \n",
      "726      0    31027   21.0000          NaN        S  \n",
      "787      1   382652   29.1250          NaN        Q  \n",
      "813      2   347082   31.2750          NaN        S  \n",
      "819      2   347088   27.9000          NaN        S  \n",
      "824      1  3101295   39.6875          NaN        S  \n",
      "850      2   347082   31.2750          NaN        S  \n",
      "39\n"
     ]
    }
   ],
   "source": [
    "import pandas as pd\n",
    "\n",
    "tat = pd.read_csv(\"d:\\\\data\\\\train.csv\")\n",
    "\n",
    "result5 = tat['SibSp'].isin([3,4,5])\n",
    "\n",
    "print(tat[:][tat['SibSp'].isin([3,4,5])], end = '\\n\\n')\n",
    "print(len(tat[:][tat['SibSp'].isin([3,4,5])]), end = '\\n\\n')\n",
    "\n",
    "print(tat[result5])\n",
    "print(len(tat[result5]))\n",
    "# isin을 쓴다면, 앞의 문제처럼 mask를 변수로 지정해서 처리할 필요가 없다."
   ]
  },
  {
   "cell_type": "markdown",
   "metadata": {},
   "source": [
    "### ※ merge와 groupby를 많이 사용해서 파생변수를 생성합니다."
   ]
  },
  {
   "cell_type": "markdown",
   "metadata": {},
   "source": [
    "## ■ 데이터 프레임 합치기\n",
    "\n",
    "1. pandas.concat\n",
    "2. pandas.merge\n",
    "3. df1.join(df2)"
   ]
  },
  {
   "cell_type": "markdown",
   "metadata": {},
   "source": [
    "## ■ pandas.concat 사용하기\n",
    "\n",
    "__문법 :__ pd.concat([df1,df2], 옵션)\n",
    "\n",
    "### 옵션\n",
    "\n",
    "axis = 0 이면 위 아래 행방향으로 연결이 된다.  \n",
    "axis = 1 이면 양 옆으로 열방향으로 연결이 된다.  \n",
    "ignore_index = True를 사용하면 행번호가 다시 새롭게 부여된다.  \n",
    "join = 'inner' 이면 컬럼들의 교집합이 출력된다.  \n",
    "join = 'outer' 이면 모든 컬럼이 다 출력이 된다."
   ]
  },
  {
   "cell_type": "markdown",
   "metadata": {},
   "source": [
    "## 예제1. seaborn에서 제공하는 타이타닉 데이터와 케글에서 제공하는 타이타닉 데이터가 서로 같은 데이터인지 확인하시오!"
   ]
  },
  {
   "cell_type": "code",
   "execution_count": 191,
   "metadata": {},
   "outputs": [
    {
     "name": "stdout",
     "output_type": "stream",
     "text": [
      "891\n",
      "891\n",
      "      age   Age\n",
      "0    22.0  22.0\n",
      "1    38.0  38.0\n",
      "2    26.0  26.0\n",
      "3    35.0  35.0\n",
      "4    35.0  35.0\n",
      "..    ...   ...\n",
      "886  27.0  27.0\n",
      "887  19.0  19.0\n",
      "888   NaN   NaN\n",
      "889  26.0  26.0\n",
      "890  32.0  32.0\n",
      "\n",
      "[891 rows x 2 columns]\n"
     ]
    }
   ],
   "source": [
    "import seaborn as sns\n",
    "import pandas as pd\n",
    "\n",
    "df1 = sns.load_dataset('titanic')\n",
    "df2 = pd.read_csv(\"d:\\\\data\\\\train.csv\")\n",
    "\n",
    "print(len(df1)) # 891\n",
    "print(len(df2)) # 891\n",
    "\n",
    "print(pd.concat([df1['age'],df2['Age']], axis = 1))"
   ]
  },
  {
   "cell_type": "markdown",
   "metadata": {},
   "source": [
    "## 예제2. 머신러닝 게시판에 concat 실습자료를 실행하고 df1과 df2 데이터 프레임을 서로 양옆으로 연결하시오~"
   ]
  },
  {
   "cell_type": "code",
   "execution_count": 198,
   "metadata": {},
   "outputs": [
    {
     "name": "stdout",
     "output_type": "stream",
     "text": [
      "    a   b   c\n",
      "0  a0  b0  c0\n",
      "1  a1  b1  c1\n",
      "2  a2  b2  c2\n",
      "3  a3  b3  c3 \n",
      "\n",
      "    a   b   c   d\n",
      "2  a2  b2  c2  d2\n",
      "3  a3  b3  c3  d3\n",
      "4  a4  b4  c4  d4\n",
      "5  a5  b5  c5  d5 \n",
      "\n",
      "     a    b    c    a    b    c    d\n",
      "0   a0   b0   c0  NaN  NaN  NaN  NaN\n",
      "1   a1   b1   c1  NaN  NaN  NaN  NaN\n",
      "2   a2   b2   c2   a2   b2   c2   d2\n",
      "3   a3   b3   c3   a3   b3   c3   d3\n",
      "4  NaN  NaN  NaN   a4   b4   c4   d4\n",
      "5  NaN  NaN  NaN   a5   b5   c5   d5\n"
     ]
    }
   ],
   "source": [
    "import pandas as pd\n",
    "\n",
    "df1 = pd.DataFrame({'a': ['a0', 'a1', 'a2', 'a3'],\n",
    "\n",
    "                    'b': ['b0', 'b1', 'b2', 'b3'],\n",
    "\n",
    "                    'c': ['c0', 'c1', 'c2', 'c3']},\n",
    "\n",
    "                    index=[0, 1, 2, 3])\n",
    "\n",
    "df2 = pd.DataFrame({'a': ['a2', 'a3', 'a4', 'a5'],\n",
    "\n",
    "                    'b': ['b2', 'b3', 'b4', 'b5'],\n",
    "\n",
    "                    'c': ['c2', 'c3', 'c4', 'c5'],\n",
    "\n",
    "                    'd': ['d2', 'd3', 'd4', 'd5']},\n",
    "\n",
    "                    index=[2, 3, 4, 5])\n",
    "\n",
    "print(df1, '\\n')\n",
    "print(df2, '\\n')\n",
    "\n",
    "result = pd.concat([df1,df2], axis = 1)\n",
    "print(result)"
   ]
  },
  {
   "cell_type": "markdown",
   "metadata": {},
   "source": [
    "## 예제3. concat을 이용해서 emp와 dept를 조인하시오 ~"
   ]
  },
  {
   "cell_type": "code",
   "execution_count": 201,
   "metadata": {},
   "outputs": [
    {
     "name": "stdout",
     "output_type": "stream",
     "text": [
      "   empno  ename        job     mgr    hiredate   sal  comm  deptno  deptno  \\\n",
      "0   7839   KING  PRESIDENT     NaN  1981-11-17  5000   NaN      10      10   \n",
      "1   7698  BLAKE    MANAGER  7839.0  1981-05-01  2850   NaN      30      20   \n",
      "2   7782  CLARK    MANAGER  7839.0  1981-05-09  2450   NaN      10      30   \n",
      "3   7566  JONES    MANAGER  7839.0  1981-04-01  2975   NaN      20      40   \n",
      "\n",
      "        dname       loc  \n",
      "0  ACCOUNTING  NEW YORK  \n",
      "1    RESEARCH    DALLAS  \n",
      "2       SALES   CHICAGO  \n",
      "3  OPERATIONS    BOSTON  \n"
     ]
    }
   ],
   "source": [
    "import pandas as pd\n",
    "\n",
    "emp = pd.read_csv(\"d:\\\\data\\\\emp.csv\")\n",
    "dept = pd.read_csv(\"d:\\\\data\\\\dept.csv\")\n",
    "\n",
    "result1 = pd.concat([emp, dept], axis =1)\n",
    "result2 = pd.concat([emp, dept], axis =1, join = 'inner')\n",
    "\n",
    "print(result2)"
   ]
  },
  {
   "cell_type": "markdown",
   "metadata": {},
   "source": [
    "### 설명 : concat으로는 emp와 dept를 서로 조인할 수 없다. 따라서 merge를 사용해야 한다."
   ]
  },
  {
   "cell_type": "markdown",
   "metadata": {},
   "source": [
    "## ■ pandas의 merge\n",
    "\n",
    "__문법 :__ pandas.merge(emp_left, dept_right, how = 'inner', on = 'deptno')\n",
    "\n",
    "__옵션 :__   \n",
    "__how = 'inner' :__ 열의 Data가 양쪽 데이터프레임에 공통으로 존재하는 교집합인 경우에만 추출하겠다.  \n",
    "__how = 'outer' :__ 열의 Data가 양쪽 데이터프레임에 공통으로 존재하는 교집합이 아니어도 추출하겠다.   \n",
    "__how = 'left'  :__ 왼쪽 데이터프레임의 키열에 속하는 데이터값을 기준으로 병합한다.  \n",
    "__how = 'right' :__ 오른쪽 데이터프레임의 키열에 속하는 데이터값을 기준으로 병합한다.  "
   ]
  },
  {
   "cell_type": "markdown",
   "metadata": {},
   "source": [
    "## 예제1. emp와 dept를 merge 조인해서 ename과 loc를 출력하시오!"
   ]
  },
  {
   "cell_type": "code",
   "execution_count": 203,
   "metadata": {},
   "outputs": [
    {
     "name": "stdout",
     "output_type": "stream",
     "text": [
      "     ename        job\n",
      "0     KING  PRESIDENT\n",
      "1    CLARK    MANAGER\n",
      "2   MILLER      CLERK\n",
      "3    BLAKE    MANAGER\n",
      "4   MARTIN   SALESMAN\n",
      "5    ALLEN   SALESMAN\n",
      "6   TURNER   SALESMAN\n",
      "7    JAMES      CLERK\n",
      "8     WARD   SALESMAN\n",
      "9    JONES    MANAGER\n",
      "10    FORD    ANALYST\n",
      "11   SMITH      CLERK\n",
      "12   SCOTT    ANALYST\n",
      "13   ADAMS      CLERK\n"
     ]
    }
   ],
   "source": [
    "import pandas as pd\n",
    "\n",
    "emp = pd.read_csv(\"d:\\\\data\\\\emp.csv\")\n",
    "dept = pd.read_csv(\"d:\\\\data\\\\dept.csv\")\n",
    "\n",
    "result = pd.merge(emp, dept, how = 'inner', on = 'deptno') # on = 'deptno' --> 양쪽 연결고리가 되는 컬럼\n",
    "print(result[['ename','job']])"
   ]
  },
  {
   "cell_type": "markdown",
   "metadata": {},
   "source": [
    "## 문제174. 아래의 SQL을 pandas로 구현하시오!"
   ]
  },
  {
   "cell_type": "code",
   "execution_count": 207,
   "metadata": {},
   "outputs": [
    {
     "name": "stdout",
     "output_type": "stream",
     "text": [
      "     ename       loc\n",
      "0     KING  NEW YORK\n",
      "1    CLARK  NEW YORK\n",
      "2   MILLER  NEW YORK\n",
      "3    BLAKE   CHICAGO\n",
      "4   MARTIN   CHICAGO\n",
      "5    ALLEN   CHICAGO\n",
      "6   TURNER   CHICAGO\n",
      "7    JAMES   CHICAGO\n",
      "8     WARD   CHICAGO\n",
      "9    JONES    DALLAS\n",
      "10    FORD    DALLAS\n",
      "11   SMITH    DALLAS\n",
      "12   SCOTT    DALLAS\n",
      "13   ADAMS    DALLAS\n",
      "14     NaN    BOSTON\n"
     ]
    }
   ],
   "source": [
    "\"\"\"\n",
    "SQL>\n",
    "SELECT e.ename, d.loc\n",
    "    from emp e, dept d\n",
    "    where e.deptno (+) = d.deptno;\n",
    "\"\"\"\n",
    "\n",
    "# Pandas.ver\n",
    "import pandas as pd\n",
    "\n",
    "emp = pd.read_csv(\"d:\\\\data\\\\emp.csv\")\n",
    "dept = pd.read_csv(\"d:\\\\data\\\\dept.csv\")\n",
    "\n",
    "result = pd.merge(emp, dept, how = 'right', on = 'deptno')\n",
    "print(result[['ename','loc']])"
   ]
  },
  {
   "cell_type": "markdown",
   "metadata": {},
   "source": [
    "## 문제175. 아래의 주식 엑셀 데이터를 가져와서 데이터 프레임을 만드시오!"
   ]
  },
  {
   "cell_type": "code",
   "execution_count": 210,
   "metadata": {},
   "outputs": [
    {
     "name": "stdout",
     "output_type": "stream",
     "text": [
      "       id stock_name          value   price\n",
      "0  128940       한미약품   59385.666667  421000\n",
      "1  130960     CJ E&M   58540.666667   98900\n",
      "2  138250      엔에스쇼핑   14558.666667   13200\n",
      "3  139480        이마트  239230.833333  254500\n",
      "4  142280     녹십자엠에스     468.833333   10200\n",
      "5  145990        삼양사   82750.000000   82000\n",
      "6  185750        종근당   40293.666667  100500\n",
      "7  192400      쿠쿠홀딩스  179204.666667  177500\n",
      "8  199800         툴젠   -2514.333333  115400\n",
      "9  204210     모두투어리츠    3093.333333    3475 \n",
      "\n",
      "       id       name           eps     bps        per       pbr\n",
      "0  130960     CJ E&M   6301.333333   54068  15.695091  1.829178\n",
      "1  136480         하림    274.166667    3551  11.489362  0.887074\n",
      "2  138040    메리츠금융지주   2122.333333   14894   6.313806  0.899691\n",
      "3  139480        이마트  18268.166667  295780  13.931338  0.860437\n",
      "4  145990        삼양사   5741.000000  108090  14.283226  0.758627\n",
      "5  161390      한국타이어   5648.500000   51341   7.453306  0.820007\n",
      "6  181710  NHN엔터테인먼트   2110.166667   78434  30.755864  0.827447\n",
      "7  185750        종근당   3990.333333   40684  25.185866  2.470259\n",
      "8  204210     모두투어리츠     85.166667    5335  40.802348  0.651359\n",
      "9  207940   삼성바이오로직스   4644.166667   60099  89.790059  6.938551 \n",
      "\n"
     ]
    }
   ],
   "source": [
    "import pandas as pd\n",
    "\n",
    "df1 = pd.read_excel(\"d:\\\\data\\\\stock price.xlsx\")\n",
    "df2 = pd.read_excel(\"d:\\\\data\\\\stock valuation.xlsx\")\n",
    "\n",
    "print(df1, '\\n')\n",
    "print(df2, '\\n')"
   ]
  },
  {
   "cell_type": "markdown",
   "metadata": {},
   "source": [
    "## 문제176. 위의 2개의 데이터프레임을 merge로 병합하시오!"
   ]
  },
  {
   "cell_type": "code",
   "execution_count": 211,
   "metadata": {},
   "outputs": [
    {
     "name": "stdout",
     "output_type": "stream",
     "text": [
      "        id stock_name          value     price       name           eps  \\\n",
      "0   128940       한미약품   59385.666667  421000.0        NaN           NaN   \n",
      "1   130960     CJ E&M   58540.666667   98900.0     CJ E&M   6301.333333   \n",
      "2   138250      엔에스쇼핑   14558.666667   13200.0        NaN           NaN   \n",
      "3   139480        이마트  239230.833333  254500.0        이마트  18268.166667   \n",
      "4   142280     녹십자엠에스     468.833333   10200.0        NaN           NaN   \n",
      "5   145990        삼양사   82750.000000   82000.0        삼양사   5741.000000   \n",
      "6   185750        종근당   40293.666667  100500.0        종근당   3990.333333   \n",
      "7   192400      쿠쿠홀딩스  179204.666667  177500.0        NaN           NaN   \n",
      "8   199800         툴젠   -2514.333333  115400.0        NaN           NaN   \n",
      "9   204210     모두투어리츠    3093.333333    3475.0     모두투어리츠     85.166667   \n",
      "10  136480        NaN            NaN       NaN         하림    274.166667   \n",
      "11  138040        NaN            NaN       NaN    메리츠금융지주   2122.333333   \n",
      "12  161390        NaN            NaN       NaN      한국타이어   5648.500000   \n",
      "13  181710        NaN            NaN       NaN  NHN엔터테인먼트   2110.166667   \n",
      "14  207940        NaN            NaN       NaN   삼성바이오로직스   4644.166667   \n",
      "\n",
      "         bps        per       pbr  \n",
      "0        NaN        NaN       NaN  \n",
      "1    54068.0  15.695091  1.829178  \n",
      "2        NaN        NaN       NaN  \n",
      "3   295780.0  13.931338  0.860437  \n",
      "4        NaN        NaN       NaN  \n",
      "5   108090.0  14.283226  0.758627  \n",
      "6    40684.0  25.185866  2.470259  \n",
      "7        NaN        NaN       NaN  \n",
      "8        NaN        NaN       NaN  \n",
      "9     5335.0  40.802348  0.651359  \n",
      "10    3551.0  11.489362  0.887074  \n",
      "11   14894.0   6.313806  0.899691  \n",
      "12   51341.0   7.453306  0.820007  \n",
      "13   78434.0  30.755864  0.827447  \n",
      "14   60099.0  89.790059  6.938551  \n"
     ]
    }
   ],
   "source": [
    "import pandas as pd\n",
    "\n",
    "df1 = pd.read_excel(\"d:\\\\data\\\\stock price.xlsx\")\n",
    "df2 = pd.read_excel(\"d:\\\\data\\\\stock valuation.xlsx\")\n",
    "\n",
    "result = pd.merge(df1, df2, how = 'outer', on = 'id')\n",
    "\n",
    "print(result)"
   ]
  },
  {
   "cell_type": "markdown",
   "metadata": {},
   "source": [
    "## 문제177. 위의 결과에서 주가가 50,000 미만인 종목이 몇개인가?"
   ]
  },
  {
   "cell_type": "code",
   "execution_count": 217,
   "metadata": {},
   "outputs": [
    {
     "name": "stdout",
     "output_type": "stream",
     "text": [
      "       id stock_name         value    price    name        eps     bps  \\\n",
      "2  138250      엔에스쇼핑  14558.666667  13200.0     NaN        NaN     NaN   \n",
      "4  142280     녹십자엠에스    468.833333  10200.0     NaN        NaN     NaN   \n",
      "9  204210     모두투어리츠   3093.333333   3475.0  모두투어리츠  85.166667  5335.0   \n",
      "\n",
      "         per       pbr  \n",
      "2        NaN       NaN  \n",
      "4        NaN       NaN  \n",
      "9  40.802348  0.651359   \n",
      "\n",
      "3\n"
     ]
    }
   ],
   "source": [
    "import pandas as pd\n",
    "\n",
    "df1 = pd.read_excel(\"d:\\\\data\\\\stock price.xlsx\")\n",
    "df2 = pd.read_excel(\"d:\\\\data\\\\stock valuation.xlsx\")\n",
    "\n",
    "result = pd.merge(df1, df2, how = 'outer', on = 'id')\n",
    "result2 = result[:][result['price'] < 50000]\n",
    "\n",
    "print(result2, '\\n')\n",
    "print(len(result2))"
   ]
  },
  {
   "cell_type": "markdown",
   "metadata": {},
   "source": [
    "## ■ 데이터프레임 결합 (join)\n",
    "\n",
    "판다스의 join() 메소드는 merge() 함수를 기반으로 만들어졌기 때문에 기본 작동 방식이 서로 비슷하다.\n",
    "\n",
    "__문법 :__ df1.join(df2, how = 'left')\n",
    "\n",
    "__설명 :__ how = 'left'를 사용하면 왼쪽에 위치한 df1의 행 인덱스를 기준으로 결합을 한다."
   ]
  },
  {
   "cell_type": "code",
   "execution_count": 221,
   "metadata": {},
   "outputs": [
    {
     "name": "stdout",
     "output_type": "stream",
     "text": [
      "       stock_name          value   price    name           eps       bps  \\\n",
      "id                                                                         \n",
      "128940       한미약품   59385.666667  421000     NaN           NaN       NaN   \n",
      "130960     CJ E&M   58540.666667   98900  CJ E&M   6301.333333   54068.0   \n",
      "138250      엔에스쇼핑   14558.666667   13200     NaN           NaN       NaN   \n",
      "139480        이마트  239230.833333  254500     이마트  18268.166667  295780.0   \n",
      "142280     녹십자엠에스     468.833333   10200     NaN           NaN       NaN   \n",
      "145990        삼양사   82750.000000   82000     삼양사   5741.000000  108090.0   \n",
      "185750        종근당   40293.666667  100500     종근당   3990.333333   40684.0   \n",
      "192400      쿠쿠홀딩스  179204.666667  177500     NaN           NaN       NaN   \n",
      "199800         툴젠   -2514.333333  115400     NaN           NaN       NaN   \n",
      "204210     모두투어리츠    3093.333333    3475  모두투어리츠     85.166667    5335.0   \n",
      "\n",
      "              per       pbr  \n",
      "id                           \n",
      "128940        NaN       NaN  \n",
      "130960  15.695091  1.829178  \n",
      "138250        NaN       NaN  \n",
      "139480  13.931338  0.860437  \n",
      "142280        NaN       NaN  \n",
      "145990  14.283226  0.758627  \n",
      "185750  25.185866  2.470259  \n",
      "192400        NaN       NaN  \n",
      "199800        NaN       NaN  \n",
      "204210  40.802348  0.651359  \n"
     ]
    }
   ],
   "source": [
    "# 예제1\n",
    "\n",
    "import pandas as pd\n",
    "\n",
    "df1 = pd.read_excel(\"d:\\\\data\\\\stock price.xlsx\", index_col = 'id')\n",
    "df2 = pd.read_excel(\"d:\\\\data\\\\stock valuation.xlsx\", index_col = 'id')\n",
    "df3 = df1.join(df2) # how의 default값은 'left'임!!\n",
    "\n",
    "print(df3)"
   ]
  },
  {
   "cell_type": "markdown",
   "metadata": {},
   "source": [
    "## 문제178. emp와 dept를 판다스의 join으로 조인하시오!"
   ]
  },
  {
   "cell_type": "code",
   "execution_count": 226,
   "metadata": {},
   "outputs": [
    {
     "name": "stdout",
     "output_type": "stream",
     "text": [
      "        empno   ename        job     mgr    hiredate   sal    comm\n",
      "deptno                                                            \n",
      "10       7839    KING  PRESIDENT     NaN  1981-11-17  5000     NaN\n",
      "30       7698   BLAKE    MANAGER  7839.0  1981-05-01  2850     NaN\n",
      "10       7782   CLARK    MANAGER  7839.0  1981-05-09  2450     NaN\n",
      "20       7566   JONES    MANAGER  7839.0  1981-04-01  2975     NaN\n",
      "30       7654  MARTIN   SALESMAN  7698.0  1981-09-10  1250  1400.0\n",
      "30       7499   ALLEN   SALESMAN  7698.0  1981-02-11  1600   300.0\n",
      "30       7844  TURNER   SALESMAN  7698.0  1981-08-21  1500     0.0\n",
      "30       7900   JAMES      CLERK  7698.0  1981-12-11   950     NaN\n",
      "30       7521    WARD   SALESMAN  7698.0  1981-02-23  1250   500.0\n",
      "20       7902    FORD    ANALYST  7566.0  1981-12-11  3000     NaN\n",
      "20       7369   SMITH      CLERK  7902.0  1980-12-09   800     NaN\n",
      "20       7788   SCOTT    ANALYST  7566.0  1982-12-22  3000     NaN\n",
      "20       7876   ADAMS      CLERK  7788.0  1983-01-15  1100     NaN\n",
      "10       7934  MILLER      CLERK  7782.0  1982-01-11  1300     NaN \n",
      "\n",
      "             dname       loc\n",
      "deptno                      \n",
      "10      ACCOUNTING  NEW YORK\n",
      "20        RESEARCH    DALLAS\n",
      "30           SALES   CHICAGO\n",
      "40      OPERATIONS    BOSTON \n",
      "\n",
      "        empno   ename        job     mgr    hiredate   sal    comm  \\\n",
      "deptno                                                               \n",
      "10       7839    KING  PRESIDENT     NaN  1981-11-17  5000     NaN   \n",
      "10       7782   CLARK    MANAGER  7839.0  1981-05-09  2450     NaN   \n",
      "10       7934  MILLER      CLERK  7782.0  1982-01-11  1300     NaN   \n",
      "20       7566   JONES    MANAGER  7839.0  1981-04-01  2975     NaN   \n",
      "20       7902    FORD    ANALYST  7566.0  1981-12-11  3000     NaN   \n",
      "20       7369   SMITH      CLERK  7902.0  1980-12-09   800     NaN   \n",
      "20       7788   SCOTT    ANALYST  7566.0  1982-12-22  3000     NaN   \n",
      "20       7876   ADAMS      CLERK  7788.0  1983-01-15  1100     NaN   \n",
      "30       7698   BLAKE    MANAGER  7839.0  1981-05-01  2850     NaN   \n",
      "30       7654  MARTIN   SALESMAN  7698.0  1981-09-10  1250  1400.0   \n",
      "30       7499   ALLEN   SALESMAN  7698.0  1981-02-11  1600   300.0   \n",
      "30       7844  TURNER   SALESMAN  7698.0  1981-08-21  1500     0.0   \n",
      "30       7900   JAMES      CLERK  7698.0  1981-12-11   950     NaN   \n",
      "30       7521    WARD   SALESMAN  7698.0  1981-02-23  1250   500.0   \n",
      "\n",
      "             dname       loc  \n",
      "deptno                        \n",
      "10      ACCOUNTING  NEW YORK  \n",
      "10      ACCOUNTING  NEW YORK  \n",
      "10      ACCOUNTING  NEW YORK  \n",
      "20        RESEARCH    DALLAS  \n",
      "20        RESEARCH    DALLAS  \n",
      "20        RESEARCH    DALLAS  \n",
      "20        RESEARCH    DALLAS  \n",
      "20        RESEARCH    DALLAS  \n",
      "30           SALES   CHICAGO  \n",
      "30           SALES   CHICAGO  \n",
      "30           SALES   CHICAGO  \n",
      "30           SALES   CHICAGO  \n",
      "30           SALES   CHICAGO  \n",
      "30           SALES   CHICAGO  \n"
     ]
    }
   ],
   "source": [
    "import pandas as pd\n",
    "\n",
    "emp = pd.read_csv(\"d:\\\\data\\\\emp.csv\", index_col = 'deptno')\n",
    "dept = pd.read_csv(\"d:\\\\data\\\\dept.csv\", index_col = 'deptno')\n",
    "\n",
    "print(emp, '\\n')\n",
    "print(dept, '\\n')\n",
    "\n",
    "result = emp.join(dept)\n",
    "\n",
    "print(result)"
   ]
  },
  {
   "cell_type": "markdown",
   "metadata": {},
   "source": [
    "## ■ 그룹 연산\n",
    "\n",
    "\" 복잡한 데이터를 어떤 기준에 따라 여러 그룹으로 나누어서 관찰하는 것도 좋은 방법인데   \n",
    "이처럼 특정 기준을 적용하여 몇개의 그룹으로 분할하여 처리하는것도 그룹연산이라고 합니다. \"\n",
    "\n",
    "### ※ 그룹연산의 3가지 단계\n",
    "\n",
    "1단계 : 분할(split) --> 데이터를 특정 조건에 의해 분할  \n",
    "2단계 : 적용(apply) --> 데이터 집계, 변환, 필터링하는데 필요한 메소드  \n",
    "3단계 : 결합(combine) --> 2단계의 처리를 하나로 결합  "
   ]
  },
  {
   "cell_type": "markdown",
   "metadata": {},
   "source": [
    "## ■ 1단계 : 분할단계\n",
    "\n",
    "__문법 :__ DataFrame객체.groupby(기준이되는 열)\n",
    "\n",
    "__질문 :__ 운임 클래스 first, second, third 중에 생존율이 제일 높은 클래스가 어디일까 ?"
   ]
  },
  {
   "cell_type": "code",
   "execution_count": 234,
   "metadata": {},
   "outputs": [
    {
     "name": "stdout",
     "output_type": "stream",
     "text": [
      "* key : First\n",
      "* number : 216\n",
      "     age     sex  class     fare  survived\n",
      "1   38.0  female  First  71.2833         1\n",
      "3   35.0  female  First  53.1000         1\n",
      "6   54.0    male  First  51.8625         0\n",
      "11  58.0  female  First  26.5500         1\n",
      "23  28.0    male  First  35.5000         1\n",
      "\n",
      "\n",
      "\n",
      "* key : Second\n",
      "* number : 184\n",
      "     age     sex   class     fare  survived\n",
      "9   14.0  female  Second  30.0708         1\n",
      "15  55.0  female  Second  16.0000         1\n",
      "17   NaN    male  Second  13.0000         1\n",
      "20  35.0    male  Second  26.0000         0\n",
      "21  34.0    male  Second  13.0000         1\n",
      "\n",
      "\n",
      "\n",
      "* key : Third\n",
      "* number : 491\n",
      "    age     sex  class     fare  survived\n",
      "0  22.0    male  Third   7.2500         0\n",
      "2  26.0  female  Third   7.9250         1\n",
      "4  35.0    male  Third   8.0500         0\n",
      "5   NaN    male  Third   8.4583         0\n",
      "7   2.0    male  Third  21.0750         0\n",
      "\n",
      "\n",
      "\n"
     ]
    }
   ],
   "source": [
    "import seaborn as sns\n",
    "\n",
    "titanic = sns.load_dataset('titanic')\n",
    "df = titanic.loc[:, ['age', 'sex', 'class', 'fare', 'survived']]\n",
    "grouped = df.groupby(['class']) # class 열을 기준으로 분할함\n",
    "\n",
    "for key, group in grouped:\n",
    "    print('* key :', key)\n",
    "    print('* number :', len(group))\n",
    "    print(group.head())\n",
    "    print('\\n\\n')"
   ]
  },
  {
   "cell_type": "code",
   "execution_count": 235,
   "metadata": {},
   "outputs": [
    {
     "name": "stdout",
     "output_type": "stream",
     "text": [
      "* key : First\n",
      "* number : 216\n",
      "     age     sex  class     fare  survived\n",
      "1   38.0  female  First  71.2833         1\n",
      "3   35.0  female  First  53.1000         1\n",
      "6   54.0    male  First  51.8625         0\n",
      "11  58.0  female  First  26.5500         1\n",
      "23  28.0    male  First  35.5000         1\n",
      "\n",
      "\n",
      "\n",
      "* key : Second\n",
      "* number : 184\n",
      "     age     sex   class     fare  survived\n",
      "9   14.0  female  Second  30.0708         1\n",
      "15  55.0  female  Second  16.0000         1\n",
      "17   NaN    male  Second  13.0000         1\n",
      "20  35.0    male  Second  26.0000         0\n",
      "21  34.0    male  Second  13.0000         1\n",
      "\n",
      "\n",
      "\n",
      "* key : Third\n",
      "* number : 491\n",
      "    age     sex  class     fare  survived\n",
      "0  22.0    male  Third   7.2500         0\n",
      "2  26.0  female  Third   7.9250         1\n",
      "4  35.0    male  Third   8.0500         0\n",
      "5   NaN    male  Third   8.4583         0\n",
      "7   2.0    male  Third  21.0750         0\n",
      "\n",
      "\n",
      "\n",
      "              age       fare  survived\n",
      "class                                 \n",
      "First   38.233441  84.154687  0.629630\n",
      "Second  29.877630  20.662183  0.472826\n",
      "Third   25.140620  13.675550  0.242363\n"
     ]
    }
   ],
   "source": [
    "import seaborn as sns\n",
    "\n",
    "titanic = sns.load_dataset('titanic')\n",
    "df = titanic.loc[:, ['age', 'sex', 'class', 'fare', 'survived']]\n",
    "grouped = df.groupby(['class']) # class 열을 기준으로 분할함\n",
    "\n",
    "for key, group in grouped:\n",
    "    print('* key :', key)\n",
    "    print('* number :', len(group))\n",
    "    print(group.head())\n",
    "    print('\\n\\n')\n",
    "    \n",
    "average = grouped.mean()\n",
    "print(average)"
   ]
  },
  {
   "cell_type": "markdown",
   "metadata": {},
   "source": [
    "## 문제279. 사원 테이블을 위와 같이 분할을 하는데 부서번호로 분할을 해서 아래와 같이 출력되게 하시오!"
   ]
  },
  {
   "cell_type": "code",
   "execution_count": 254,
   "metadata": {},
   "outputs": [
    {
     "name": "stdout",
     "output_type": "stream",
     "text": [
      "* key : 10\n",
      "* number : 3\n",
      "     ename   sal        job  deptno\n",
      "0     KING  5000  PRESIDENT      10\n",
      "2    CLARK  2450    MANAGER      10\n",
      "13  MILLER  1300      CLERK      10\n",
      "\n",
      "\n",
      "\n",
      "* key : 20\n",
      "* number : 5\n",
      "    ename   sal      job  deptno\n",
      "3   JONES  2975  MANAGER      20\n",
      "9    FORD  3000  ANALYST      20\n",
      "10  SMITH   800    CLERK      20\n",
      "11  SCOTT  3000  ANALYST      20\n",
      "12  ADAMS  1100    CLERK      20\n",
      "\n",
      "\n",
      "\n",
      "* key : 30\n",
      "* number : 6\n",
      "    ename   sal       job  deptno\n",
      "1   BLAKE  2850   MANAGER      30\n",
      "4  MARTIN  1250  SALESMAN      30\n",
      "5   ALLEN  1600  SALESMAN      30\n",
      "6  TURNER  1500  SALESMAN      30\n",
      "7   JAMES   950     CLERK      30\n",
      "\n",
      "\n",
      "\n",
      "                sal\n",
      "deptno             \n",
      "10      2916.666667\n",
      "20      2175.000000\n",
      "30      1566.666667\n"
     ]
    }
   ],
   "source": [
    "import pandas as pd\n",
    "\n",
    "emp = pd.read_csv(\"d:\\\\data\\\\emp.csv\")\n",
    "\n",
    "df = emp.loc[:, ['ename', 'sal', 'job', 'deptno']]\n",
    "grouped = df.groupby(['deptno']) \n",
    "\n",
    "for key, group in grouped:\n",
    "    print('* key :', key)\n",
    "    print('* number :', len(group))\n",
    "    print(group.head())\n",
    "    print('\\n\\n')\n",
    "    \n",
    "average = grouped.mean()\n",
    "print(average)"
   ]
  },
  {
   "cell_type": "markdown",
   "metadata": {},
   "source": [
    "## 문제180. 위의 운임 class별로 분할한 결과중에 third 클래스 데이터만 가져오시오!"
   ]
  },
  {
   "cell_type": "code",
   "execution_count": 253,
   "metadata": {},
   "outputs": [
    {
     "name": "stdout",
     "output_type": "stream",
     "text": [
      "    age     sex  class     fare  survived\n",
      "0  22.0    male  Third   7.2500         0\n",
      "2  26.0  female  Third   7.9250         1\n",
      "4  35.0    male  Third   8.0500         0\n",
      "5   NaN    male  Third   8.4583         0\n",
      "7   2.0    male  Third  21.0750         0 \n",
      "\n",
      "age         25.140620\n",
      "fare        13.675550\n",
      "survived     0.242363\n",
      "dtype: float64\n"
     ]
    }
   ],
   "source": [
    "import seaborn as sns\n",
    "\n",
    "titanic = sns.load_dataset('titanic')\n",
    "df = titanic.loc[:, ['age', 'sex', 'class', 'fare', 'survived']]\n",
    "grouped = df.groupby(['class']) # class 열을 기준으로 분할함\n",
    "\n",
    "\"\"\"\n",
    "for key, group in grouped:\n",
    "    print('* key :', key)\n",
    "    print('* number :', len(group))\n",
    "    print(group.head())\n",
    "    print('\\n\\n')\n",
    "\"\"\"    \n",
    "\n",
    "group3 = grouped.get_group('Third')\n",
    "print(group3.head(), '\\n')\n",
    "\n",
    "average = group3.mean()\n",
    "print(average)"
   ]
  },
  {
   "cell_type": "markdown",
   "metadata": {},
   "source": [
    "### 또 다른 질문 : 운임 클래스 별로는 first 클래스가 가장 높은 생존율을 보였습니다.   \n",
    "### 그러면 first 클래스 내에서 남자와 여자중에 더 생존율이 높은 성별은 무엇일까?"
   ]
  },
  {
   "cell_type": "code",
   "execution_count": 251,
   "metadata": {},
   "outputs": [
    {
     "name": "stdout",
     "output_type": "stream",
     "text": [
      "* key : ('First', 'female')\n",
      "* number : 94\n",
      "     age     sex  class      fare  survived\n",
      "1   38.0  female  First   71.2833         1\n",
      "3   35.0  female  First   53.1000         1\n",
      "11  58.0  female  First   26.5500         1\n",
      "31   NaN  female  First  146.5208         1\n",
      "52  49.0  female  First   76.7292         1\n",
      "\n",
      "\n",
      "\n",
      "* key : ('First', 'male')\n",
      "* number : 122\n",
      "     age   sex  class      fare  survived\n",
      "6   54.0  male  First   51.8625         0\n",
      "23  28.0  male  First   35.5000         1\n",
      "27  19.0  male  First  263.0000         0\n",
      "30  40.0  male  First   27.7208         0\n",
      "34  28.0  male  First   82.1708         0\n",
      "\n",
      "\n",
      "\n",
      "* key : ('Second', 'female')\n",
      "* number : 76\n",
      "     age     sex   class     fare  survived\n",
      "9   14.0  female  Second  30.0708         1\n",
      "15  55.0  female  Second  16.0000         1\n",
      "41  27.0  female  Second  21.0000         0\n",
      "43   3.0  female  Second  41.5792         1\n",
      "53  29.0  female  Second  26.0000         1\n",
      "\n",
      "\n",
      "\n",
      "* key : ('Second', 'male')\n",
      "* number : 108\n",
      "     age   sex   class  fare  survived\n",
      "17   NaN  male  Second  13.0         1\n",
      "20  35.0  male  Second  26.0         0\n",
      "21  34.0  male  Second  13.0         1\n",
      "33  66.0  male  Second  10.5         0\n",
      "70  32.0  male  Second  10.5         0\n",
      "\n",
      "\n",
      "\n",
      "* key : ('Third', 'female')\n",
      "* number : 144\n",
      "     age     sex  class     fare  survived\n",
      "2   26.0  female  Third   7.9250         1\n",
      "8   27.0  female  Third  11.1333         1\n",
      "10   4.0  female  Third  16.7000         1\n",
      "14  14.0  female  Third   7.8542         0\n",
      "18  31.0  female  Third  18.0000         0\n",
      "\n",
      "\n",
      "\n",
      "* key : ('Third', 'male')\n",
      "* number : 347\n",
      "     age   sex  class     fare  survived\n",
      "0   22.0  male  Third   7.2500         0\n",
      "4   35.0  male  Third   8.0500         0\n",
      "5    NaN  male  Third   8.4583         0\n",
      "7    2.0  male  Third  21.0750         0\n",
      "12  20.0  male  Third   8.0500         0\n",
      "\n",
      "\n",
      "\n",
      "                     age        fare  survived\n",
      "class  sex                                    \n",
      "First  female  34.611765  106.125798  0.968085\n",
      "       male    41.281386   67.226127  0.368852\n",
      "Second female  28.722973   21.970121  0.921053\n",
      "       male    30.740707   19.741782  0.157407\n",
      "Third  female  21.750000   16.118810  0.500000\n",
      "       male    26.507589   12.661633  0.135447\n"
     ]
    }
   ],
   "source": [
    "import seaborn as sns\n",
    "\n",
    "titanic = sns.load_dataset('titanic')\n",
    "df = titanic.loc[:, ['age', 'sex', 'class', 'fare', 'survived']]\n",
    "grouped2 = df.groupby(['class', 'sex'])\n",
    "\n",
    "for key, group in grouped2:\n",
    "    print('* key :', key)\n",
    "    print('* number :', len(group))\n",
    "    print(group.head())\n",
    "    print('\\n\\n')\n",
    "\n",
    "average = grouped2.mean()\n",
    "print(average)"
   ]
  },
  {
   "cell_type": "markdown",
   "metadata": {},
   "source": [
    "## ■ 2단계와 3단계의 적용 및 결합 단계\n",
    "\n",
    "앞에서 분할한 그룹 객체에 대하여 각 그룹별 평균을 계산한 것처럼, 그룹 객체에 다양한 연산을 적용할 수 있다.  \n",
    "이 과정을 aggreagation이라고 부른다.  \n",
    "\n",
    "집계기능을 내장하고 있는 판다스 기본 함수에는  \n",
    "__mean(), max(), min(), sum(), count(), var(), std(), describe(), info(), size(), first(), last()__등이 있습니다.  \n",
    "\n",
    "__문법 :__ group객체.std()"
   ]
  },
  {
   "cell_type": "markdown",
   "metadata": {},
   "source": [
    "## 문제181. (오늘의 마지막 문제) 요금을 나타내는 fare열은 first, second, third 클래스중에 요금의 표준편차가 큰 클래스는 어디인가?"
   ]
  },
  {
   "cell_type": "code",
   "execution_count": 265,
   "metadata": {},
   "outputs": [
    {
     "name": "stdout",
     "output_type": "stream",
     "text": [
      "* key : First\n",
      "* number : 216\n",
      "     age     sex  class     fare  survived\n",
      "1   38.0  female  First  71.2833         1\n",
      "3   35.0  female  First  53.1000         1\n",
      "6   54.0    male  First  51.8625         0\n",
      "11  58.0  female  First  26.5500         1\n",
      "23  28.0    male  First  35.5000         1\n",
      "\n",
      "\n",
      "\n",
      "* key : Second\n",
      "* number : 184\n",
      "     age     sex   class     fare  survived\n",
      "9   14.0  female  Second  30.0708         1\n",
      "15  55.0  female  Second  16.0000         1\n",
      "17   NaN    male  Second  13.0000         1\n",
      "20  35.0    male  Second  26.0000         0\n",
      "21  34.0    male  Second  13.0000         1\n",
      "\n",
      "\n",
      "\n",
      "* key : Third\n",
      "* number : 491\n",
      "    age     sex  class     fare  survived\n",
      "0  22.0    male  Third   7.2500         0\n",
      "2  26.0  female  Third   7.9250         1\n",
      "4  35.0    male  Third   8.0500         0\n",
      "5   NaN    male  Third   8.4583         0\n",
      "7   2.0    male  Third  21.0750         0\n",
      "\n",
      "\n",
      "\n",
      "class\n",
      "First     84.154687\n",
      "Second    20.662183\n",
      "Third     13.675550\n",
      "Name: fare, dtype: float64\n",
      "First\n"
     ]
    }
   ],
   "source": [
    "import seaborn as sns\n",
    "\n",
    "titanic = sns.load_dataset('titanic')\n",
    "df = titanic.loc[:, ['age', 'sex', 'class', 'fare', 'survived']]\n",
    "grouped = df.groupby(['class'])\n",
    "\n",
    "for key, group in grouped:\n",
    "    print('* key :', key)\n",
    "    print('* number :', len(group))\n",
    "    print(group.head())\n",
    "    print('\\n\\n')\n",
    "    \n",
    "std = grouped['fare'].mean()\n",
    "print(std)\n",
    "print(std.idxmax())"
   ]
  }
 ],
 "metadata": {
  "kernelspec": {
   "display_name": "Python 3",
   "language": "python",
   "name": "python3"
  },
  "language_info": {
   "codemirror_mode": {
    "name": "ipython",
    "version": 3
   },
   "file_extension": ".py",
   "mimetype": "text/x-python",
   "name": "python",
   "nbconvert_exporter": "python",
   "pygments_lexer": "ipython3",
   "version": "3.7.4"
  }
 },
 "nbformat": 4,
 "nbformat_minor": 2
}
