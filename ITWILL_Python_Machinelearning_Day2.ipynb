{
 "cells": [
  {
   "cell_type": "markdown",
   "metadata": {},
   "source": [
    "## ■ 3장. 판다스로 데이터를 불러오는 방법\n",
    "\n",
    "\n",
    "* 외부 파일 불러오기\n",
    "\n",
    "| 파일포맷 |   reader   |  writer  |\n",
    "|:--------:|:----------:|:--------:|\n",
    "|    csv   |  read_csv  |  to_csv  |\n",
    "|   json   |  read_json |  to_json |\n",
    "|   html   |  read_html |  to_html |\n",
    "|   Excel  | read_excel | to_excel |\n",
    "|    sql   |  read_sql  |  to_sql  |"
   ]
  },
  {
   "cell_type": "markdown",
   "metadata": {},
   "source": [
    "## ■ 3.1 read_csv로 데이터 프레임 구현하기\n",
    "\n",
    "* #### 문법 : df = pd.read_csv(file_path, 옵션)\n",
    "\n",
    "| read_csv 옵션 |                                                         설명                                                         |\n",
    "|:-------------:|:--------------------------------------------------------------------------------------------------------------------:|\n",
    "|      path     |                                                   파일의 위치, url                                                   |\n",
    "|      sep      |                                        텍스트 데이터를 필드별로 구분하는 문자                                        |\n",
    "|     header    | 열 이름으로 사용될 행의 번호(기본값은 0) header가 없고 첫 행부터 데이터가 잇는 경우 header = None으로 지정하면 된다. |\n",
    "|   index_col   |                                          행 인덱스로 사용할 문자열의 리스트                                          |\n",
    "|     names     |                                          열 이름으로 사용할 문자열의 리스트                                          |\n",
    "| skiprows      | 처음 몇줄을 skip 할 것인지 설정                                                                                      |\n",
    "| skip_footer   | 마지막 몇줄을 skip 할 것인지 설정                                                                                    |\n",
    "| encoding      | 텍스트 인코딩 종류를 지정(예:'utf-8')                                                                                |\n",
    "\n",
    "\n",
    "#### ※ 파이썬에서 한글이 깨지지 않으려면 encoding='utf-8'로 지정해야합니다."
   ]
  },
  {
   "cell_type": "markdown",
   "metadata": {},
   "source": [
    "## 예제: 실습파일을 내려받으세요~"
   ]
  },
  {
   "cell_type": "code",
   "execution_count": 4,
   "metadata": {},
   "outputs": [
    {
     "name": "stdout",
     "output_type": "stream",
     "text": [
      "   c0  c1  c2  c3\n",
      "0   0   1   4   7\n",
      "1   1   2   5   8\n",
      "2   2   3   6   9\n",
      "\n",
      "    0   1   2   3\n",
      "0  c0  c1  c2  c3\n",
      "1   0   1   4   7\n",
      "2   1   2   5   8\n",
      "3   2   3   6   9\n"
     ]
    }
   ],
   "source": [
    "import pandas as pd\n",
    "\n",
    "df1 = pd.read_csv(\"d:\\\\data\\\\pandas\\\\read_csv_sample.csv\", header=0)\n",
    "print(df1, end = '\\n\\n')\n",
    "\n",
    "df2 = pd.read_csv(\"d:\\\\data\\\\pandas\\\\read_csv_sample.csv\", header=None)\n",
    "print(df2)"
   ]
  },
  {
   "cell_type": "markdown",
   "metadata": {},
   "source": [
    "### * index_col='co'를 옵션을 지정해서 데이터를 불러오기"
   ]
  },
  {
   "cell_type": "code",
   "execution_count": 7,
   "metadata": {},
   "outputs": [
    {
     "name": "stdout",
     "output_type": "stream",
     "text": [
      "    c1  c2  c3\n",
      "c0            \n",
      "0    1   4   7\n",
      "1    2   5   8\n",
      "2    3   6   9\n"
     ]
    }
   ],
   "source": [
    "import pandas as pd\n",
    "df2 = pd.read_csv(\"d:\\\\data\\\\pandas\\\\read_csv_sample.csv\", index_col='c0')\n",
    "print(df2)"
   ]
  },
  {
   "cell_type": "markdown",
   "metadata": {},
   "source": [
    "## 문제38. 타이타닉 데이터를 read_csv로 불러오는데 Survived 칼럼이 인덱스가 되게 하고 인덱스를 이용하여 생존자만 검색하시오~"
   ]
  },
  {
   "cell_type": "code",
   "execution_count": 12,
   "metadata": {},
   "outputs": [
    {
     "name": "stdout",
     "output_type": "stream",
     "text": [
      "Index(['PassengerId', 'Pclass', 'Name', 'Sex', 'Age', 'SibSp', 'Parch',\n",
      "       'Ticket', 'Fare', 'Cabin', 'Embarked'],\n",
      "      dtype='object')\n",
      "          PassengerId  Pclass  \\\n",
      "Survived                        \n",
      "1                   2       1   \n",
      "1                   3       3   \n",
      "1                   4       1   \n",
      "1                   9       3   \n",
      "1                  10       2   \n",
      "...               ...     ...   \n",
      "1                 876       3   \n",
      "1                 880       1   \n",
      "1                 881       2   \n",
      "1                 888       1   \n",
      "1                 890       1   \n",
      "\n",
      "                                                       Name     Sex   Age  \\\n",
      "Survived                                                                    \n",
      "1         Cumings, Mrs. John Bradley (Florence Briggs Th...  female  38.0   \n",
      "1                                    Heikkinen, Miss. Laina  female  26.0   \n",
      "1              Futrelle, Mrs. Jacques Heath (Lily May Peel)  female  35.0   \n",
      "1         Johnson, Mrs. Oscar W (Elisabeth Vilhelmina Berg)  female  27.0   \n",
      "1                       Nasser, Mrs. Nicholas (Adele Achem)  female  14.0   \n",
      "...                                                     ...     ...   ...   \n",
      "1                          Najib, Miss. Adele Kiamie \"Jane\"  female  15.0   \n",
      "1             Potter, Mrs. Thomas Jr (Lily Alexenia Wilson)  female  56.0   \n",
      "1              Shelley, Mrs. William (Imanita Parrish Hall)  female  25.0   \n",
      "1                              Graham, Miss. Margaret Edith  female  19.0   \n",
      "1                                     Behr, Mr. Karl Howell    male  26.0   \n",
      "\n",
      "          SibSp  Parch            Ticket     Fare Cabin Embarked  \n",
      "Survived                                                          \n",
      "1             1      0          PC 17599  71.2833   C85        C  \n",
      "1             0      0  STON/O2. 3101282   7.9250   NaN        S  \n",
      "1             1      0            113803  53.1000  C123        S  \n",
      "1             0      2            347742  11.1333   NaN        S  \n",
      "1             1      0            237736  30.0708   NaN        C  \n",
      "...         ...    ...               ...      ...   ...      ...  \n",
      "1             0      0              2667   7.2250   NaN        C  \n",
      "1             0      1             11767  83.1583   C50        C  \n",
      "1             0      1            230433  26.0000   NaN        S  \n",
      "1             0      0            112053  30.0000   B42        S  \n",
      "1             0      0            111369  30.0000  C148        C  \n",
      "\n",
      "[342 rows x 11 columns]\n"
     ]
    }
   ],
   "source": [
    "import pandas as pd\n",
    "tat = pd.read_csv(\"d:\\\\data\\\\train.csv\", index_col='Survived')\n",
    "print(tat.columns)\n",
    "print(tat.loc[1]) # 인덱스 검색(행을 검색) ---> loc"
   ]
  },
  {
   "cell_type": "markdown",
   "metadata": {},
   "source": [
    "## 문제39. 타이타닉 전체 데이터는 몇건이고 그중 생존자는 몇명인가?"
   ]
  },
  {
   "cell_type": "code",
   "execution_count": 18,
   "metadata": {},
   "outputs": [
    {
     "name": "stdout",
     "output_type": "stream",
     "text": [
      "     PassengerId  Survived  Pclass  \\\n",
      "0              1         0       3   \n",
      "1              2         1       1   \n",
      "2              3         1       3   \n",
      "3              4         1       1   \n",
      "4              5         0       3   \n",
      "..           ...       ...     ...   \n",
      "886          887         0       2   \n",
      "887          888         1       1   \n",
      "888          889         0       3   \n",
      "889          890         1       1   \n",
      "890          891         0       3   \n",
      "\n",
      "                                                  Name     Sex   Age  SibSp  \\\n",
      "0                              Braund, Mr. Owen Harris    male  22.0      1   \n",
      "1    Cumings, Mrs. John Bradley (Florence Briggs Th...  female  38.0      1   \n",
      "2                               Heikkinen, Miss. Laina  female  26.0      0   \n",
      "3         Futrelle, Mrs. Jacques Heath (Lily May Peel)  female  35.0      1   \n",
      "4                             Allen, Mr. William Henry    male  35.0      0   \n",
      "..                                                 ...     ...   ...    ...   \n",
      "886                              Montvila, Rev. Juozas    male  27.0      0   \n",
      "887                       Graham, Miss. Margaret Edith  female  19.0      0   \n",
      "888           Johnston, Miss. Catherine Helen \"Carrie\"  female   NaN      1   \n",
      "889                              Behr, Mr. Karl Howell    male  26.0      0   \n",
      "890                                Dooley, Mr. Patrick    male  32.0      0   \n",
      "\n",
      "     Parch            Ticket     Fare Cabin Embarked  \n",
      "0        0         A/5 21171   7.2500   NaN        S  \n",
      "1        0          PC 17599  71.2833   C85        C  \n",
      "2        0  STON/O2. 3101282   7.9250   NaN        S  \n",
      "3        0            113803  53.1000  C123        S  \n",
      "4        0            373450   8.0500   NaN        S  \n",
      "..     ...               ...      ...   ...      ...  \n",
      "886      0            211536  13.0000   NaN        S  \n",
      "887      0            112053  30.0000   B42        S  \n",
      "888      2        W./C. 6607  23.4500   NaN        S  \n",
      "889      0            111369  30.0000  C148        C  \n",
      "890      0            370376   7.7500   NaN        Q  \n",
      "\n",
      "[891 rows x 12 columns]\n",
      "\n",
      "891\n",
      "342\n"
     ]
    }
   ],
   "source": [
    "import pandas as pd\n",
    "tat = pd.read_csv(\"d:\\\\data\\\\train.csv\")\n",
    "print(tat, end = '\\n\\n')\n",
    "print(len(tat)) # len을 이용하여 전체 건수(행의 수 = 인덱스 수)를 구할 수 있다.\n",
    "tat = pd.read_csv(\"d:\\\\data\\\\train.csv\", index_col = \"Survived\")\n",
    "print(len(tat.loc[1]))"
   ]
  },
  {
   "cell_type": "markdown",
   "metadata": {},
   "source": [
    "## ■ 3.2 엑셀 데이터를 파이썬으로 불러오는 방법\n",
    "\n",
    "__문법 :__ pandas.read_excel('파일 경로 이름')\n",
    "\n",
    "__게시판 머신러닝 수업 실습 파일__ ---> 남북한발전전력량.xlsx"
   ]
  },
  {
   "cell_type": "code",
   "execution_count": 21,
   "metadata": {},
   "outputs": [
    {
     "name": "stdout",
     "output_type": "stream",
     "text": [
      "  전력량 (억㎾h) 발전 전력별  1990  1991  1992  1993  1994  1995  1996  1997  ...  2007  \\\n",
      "0        남한     합계  1077  1186  1310  1444  1650  1847  2055  2244  ...  4031   \n",
      "1       NaN     수력    64    51    49    60    41    55    52    54  ...    50   \n",
      "2       NaN     화력   484   573   696   803  1022  1122  1264  1420  ...  2551   \n",
      "3       NaN    원자력   529   563   565   581   587   670   739   771  ...  1429   \n",
      "4       NaN    신재생     -     -     -     -     -     -     -     -  ...     -   \n",
      "5        북한     합계   277   263   247   221   231   230   213   193  ...   236   \n",
      "6       NaN     수력   156   150   142   133   138   142   125   107  ...   133   \n",
      "7       NaN     화력   121   113   105    88    93    88    88    86  ...   103   \n",
      "8       NaN    원자력     -     -     -     -     -     -     -     -  ...     -   \n",
      "\n",
      "   2008  2009  2010  2011  2012  2013  2014  2015  2016  \n",
      "0  4224  4336  4747  4969  5096  5171  5220  5281  5404  \n",
      "1    56    56    65    78    77    84    78    58    66  \n",
      "2  2658  2802  3196  3343  3430  3581  3427  3402  3523  \n",
      "3  1510  1478  1486  1547  1503  1388  1564  1648  1620  \n",
      "4     -     -     -     -    86   118   151   173   195  \n",
      "5   255   235   237   211   215   221   216   190   239  \n",
      "6   141   125   134   132   135   139   130   100   128  \n",
      "7   114   110   103    79    80    82    86    90   111  \n",
      "8     -     -     -     -     -     -     -     -     -  \n",
      "\n",
      "[9 rows x 29 columns]\n",
      "\n",
      "          0       1     2     3     4     5     6     7     8     9   ...  \\\n",
      "0  전력량 (억㎾h)  발전 전력별  1990  1991  1992  1993  1994  1995  1996  1997  ...   \n",
      "1         남한      합계  1077  1186  1310  1444  1650  1847  2055  2244  ...   \n",
      "2        NaN      수력    64    51    49    60    41    55    52    54  ...   \n",
      "3        NaN      화력   484   573   696   803  1022  1122  1264  1420  ...   \n",
      "4        NaN     원자력   529   563   565   581   587   670   739   771  ...   \n",
      "5        NaN     신재생     -     -     -     -     -     -     -     -  ...   \n",
      "6         북한      합계   277   263   247   221   231   230   213   193  ...   \n",
      "7        NaN      수력   156   150   142   133   138   142   125   107  ...   \n",
      "8        NaN      화력   121   113   105    88    93    88    88    86  ...   \n",
      "9        NaN     원자력     -     -     -     -     -     -     -     -  ...   \n",
      "\n",
      "     19    20    21    22    23    24    25    26    27    28  \n",
      "0  2007  2008  2009  2010  2011  2012  2013  2014  2015  2016  \n",
      "1  4031  4224  4336  4747  4969  5096  5171  5220  5281  5404  \n",
      "2    50    56    56    65    78    77    84    78    58    66  \n",
      "3  2551  2658  2802  3196  3343  3430  3581  3427  3402  3523  \n",
      "4  1429  1510  1478  1486  1547  1503  1388  1564  1648  1620  \n",
      "5     -     -     -     -     -    86   118   151   173   195  \n",
      "6   236   255   235   237   211   215   221   216   190   239  \n",
      "7   133   141   125   134   132   135   139   130   100   128  \n",
      "8   103   114   110   103    79    80    82    86    90   111  \n",
      "9     -     -     -     -     -     -     -     -     -     -  \n",
      "\n",
      "[10 rows x 29 columns]\n"
     ]
    }
   ],
   "source": [
    "import pandas as pd\n",
    "df1 = pd.read_excel(\"d:\\\\data\\\\pandas\\\\남북한발전전력량.xlsx\", header=0)\n",
    "print(df1, end = '\\n\\n')\n",
    "\n",
    "df2 = pd.read_excel(\"d:\\\\data\\\\pandas\\\\남북한발전전력량.xlsx\", header=None)\n",
    "print(df2) # 컬럼명이 0,1,2 ... 로 출력됨"
   ]
  },
  {
   "cell_type": "markdown",
   "metadata": {},
   "source": [
    "## ■ 3.3 json 파일을 불러오는 방법\n",
    "\n",
    "json 파일은 데이터 공유를 목적으로 개발된 특수한 파일 형식이다.  \n",
    "파이썬 딕셔너리와 비슷하게 __\"key-value\" 구조__를 갖는다.  "
   ]
  },
  {
   "cell_type": "code",
   "execution_count": null,
   "metadata": {},
   "outputs": [],
   "source": [
    "import pandas as pd\n",
    "df = pd.read_json(\"d:\\\\data\\\\pandas\\\\경기도행정구역경계.json\")\n",
    "print(df)\n",
    "print(df.index)\n",
    "print(df.values)"
   ]
  },
  {
   "cell_type": "code",
   "execution_count": 27,
   "metadata": {},
   "outputs": [
    {
     "name": "stdout",
     "output_type": "stream",
     "text": [
      "           name  year        developer opensource\n",
      "pandas           2008    Wes Mckinneye       True\n",
      "NumPy            2006  Travis Oliphant       True\n",
      "matplotlib       2003   John D. Hunter       True\n",
      "\n",
      "\n",
      "Index(['pandas', 'NumPy', 'matplotlib'], dtype='object')\n",
      "[['' 2008 'Wes Mckinneye' 'True']\n",
      " ['' 2006 'Travis Oliphant' 'True']\n",
      " ['' 2003 'John D. Hunter' 'True']]\n"
     ]
    }
   ],
   "source": [
    "import pandas as pd\n",
    "\n",
    "df1 = pd.read_json(\"d:\\\\data\\\\pandas\\\\read_json_sample.json\")\n",
    "print(df1, end = '\\n\\n\\n')\n",
    "print(df1.index)\n",
    "print(df1.values)"
   ]
  },
  {
   "cell_type": "markdown",
   "metadata": {},
   "source": [
    "### ※ 공공 데이터 포털에서 excel 또는 json파일을 내려받을 수 있다.(활용)"
   ]
  },
  {
   "cell_type": "markdown",
   "metadata": {},
   "source": [
    "## ■ 3.4 html 파일을 파이썬으로 불러오는 방법\n",
    "\n",
    "__샘플 데이터 :__ sample.html"
   ]
  },
  {
   "cell_type": "code",
   "execution_count": 30,
   "metadata": {},
   "outputs": [
    {
     "name": "stdout",
     "output_type": "stream",
     "text": [
      "[   Unnamed: 0  c0  c1  c2  c3\n",
      "0           0   0   1   4   7\n",
      "1           1   1   2   5   8\n",
      "2           2   2   3   6   9,          name  year        developer  opensource\n",
      "0       NumPy  2006  Travis Oliphant        True\n",
      "1  matplotlib  2003   John D. Hunter        True\n",
      "2      pandas  2008    Wes Mckinneye        True]\n"
     ]
    }
   ],
   "source": [
    "import pandas as pd\n",
    "\n",
    "url = \"d:\\\\data\\\\pandas\\\\sample.html\"\n",
    "tables = pd.read_html(url)\n",
    "print(tables)"
   ]
  },
  {
   "cell_type": "markdown",
   "metadata": {},
   "source": [
    "## 문제40. 위의 리스트에 담겨있는 요소들을 하나씩 뽑아서 출력하시오!"
   ]
  },
  {
   "cell_type": "code",
   "execution_count": 33,
   "metadata": {},
   "outputs": [
    {
     "name": "stdout",
     "output_type": "stream",
     "text": [
      "   Unnamed: 0  c0  c1  c2  c3\n",
      "0           0   0   1   4   7\n",
      "1           1   1   2   5   8\n",
      "2           2   2   3   6   9\n",
      "\n",
      "\n",
      "         name  year        developer  opensource\n",
      "0       NumPy  2006  Travis Oliphant        True\n",
      "1  matplotlib  2003   John D. Hunter        True\n",
      "2      pandas  2008    Wes Mckinneye        True\n"
     ]
    }
   ],
   "source": [
    "import pandas as pd\n",
    "\n",
    "url = \"d:\\\\data\\\\pandas\\\\sample.html\"\n",
    "tables = pd.read_html(url)\n",
    "print(tables[0], end = '\\n\\n\\n')\n",
    "print(tables[1])"
   ]
  },
  {
   "cell_type": "markdown",
   "metadata": {},
   "source": [
    "## ■ 3.5 판다스 데이터 프레임을 csv파일로 저장하기\n",
    "\n",
    "__문법 :__ 판다스 데이터프레임.to_csv(\"csv 파일의 위치와 이름\")"
   ]
  },
  {
   "cell_type": "code",
   "execution_count": 34,
   "metadata": {},
   "outputs": [
    {
     "name": "stdout",
     "output_type": "stream",
     "text": [
      "    empno   ename        job     mgr    hiredate   sal    comm  deptno\n",
      "0    7839    KING  PRESIDENT     NaN  1981-11-17  5000     NaN      10\n",
      "1    7698   BLAKE    MANAGER  7839.0  1981-05-01  2850     NaN      30\n",
      "2    7782   CLARK    MANAGER  7839.0  1981-05-09  2450     NaN      10\n",
      "3    7566   JONES    MANAGER  7839.0  1981-04-01  2975     NaN      20\n",
      "4    7654  MARTIN   SALESMAN  7698.0  1981-09-10  1250  1400.0      30\n",
      "5    7499   ALLEN   SALESMAN  7698.0  1981-02-11  1600   300.0      30\n",
      "6    7844  TURNER   SALESMAN  7698.0  1981-08-21  1500     0.0      30\n",
      "7    7900   JAMES      CLERK  7698.0  1981-12-11   950     NaN      30\n",
      "8    7521    WARD   SALESMAN  7698.0  1981-02-23  1250   500.0      30\n",
      "9    7902    FORD    ANALYST  7566.0  1981-12-11  3000     NaN      20\n",
      "10   7369   SMITH      CLERK  7902.0  1980-12-09   800     NaN      20\n",
      "11   7788   SCOTT    ANALYST  7566.0  1982-12-22  3000     NaN      20\n",
      "12   7876   ADAMS      CLERK  7788.0  1983-01-15  1100     NaN      20\n",
      "13   7934  MILLER      CLERK  7782.0  1982-01-11  1300     NaN      10\n"
     ]
    }
   ],
   "source": [
    "import pandas as pd\n",
    "emp = pd.read_csv(\"d:\\\\data\\\\emp.csv\")\n",
    "print(emp)"
   ]
  },
  {
   "cell_type": "code",
   "execution_count": 35,
   "metadata": {},
   "outputs": [
    {
     "name": "stdout",
     "output_type": "stream",
     "text": [
      "    empno   ename        job     mgr    hiredate   sal    comm  deptno\n",
      "0    7839    KING  PRESIDENT     NaN  1981-11-17  5000     NaN      10\n",
      "1    7698   BLAKE    MANAGER  7839.0  1981-05-01  2850     NaN      30\n",
      "2    7782   CLARK    MANAGER  7839.0  1981-05-09  2450     NaN      10\n",
      "3    7566   JONES    MANAGER  7839.0  1981-04-01  2975     NaN      20\n",
      "4    7654  MARTIN   SALESMAN  7698.0  1981-09-10  1250  1400.0      30\n",
      "5    7499   ALLEN   SALESMAN  7698.0  1981-02-11  1600   300.0      30\n",
      "6    7844  TURNER   SALESMAN  7698.0  1981-08-21  1500     0.0      30\n",
      "7    7900   JAMES      CLERK  7698.0  1981-12-11   950     NaN      30\n",
      "8    7521    WARD   SALESMAN  7698.0  1981-02-23  1250   500.0      30\n",
      "9    7902    FORD    ANALYST  7566.0  1981-12-11  3000     NaN      20\n",
      "10   7369   SMITH      CLERK  7902.0  1980-12-09   800     NaN      20\n",
      "11   7788   SCOTT    ANALYST  7566.0  1982-12-22  3000     NaN      20\n",
      "12   7876   ADAMS      CLERK  7788.0  1983-01-15  1100     NaN      20\n",
      "13   7934  MILLER      CLERK  7782.0  1982-01-11  1300     NaN      10\n"
     ]
    }
   ],
   "source": [
    "import pandas as pd\n",
    "emp = pd.read_csv(\"d:\\\\data\\\\emp.csv\")\n",
    "print(emp)\n",
    "emp.to_csv(\"d:\\\\data\\\\emp2.csv\")"
   ]
  },
  {
   "cell_type": "markdown",
   "metadata": {},
   "source": [
    "## 문제41. 타이타닉 데이터에서 생존자 데이터만 따로 tat_1.csv로 저장하시오."
   ]
  },
  {
   "cell_type": "code",
   "execution_count": 42,
   "metadata": {},
   "outputs": [
    {
     "name": "stdout",
     "output_type": "stream",
     "text": [
      "          PassengerId  Pclass  \\\n",
      "Survived                        \n",
      "1                   2       1   \n",
      "1                   3       3   \n",
      "1                   4       1   \n",
      "1                   9       3   \n",
      "1                  10       2   \n",
      "...               ...     ...   \n",
      "1                 876       3   \n",
      "1                 880       1   \n",
      "1                 881       2   \n",
      "1                 888       1   \n",
      "1                 890       1   \n",
      "\n",
      "                                                       Name     Sex   Age  \\\n",
      "Survived                                                                    \n",
      "1         Cumings, Mrs. John Bradley (Florence Briggs Th...  female  38.0   \n",
      "1                                    Heikkinen, Miss. Laina  female  26.0   \n",
      "1              Futrelle, Mrs. Jacques Heath (Lily May Peel)  female  35.0   \n",
      "1         Johnson, Mrs. Oscar W (Elisabeth Vilhelmina Berg)  female  27.0   \n",
      "1                       Nasser, Mrs. Nicholas (Adele Achem)  female  14.0   \n",
      "...                                                     ...     ...   ...   \n",
      "1                          Najib, Miss. Adele Kiamie \"Jane\"  female  15.0   \n",
      "1             Potter, Mrs. Thomas Jr (Lily Alexenia Wilson)  female  56.0   \n",
      "1              Shelley, Mrs. William (Imanita Parrish Hall)  female  25.0   \n",
      "1                              Graham, Miss. Margaret Edith  female  19.0   \n",
      "1                                     Behr, Mr. Karl Howell    male  26.0   \n",
      "\n",
      "          SibSp  Parch            Ticket     Fare Cabin Embarked  \n",
      "Survived                                                          \n",
      "1             1      0          PC 17599  71.2833   C85        C  \n",
      "1             0      0  STON/O2. 3101282   7.9250   NaN        S  \n",
      "1             1      0            113803  53.1000  C123        S  \n",
      "1             0      2            347742  11.1333   NaN        S  \n",
      "1             1      0            237736  30.0708   NaN        C  \n",
      "...         ...    ...               ...      ...   ...      ...  \n",
      "1             0      0              2667   7.2250   NaN        C  \n",
      "1             0      1             11767  83.1583   C50        C  \n",
      "1             0      1            230433  26.0000   NaN        S  \n",
      "1             0      0            112053  30.0000   B42        S  \n",
      "1             0      0            111369  30.0000  C148        C  \n",
      "\n",
      "[342 rows x 11 columns]\n"
     ]
    }
   ],
   "source": [
    "import pandas as pd\n",
    "\n",
    "tat = pd.read_csv(\"d:\\\\data\\\\train.csv\", index_col= 'Survived')\n",
    "\n",
    "print(tat.loc[1])\n",
    "\n",
    "tat.loc[1].to_csv(\"d:\\\\data\\\\tat_1.csv\")"
   ]
  },
  {
   "cell_type": "markdown",
   "metadata": {},
   "source": [
    "## ■ 3.6 판다스 데이터 프레임은 excel 파일로 저장하기"
   ]
  },
  {
   "cell_type": "code",
   "execution_count": 46,
   "metadata": {},
   "outputs": [
    {
     "name": "stdout",
     "output_type": "stream",
     "text": [
      "    empno   ename        job     mgr    hiredate   sal    comm  deptno\n",
      "0    7839    KING  PRESIDENT     NaN  1981-11-17  5000     NaN      10\n",
      "1    7698   BLAKE    MANAGER  7839.0  1981-05-01  2850     NaN      30\n",
      "2    7782   CLARK    MANAGER  7839.0  1981-05-09  2450     NaN      10\n",
      "3    7566   JONES    MANAGER  7839.0  1981-04-01  2975     NaN      20\n",
      "4    7654  MARTIN   SALESMAN  7698.0  1981-09-10  1250  1400.0      30\n",
      "5    7499   ALLEN   SALESMAN  7698.0  1981-02-11  1600   300.0      30\n",
      "6    7844  TURNER   SALESMAN  7698.0  1981-08-21  1500     0.0      30\n",
      "7    7900   JAMES      CLERK  7698.0  1981-12-11   950     NaN      30\n",
      "8    7521    WARD   SALESMAN  7698.0  1981-02-23  1250   500.0      30\n",
      "9    7902    FORD    ANALYST  7566.0  1981-12-11  3000     NaN      20\n",
      "10   7369   SMITH      CLERK  7902.0  1980-12-09   800     NaN      20\n",
      "11   7788   SCOTT    ANALYST  7566.0  1982-12-22  3000     NaN      20\n",
      "12   7876   ADAMS      CLERK  7788.0  1983-01-15  1100     NaN      20\n",
      "13   7934  MILLER      CLERK  7782.0  1982-01-11  1300     NaN      10\n",
      "\n",
      "        ename        job     mgr    hiredate   sal    comm  deptno\n",
      "empno                                                             \n",
      "7839     KING  PRESIDENT     NaN  1981-11-17  5000     NaN      10\n",
      "7698    BLAKE    MANAGER  7839.0  1981-05-01  2850     NaN      30\n",
      "7782    CLARK    MANAGER  7839.0  1981-05-09  2450     NaN      10\n",
      "7566    JONES    MANAGER  7839.0  1981-04-01  2975     NaN      20\n",
      "7654   MARTIN   SALESMAN  7698.0  1981-09-10  1250  1400.0      30\n",
      "7499    ALLEN   SALESMAN  7698.0  1981-02-11  1600   300.0      30\n",
      "7844   TURNER   SALESMAN  7698.0  1981-08-21  1500     0.0      30\n",
      "7900    JAMES      CLERK  7698.0  1981-12-11   950     NaN      30\n",
      "7521     WARD   SALESMAN  7698.0  1981-02-23  1250   500.0      30\n",
      "7902     FORD    ANALYST  7566.0  1981-12-11  3000     NaN      20\n",
      "7369    SMITH      CLERK  7902.0  1980-12-09   800     NaN      20\n",
      "7788    SCOTT    ANALYST  7566.0  1982-12-22  3000     NaN      20\n",
      "7876    ADAMS      CLERK  7788.0  1983-01-15  1100     NaN      20\n",
      "7934   MILLER      CLERK  7782.0  1982-01-11  1300     NaN      10\n"
     ]
    }
   ],
   "source": [
    "import pandas as pd\n",
    "\n",
    "emp = pd.read_csv(\"d:\\\\data\\\\emp.csv\")\n",
    "print(emp, end = '\\n\\n') # 변경전 \n",
    "\n",
    "emp.set_index(\"empno\", inplace = True)\n",
    "print(emp) # 변경후"
   ]
  },
  {
   "cell_type": "markdown",
   "metadata": {},
   "source": [
    "## 문제42. 위의 emp 데이터 프레임을 emp.xlsx 파일로 내리시오~"
   ]
  },
  {
   "cell_type": "code",
   "execution_count": 50,
   "metadata": {},
   "outputs": [],
   "source": [
    "import pandas as pd\n",
    "emp = pd.read_csv(\"d:\\\\data\\\\emp.csv\")\n",
    "emp.to_excel(\"d:\\\\data\\\\emp.xlsx\")"
   ]
  },
  {
   "attachments": {
    "image.png": {
     "image/png": "[encoded data removed]"
    }
   },
   "cell_type": "markdown",
   "metadata": {},
   "source": [
    "![image.png](attachment:image.png)"
   ]
  },
  {
   "cell_type": "markdown",
   "metadata": {},
   "source": [
    "### ※ 그래프 그리기 \n",
    "\n",
    "1. R (시각화가 예쁘다.)\n",
    "\n",
    "2. Python"
   ]
  },
  {
   "cell_type": "markdown",
   "metadata": {},
   "source": [
    "## 문제43. emp 데이터 프레임은 excel 파일의 sheet1에 저장하고 dept 데이터 프레임은 같은 excel 파일의 sheet2에 저장하시오!"
   ]
  },
  {
   "cell_type": "code",
   "execution_count": 54,
   "metadata": {},
   "outputs": [
    {
     "name": "stdout",
     "output_type": "stream",
     "text": [
      "   deptno       dname       loc\n",
      "0      10  ACCOUNTING  NEW YORK\n",
      "1      20    RESEARCH    DALLAS\n",
      "2      30       SALES   CHICAGO\n",
      "3      40  OPERATIONS    BOSTON\n"
     ]
    }
   ],
   "source": [
    "import pandas as pd\n",
    "\n",
    "emp = pd.read_csv(\"d:\\\\data\\\\emp.csv\")\n",
    "dept = pd.read_csv(\"d:\\\\data\\\\dept.csv\")\n",
    "print(dept)\n",
    "\n",
    "writer = pd.ExcelWriter(\"d:\\\\data\\\\emp_dept.xlsx\")\n",
    "emp.to_excel(writer, sheet_name=\"sheet1\")\n",
    "dept.to_excel(writer, sheet_name=\"sheet2\")\n",
    "writer.save()"
   ]
  },
  {
   "cell_type": "markdown",
   "metadata": {},
   "source": [
    "## ■ 4장. 데이터 살펴보기"
   ]
  },
  {
   "cell_type": "markdown",
   "metadata": {},
   "source": [
    "## ■ 4.1 데이터 프레임의 내용과 자료형 확인하기.\n",
    "\n",
    "1. head() : 처음 5개의 행을 확인\n",
    "2. tail() : 마지막 5개의 행을 확인\n",
    "3. shape() : 데이터 프레임의 행과 열을 확인\n",
    "4. dtypes() : 데이터 프레임의 자료형을 확인\n",
    "5. describe() : 데이터 프레임의 기술통계정보 확인"
   ]
  },
  {
   "cell_type": "markdown",
   "metadata": {},
   "source": [
    "## 문제44. emp 데이터 프레임의 위의 5개의 행과 아래의 5개의 행을 확인하시오!"
   ]
  },
  {
   "cell_type": "code",
   "execution_count": 59,
   "metadata": {},
   "outputs": [
    {
     "name": "stdout",
     "output_type": "stream",
     "text": [
      "   empno   ename        job     mgr    hiredate   sal    comm  deptno\n",
      "0   7839    KING  PRESIDENT     NaN  1981-11-17  5000     NaN      10\n",
      "1   7698   BLAKE    MANAGER  7839.0  1981-05-01  2850     NaN      30\n",
      "2   7782   CLARK    MANAGER  7839.0  1981-05-09  2450     NaN      10\n",
      "3   7566   JONES    MANAGER  7839.0  1981-04-01  2975     NaN      20\n",
      "4   7654  MARTIN   SALESMAN  7698.0  1981-09-10  1250  1400.0      30\n",
      "\n",
      "    empno   ename      job     mgr    hiredate   sal  comm  deptno\n",
      "9    7902    FORD  ANALYST  7566.0  1981-12-11  3000   NaN      20\n",
      "10   7369   SMITH    CLERK  7902.0  1980-12-09   800   NaN      20\n",
      "11   7788   SCOTT  ANALYST  7566.0  1982-12-22  3000   NaN      20\n",
      "12   7876   ADAMS    CLERK  7788.0  1983-01-15  1100   NaN      20\n",
      "13   7934  MILLER    CLERK  7782.0  1982-01-11  1300   NaN      10\n"
     ]
    }
   ],
   "source": [
    "import pandas as pd\n",
    "emp = pd.read_csv(\"d:\\\\data\\\\emp.csv\")\n",
    "\n",
    "print(emp.head(), end = '\\n\\n')\n",
    "print(emp.tail())"
   ]
  },
  {
   "cell_type": "markdown",
   "metadata": {},
   "source": [
    "## 문제45. emp 데이터 프레임의 컬럼들의 자료형을 확인하시오!"
   ]
  },
  {
   "cell_type": "code",
   "execution_count": 60,
   "metadata": {},
   "outputs": [
    {
     "name": "stdout",
     "output_type": "stream",
     "text": [
      "empno         int64\n",
      "ename        object\n",
      "job          object\n",
      "mgr         float64\n",
      "hiredate     object\n",
      "sal           int64\n",
      "comm        float64\n",
      "deptno        int64\n",
      "dtype: object\n"
     ]
    }
   ],
   "source": [
    "import pandas as pd\n",
    "emp = pd.read_csv(\"d:\\\\data\\\\emp.csv\")\n",
    "\n",
    "print(emp.dtypes)"
   ]
  },
  {
   "cell_type": "markdown",
   "metadata": {},
   "source": [
    "## 문제46. emp 테이블의 기술 통계정보를 확인하시오!"
   ]
  },
  {
   "cell_type": "code",
   "execution_count": 62,
   "metadata": {},
   "outputs": [
    {
     "name": "stdout",
     "output_type": "stream",
     "text": [
      "             empno          mgr          sal         comm     deptno\n",
      "count    14.000000    13.000000    14.000000     4.000000  14.000000\n",
      "mean   7726.571429  7739.307692  2073.214286   550.000000  22.142857\n",
      "std     178.294361   103.714660  1182.503224   602.771377   8.017837\n",
      "min    7369.000000  7566.000000   800.000000     0.000000  10.000000\n",
      "25%    7588.000000  7698.000000  1250.000000   225.000000  20.000000\n",
      "50%    7785.000000  7698.000000  1550.000000   400.000000  20.000000\n",
      "75%    7868.000000  7839.000000  2943.750000   725.000000  30.000000\n",
      "max    7934.000000  7902.000000  5000.000000  1400.000000  30.000000\n"
     ]
    }
   ],
   "source": [
    "import pandas as pd\n",
    "emp = pd.read_csv(\"d:\\\\data\\\\emp.csv\")\n",
    "\n",
    "print(emp.describe())"
   ]
  },
  {
   "cell_type": "code",
   "execution_count": null,
   "metadata": {},
   "outputs": [],
   "source": [
    "# R로 확인하는 방법\n",
    "# 설치 방법 -> R깔고 -> Rstudio 설치하면 됨.\n",
    "\n",
    "emp <- read.csv(\"d:\\\\data\\\\emp.csv\") # = 대신에 화살표\n",
    "emp\n",
    "pie(emp$sal, col=rainbow(14))\n",
    "View(emp)\n",
    "summary(emp) # emp 데이터 프레임의 기술 통계 정보를 확인한다. = python의 describe()와 기능 같음."
   ]
  },
  {
   "cell_type": "markdown",
   "metadata": {},
   "source": [
    "## ■ 4.2 데이터 프레임의 컬럼에 대한 정보 확인.\n",
    "\n",
    "1. count() : 각 컬럼별 건수를 확인할 때 사용.\n",
    "2. value_counts() : 컬럼의 고유한 값(unique)이 몇건이 있는지 확인할 때 사용.\n",
    "3. mean() \n",
    "4. median()\n",
    "5. max()\n",
    "6. min()\n",
    "7. std()\n",
    "8. corr() : 상관관계를 확인할 때 사용."
   ]
  },
  {
   "cell_type": "markdown",
   "metadata": {},
   "source": [
    "## 문제47. emp 데이터 프레임의 컬럼들의 건수를 확인하시오!"
   ]
  },
  {
   "cell_type": "code",
   "execution_count": 63,
   "metadata": {},
   "outputs": [
    {
     "name": "stdout",
     "output_type": "stream",
     "text": [
      "empno       14\n",
      "ename       14\n",
      "job         14\n",
      "mgr         13\n",
      "hiredate    14\n",
      "sal         14\n",
      "comm         4\n",
      "deptno      14\n",
      "dtype: int64\n"
     ]
    }
   ],
   "source": [
    "import pandas as pd\n",
    "emp = pd.read_csv(\"d:\\\\data\\\\emp.csv\")\n",
    "\n",
    "print(emp.count())"
   ]
  },
  {
   "cell_type": "markdown",
   "metadata": {},
   "source": [
    "## 문제48. emp 데이터 프레임의 직업의 종류가 어떻게 되는지 확인하시오!"
   ]
  },
  {
   "cell_type": "code",
   "execution_count": 64,
   "metadata": {},
   "outputs": [
    {
     "name": "stdout",
     "output_type": "stream",
     "text": [
      "SALESMAN     4\n",
      "CLERK        4\n",
      "MANAGER      3\n",
      "ANALYST      2\n",
      "PRESIDENT    1\n",
      "Name: job, dtype: int64\n"
     ]
    }
   ],
   "source": [
    "import pandas as pd\n",
    "emp = pd.read_csv(\"d:\\\\data\\\\emp.csv\")\n",
    "\n",
    "job_uniq = emp['job'].value_counts()\n",
    "print(job_uniq)"
   ]
  },
  {
   "cell_type": "markdown",
   "metadata": {},
   "source": [
    "## 문제49. 타이타닉 데이터에서 생존자가 몇명이고 사망자가 몇명인지 출력하시오!"
   ]
  },
  {
   "cell_type": "code",
   "execution_count": 70,
   "metadata": {},
   "outputs": [
    {
     "name": "stdout",
     "output_type": "stream",
     "text": [
      "0    549\n",
      "1    342\n",
      "Name: Survived, dtype: int64\n"
     ]
    }
   ],
   "source": [
    "import pandas as pd\n",
    "tat = pd.read_csv(\"d:\\\\data\\\\train.csv\")\n",
    "\n",
    "Survived_uniq = tat['Survived'].value_counts() # counts임 (주의!!!)\n",
    "print(Survived_uniq)"
   ]
  },
  {
   "cell_type": "markdown",
   "metadata": {},
   "source": [
    "## 문제50. 타이타닉 데이터에서 승객이 여자인 승객들만 출력하시오!\n",
    "\n",
    "\n",
    "emp[열][행]  \n",
    "emp[['ename','sal']][emp['ename']=='SCOTT']"
   ]
  },
  {
   "cell_type": "code",
   "execution_count": 84,
   "metadata": {},
   "outputs": [
    {
     "name": "stdout",
     "output_type": "stream",
     "text": [
      "Index(['PassengerId', 'Survived', 'Pclass', 'Name', 'Sex', 'Age', 'SibSp',\n",
      "       'Parch', 'Ticket', 'Fare', 'Cabin', 'Embarked'],\n",
      "      dtype='object')\n",
      "1      female\n",
      "2      female\n",
      "3      female\n",
      "8      female\n",
      "9      female\n",
      "        ...  \n",
      "880    female\n",
      "882    female\n",
      "885    female\n",
      "887    female\n",
      "888    female\n",
      "Name: Sex, Length: 314, dtype: object\n",
      "     PassengerId  Survived  Pclass  \\\n",
      "1              2         1       1   \n",
      "2              3         1       3   \n",
      "3              4         1       1   \n",
      "8              9         1       3   \n",
      "9             10         1       2   \n",
      "..           ...       ...     ...   \n",
      "880          881         1       2   \n",
      "882          883         0       3   \n",
      "885          886         0       3   \n",
      "887          888         1       1   \n",
      "888          889         0       3   \n",
      "\n",
      "                                                  Name     Sex   Age  SibSp  \\\n",
      "1    Cumings, Mrs. John Bradley (Florence Briggs Th...  female  38.0      1   \n",
      "2                               Heikkinen, Miss. Laina  female  26.0      0   \n",
      "3         Futrelle, Mrs. Jacques Heath (Lily May Peel)  female  35.0      1   \n",
      "8    Johnson, Mrs. Oscar W (Elisabeth Vilhelmina Berg)  female  27.0      0   \n",
      "9                  Nasser, Mrs. Nicholas (Adele Achem)  female  14.0      1   \n",
      "..                                                 ...     ...   ...    ...   \n",
      "880       Shelley, Mrs. William (Imanita Parrish Hall)  female  25.0      0   \n",
      "882                       Dahlberg, Miss. Gerda Ulrika  female  22.0      0   \n",
      "885               Rice, Mrs. William (Margaret Norton)  female  39.0      0   \n",
      "887                       Graham, Miss. Margaret Edith  female  19.0      0   \n",
      "888           Johnston, Miss. Catherine Helen \"Carrie\"  female   NaN      1   \n",
      "\n",
      "     Parch            Ticket     Fare Cabin Embarked  \n",
      "1        0          PC 17599  71.2833   C85        C  \n",
      "2        0  STON/O2. 3101282   7.9250   NaN        S  \n",
      "3        0            113803  53.1000  C123        S  \n",
      "8        2            347742  11.1333   NaN        S  \n",
      "9        0            237736  30.0708   NaN        C  \n",
      "..     ...               ...      ...   ...      ...  \n",
      "880      1            230433  26.0000   NaN        S  \n",
      "882      0              7552  10.5167   NaN        S  \n",
      "885      5            382652  29.1250   NaN        Q  \n",
      "887      0            112053  30.0000   B42        S  \n",
      "888      2        W./C. 6607  23.4500   NaN        S  \n",
      "\n",
      "[314 rows x 12 columns]\n",
      "     PassengerId  Survived  Pclass  \\\n",
      "1              2         1       1   \n",
      "2              3         1       3   \n",
      "3              4         1       1   \n",
      "8              9         1       3   \n",
      "9             10         1       2   \n",
      "..           ...       ...     ...   \n",
      "880          881         1       2   \n",
      "882          883         0       3   \n",
      "885          886         0       3   \n",
      "887          888         1       1   \n",
      "888          889         0       3   \n",
      "\n",
      "                                                  Name     Sex   Age  SibSp  \\\n",
      "1    Cumings, Mrs. John Bradley (Florence Briggs Th...  female  38.0      1   \n",
      "2                               Heikkinen, Miss. Laina  female  26.0      0   \n",
      "3         Futrelle, Mrs. Jacques Heath (Lily May Peel)  female  35.0      1   \n",
      "8    Johnson, Mrs. Oscar W (Elisabeth Vilhelmina Berg)  female  27.0      0   \n",
      "9                  Nasser, Mrs. Nicholas (Adele Achem)  female  14.0      1   \n",
      "..                                                 ...     ...   ...    ...   \n",
      "880       Shelley, Mrs. William (Imanita Parrish Hall)  female  25.0      0   \n",
      "882                       Dahlberg, Miss. Gerda Ulrika  female  22.0      0   \n",
      "885               Rice, Mrs. William (Margaret Norton)  female  39.0      0   \n",
      "887                       Graham, Miss. Margaret Edith  female  19.0      0   \n",
      "888           Johnston, Miss. Catherine Helen \"Carrie\"  female   NaN      1   \n",
      "\n",
      "     Parch            Ticket     Fare Cabin Embarked  \n",
      "1        0          PC 17599  71.2833   C85        C  \n",
      "2        0  STON/O2. 3101282   7.9250   NaN        S  \n",
      "3        0            113803  53.1000  C123        S  \n",
      "8        2            347742  11.1333   NaN        S  \n",
      "9        0            237736  30.0708   NaN        C  \n",
      "..     ...               ...      ...   ...      ...  \n",
      "880      1            230433  26.0000   NaN        S  \n",
      "882      0              7552  10.5167   NaN        S  \n",
      "885      5            382652  29.1250   NaN        Q  \n",
      "887      0            112053  30.0000   B42        S  \n",
      "888      2        W./C. 6607  23.4500   NaN        S  \n",
      "\n",
      "[314 rows x 12 columns]\n"
     ]
    }
   ],
   "source": [
    "import pandas as pd\n",
    "tat = pd.read_csv(\"d:\\\\data\\\\train.csv\")\n",
    "print(tat.columns)\n",
    "\n",
    "print(tat[\"Sex\"][tat['Sex']=='female'])\n",
    "print(tat[:][tat['Sex']=='female']) # tat[\"Sex\"]를 생략하면 모든열이 다 나온다.\n",
    "print(tat[tat['Sex'] == 'female']) # tat[\"Sex\"]를 생략하면 모든열이 다 나온다."
   ]
  },
  {
   "cell_type": "markdown",
   "metadata": {},
   "source": [
    "## 문제51. 타이타닉 데이터에서 남녀의 비율이 어떻게 되는건지를 건수를 출력하시오!"
   ]
  },
  {
   "cell_type": "code",
   "execution_count": 86,
   "metadata": {},
   "outputs": [
    {
     "name": "stdout",
     "output_type": "stream",
     "text": [
      "male      577\n",
      "female    314\n",
      "Name: Sex, dtype: int64\n"
     ]
    }
   ],
   "source": [
    "import pandas as pd\n",
    "tat = pd.read_csv(\"d:\\\\data\\\\train.csv\")\n",
    "\n",
    "Sex_uniq = tat['Sex'].value_counts() # counts임 (주의!!!)\n",
    "print(Sex_uniq)"
   ]
  },
  {
   "cell_type": "markdown",
   "metadata": {},
   "source": [
    "## 문제52. 타이타닉 데이터에 승객의 나이의 평균값을 출력하시오!"
   ]
  },
  {
   "cell_type": "code",
   "execution_count": 90,
   "metadata": {},
   "outputs": [
    {
     "name": "stdout",
     "output_type": "stream",
     "text": [
      "29.69911764705882\n"
     ]
    }
   ],
   "source": [
    "import pandas as pd\n",
    "tat = pd.read_csv(\"d:\\\\data\\\\train.csv\")\n",
    "\n",
    "Age_mean = tat['Age'].mean()\n",
    "print(Age_mean)"
   ]
  },
  {
   "cell_type": "markdown",
   "metadata": {},
   "source": [
    "## 문제53. 타이타닉 변수(컬럼)들간의 상관관계가 어떻게 되는지 확인하시오!"
   ]
  },
  {
   "cell_type": "code",
   "execution_count": 91,
   "metadata": {},
   "outputs": [
    {
     "name": "stdout",
     "output_type": "stream",
     "text": [
      "             PassengerId  Survived    Pclass       Age     SibSp     Parch  \\\n",
      "PassengerId     1.000000 -0.005007 -0.035144  0.036847 -0.057527 -0.001652   \n",
      "Survived       -0.005007  1.000000 -0.338481 -0.077221 -0.035322  0.081629   \n",
      "Pclass         -0.035144 -0.338481  1.000000 -0.369226  0.083081  0.018443   \n",
      "Age             0.036847 -0.077221 -0.369226  1.000000 -0.308247 -0.189119   \n",
      "SibSp          -0.057527 -0.035322  0.083081 -0.308247  1.000000  0.414838   \n",
      "Parch          -0.001652  0.081629  0.018443 -0.189119  0.414838  1.000000   \n",
      "Fare            0.012658  0.257307 -0.549500  0.096067  0.159651  0.216225   \n",
      "\n",
      "                 Fare  \n",
      "PassengerId  0.012658  \n",
      "Survived     0.257307  \n",
      "Pclass      -0.549500  \n",
      "Age          0.096067  \n",
      "SibSp        0.159651  \n",
      "Parch        0.216225  \n",
      "Fare         1.000000  \n"
     ]
    }
   ],
   "source": [
    "# 1에 가까울수록 상관관계가 높고 \n",
    "# 0에 가까울수록 상관관계가 낮다.\n",
    "\n",
    "import pandas as pd\n",
    "tat = pd.read_csv(\"d:\\\\data\\\\train.csv\")\n",
    "print(tat.corr())"
   ]
  },
  {
   "cell_type": "markdown",
   "metadata": {},
   "source": [
    "## 문제54. Pclass와 Survived와의 상관관계가 어떻게 되는지 출력하시오!"
   ]
  },
  {
   "cell_type": "code",
   "execution_count": 92,
   "metadata": {},
   "outputs": [
    {
     "name": "stdout",
     "output_type": "stream",
     "text": [
      "            Pclass  Survived\n",
      "Pclass    1.000000 -0.338481\n",
      "Survived -0.338481  1.000000\n"
     ]
    }
   ],
   "source": [
    "# Pclass : 승선권 클래서(1:1st, 2:2nd, 3:3rd)\n",
    "# Survived : 생존여부(1:생존, 0:사망)\n",
    "\n",
    "import pandas as pd\n",
    "tat = pd.read_csv(\"d:\\\\data\\\\train.csv\")\n",
    "\n",
    "print(tat[['Pclass','Survived']].corr())"
   ]
  },
  {
   "cell_type": "markdown",
   "metadata": {},
   "source": [
    "## 문제55. Pclass 승선권 클래스 별로 인원수가 어떻게 되는지 출력하시오!"
   ]
  },
  {
   "cell_type": "code",
   "execution_count": 98,
   "metadata": {},
   "outputs": [
    {
     "name": "stdout",
     "output_type": "stream",
     "text": [
      "3    491\n",
      "1    216\n",
      "2    184\n",
      "Name: Pclass, dtype: int64\n"
     ]
    }
   ],
   "source": [
    "import pandas as pd\n",
    "tat = pd.read_csv(\"d:\\\\data\\\\train.csv\")\n",
    "\n",
    "label_cnt = tat[\"Pclass\"].value_counts()\n",
    "print(label_cnt)"
   ]
  },
  {
   "cell_type": "markdown",
   "metadata": {},
   "source": [
    "## 문제56. 타이타닉 변수들의 상관관계를 시각화 하시오!"
   ]
  },
  {
   "cell_type": "code",
   "execution_count": 101,
   "metadata": {},
   "outputs": [
    {
     "data": {
      "image/png": "[encoded data removed]",
      "text/plain": [
       "<Figure size 720x576 with 2 Axes>"
      ]
     },
     "metadata": {
      "needs_background": "light"
     },
     "output_type": "display_data"
    }
   ],
   "source": [
    "import pandas as pd\n",
    "import seaborn as sns\n",
    "import matplotlib.pyplot as plt\n",
    "\n",
    "tat = pd.read_csv(\"d:\\\\data\\\\train.csv\")\n",
    "\n",
    "sns.heatmap(tat.corr(), annot=True, cmap='RdYlGn', linewidths=0.2)\n",
    "fig = plt.gcf()\n",
    "fig.set_size_inches(10,8)\n",
    "plt.show()\n",
    "\n",
    "# 숫자끼리 비교해서 상관관계를 뽑아내기 때문에, \n",
    "# \"Sex\"컬럼에 관련한 heatmap은 나오지 않는다. (\"Sex\"컬럼은 male이나 female로 문자로 나오기 때문.)"
   ]
  },
  {
   "cell_type": "markdown",
   "metadata": {},
   "source": [
    "## 그림을 보고 상관관계가 있어보이는 변수들을 선택하시오!\n",
    "\n",
    "1. Fare와 Pclass : -0.55\n",
    "2. Survived 와 Pclass : -0.34\n",
    "3. Age 와 Pclass : -0.37"
   ]
  },
  {
   "cell_type": "markdown",
   "metadata": {},
   "source": [
    "## ■ 5장. 시각화 하기\n",
    "\n",
    "1. R에서 시각화\n",
    "    - 막대 그래프\n",
    "    - 원형 그래프\n",
    "    - 라인 그래프\n",
    "    - 박스 그래프\n",
    "    - 특수 그래프(소리를 시각화, 지도 그래프)\n",
    "    \n",
    "    \n",
    "2. Python에서 시각화"
   ]
  },
  {
   "cell_type": "markdown",
   "metadata": {},
   "source": [
    "## ■ 5.1 R에서 막대 그래프 그리기\n",
    "\n",
    "문법 : bar(emp$sal)"
   ]
  },
  {
   "cell_type": "markdown",
   "metadata": {},
   "source": [
    "## 문제57. emp 테이블의 월급으로 기본적인 막대 그래프를 그리시오!"
   ]
  },
  {
   "cell_type": "code",
   "execution_count": null,
   "metadata": {},
   "outputs": [],
   "source": [
    "emp <- read.csv(\"d:\\\\data\\\\emp.csv\")\n",
    "str(emp) # 파일 형태를 확인할 수 있다.\n",
    "emp$sal # 월급을 숫자로 확인\n",
    "barplot(emp$sal) # 막대그래프로 확인"
   ]
  },
  {
   "cell_type": "markdown",
   "metadata": {},
   "source": [
    "## 문제58. 위의 그래프의 제목을 Salary Bar Chart라고 이름을 붙이시오!"
   ]
  },
  {
   "cell_type": "code",
   "execution_count": null,
   "metadata": {},
   "outputs": [],
   "source": [
    "emp <- read.csv(\"d:\\\\data\\\\emp.csv\")\n",
    "str(emp) # 파일 형태를 확인할 수 있다.\n",
    "emp$sal # 월급을 숫자로 확인\n",
    "barplot(emp$sal, main=\"Salary Bar Chart\")"
   ]
  },
  {
   "cell_type": "markdown",
   "metadata": {},
   "source": [
    "## 문제59. 막대 그래프의 x축에 사원 이름을 붙이시오!"
   ]
  },
  {
   "cell_type": "code",
   "execution_count": null,
   "metadata": {},
   "outputs": [],
   "source": [
    "emp <- read.csv(\"d:\\\\data\\\\emp.csv\")\n",
    "barplot(emp$sal, main=\"Salary Bar Chart\", names.arg = emp$ename)"
   ]
  },
  {
   "cell_type": "markdown",
   "metadata": {},
   "source": [
    "## 문제60. 막대 그래프의 y축의 라벨을 salary라고 지정하시오!"
   ]
  },
  {
   "cell_type": "code",
   "execution_count": null,
   "metadata": {},
   "outputs": [],
   "source": [
    "emp <- read.csv(\"d:\\\\data\\\\emp.csv\")\n",
    "barplot(emp$sal, main=\"Salary Bar Chart\", names.arg = emp$ename, ylab = \"Salary\")"
   ]
  },
  {
   "cell_type": "markdown",
   "metadata": {},
   "source": [
    "## 문제61. 막대 그래프의 색깔을 파란색으로 출력하시오!"
   ]
  },
  {
   "cell_type": "code",
   "execution_count": null,
   "metadata": {},
   "outputs": [],
   "source": [
    "emp <- read.csv(\"d:\\\\data\\\\emp.csv\")\n",
    "barplot(emp$sal, main=\"Salary Bar Chart\", names.arg = emp$ename, ylab = \"Salary\", col=\"blue\")"
   ]
  },
  {
   "cell_type": "markdown",
   "metadata": {},
   "source": [
    "### R 색상표 : https://www.stat.auckland.ac.nz/~ihaka/courses/787/R-colours-a4.pdf"
   ]
  },
  {
   "cell_type": "markdown",
   "metadata": {},
   "source": [
    "## 문제62. 위의 그래프의 색깔을 파스텔톤으로 변경하시오!"
   ]
  },
  {
   "cell_type": "code",
   "execution_count": null,
   "metadata": {},
   "outputs": [],
   "source": [
    "emp <- read.csv(\"d:\\\\data\\\\emp.csv\")\n",
    "barplot(emp$sal, main=\"Salary Bar Chart\", names.arg = emp$ename, ylab = \"Salary\", col=\"blue\", density = 50)"
   ]
  },
  {
   "cell_type": "markdown",
   "metadata": {},
   "source": [
    "## 문제63. 창업건수.csv를 R로 로드하고 아래와 같이 창업건수를 막대그래프를 시각화 하시오!"
   ]
  },
  {
   "cell_type": "markdown",
   "metadata": {},
   "source": [
    "### ■ 시각화를 위한 실습자료"
   ]
  },
  {
   "cell_type": "code",
   "execution_count": null,
   "metadata": {},
   "outputs": [],
   "source": [
    "setwd(\"d:\\\\data\") # 워킹 디렉토리를 지정한다.\n",
    "create_cnt <- read.csv(\"창업건수.csv\", header=T)\n",
    "create_cnt\n",
    "barplot(create_cnt$치킨, main=\"년도별 치킨집 창업건수\", names.arg = create_cnt$X, col='blue', ylim = c(0,1600)) # c는 combine\n",
    "# ylim 은 y축의 범위"
   ]
  },
  {
   "cell_type": "markdown",
   "metadata": {},
   "source": [
    "## 문제64. 치킨집 년도별 폐업건수를  위와 같이 막대 그래프로 시각화 하시오!"
   ]
  },
  {
   "cell_type": "code",
   "execution_count": null,
   "metadata": {},
   "outputs": [],
   "source": [
    "setwd(\"d:\\\\data\") # 워킹 디렉토리를 지정한다.\n",
    "create_cnt <- read.csv(\"폐업건수.csv\", header=T)\n",
    "create_cnt\n",
    "barplot(create_cnt$치킨, main=\"년도별 치킨집 창업건수\", names.arg = create_cnt$X, col='blue', ylim = c(0,5000)) "
   ]
  },
  {
   "cell_type": "markdown",
   "metadata": {},
   "source": [
    "## 문제65. 치킨집 년도별 창업건수와 폐업건수를 같이 막대그래프로 시각화하시오!"
   ]
  },
  {
   "cell_type": "code",
   "execution_count": null,
   "metadata": {},
   "outputs": [],
   "source": [
    "setwd(\"d:\\\\data\")\n",
    "create_cnt <- read.csv(\"창업건수.csv\")\n",
    "drop_cnt <- read.csv(\"폐업건수.csv\", header=T)\n",
    "x <- rbind(create_cnt$치킨집, drop_cnt$치킨집)\n",
    "x\n",
    "\n",
    "barplot(x, main = \"년도별 치킨집 창업, 폐업\", names.arg = create_cnt$X, col=c(\"blue\",\"red\"), ylim = c(0,4000), beside = T) \n",
    "# beside를 씀으로써 비교되기 쉽게 만들 수 있다."
   ]
  },
  {
   "cell_type": "markdown",
   "metadata": {},
   "source": [
    "## ■ 5.2 파이썬에서 막대 그래프 그리기\n",
    "\n",
    "__문법 :__ 데이터프레임.plot(kind = 'bar')"
   ]
  },
  {
   "cell_type": "code",
   "execution_count": 105,
   "metadata": {
    "scrolled": true
   },
   "outputs": [
    {
     "name": "stdout",
     "output_type": "stream",
     "text": [
      "  전력량 (억㎾h) 발전 전력별  1990  1991  1992  1993  1994  1995  1996  1997  ...  2007  \\\n",
      "0        남한     합계  1077  1186  1310  1444  1650  1847  2055  2244  ...  4031   \n",
      "1       NaN     수력    64    51    49    60    41    55    52    54  ...    50   \n",
      "2       NaN     화력   484   573   696   803  1022  1122  1264  1420  ...  2551   \n",
      "3       NaN    원자력   529   563   565   581   587   670   739   771  ...  1429   \n",
      "4       NaN    신재생     -     -     -     -     -     -     -     -  ...     -   \n",
      "5        북한     합계   277   263   247   221   231   230   213   193  ...   236   \n",
      "6       NaN     수력   156   150   142   133   138   142   125   107  ...   133   \n",
      "7       NaN     화력   121   113   105    88    93    88    88    86  ...   103   \n",
      "8       NaN    원자력     -     -     -     -     -     -     -     -  ...     -   \n",
      "\n",
      "   2008  2009  2010  2011  2012  2013  2014  2015  2016  \n",
      "0  4224  4336  4747  4969  5096  5171  5220  5281  5404  \n",
      "1    56    56    65    78    77    84    78    58    66  \n",
      "2  2658  2802  3196  3343  3430  3581  3427  3402  3523  \n",
      "3  1510  1478  1486  1547  1503  1388  1564  1648  1620  \n",
      "4     -     -     -     -    86   118   151   173   195  \n",
      "5   255   235   237   211   215   221   216   190   239  \n",
      "6   141   125   134   132   135   139   130   100   128  \n",
      "7   114   110   103    79    80    82    86    90   111  \n",
      "8     -     -     -     -     -     -     -     -     -  \n",
      "\n",
      "[9 rows x 29 columns]\n"
     ]
    }
   ],
   "source": [
    "import pandas as pd\n",
    "\n",
    "df = pd.read_excel(\"d:\\\\data\\\\pandas\\\\남북한발전전력량.xlsx\")\n",
    "print(df)"
   ]
  },
  {
   "cell_type": "markdown",
   "metadata": {},
   "source": [
    "## 문제66. 위의 엑셀 파일에서 컬럼은 2번째인 1990부터 끝까지 나오게 하고 행 데이터는 남한의 전력 합계 행과 북한의 전력 합계행이 아래와 같이 출력되게 하시오!( iloc를 사용해서)"
   ]
  },
  {
   "cell_type": "code",
   "execution_count": 111,
   "metadata": {},
   "outputs": [
    {
     "name": "stdout",
     "output_type": "stream",
     "text": [
      "   1990  1991  1992  1993  1994  1995  1996  1997  1998  1999  ...  2007  \\\n",
      "0  1077  1186  1310  1444  1650  1847  2055  2244  2153  2393  ...  4031   \n",
      "5   277   263   247   221   231   230   213   193   170   186  ...   236   \n",
      "\n",
      "   2008  2009  2010  2011  2012  2013  2014  2015  2016  \n",
      "0  4224  4336  4747  4969  5096  5171  5220  5281  5404  \n",
      "5   255   235   237   211   215   221   216   190   239  \n",
      "\n",
      "[2 rows x 27 columns]\n"
     ]
    }
   ],
   "source": [
    "# print(df.iloc[행번호, 열번호])\n",
    "\n",
    "import pandas as pd\n",
    "df = pd.read_excel(\"d:\\\\data\\\\pandas\\\\남북한발전전력량.xlsx\")\n",
    "\n",
    "result = df.iloc[[0,5],2:]\n",
    "print(result)"
   ]
  },
  {
   "cell_type": "markdown",
   "metadata": {},
   "source": [
    "## 문제67. 위의 결과에 앞에 행 인덱스가 아래와 같이 생성되게 하시오!"
   ]
  },
  {
   "cell_type": "code",
   "execution_count": 112,
   "metadata": {},
   "outputs": [
    {
     "name": "stdout",
     "output_type": "stream",
     "text": [
      "       1990  1991  1992  1993  1994  1995  1996  1997  1998  1999  ...  2007  \\\n",
      "South  1077  1186  1310  1444  1650  1847  2055  2244  2153  2393  ...  4031   \n",
      "North   277   263   247   221   231   230   213   193   170   186  ...   236   \n",
      "\n",
      "       2008  2009  2010  2011  2012  2013  2014  2015  2016  \n",
      "South  4224  4336  4747  4969  5096  5171  5220  5281  5404  \n",
      "North   255   235   237   211   215   221   216   190   239  \n",
      "\n",
      "[2 rows x 27 columns]\n"
     ]
    }
   ],
   "source": [
    "import pandas as pd\n",
    "df = pd.read_excel(\"d:\\\\data\\\\pandas\\\\남북한발전전력량.xlsx\")\n",
    "df_ns = df.iloc[[0,5],2:]\n",
    "df_ns.index = ['South', 'North'] # .index 기능을 이용하여 행 인덱스를 추가한다.\n",
    "\n",
    "print(df_ns)"
   ]
  },
  {
   "cell_type": "markdown",
   "metadata": {},
   "source": [
    "## 문제68. 위의 결과를 전치 시키시오!(행과 열을 바꾸시오)"
   ]
  },
  {
   "cell_type": "code",
   "execution_count": 114,
   "metadata": {},
   "outputs": [
    {
     "name": "stdout",
     "output_type": "stream",
     "text": [
      "     South North\n",
      "1990  1077   277\n",
      "1991  1186   263\n",
      "1992  1310   247\n",
      "1993  1444   221\n",
      "1994  1650   231\n",
      "1995  1847   230\n",
      "1996  2055   213\n",
      "1997  2244   193\n",
      "1998  2153   170\n",
      "1999  2393   186\n",
      "2000  2664   194\n",
      "2001  2852   202\n",
      "2002  3065   190\n",
      "2003  3225   196\n",
      "2004  3421   206\n",
      "2005  3646   215\n",
      "2006  3812   225\n",
      "2007  4031   236\n",
      "2008  4224   255\n",
      "2009  4336   235\n",
      "2010  4747   237\n",
      "2011  4969   211\n",
      "2012  5096   215\n",
      "2013  5171   221\n",
      "2014  5220   216\n",
      "2015  5281   190\n",
      "2016  5404   239\n"
     ]
    }
   ],
   "source": [
    "import pandas as pd\n",
    "df = pd.read_excel(\"d:\\\\data\\\\pandas\\\\남북한발전전력량.xlsx\")\n",
    "df_ns = df.iloc[[0,5],2:]\n",
    "df_ns.index = ['South', 'North'] # .index 기능을 이용하여 행 인덱스를 추가한다.\n",
    "\n",
    "df_ns_t = df_ns.T\n",
    "\n",
    "print(df_ns_t)"
   ]
  },
  {
   "cell_type": "markdown",
   "metadata": {},
   "source": [
    "## 문제69. 위의 결과를 막대 그래프로 그리시오!"
   ]
  },
  {
   "cell_type": "code",
   "execution_count": 117,
   "metadata": {},
   "outputs": [
    {
     "data": {
      "text/plain": [
       "<matplotlib.axes._subplots.AxesSubplot at 0x21c75f89688>"
      ]
     },
     "execution_count": 117,
     "metadata": {},
     "output_type": "execute_result"
    },
    {
     "data": {
      "image/png": "[encoded data removed]",
      "text/plain": [
       "<Figure size 432x288 with 1 Axes>"
      ]
     },
     "metadata": {
      "needs_background": "light"
     },
     "output_type": "display_data"
    }
   ],
   "source": [
    "import pandas as pd\n",
    "df = pd.read_excel(\"d:\\\\data\\\\pandas\\\\남북한발전전력량.xlsx\")\n",
    "df_ns = df.iloc[[0,5],2:]\n",
    "df_ns.index = ['South', 'North'] # .index 기능을 이용하여 행 인덱스를 추가한다.\n",
    "\n",
    "df_ns_t = df_ns.T\n",
    "\n",
    "df_ns_t.plot(kind='bar')"
   ]
  },
  {
   "cell_type": "markdown",
   "metadata": {},
   "source": [
    "### ※ kind 옵션 설명\n",
    "\n",
    "\n",
    "| kind 옵션 |         설명         |\n",
    "|:---------:|:--------------------:|\n",
    "|   'line'  |       선 그래프      |\n",
    "|   'bar'   |   수직 막대 그래프   |\n",
    "|   'barh'  |   수평 막대 그래프   |\n",
    "|   'his'   |   히스토그램 그래프  |\n",
    "|   'box'   |      박스 그래프     |\n",
    "|   'kde'   |   커널 밀도 그래프   |\n",
    "|   'area'  |      면적 그래프     |\n",
    "|   'pie'   |      파이 그래프     |\n",
    "| 'scatter' |     산점도 그래프    |\n",
    "|  'hexbin' | 고밀도 산점도 그래프 |"
   ]
  },
  {
   "cell_type": "markdown",
   "metadata": {},
   "source": [
    "## 문제70. 타이타닉의 남자승객의 건수와 여자 승객의 건수를 막대그래프로 시각화 하시오!"
   ]
  },
  {
   "cell_type": "code",
   "execution_count": 122,
   "metadata": {},
   "outputs": [
    {
     "name": "stdout",
     "output_type": "stream",
     "text": [
      "Index(['PassengerId', 'Survived', 'Pclass', 'Name', 'Sex', 'Age', 'SibSp',\n",
      "       'Parch', 'Ticket', 'Fare', 'Cabin', 'Embarked'],\n",
      "      dtype='object')\n",
      "male      577\n",
      "female    314\n",
      "Name: Sex, dtype: int64\n"
     ]
    },
    {
     "data": {
      "text/plain": [
       "<matplotlib.axes._subplots.AxesSubplot at 0x21c75f82208>"
      ]
     },
     "execution_count": 122,
     "metadata": {},
     "output_type": "execute_result"
    },
    {
     "data": {
      "image/png": "[encoded data removed]",
      "text/plain": [
       "<Figure size 432x288 with 1 Axes>"
      ]
     },
     "metadata": {
      "needs_background": "light"
     },
     "output_type": "display_data"
    }
   ],
   "source": [
    "import pandas as pd\n",
    "tat = pd.read_csv(\"d:\\\\data\\\\train.csv\")\n",
    "print(tat.columns)\n",
    "\n",
    "sex_uniq = tat['Sex'].value_counts()\n",
    "\n",
    "print(sex_uniq)\n",
    "sex_uniq.plot(kind='bar')"
   ]
  },
  {
   "cell_type": "markdown",
   "metadata": {},
   "source": [
    "## ■ 5.3 R에서 원형 그래프 그리기\n",
    "\n",
    "__문법 :__ pie(emp$sal)"
   ]
  },
  {
   "cell_type": "markdown",
   "metadata": {},
   "source": [
    "## 문제71. 사원 테이블의 월급을 원형 그래프로 그리시오!"
   ]
  },
  {
   "cell_type": "code",
   "execution_count": null,
   "metadata": {},
   "outputs": [],
   "source": [
    "setwd(\"d:\\\\data\")\n",
    "emp_cnt <- read.csv(\"emp.csv\")\n",
    "\n",
    "pie(emp$sal, main = \"Salary pie Chart\", labels = emp$ename, col = rainbow(15))"
   ]
  },
  {
   "cell_type": "markdown",
   "metadata": {},
   "source": [
    "## 문제72. 위의 원형 그래프를 3D로 출력하시오!"
   ]
  },
  {
   "cell_type": "code",
   "execution_count": null,
   "metadata": {},
   "outputs": [],
   "source": [
    "# R에서 패키지를 다운로드 받는 방법.\n",
    "install.packages(\"plotrix\")\n",
    "library(plotrix) # 이 세션에서 plotrix를 사용하겠다."
   ]
  },
  {
   "cell_type": "code",
   "execution_count": null,
   "metadata": {},
   "outputs": [],
   "source": [
    "setwd(\"d:\\\\data\")\n",
    "emp_cnt <- read.csv(\"emp.csv\")\n",
    "pie3D(emp$sal, explode=0.1, labels = emp$ename) # explode 값에따라 케잌조각이 더 벌어진다."
   ]
  },
  {
   "cell_type": "markdown",
   "metadata": {},
   "source": [
    "## ■ 5.4 파이썬에서 원형 그래프 그리기\n",
    "\n",
    "__문법 :__ 데이터프레임.plot(kind='pie')"
   ]
  },
  {
   "cell_type": "markdown",
   "metadata": {},
   "source": [
    "## 문제73. 타이타닉의 성별 남녀를 원형 그래프로 그리시오!"
   ]
  },
  {
   "cell_type": "code",
   "execution_count": 125,
   "metadata": {},
   "outputs": [
    {
     "data": {
      "text/plain": [
       "<matplotlib.axes._subplots.AxesSubplot at 0x21c78f78bc8>"
      ]
     },
     "execution_count": 125,
     "metadata": {},
     "output_type": "execute_result"
    },
    {
     "data": {
      "image/png": "[encoded data removed]",
      "text/plain": [
       "<Figure size 432x288 with 1 Axes>"
      ]
     },
     "metadata": {},
     "output_type": "display_data"
    }
   ],
   "source": [
    "import pandas as pd\n",
    "tat = pd.read_csv(\"d:\\\\data\\\\train.csv\")\n",
    "result = tat['Sex'].value_counts()\n",
    "result.plot(kind='pie')"
   ]
  },
  {
   "cell_type": "markdown",
   "metadata": {},
   "source": [
    "## 문제74. 위의 원형 그래프의 색깔을 변경하시오!"
   ]
  },
  {
   "cell_type": "code",
   "execution_count": 131,
   "metadata": {},
   "outputs": [
    {
     "name": "stdout",
     "output_type": "stream",
     "text": [
      "male      577\n",
      "female    314\n",
      "Name: Sex, dtype: int64\n"
     ]
    },
    {
     "data": {
      "text/plain": [
       "<matplotlib.axes._subplots.AxesSubplot at 0x21c7900d808>"
      ]
     },
     "execution_count": 131,
     "metadata": {},
     "output_type": "execute_result"
    },
    {
     "data": {
      "image/png": "[encoded data removed]",
      "text/plain": [
       "<Figure size 432x288 with 1 Axes>"
      ]
     },
     "metadata": {},
     "output_type": "display_data"
    }
   ],
   "source": [
    "import pandas as pd \n",
    "\n",
    "tat = pd.read_csv(\"d:\\\\data\\\\train.csv\")\n",
    "print(tat['Sex'].value_counts())\n",
    "t = tat['Sex'].value_counts()\n",
    "t.plot(kind='pie', colors = ['red','pink'])"
   ]
  },
  {
   "cell_type": "markdown",
   "metadata": {},
   "source": [
    "## 문제75. 위의 그래프에 비율이 출력 되게 하시오!"
   ]
  },
  {
   "cell_type": "code",
   "execution_count": 130,
   "metadata": {},
   "outputs": [
    {
     "data": {
      "text/plain": [
       "<matplotlib.axes._subplots.AxesSubplot at 0x21c78fc4308>"
      ]
     },
     "execution_count": 130,
     "metadata": {},
     "output_type": "execute_result"
    },
    {
     "data": {
      "image/png": "[encoded data removed]",
      "text/plain": [
       "<Figure size 432x288 with 1 Axes>"
      ]
     },
     "metadata": {},
     "output_type": "display_data"
    }
   ],
   "source": [
    "import pandas as pd \n",
    "\n",
    "tat = pd.read_csv(\"d:\\\\data\\\\train.csv\")\n",
    "t = tat['Sex'].value_counts()\n",
    "t.plot(kind='pie', autopct = \"%.2f%%\", colors = ['red','pink']) # %.2f%% (2f --> 소숫점 2자리까지 허용하겠다.)"
   ]
  },
  {
   "cell_type": "markdown",
   "metadata": {},
   "source": [
    "## 문제76. 타이타닉 데이터에서 Pclass(승선권 클래스)를 원형 그래프로 시각화 하시오!"
   ]
  },
  {
   "cell_type": "code",
   "execution_count": 133,
   "metadata": {},
   "outputs": [
    {
     "data": {
      "text/plain": [
       "<matplotlib.axes._subplots.AxesSubplot at 0x21c7909af88>"
      ]
     },
     "execution_count": 133,
     "metadata": {},
     "output_type": "execute_result"
    },
    {
     "data": {
      "image/png": "[encoded data removed]",
      "text/plain": [
       "<Figure size 432x288 with 1 Axes>"
      ]
     },
     "metadata": {},
     "output_type": "display_data"
    }
   ],
   "source": [
    "import pandas as pd \n",
    "\n",
    "tat = pd.read_csv(\"d:\\\\data\\\\train.csv\")\n",
    "\n",
    "t = tat['Pclass'].value_counts()\n",
    "t.plot(kind = 'pie', autopct = '%.2f%%', colors = ['red', 'pink', 'orange'])"
   ]
  },
  {
   "cell_type": "markdown",
   "metadata": {},
   "source": [
    "## ■ 5.5 R로 히스토그램 그래프 그리기\n",
    "\n",
    "카페에가서 weather.csv를 내려받으시오~"
   ]
  },
  {
   "cell_type": "code",
   "execution_count": null,
   "metadata": {},
   "outputs": [],
   "source": [
    "setwd(\"d:\\\\data\")\n",
    "weather <- read.csv(\"weather.csv\")\n",
    "View(weather)\n",
    "summary(weather)"
   ]
  },
  {
   "cell_type": "markdown",
   "metadata": {},
   "source": [
    "#### ※ 설명 : 각각의 변수(컬럼)에 대하여 최대, 최소, 평균, 중앙값을 출력하면서 데이터의 분포를 한눈에 파악할 수 있다."
   ]
  },
  {
   "cell_type": "markdown",
   "metadata": {},
   "source": [
    "## 문제77. weather.csv에서 평균기온 데이터만 가져와서 히스토그램 그래프를 그리시오!"
   ]
  },
  {
   "cell_type": "code",
   "execution_count": null,
   "metadata": {},
   "outputs": [],
   "source": [
    "setwd(\"d:\\\\data\")\n",
    "weather <- read.csv(\"weather.csv\")\n",
    "ahot <- weather$평균기온\n",
    "ahot\n",
    "histo <- his(ahot)\n",
    "histo"
   ]
  },
  {
   "cell_type": "markdown",
   "metadata": {},
   "source": [
    "$breaks  (간격)  \n",
    " [1] 12 14 16 18 20 22 24 26 28 30 32 34  \n",
    " \n",
    "$counts  \n",
    " [1]   1   0   4  29  26  31  62 202 101  15   1  \n",
    "   \n",
    "12 ~ 14 : 1건    \n",
    "14 ~ 16 : 0건   \n",
    "32 ~ 34 : 1건 "
   ]
  },
  {
   "cell_type": "markdown",
   "metadata": {},
   "source": [
    "## 문제78. 간격(break)의 갯수를 24개로 설정해서 히스토그램 그래프를 그리시오!"
   ]
  },
  {
   "cell_type": "code",
   "execution_count": null,
   "metadata": {},
   "outputs": [],
   "source": [
    "setwd(\"d:\\\\data\")\n",
    "weather <- read.csv(\"weather.csv\")\n",
    "ahot <- weather$평균기온\n",
    "ahot\n",
    "\n",
    "histo4 <- hist(ahot, breaks=24)"
   ]
  },
  {
   "cell_type": "markdown",
   "metadata": {},
   "source": [
    "## 문제79. 간격(break)를 10~40 사이로 간격을 1로 해서 히스토그램 그래프를 그리시오!"
   ]
  },
  {
   "cell_type": "code",
   "execution_count": null,
   "metadata": {},
   "outputs": [],
   "source": [
    "setwd(\"d:\\\\data\")\n",
    "weather <- read.csv(\"weather.csv\")\n",
    "ahot <- weather$평균기온\n",
    "ahot\n",
    "\n",
    "histo5 <- hist(ahot, breaks=seq(10,40, by=1), col = \"grey\", border = \"white\")"
   ]
  },
  {
   "cell_type": "markdown",
   "metadata": {},
   "source": [
    "### ※ y축을 빈도수로 출력을 했는데 y축을 확률로 해서 확률밀도를 나타내는 히스토그램 그래프로 그릴려면 ?\n",
    "\n",
    "__옵션 prob = T를 사용하면 된다.__(probablity =True)"
   ]
  },
  {
   "cell_type": "code",
   "execution_count": null,
   "metadata": {},
   "outputs": [],
   "source": [
    "setwd(\"d:\\\\data\")\n",
    "weather <- read.csv(\"weather.csv\")\n",
    "ahot <- weather$평균기온\n",
    "ahot\n",
    "\n",
    "histo5 <- hist(ahot, breaks=seq(10,40, by=1), col = \"grey\", border = \"white\", prob=T, ylim=c(0,0.3))"
   ]
  },
  {
   "cell_type": "markdown",
   "metadata": {},
   "source": [
    "## 문제80. 위의 히스토그램 그래프에 라인 그래프를 추가시키시오!"
   ]
  },
  {
   "cell_type": "code",
   "execution_count": null,
   "metadata": {},
   "outputs": [],
   "source": [
    "setwd(\"d:\\\\data\")\n",
    "weather <- read.csv(\"weather.csv\")\n",
    "ahot <- weather$평균기온\n",
    "ahot\n",
    "\n",
    "histo5 <- hist(ahot, breaks= seq(10,40, by=1), col = \"grey\", border = \"white\", prob=T, ylim=c(0,0.3))\n",
    "# seq(10,40, by=1)\n",
    "# 10~40 까지 간격은 1로\n",
    "# 10~11 // 11~12 // 12~13\n",
    "lines(density(ahot), col='red')"
   ]
  },
  {
   "cell_type": "markdown",
   "metadata": {},
   "source": [
    "## ■ 5.6 파이썬으로 히스토그램 그래프 그리기\n",
    "\n",
    "__문법 :__ 데이터 프레임.plot(kind='hist')"
   ]
  },
  {
   "cell_type": "markdown",
   "metadata": {},
   "source": [
    "UnicodeDecodeError: 'utf-8' codec can't decode byte 0xb9 in position 0: invalid start byte\n",
    "\n",
    "이런 오류가 발생시\n",
    "\n",
    "'textm csv'파일의 encoding 설정과 python encoding의 설정이 서로 맞지 않으면 에러가 발생한다.\n",
    "\n",
    "한글은 보통 'utf-8'을 많이 사용하는데 \n",
    "\n",
    "\n",
    "UnicodeDecodeError: 'utf-8' codec can't decode byte 0xb9 in position 0: invalid start byte\n",
    "\n",
    "\n",
    "이런 오류가 발생시\n",
    "\n",
    "\n",
    "encoding='CP949' 로 추가해준다."
   ]
  },
  {
   "cell_type": "markdown",
   "metadata": {},
   "source": [
    "## 문제81. (오늘의 마지막 문제) 아래의 그래프를 파이썬으로 구현하시오."
   ]
  },
  {
   "cell_type": "code",
   "execution_count": 157,
   "metadata": {},
   "outputs": [
    {
     "name": "stdout",
     "output_type": "stream",
     "text": [
      "     지점번호  지점          일자  평균기온  최고기온  최저기온  일강수량  평균습도\n",
      "0      90  속초  2018-07-09  17.9  20.2  16.4  11.3    90\n",
      "1      90  속초  2018-07-10  18.7  19.9  17.6  12.3    97\n",
      "2      90  속초  2018-07-11  19.0  19.6  18.5  23.2    98\n",
      "3      90  속초  2018-07-12  26.2  34.0  18.9   NaN    78\n",
      "4      90  속초  2018-07-13  28.3  34.6  23.9   NaN    68\n",
      "..    ...  ..         ...   ...   ...   ...   ...   ...\n",
      "467   295  남해  2018-07-12  27.2  32.4  23.4   NaN    83\n",
      "468   295  남해  2018-07-13  28.0  33.2  23.0   NaN    82\n",
      "469   295  남해  2018-07-14  28.2  34.3  23.7   NaN    81\n",
      "470   295  남해  2018-07-15  28.5  35.0  23.7   NaN    78\n",
      "471   295  남해  2018-07-16  28.3  34.5  23.4   NaN    72\n",
      "\n",
      "[472 rows x 8 columns]\n",
      "27.4    19\n",
      "26.7    14\n",
      "27.5    14\n",
      "27.9    13\n",
      "27.8    12\n",
      "        ..\n",
      "23.3     1\n",
      "31.4     1\n",
      "21.1     1\n",
      "24.9     1\n",
      "30.2     1\n",
      "Name: 평균기온, Length: 120, dtype: int64\n"
     ]
    }
   ],
   "source": [
    "import pandas as pd \n",
    "\n",
    "weather = pd.read_csv(\"d:\\\\data\\\\weather.csv\", encoding='CP949')\n",
    "print(weather)\n",
    "w = weather['평균기온'].value_counts()\n",
    "print(w)"
   ]
  }
 ],
 "metadata": {
  "kernelspec": {
   "display_name": "Python 3",
   "language": "python",
   "name": "python3"
  },
  "language_info": {
   "codemirror_mode": {
    "name": "ipython",
    "version": 3
   },
   "file_extension": ".py",
   "mimetype": "text/x-python",
   "name": "python",
   "nbconvert_exporter": "python",
   "pygments_lexer": "ipython3",
   "version": "3.7.4"
  }
 },
 "nbformat": 4,
 "nbformat_minor": 2
}
